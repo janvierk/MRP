{
  "nbformat": 4,
  "nbformat_minor": 0,
  "metadata": {
    "colab": {
      "provenance": [],
      "machine_shape": "hm",
      "gpuType": "A100",
      "authorship_tag": "ABX9TyNCwi6FFCkEVhQ1F2yvwLco",
      "include_colab_link": true
    },
    "kernelspec": {
      "name": "python3",
      "display_name": "Python 3"
    },
    "language_info": {
      "name": "python"
    },
    "accelerator": "GPU",
    "widgets": {
      "application/vnd.jupyter.widget-state+json": {
        "4b73b914669f429bbb388e0e3cf76402": {
          "model_module": "@jupyter-widgets/controls",
          "model_name": "HBoxModel",
          "model_module_version": "1.5.0",
          "state": {
            "_dom_classes": [],
            "_model_module": "@jupyter-widgets/controls",
            "_model_module_version": "1.5.0",
            "_model_name": "HBoxModel",
            "_view_count": null,
            "_view_module": "@jupyter-widgets/controls",
            "_view_module_version": "1.5.0",
            "_view_name": "HBoxView",
            "box_style": "",
            "children": [
              "IPY_MODEL_c7899799c888404d901fd9e73b6789b6",
              "IPY_MODEL_b051bc62c25444b4b4a8e1667e971a56",
              "IPY_MODEL_233399666f8b484095a62b43303a7cc8"
            ],
            "layout": "IPY_MODEL_ca51ed61d7b44b6abda53f34ced95dfc"
          }
        },
        "c7899799c888404d901fd9e73b6789b6": {
          "model_module": "@jupyter-widgets/controls",
          "model_name": "HTMLModel",
          "model_module_version": "1.5.0",
          "state": {
            "_dom_classes": [],
            "_model_module": "@jupyter-widgets/controls",
            "_model_module_version": "1.5.0",
            "_model_name": "HTMLModel",
            "_view_count": null,
            "_view_module": "@jupyter-widgets/controls",
            "_view_module_version": "1.5.0",
            "_view_name": "HTMLView",
            "description": "",
            "description_tooltip": null,
            "layout": "IPY_MODEL_3f2f3b4570f5446aa11e242a3089cb49",
            "placeholder": "​",
            "style": "IPY_MODEL_f032362fb2774a339d1fc01eaa9ef812",
            "value": "tokenizer_config.json: 100%"
          }
        },
        "b051bc62c25444b4b4a8e1667e971a56": {
          "model_module": "@jupyter-widgets/controls",
          "model_name": "FloatProgressModel",
          "model_module_version": "1.5.0",
          "state": {
            "_dom_classes": [],
            "_model_module": "@jupyter-widgets/controls",
            "_model_module_version": "1.5.0",
            "_model_name": "FloatProgressModel",
            "_view_count": null,
            "_view_module": "@jupyter-widgets/controls",
            "_view_module_version": "1.5.0",
            "_view_name": "ProgressView",
            "bar_style": "success",
            "description": "",
            "description_tooltip": null,
            "layout": "IPY_MODEL_00da78b2650c44b4a26c4f71e902786f",
            "max": 49,
            "min": 0,
            "orientation": "horizontal",
            "style": "IPY_MODEL_8bd45d778ce84a14b555c4c5c8eefa0f",
            "value": 49
          }
        },
        "233399666f8b484095a62b43303a7cc8": {
          "model_module": "@jupyter-widgets/controls",
          "model_name": "HTMLModel",
          "model_module_version": "1.5.0",
          "state": {
            "_dom_classes": [],
            "_model_module": "@jupyter-widgets/controls",
            "_model_module_version": "1.5.0",
            "_model_name": "HTMLModel",
            "_view_count": null,
            "_view_module": "@jupyter-widgets/controls",
            "_view_module_version": "1.5.0",
            "_view_name": "HTMLView",
            "description": "",
            "description_tooltip": null,
            "layout": "IPY_MODEL_b3cf48bd7cea47d3b59af2a4782710f0",
            "placeholder": "​",
            "style": "IPY_MODEL_7448217273fe466a92c547225de59aaa",
            "value": " 49.0/49.0 [00:00&lt;00:00, 2.96kB/s]"
          }
        },
        "ca51ed61d7b44b6abda53f34ced95dfc": {
          "model_module": "@jupyter-widgets/base",
          "model_name": "LayoutModel",
          "model_module_version": "1.2.0",
          "state": {
            "_model_module": "@jupyter-widgets/base",
            "_model_module_version": "1.2.0",
            "_model_name": "LayoutModel",
            "_view_count": null,
            "_view_module": "@jupyter-widgets/base",
            "_view_module_version": "1.2.0",
            "_view_name": "LayoutView",
            "align_content": null,
            "align_items": null,
            "align_self": null,
            "border": null,
            "bottom": null,
            "display": null,
            "flex": null,
            "flex_flow": null,
            "grid_area": null,
            "grid_auto_columns": null,
            "grid_auto_flow": null,
            "grid_auto_rows": null,
            "grid_column": null,
            "grid_gap": null,
            "grid_row": null,
            "grid_template_areas": null,
            "grid_template_columns": null,
            "grid_template_rows": null,
            "height": null,
            "justify_content": null,
            "justify_items": null,
            "left": null,
            "margin": null,
            "max_height": null,
            "max_width": null,
            "min_height": null,
            "min_width": null,
            "object_fit": null,
            "object_position": null,
            "order": null,
            "overflow": null,
            "overflow_x": null,
            "overflow_y": null,
            "padding": null,
            "right": null,
            "top": null,
            "visibility": null,
            "width": null
          }
        },
        "3f2f3b4570f5446aa11e242a3089cb49": {
          "model_module": "@jupyter-widgets/base",
          "model_name": "LayoutModel",
          "model_module_version": "1.2.0",
          "state": {
            "_model_module": "@jupyter-widgets/base",
            "_model_module_version": "1.2.0",
            "_model_name": "LayoutModel",
            "_view_count": null,
            "_view_module": "@jupyter-widgets/base",
            "_view_module_version": "1.2.0",
            "_view_name": "LayoutView",
            "align_content": null,
            "align_items": null,
            "align_self": null,
            "border": null,
            "bottom": null,
            "display": null,
            "flex": null,
            "flex_flow": null,
            "grid_area": null,
            "grid_auto_columns": null,
            "grid_auto_flow": null,
            "grid_auto_rows": null,
            "grid_column": null,
            "grid_gap": null,
            "grid_row": null,
            "grid_template_areas": null,
            "grid_template_columns": null,
            "grid_template_rows": null,
            "height": null,
            "justify_content": null,
            "justify_items": null,
            "left": null,
            "margin": null,
            "max_height": null,
            "max_width": null,
            "min_height": null,
            "min_width": null,
            "object_fit": null,
            "object_position": null,
            "order": null,
            "overflow": null,
            "overflow_x": null,
            "overflow_y": null,
            "padding": null,
            "right": null,
            "top": null,
            "visibility": null,
            "width": null
          }
        },
        "f032362fb2774a339d1fc01eaa9ef812": {
          "model_module": "@jupyter-widgets/controls",
          "model_name": "DescriptionStyleModel",
          "model_module_version": "1.5.0",
          "state": {
            "_model_module": "@jupyter-widgets/controls",
            "_model_module_version": "1.5.0",
            "_model_name": "DescriptionStyleModel",
            "_view_count": null,
            "_view_module": "@jupyter-widgets/base",
            "_view_module_version": "1.2.0",
            "_view_name": "StyleView",
            "description_width": ""
          }
        },
        "00da78b2650c44b4a26c4f71e902786f": {
          "model_module": "@jupyter-widgets/base",
          "model_name": "LayoutModel",
          "model_module_version": "1.2.0",
          "state": {
            "_model_module": "@jupyter-widgets/base",
            "_model_module_version": "1.2.0",
            "_model_name": "LayoutModel",
            "_view_count": null,
            "_view_module": "@jupyter-widgets/base",
            "_view_module_version": "1.2.0",
            "_view_name": "LayoutView",
            "align_content": null,
            "align_items": null,
            "align_self": null,
            "border": null,
            "bottom": null,
            "display": null,
            "flex": null,
            "flex_flow": null,
            "grid_area": null,
            "grid_auto_columns": null,
            "grid_auto_flow": null,
            "grid_auto_rows": null,
            "grid_column": null,
            "grid_gap": null,
            "grid_row": null,
            "grid_template_areas": null,
            "grid_template_columns": null,
            "grid_template_rows": null,
            "height": null,
            "justify_content": null,
            "justify_items": null,
            "left": null,
            "margin": null,
            "max_height": null,
            "max_width": null,
            "min_height": null,
            "min_width": null,
            "object_fit": null,
            "object_position": null,
            "order": null,
            "overflow": null,
            "overflow_x": null,
            "overflow_y": null,
            "padding": null,
            "right": null,
            "top": null,
            "visibility": null,
            "width": null
          }
        },
        "8bd45d778ce84a14b555c4c5c8eefa0f": {
          "model_module": "@jupyter-widgets/controls",
          "model_name": "ProgressStyleModel",
          "model_module_version": "1.5.0",
          "state": {
            "_model_module": "@jupyter-widgets/controls",
            "_model_module_version": "1.5.0",
            "_model_name": "ProgressStyleModel",
            "_view_count": null,
            "_view_module": "@jupyter-widgets/base",
            "_view_module_version": "1.2.0",
            "_view_name": "StyleView",
            "bar_color": null,
            "description_width": ""
          }
        },
        "b3cf48bd7cea47d3b59af2a4782710f0": {
          "model_module": "@jupyter-widgets/base",
          "model_name": "LayoutModel",
          "model_module_version": "1.2.0",
          "state": {
            "_model_module": "@jupyter-widgets/base",
            "_model_module_version": "1.2.0",
            "_model_name": "LayoutModel",
            "_view_count": null,
            "_view_module": "@jupyter-widgets/base",
            "_view_module_version": "1.2.0",
            "_view_name": "LayoutView",
            "align_content": null,
            "align_items": null,
            "align_self": null,
            "border": null,
            "bottom": null,
            "display": null,
            "flex": null,
            "flex_flow": null,
            "grid_area": null,
            "grid_auto_columns": null,
            "grid_auto_flow": null,
            "grid_auto_rows": null,
            "grid_column": null,
            "grid_gap": null,
            "grid_row": null,
            "grid_template_areas": null,
            "grid_template_columns": null,
            "grid_template_rows": null,
            "height": null,
            "justify_content": null,
            "justify_items": null,
            "left": null,
            "margin": null,
            "max_height": null,
            "max_width": null,
            "min_height": null,
            "min_width": null,
            "object_fit": null,
            "object_position": null,
            "order": null,
            "overflow": null,
            "overflow_x": null,
            "overflow_y": null,
            "padding": null,
            "right": null,
            "top": null,
            "visibility": null,
            "width": null
          }
        },
        "7448217273fe466a92c547225de59aaa": {
          "model_module": "@jupyter-widgets/controls",
          "model_name": "DescriptionStyleModel",
          "model_module_version": "1.5.0",
          "state": {
            "_model_module": "@jupyter-widgets/controls",
            "_model_module_version": "1.5.0",
            "_model_name": "DescriptionStyleModel",
            "_view_count": null,
            "_view_module": "@jupyter-widgets/base",
            "_view_module_version": "1.2.0",
            "_view_name": "StyleView",
            "description_width": ""
          }
        },
        "94b15170d7504732a00820c3f2912684": {
          "model_module": "@jupyter-widgets/controls",
          "model_name": "HBoxModel",
          "model_module_version": "1.5.0",
          "state": {
            "_dom_classes": [],
            "_model_module": "@jupyter-widgets/controls",
            "_model_module_version": "1.5.0",
            "_model_name": "HBoxModel",
            "_view_count": null,
            "_view_module": "@jupyter-widgets/controls",
            "_view_module_version": "1.5.0",
            "_view_name": "HBoxView",
            "box_style": "",
            "children": [
              "IPY_MODEL_611934c22b794f81a491f23cbae076cc",
              "IPY_MODEL_8fb40f5a166b4ca1b2dd39f524ecd352",
              "IPY_MODEL_168ae8b76f944adf808b57432d4bcd36"
            ],
            "layout": "IPY_MODEL_903d29da3cf3449eaaedf25954580b5f"
          }
        },
        "611934c22b794f81a491f23cbae076cc": {
          "model_module": "@jupyter-widgets/controls",
          "model_name": "HTMLModel",
          "model_module_version": "1.5.0",
          "state": {
            "_dom_classes": [],
            "_model_module": "@jupyter-widgets/controls",
            "_model_module_version": "1.5.0",
            "_model_name": "HTMLModel",
            "_view_count": null,
            "_view_module": "@jupyter-widgets/controls",
            "_view_module_version": "1.5.0",
            "_view_name": "HTMLView",
            "description": "",
            "description_tooltip": null,
            "layout": "IPY_MODEL_c0694ffe50b74e04be50b65249a101a4",
            "placeholder": "​",
            "style": "IPY_MODEL_c40503708d304f6bac4825b8eb305a63",
            "value": "vocab.txt: 100%"
          }
        },
        "8fb40f5a166b4ca1b2dd39f524ecd352": {
          "model_module": "@jupyter-widgets/controls",
          "model_name": "FloatProgressModel",
          "model_module_version": "1.5.0",
          "state": {
            "_dom_classes": [],
            "_model_module": "@jupyter-widgets/controls",
            "_model_module_version": "1.5.0",
            "_model_name": "FloatProgressModel",
            "_view_count": null,
            "_view_module": "@jupyter-widgets/controls",
            "_view_module_version": "1.5.0",
            "_view_name": "ProgressView",
            "bar_style": "success",
            "description": "",
            "description_tooltip": null,
            "layout": "IPY_MODEL_04eec4fdb7594b61b8dfc0c3d740c9f7",
            "max": 995526,
            "min": 0,
            "orientation": "horizontal",
            "style": "IPY_MODEL_edb8f254476a400a8cfa95710cb5de0e",
            "value": 995526
          }
        },
        "168ae8b76f944adf808b57432d4bcd36": {
          "model_module": "@jupyter-widgets/controls",
          "model_name": "HTMLModel",
          "model_module_version": "1.5.0",
          "state": {
            "_dom_classes": [],
            "_model_module": "@jupyter-widgets/controls",
            "_model_module_version": "1.5.0",
            "_model_name": "HTMLModel",
            "_view_count": null,
            "_view_module": "@jupyter-widgets/controls",
            "_view_module_version": "1.5.0",
            "_view_name": "HTMLView",
            "description": "",
            "description_tooltip": null,
            "layout": "IPY_MODEL_32b8cdcf68ed48ef9f6c3733d480f61a",
            "placeholder": "​",
            "style": "IPY_MODEL_bc44825e1d3d43f986a0da7a0ca5d12d",
            "value": " 996k/996k [00:00&lt;00:00, 7.39MB/s]"
          }
        },
        "903d29da3cf3449eaaedf25954580b5f": {
          "model_module": "@jupyter-widgets/base",
          "model_name": "LayoutModel",
          "model_module_version": "1.2.0",
          "state": {
            "_model_module": "@jupyter-widgets/base",
            "_model_module_version": "1.2.0",
            "_model_name": "LayoutModel",
            "_view_count": null,
            "_view_module": "@jupyter-widgets/base",
            "_view_module_version": "1.2.0",
            "_view_name": "LayoutView",
            "align_content": null,
            "align_items": null,
            "align_self": null,
            "border": null,
            "bottom": null,
            "display": null,
            "flex": null,
            "flex_flow": null,
            "grid_area": null,
            "grid_auto_columns": null,
            "grid_auto_flow": null,
            "grid_auto_rows": null,
            "grid_column": null,
            "grid_gap": null,
            "grid_row": null,
            "grid_template_areas": null,
            "grid_template_columns": null,
            "grid_template_rows": null,
            "height": null,
            "justify_content": null,
            "justify_items": null,
            "left": null,
            "margin": null,
            "max_height": null,
            "max_width": null,
            "min_height": null,
            "min_width": null,
            "object_fit": null,
            "object_position": null,
            "order": null,
            "overflow": null,
            "overflow_x": null,
            "overflow_y": null,
            "padding": null,
            "right": null,
            "top": null,
            "visibility": null,
            "width": null
          }
        },
        "c0694ffe50b74e04be50b65249a101a4": {
          "model_module": "@jupyter-widgets/base",
          "model_name": "LayoutModel",
          "model_module_version": "1.2.0",
          "state": {
            "_model_module": "@jupyter-widgets/base",
            "_model_module_version": "1.2.0",
            "_model_name": "LayoutModel",
            "_view_count": null,
            "_view_module": "@jupyter-widgets/base",
            "_view_module_version": "1.2.0",
            "_view_name": "LayoutView",
            "align_content": null,
            "align_items": null,
            "align_self": null,
            "border": null,
            "bottom": null,
            "display": null,
            "flex": null,
            "flex_flow": null,
            "grid_area": null,
            "grid_auto_columns": null,
            "grid_auto_flow": null,
            "grid_auto_rows": null,
            "grid_column": null,
            "grid_gap": null,
            "grid_row": null,
            "grid_template_areas": null,
            "grid_template_columns": null,
            "grid_template_rows": null,
            "height": null,
            "justify_content": null,
            "justify_items": null,
            "left": null,
            "margin": null,
            "max_height": null,
            "max_width": null,
            "min_height": null,
            "min_width": null,
            "object_fit": null,
            "object_position": null,
            "order": null,
            "overflow": null,
            "overflow_x": null,
            "overflow_y": null,
            "padding": null,
            "right": null,
            "top": null,
            "visibility": null,
            "width": null
          }
        },
        "c40503708d304f6bac4825b8eb305a63": {
          "model_module": "@jupyter-widgets/controls",
          "model_name": "DescriptionStyleModel",
          "model_module_version": "1.5.0",
          "state": {
            "_model_module": "@jupyter-widgets/controls",
            "_model_module_version": "1.5.0",
            "_model_name": "DescriptionStyleModel",
            "_view_count": null,
            "_view_module": "@jupyter-widgets/base",
            "_view_module_version": "1.2.0",
            "_view_name": "StyleView",
            "description_width": ""
          }
        },
        "04eec4fdb7594b61b8dfc0c3d740c9f7": {
          "model_module": "@jupyter-widgets/base",
          "model_name": "LayoutModel",
          "model_module_version": "1.2.0",
          "state": {
            "_model_module": "@jupyter-widgets/base",
            "_model_module_version": "1.2.0",
            "_model_name": "LayoutModel",
            "_view_count": null,
            "_view_module": "@jupyter-widgets/base",
            "_view_module_version": "1.2.0",
            "_view_name": "LayoutView",
            "align_content": null,
            "align_items": null,
            "align_self": null,
            "border": null,
            "bottom": null,
            "display": null,
            "flex": null,
            "flex_flow": null,
            "grid_area": null,
            "grid_auto_columns": null,
            "grid_auto_flow": null,
            "grid_auto_rows": null,
            "grid_column": null,
            "grid_gap": null,
            "grid_row": null,
            "grid_template_areas": null,
            "grid_template_columns": null,
            "grid_template_rows": null,
            "height": null,
            "justify_content": null,
            "justify_items": null,
            "left": null,
            "margin": null,
            "max_height": null,
            "max_width": null,
            "min_height": null,
            "min_width": null,
            "object_fit": null,
            "object_position": null,
            "order": null,
            "overflow": null,
            "overflow_x": null,
            "overflow_y": null,
            "padding": null,
            "right": null,
            "top": null,
            "visibility": null,
            "width": null
          }
        },
        "edb8f254476a400a8cfa95710cb5de0e": {
          "model_module": "@jupyter-widgets/controls",
          "model_name": "ProgressStyleModel",
          "model_module_version": "1.5.0",
          "state": {
            "_model_module": "@jupyter-widgets/controls",
            "_model_module_version": "1.5.0",
            "_model_name": "ProgressStyleModel",
            "_view_count": null,
            "_view_module": "@jupyter-widgets/base",
            "_view_module_version": "1.2.0",
            "_view_name": "StyleView",
            "bar_color": null,
            "description_width": ""
          }
        },
        "32b8cdcf68ed48ef9f6c3733d480f61a": {
          "model_module": "@jupyter-widgets/base",
          "model_name": "LayoutModel",
          "model_module_version": "1.2.0",
          "state": {
            "_model_module": "@jupyter-widgets/base",
            "_model_module_version": "1.2.0",
            "_model_name": "LayoutModel",
            "_view_count": null,
            "_view_module": "@jupyter-widgets/base",
            "_view_module_version": "1.2.0",
            "_view_name": "LayoutView",
            "align_content": null,
            "align_items": null,
            "align_self": null,
            "border": null,
            "bottom": null,
            "display": null,
            "flex": null,
            "flex_flow": null,
            "grid_area": null,
            "grid_auto_columns": null,
            "grid_auto_flow": null,
            "grid_auto_rows": null,
            "grid_column": null,
            "grid_gap": null,
            "grid_row": null,
            "grid_template_areas": null,
            "grid_template_columns": null,
            "grid_template_rows": null,
            "height": null,
            "justify_content": null,
            "justify_items": null,
            "left": null,
            "margin": null,
            "max_height": null,
            "max_width": null,
            "min_height": null,
            "min_width": null,
            "object_fit": null,
            "object_position": null,
            "order": null,
            "overflow": null,
            "overflow_x": null,
            "overflow_y": null,
            "padding": null,
            "right": null,
            "top": null,
            "visibility": null,
            "width": null
          }
        },
        "bc44825e1d3d43f986a0da7a0ca5d12d": {
          "model_module": "@jupyter-widgets/controls",
          "model_name": "DescriptionStyleModel",
          "model_module_version": "1.5.0",
          "state": {
            "_model_module": "@jupyter-widgets/controls",
            "_model_module_version": "1.5.0",
            "_model_name": "DescriptionStyleModel",
            "_view_count": null,
            "_view_module": "@jupyter-widgets/base",
            "_view_module_version": "1.2.0",
            "_view_name": "StyleView",
            "description_width": ""
          }
        },
        "4d87c4b65c66495582955ac397d60106": {
          "model_module": "@jupyter-widgets/controls",
          "model_name": "HBoxModel",
          "model_module_version": "1.5.0",
          "state": {
            "_dom_classes": [],
            "_model_module": "@jupyter-widgets/controls",
            "_model_module_version": "1.5.0",
            "_model_name": "HBoxModel",
            "_view_count": null,
            "_view_module": "@jupyter-widgets/controls",
            "_view_module_version": "1.5.0",
            "_view_name": "HBoxView",
            "box_style": "",
            "children": [
              "IPY_MODEL_f48fd36f0d9043f68f555e94ae171f51",
              "IPY_MODEL_7d3cc31d40ec4b4581e716ada701fbbc",
              "IPY_MODEL_97f442688dfe47a8bb2ac4662b03c80d"
            ],
            "layout": "IPY_MODEL_22237a4c1860425fa0152a43acb1bf28"
          }
        },
        "f48fd36f0d9043f68f555e94ae171f51": {
          "model_module": "@jupyter-widgets/controls",
          "model_name": "HTMLModel",
          "model_module_version": "1.5.0",
          "state": {
            "_dom_classes": [],
            "_model_module": "@jupyter-widgets/controls",
            "_model_module_version": "1.5.0",
            "_model_name": "HTMLModel",
            "_view_count": null,
            "_view_module": "@jupyter-widgets/controls",
            "_view_module_version": "1.5.0",
            "_view_name": "HTMLView",
            "description": "",
            "description_tooltip": null,
            "layout": "IPY_MODEL_e8c49bb8b97a49c39750c4cbd24b92ee",
            "placeholder": "​",
            "style": "IPY_MODEL_1f630bba85e2453ab32b75ecdfe2fb27",
            "value": "tokenizer.json: 100%"
          }
        },
        "7d3cc31d40ec4b4581e716ada701fbbc": {
          "model_module": "@jupyter-widgets/controls",
          "model_name": "FloatProgressModel",
          "model_module_version": "1.5.0",
          "state": {
            "_dom_classes": [],
            "_model_module": "@jupyter-widgets/controls",
            "_model_module_version": "1.5.0",
            "_model_name": "FloatProgressModel",
            "_view_count": null,
            "_view_module": "@jupyter-widgets/controls",
            "_view_module_version": "1.5.0",
            "_view_name": "ProgressView",
            "bar_style": "success",
            "description": "",
            "description_tooltip": null,
            "layout": "IPY_MODEL_6c377b7a2723446188a57335e9d33f53",
            "max": 1961828,
            "min": 0,
            "orientation": "horizontal",
            "style": "IPY_MODEL_cf51edcb78284a88b273cc8f6dc8bf59",
            "value": 1961828
          }
        },
        "97f442688dfe47a8bb2ac4662b03c80d": {
          "model_module": "@jupyter-widgets/controls",
          "model_name": "HTMLModel",
          "model_module_version": "1.5.0",
          "state": {
            "_dom_classes": [],
            "_model_module": "@jupyter-widgets/controls",
            "_model_module_version": "1.5.0",
            "_model_name": "HTMLModel",
            "_view_count": null,
            "_view_module": "@jupyter-widgets/controls",
            "_view_module_version": "1.5.0",
            "_view_name": "HTMLView",
            "description": "",
            "description_tooltip": null,
            "layout": "IPY_MODEL_bac588138df7446b9bdd8fe61b1f0118",
            "placeholder": "​",
            "style": "IPY_MODEL_756e2633cde040f2affb5ac9d25db2e5",
            "value": " 1.96M/1.96M [00:00&lt;00:00, 39.9MB/s]"
          }
        },
        "22237a4c1860425fa0152a43acb1bf28": {
          "model_module": "@jupyter-widgets/base",
          "model_name": "LayoutModel",
          "model_module_version": "1.2.0",
          "state": {
            "_model_module": "@jupyter-widgets/base",
            "_model_module_version": "1.2.0",
            "_model_name": "LayoutModel",
            "_view_count": null,
            "_view_module": "@jupyter-widgets/base",
            "_view_module_version": "1.2.0",
            "_view_name": "LayoutView",
            "align_content": null,
            "align_items": null,
            "align_self": null,
            "border": null,
            "bottom": null,
            "display": null,
            "flex": null,
            "flex_flow": null,
            "grid_area": null,
            "grid_auto_columns": null,
            "grid_auto_flow": null,
            "grid_auto_rows": null,
            "grid_column": null,
            "grid_gap": null,
            "grid_row": null,
            "grid_template_areas": null,
            "grid_template_columns": null,
            "grid_template_rows": null,
            "height": null,
            "justify_content": null,
            "justify_items": null,
            "left": null,
            "margin": null,
            "max_height": null,
            "max_width": null,
            "min_height": null,
            "min_width": null,
            "object_fit": null,
            "object_position": null,
            "order": null,
            "overflow": null,
            "overflow_x": null,
            "overflow_y": null,
            "padding": null,
            "right": null,
            "top": null,
            "visibility": null,
            "width": null
          }
        },
        "e8c49bb8b97a49c39750c4cbd24b92ee": {
          "model_module": "@jupyter-widgets/base",
          "model_name": "LayoutModel",
          "model_module_version": "1.2.0",
          "state": {
            "_model_module": "@jupyter-widgets/base",
            "_model_module_version": "1.2.0",
            "_model_name": "LayoutModel",
            "_view_count": null,
            "_view_module": "@jupyter-widgets/base",
            "_view_module_version": "1.2.0",
            "_view_name": "LayoutView",
            "align_content": null,
            "align_items": null,
            "align_self": null,
            "border": null,
            "bottom": null,
            "display": null,
            "flex": null,
            "flex_flow": null,
            "grid_area": null,
            "grid_auto_columns": null,
            "grid_auto_flow": null,
            "grid_auto_rows": null,
            "grid_column": null,
            "grid_gap": null,
            "grid_row": null,
            "grid_template_areas": null,
            "grid_template_columns": null,
            "grid_template_rows": null,
            "height": null,
            "justify_content": null,
            "justify_items": null,
            "left": null,
            "margin": null,
            "max_height": null,
            "max_width": null,
            "min_height": null,
            "min_width": null,
            "object_fit": null,
            "object_position": null,
            "order": null,
            "overflow": null,
            "overflow_x": null,
            "overflow_y": null,
            "padding": null,
            "right": null,
            "top": null,
            "visibility": null,
            "width": null
          }
        },
        "1f630bba85e2453ab32b75ecdfe2fb27": {
          "model_module": "@jupyter-widgets/controls",
          "model_name": "DescriptionStyleModel",
          "model_module_version": "1.5.0",
          "state": {
            "_model_module": "@jupyter-widgets/controls",
            "_model_module_version": "1.5.0",
            "_model_name": "DescriptionStyleModel",
            "_view_count": null,
            "_view_module": "@jupyter-widgets/base",
            "_view_module_version": "1.2.0",
            "_view_name": "StyleView",
            "description_width": ""
          }
        },
        "6c377b7a2723446188a57335e9d33f53": {
          "model_module": "@jupyter-widgets/base",
          "model_name": "LayoutModel",
          "model_module_version": "1.2.0",
          "state": {
            "_model_module": "@jupyter-widgets/base",
            "_model_module_version": "1.2.0",
            "_model_name": "LayoutModel",
            "_view_count": null,
            "_view_module": "@jupyter-widgets/base",
            "_view_module_version": "1.2.0",
            "_view_name": "LayoutView",
            "align_content": null,
            "align_items": null,
            "align_self": null,
            "border": null,
            "bottom": null,
            "display": null,
            "flex": null,
            "flex_flow": null,
            "grid_area": null,
            "grid_auto_columns": null,
            "grid_auto_flow": null,
            "grid_auto_rows": null,
            "grid_column": null,
            "grid_gap": null,
            "grid_row": null,
            "grid_template_areas": null,
            "grid_template_columns": null,
            "grid_template_rows": null,
            "height": null,
            "justify_content": null,
            "justify_items": null,
            "left": null,
            "margin": null,
            "max_height": null,
            "max_width": null,
            "min_height": null,
            "min_width": null,
            "object_fit": null,
            "object_position": null,
            "order": null,
            "overflow": null,
            "overflow_x": null,
            "overflow_y": null,
            "padding": null,
            "right": null,
            "top": null,
            "visibility": null,
            "width": null
          }
        },
        "cf51edcb78284a88b273cc8f6dc8bf59": {
          "model_module": "@jupyter-widgets/controls",
          "model_name": "ProgressStyleModel",
          "model_module_version": "1.5.0",
          "state": {
            "_model_module": "@jupyter-widgets/controls",
            "_model_module_version": "1.5.0",
            "_model_name": "ProgressStyleModel",
            "_view_count": null,
            "_view_module": "@jupyter-widgets/base",
            "_view_module_version": "1.2.0",
            "_view_name": "StyleView",
            "bar_color": null,
            "description_width": ""
          }
        },
        "bac588138df7446b9bdd8fe61b1f0118": {
          "model_module": "@jupyter-widgets/base",
          "model_name": "LayoutModel",
          "model_module_version": "1.2.0",
          "state": {
            "_model_module": "@jupyter-widgets/base",
            "_model_module_version": "1.2.0",
            "_model_name": "LayoutModel",
            "_view_count": null,
            "_view_module": "@jupyter-widgets/base",
            "_view_module_version": "1.2.0",
            "_view_name": "LayoutView",
            "align_content": null,
            "align_items": null,
            "align_self": null,
            "border": null,
            "bottom": null,
            "display": null,
            "flex": null,
            "flex_flow": null,
            "grid_area": null,
            "grid_auto_columns": null,
            "grid_auto_flow": null,
            "grid_auto_rows": null,
            "grid_column": null,
            "grid_gap": null,
            "grid_row": null,
            "grid_template_areas": null,
            "grid_template_columns": null,
            "grid_template_rows": null,
            "height": null,
            "justify_content": null,
            "justify_items": null,
            "left": null,
            "margin": null,
            "max_height": null,
            "max_width": null,
            "min_height": null,
            "min_width": null,
            "object_fit": null,
            "object_position": null,
            "order": null,
            "overflow": null,
            "overflow_x": null,
            "overflow_y": null,
            "padding": null,
            "right": null,
            "top": null,
            "visibility": null,
            "width": null
          }
        },
        "756e2633cde040f2affb5ac9d25db2e5": {
          "model_module": "@jupyter-widgets/controls",
          "model_name": "DescriptionStyleModel",
          "model_module_version": "1.5.0",
          "state": {
            "_model_module": "@jupyter-widgets/controls",
            "_model_module_version": "1.5.0",
            "_model_name": "DescriptionStyleModel",
            "_view_count": null,
            "_view_module": "@jupyter-widgets/base",
            "_view_module_version": "1.2.0",
            "_view_name": "StyleView",
            "description_width": ""
          }
        },
        "f4a1689ded744b939350f53fab8cd6b6": {
          "model_module": "@jupyter-widgets/controls",
          "model_name": "HBoxModel",
          "model_module_version": "1.5.0",
          "state": {
            "_dom_classes": [],
            "_model_module": "@jupyter-widgets/controls",
            "_model_module_version": "1.5.0",
            "_model_name": "HBoxModel",
            "_view_count": null,
            "_view_module": "@jupyter-widgets/controls",
            "_view_module_version": "1.5.0",
            "_view_name": "HBoxView",
            "box_style": "",
            "children": [
              "IPY_MODEL_582733eee92946aabcc862598f46a429",
              "IPY_MODEL_6b32c1bc82134da7934656767ea72a9b",
              "IPY_MODEL_a9e38616751e4a61b7f569db80050d85"
            ],
            "layout": "IPY_MODEL_86b4d1db0745480eba7013c63f503a26"
          }
        },
        "582733eee92946aabcc862598f46a429": {
          "model_module": "@jupyter-widgets/controls",
          "model_name": "HTMLModel",
          "model_module_version": "1.5.0",
          "state": {
            "_dom_classes": [],
            "_model_module": "@jupyter-widgets/controls",
            "_model_module_version": "1.5.0",
            "_model_name": "HTMLModel",
            "_view_count": null,
            "_view_module": "@jupyter-widgets/controls",
            "_view_module_version": "1.5.0",
            "_view_name": "HTMLView",
            "description": "",
            "description_tooltip": null,
            "layout": "IPY_MODEL_3a3036fb7936436cbcd0aaae4d65b6f0",
            "placeholder": "​",
            "style": "IPY_MODEL_14072447c90d45ebbc080b0f5990312d",
            "value": "config.json: 100%"
          }
        },
        "6b32c1bc82134da7934656767ea72a9b": {
          "model_module": "@jupyter-widgets/controls",
          "model_name": "FloatProgressModel",
          "model_module_version": "1.5.0",
          "state": {
            "_dom_classes": [],
            "_model_module": "@jupyter-widgets/controls",
            "_model_module_version": "1.5.0",
            "_model_name": "FloatProgressModel",
            "_view_count": null,
            "_view_module": "@jupyter-widgets/controls",
            "_view_module_version": "1.5.0",
            "_view_name": "ProgressView",
            "bar_style": "success",
            "description": "",
            "description_tooltip": null,
            "layout": "IPY_MODEL_228d1e0deb7541bfb764fbdf959c92bd",
            "max": 625,
            "min": 0,
            "orientation": "horizontal",
            "style": "IPY_MODEL_186311ed9ff44e6a812024f74f445439",
            "value": 625
          }
        },
        "a9e38616751e4a61b7f569db80050d85": {
          "model_module": "@jupyter-widgets/controls",
          "model_name": "HTMLModel",
          "model_module_version": "1.5.0",
          "state": {
            "_dom_classes": [],
            "_model_module": "@jupyter-widgets/controls",
            "_model_module_version": "1.5.0",
            "_model_name": "HTMLModel",
            "_view_count": null,
            "_view_module": "@jupyter-widgets/controls",
            "_view_module_version": "1.5.0",
            "_view_name": "HTMLView",
            "description": "",
            "description_tooltip": null,
            "layout": "IPY_MODEL_b21bee20bb024afd86f1969bf3698782",
            "placeholder": "​",
            "style": "IPY_MODEL_6c859eb51d7f445b9c9d81cdb4bfa524",
            "value": " 625/625 [00:00&lt;00:00, 47.6kB/s]"
          }
        },
        "86b4d1db0745480eba7013c63f503a26": {
          "model_module": "@jupyter-widgets/base",
          "model_name": "LayoutModel",
          "model_module_version": "1.2.0",
          "state": {
            "_model_module": "@jupyter-widgets/base",
            "_model_module_version": "1.2.0",
            "_model_name": "LayoutModel",
            "_view_count": null,
            "_view_module": "@jupyter-widgets/base",
            "_view_module_version": "1.2.0",
            "_view_name": "LayoutView",
            "align_content": null,
            "align_items": null,
            "align_self": null,
            "border": null,
            "bottom": null,
            "display": null,
            "flex": null,
            "flex_flow": null,
            "grid_area": null,
            "grid_auto_columns": null,
            "grid_auto_flow": null,
            "grid_auto_rows": null,
            "grid_column": null,
            "grid_gap": null,
            "grid_row": null,
            "grid_template_areas": null,
            "grid_template_columns": null,
            "grid_template_rows": null,
            "height": null,
            "justify_content": null,
            "justify_items": null,
            "left": null,
            "margin": null,
            "max_height": null,
            "max_width": null,
            "min_height": null,
            "min_width": null,
            "object_fit": null,
            "object_position": null,
            "order": null,
            "overflow": null,
            "overflow_x": null,
            "overflow_y": null,
            "padding": null,
            "right": null,
            "top": null,
            "visibility": null,
            "width": null
          }
        },
        "3a3036fb7936436cbcd0aaae4d65b6f0": {
          "model_module": "@jupyter-widgets/base",
          "model_name": "LayoutModel",
          "model_module_version": "1.2.0",
          "state": {
            "_model_module": "@jupyter-widgets/base",
            "_model_module_version": "1.2.0",
            "_model_name": "LayoutModel",
            "_view_count": null,
            "_view_module": "@jupyter-widgets/base",
            "_view_module_version": "1.2.0",
            "_view_name": "LayoutView",
            "align_content": null,
            "align_items": null,
            "align_self": null,
            "border": null,
            "bottom": null,
            "display": null,
            "flex": null,
            "flex_flow": null,
            "grid_area": null,
            "grid_auto_columns": null,
            "grid_auto_flow": null,
            "grid_auto_rows": null,
            "grid_column": null,
            "grid_gap": null,
            "grid_row": null,
            "grid_template_areas": null,
            "grid_template_columns": null,
            "grid_template_rows": null,
            "height": null,
            "justify_content": null,
            "justify_items": null,
            "left": null,
            "margin": null,
            "max_height": null,
            "max_width": null,
            "min_height": null,
            "min_width": null,
            "object_fit": null,
            "object_position": null,
            "order": null,
            "overflow": null,
            "overflow_x": null,
            "overflow_y": null,
            "padding": null,
            "right": null,
            "top": null,
            "visibility": null,
            "width": null
          }
        },
        "14072447c90d45ebbc080b0f5990312d": {
          "model_module": "@jupyter-widgets/controls",
          "model_name": "DescriptionStyleModel",
          "model_module_version": "1.5.0",
          "state": {
            "_model_module": "@jupyter-widgets/controls",
            "_model_module_version": "1.5.0",
            "_model_name": "DescriptionStyleModel",
            "_view_count": null,
            "_view_module": "@jupyter-widgets/base",
            "_view_module_version": "1.2.0",
            "_view_name": "StyleView",
            "description_width": ""
          }
        },
        "228d1e0deb7541bfb764fbdf959c92bd": {
          "model_module": "@jupyter-widgets/base",
          "model_name": "LayoutModel",
          "model_module_version": "1.2.0",
          "state": {
            "_model_module": "@jupyter-widgets/base",
            "_model_module_version": "1.2.0",
            "_model_name": "LayoutModel",
            "_view_count": null,
            "_view_module": "@jupyter-widgets/base",
            "_view_module_version": "1.2.0",
            "_view_name": "LayoutView",
            "align_content": null,
            "align_items": null,
            "align_self": null,
            "border": null,
            "bottom": null,
            "display": null,
            "flex": null,
            "flex_flow": null,
            "grid_area": null,
            "grid_auto_columns": null,
            "grid_auto_flow": null,
            "grid_auto_rows": null,
            "grid_column": null,
            "grid_gap": null,
            "grid_row": null,
            "grid_template_areas": null,
            "grid_template_columns": null,
            "grid_template_rows": null,
            "height": null,
            "justify_content": null,
            "justify_items": null,
            "left": null,
            "margin": null,
            "max_height": null,
            "max_width": null,
            "min_height": null,
            "min_width": null,
            "object_fit": null,
            "object_position": null,
            "order": null,
            "overflow": null,
            "overflow_x": null,
            "overflow_y": null,
            "padding": null,
            "right": null,
            "top": null,
            "visibility": null,
            "width": null
          }
        },
        "186311ed9ff44e6a812024f74f445439": {
          "model_module": "@jupyter-widgets/controls",
          "model_name": "ProgressStyleModel",
          "model_module_version": "1.5.0",
          "state": {
            "_model_module": "@jupyter-widgets/controls",
            "_model_module_version": "1.5.0",
            "_model_name": "ProgressStyleModel",
            "_view_count": null,
            "_view_module": "@jupyter-widgets/base",
            "_view_module_version": "1.2.0",
            "_view_name": "StyleView",
            "bar_color": null,
            "description_width": ""
          }
        },
        "b21bee20bb024afd86f1969bf3698782": {
          "model_module": "@jupyter-widgets/base",
          "model_name": "LayoutModel",
          "model_module_version": "1.2.0",
          "state": {
            "_model_module": "@jupyter-widgets/base",
            "_model_module_version": "1.2.0",
            "_model_name": "LayoutModel",
            "_view_count": null,
            "_view_module": "@jupyter-widgets/base",
            "_view_module_version": "1.2.0",
            "_view_name": "LayoutView",
            "align_content": null,
            "align_items": null,
            "align_self": null,
            "border": null,
            "bottom": null,
            "display": null,
            "flex": null,
            "flex_flow": null,
            "grid_area": null,
            "grid_auto_columns": null,
            "grid_auto_flow": null,
            "grid_auto_rows": null,
            "grid_column": null,
            "grid_gap": null,
            "grid_row": null,
            "grid_template_areas": null,
            "grid_template_columns": null,
            "grid_template_rows": null,
            "height": null,
            "justify_content": null,
            "justify_items": null,
            "left": null,
            "margin": null,
            "max_height": null,
            "max_width": null,
            "min_height": null,
            "min_width": null,
            "object_fit": null,
            "object_position": null,
            "order": null,
            "overflow": null,
            "overflow_x": null,
            "overflow_y": null,
            "padding": null,
            "right": null,
            "top": null,
            "visibility": null,
            "width": null
          }
        },
        "6c859eb51d7f445b9c9d81cdb4bfa524": {
          "model_module": "@jupyter-widgets/controls",
          "model_name": "DescriptionStyleModel",
          "model_module_version": "1.5.0",
          "state": {
            "_model_module": "@jupyter-widgets/controls",
            "_model_module_version": "1.5.0",
            "_model_name": "DescriptionStyleModel",
            "_view_count": null,
            "_view_module": "@jupyter-widgets/base",
            "_view_module_version": "1.2.0",
            "_view_name": "StyleView",
            "description_width": ""
          }
        },
        "381673899df341fa9651be634f5150a6": {
          "model_module": "@jupyter-widgets/controls",
          "model_name": "HBoxModel",
          "model_module_version": "1.5.0",
          "state": {
            "_dom_classes": [],
            "_model_module": "@jupyter-widgets/controls",
            "_model_module_version": "1.5.0",
            "_model_name": "HBoxModel",
            "_view_count": null,
            "_view_module": "@jupyter-widgets/controls",
            "_view_module_version": "1.5.0",
            "_view_name": "HBoxView",
            "box_style": "",
            "children": [
              "IPY_MODEL_fdabfe4f00e54f27aaed35c017bf77ce",
              "IPY_MODEL_e56e2cbf3aa3434eb29dc7a34bd86ac0",
              "IPY_MODEL_12ff89c26da84a7c8a36a21a127fac41"
            ],
            "layout": "IPY_MODEL_19deb5a636854d50b24319eb33b2eedb"
          }
        },
        "fdabfe4f00e54f27aaed35c017bf77ce": {
          "model_module": "@jupyter-widgets/controls",
          "model_name": "HTMLModel",
          "model_module_version": "1.5.0",
          "state": {
            "_dom_classes": [],
            "_model_module": "@jupyter-widgets/controls",
            "_model_module_version": "1.5.0",
            "_model_name": "HTMLModel",
            "_view_count": null,
            "_view_module": "@jupyter-widgets/controls",
            "_view_module_version": "1.5.0",
            "_view_name": "HTMLView",
            "description": "",
            "description_tooltip": null,
            "layout": "IPY_MODEL_bbb83f09cc614ab593f336b87fa52799",
            "placeholder": "​",
            "style": "IPY_MODEL_54cf979e4b014f57b960c9b986daa4b5",
            "value": "model.safetensors: 100%"
          }
        },
        "e56e2cbf3aa3434eb29dc7a34bd86ac0": {
          "model_module": "@jupyter-widgets/controls",
          "model_name": "FloatProgressModel",
          "model_module_version": "1.5.0",
          "state": {
            "_dom_classes": [],
            "_model_module": "@jupyter-widgets/controls",
            "_model_module_version": "1.5.0",
            "_model_name": "FloatProgressModel",
            "_view_count": null,
            "_view_module": "@jupyter-widgets/controls",
            "_view_module_version": "1.5.0",
            "_view_name": "ProgressView",
            "bar_style": "success",
            "description": "",
            "description_tooltip": null,
            "layout": "IPY_MODEL_b496546665e145358cb286107d52ff1e",
            "max": 714290682,
            "min": 0,
            "orientation": "horizontal",
            "style": "IPY_MODEL_e4d0fb39f5c846d489b9845ec6bc0ea7",
            "value": 714290682
          }
        },
        "12ff89c26da84a7c8a36a21a127fac41": {
          "model_module": "@jupyter-widgets/controls",
          "model_name": "HTMLModel",
          "model_module_version": "1.5.0",
          "state": {
            "_dom_classes": [],
            "_model_module": "@jupyter-widgets/controls",
            "_model_module_version": "1.5.0",
            "_model_name": "HTMLModel",
            "_view_count": null,
            "_view_module": "@jupyter-widgets/controls",
            "_view_module_version": "1.5.0",
            "_view_name": "HTMLView",
            "description": "",
            "description_tooltip": null,
            "layout": "IPY_MODEL_e5078dbad07b4cdeb01a8ba94d0d1281",
            "placeholder": "​",
            "style": "IPY_MODEL_a4267100331848e38e005c78381e363a",
            "value": " 714M/714M [00:03&lt;00:00, 276MB/s]"
          }
        },
        "19deb5a636854d50b24319eb33b2eedb": {
          "model_module": "@jupyter-widgets/base",
          "model_name": "LayoutModel",
          "model_module_version": "1.2.0",
          "state": {
            "_model_module": "@jupyter-widgets/base",
            "_model_module_version": "1.2.0",
            "_model_name": "LayoutModel",
            "_view_count": null,
            "_view_module": "@jupyter-widgets/base",
            "_view_module_version": "1.2.0",
            "_view_name": "LayoutView",
            "align_content": null,
            "align_items": null,
            "align_self": null,
            "border": null,
            "bottom": null,
            "display": null,
            "flex": null,
            "flex_flow": null,
            "grid_area": null,
            "grid_auto_columns": null,
            "grid_auto_flow": null,
            "grid_auto_rows": null,
            "grid_column": null,
            "grid_gap": null,
            "grid_row": null,
            "grid_template_areas": null,
            "grid_template_columns": null,
            "grid_template_rows": null,
            "height": null,
            "justify_content": null,
            "justify_items": null,
            "left": null,
            "margin": null,
            "max_height": null,
            "max_width": null,
            "min_height": null,
            "min_width": null,
            "object_fit": null,
            "object_position": null,
            "order": null,
            "overflow": null,
            "overflow_x": null,
            "overflow_y": null,
            "padding": null,
            "right": null,
            "top": null,
            "visibility": null,
            "width": null
          }
        },
        "bbb83f09cc614ab593f336b87fa52799": {
          "model_module": "@jupyter-widgets/base",
          "model_name": "LayoutModel",
          "model_module_version": "1.2.0",
          "state": {
            "_model_module": "@jupyter-widgets/base",
            "_model_module_version": "1.2.0",
            "_model_name": "LayoutModel",
            "_view_count": null,
            "_view_module": "@jupyter-widgets/base",
            "_view_module_version": "1.2.0",
            "_view_name": "LayoutView",
            "align_content": null,
            "align_items": null,
            "align_self": null,
            "border": null,
            "bottom": null,
            "display": null,
            "flex": null,
            "flex_flow": null,
            "grid_area": null,
            "grid_auto_columns": null,
            "grid_auto_flow": null,
            "grid_auto_rows": null,
            "grid_column": null,
            "grid_gap": null,
            "grid_row": null,
            "grid_template_areas": null,
            "grid_template_columns": null,
            "grid_template_rows": null,
            "height": null,
            "justify_content": null,
            "justify_items": null,
            "left": null,
            "margin": null,
            "max_height": null,
            "max_width": null,
            "min_height": null,
            "min_width": null,
            "object_fit": null,
            "object_position": null,
            "order": null,
            "overflow": null,
            "overflow_x": null,
            "overflow_y": null,
            "padding": null,
            "right": null,
            "top": null,
            "visibility": null,
            "width": null
          }
        },
        "54cf979e4b014f57b960c9b986daa4b5": {
          "model_module": "@jupyter-widgets/controls",
          "model_name": "DescriptionStyleModel",
          "model_module_version": "1.5.0",
          "state": {
            "_model_module": "@jupyter-widgets/controls",
            "_model_module_version": "1.5.0",
            "_model_name": "DescriptionStyleModel",
            "_view_count": null,
            "_view_module": "@jupyter-widgets/base",
            "_view_module_version": "1.2.0",
            "_view_name": "StyleView",
            "description_width": ""
          }
        },
        "b496546665e145358cb286107d52ff1e": {
          "model_module": "@jupyter-widgets/base",
          "model_name": "LayoutModel",
          "model_module_version": "1.2.0",
          "state": {
            "_model_module": "@jupyter-widgets/base",
            "_model_module_version": "1.2.0",
            "_model_name": "LayoutModel",
            "_view_count": null,
            "_view_module": "@jupyter-widgets/base",
            "_view_module_version": "1.2.0",
            "_view_name": "LayoutView",
            "align_content": null,
            "align_items": null,
            "align_self": null,
            "border": null,
            "bottom": null,
            "display": null,
            "flex": null,
            "flex_flow": null,
            "grid_area": null,
            "grid_auto_columns": null,
            "grid_auto_flow": null,
            "grid_auto_rows": null,
            "grid_column": null,
            "grid_gap": null,
            "grid_row": null,
            "grid_template_areas": null,
            "grid_template_columns": null,
            "grid_template_rows": null,
            "height": null,
            "justify_content": null,
            "justify_items": null,
            "left": null,
            "margin": null,
            "max_height": null,
            "max_width": null,
            "min_height": null,
            "min_width": null,
            "object_fit": null,
            "object_position": null,
            "order": null,
            "overflow": null,
            "overflow_x": null,
            "overflow_y": null,
            "padding": null,
            "right": null,
            "top": null,
            "visibility": null,
            "width": null
          }
        },
        "e4d0fb39f5c846d489b9845ec6bc0ea7": {
          "model_module": "@jupyter-widgets/controls",
          "model_name": "ProgressStyleModel",
          "model_module_version": "1.5.0",
          "state": {
            "_model_module": "@jupyter-widgets/controls",
            "_model_module_version": "1.5.0",
            "_model_name": "ProgressStyleModel",
            "_view_count": null,
            "_view_module": "@jupyter-widgets/base",
            "_view_module_version": "1.2.0",
            "_view_name": "StyleView",
            "bar_color": null,
            "description_width": ""
          }
        },
        "e5078dbad07b4cdeb01a8ba94d0d1281": {
          "model_module": "@jupyter-widgets/base",
          "model_name": "LayoutModel",
          "model_module_version": "1.2.0",
          "state": {
            "_model_module": "@jupyter-widgets/base",
            "_model_module_version": "1.2.0",
            "_model_name": "LayoutModel",
            "_view_count": null,
            "_view_module": "@jupyter-widgets/base",
            "_view_module_version": "1.2.0",
            "_view_name": "LayoutView",
            "align_content": null,
            "align_items": null,
            "align_self": null,
            "border": null,
            "bottom": null,
            "display": null,
            "flex": null,
            "flex_flow": null,
            "grid_area": null,
            "grid_auto_columns": null,
            "grid_auto_flow": null,
            "grid_auto_rows": null,
            "grid_column": null,
            "grid_gap": null,
            "grid_row": null,
            "grid_template_areas": null,
            "grid_template_columns": null,
            "grid_template_rows": null,
            "height": null,
            "justify_content": null,
            "justify_items": null,
            "left": null,
            "margin": null,
            "max_height": null,
            "max_width": null,
            "min_height": null,
            "min_width": null,
            "object_fit": null,
            "object_position": null,
            "order": null,
            "overflow": null,
            "overflow_x": null,
            "overflow_y": null,
            "padding": null,
            "right": null,
            "top": null,
            "visibility": null,
            "width": null
          }
        },
        "a4267100331848e38e005c78381e363a": {
          "model_module": "@jupyter-widgets/controls",
          "model_name": "DescriptionStyleModel",
          "model_module_version": "1.5.0",
          "state": {
            "_model_module": "@jupyter-widgets/controls",
            "_model_module_version": "1.5.0",
            "_model_name": "DescriptionStyleModel",
            "_view_count": null,
            "_view_module": "@jupyter-widgets/base",
            "_view_module_version": "1.2.0",
            "_view_name": "StyleView",
            "description_width": ""
          }
        },
        "fd6395c58952469b8849f51e73753b64": {
          "model_module": "@jupyter-widgets/controls",
          "model_name": "HBoxModel",
          "model_module_version": "1.5.0",
          "state": {
            "_dom_classes": [],
            "_model_module": "@jupyter-widgets/controls",
            "_model_module_version": "1.5.0",
            "_model_name": "HBoxModel",
            "_view_count": null,
            "_view_module": "@jupyter-widgets/controls",
            "_view_module_version": "1.5.0",
            "_view_name": "HBoxView",
            "box_style": "",
            "children": [
              "IPY_MODEL_da72d52ca55141ec9be44e342e3c86d9",
              "IPY_MODEL_c25de6606dea47a3930dc02dd6c69dcd",
              "IPY_MODEL_8ee2d42b277740358a6f13d1bd7ade7a"
            ],
            "layout": "IPY_MODEL_0ac7212b1438458297e2b71f4402fd84"
          }
        },
        "da72d52ca55141ec9be44e342e3c86d9": {
          "model_module": "@jupyter-widgets/controls",
          "model_name": "HTMLModel",
          "model_module_version": "1.5.0",
          "state": {
            "_dom_classes": [],
            "_model_module": "@jupyter-widgets/controls",
            "_model_module_version": "1.5.0",
            "_model_name": "HTMLModel",
            "_view_count": null,
            "_view_module": "@jupyter-widgets/controls",
            "_view_module_version": "1.5.0",
            "_view_name": "HTMLView",
            "description": "",
            "description_tooltip": null,
            "layout": "IPY_MODEL_d57329d7b33244668d32e2126d3f106e",
            "placeholder": "​",
            "style": "IPY_MODEL_4cd3e6f79fc449adb60174c46759bcf1",
            "value": "Downloading builder script: 100%"
          }
        },
        "c25de6606dea47a3930dc02dd6c69dcd": {
          "model_module": "@jupyter-widgets/controls",
          "model_name": "FloatProgressModel",
          "model_module_version": "1.5.0",
          "state": {
            "_dom_classes": [],
            "_model_module": "@jupyter-widgets/controls",
            "_model_module_version": "1.5.0",
            "_model_name": "FloatProgressModel",
            "_view_count": null,
            "_view_module": "@jupyter-widgets/controls",
            "_view_module_version": "1.5.0",
            "_view_name": "ProgressView",
            "bar_style": "success",
            "description": "",
            "description_tooltip": null,
            "layout": "IPY_MODEL_39928318717c405fa5899cfb5e09d490",
            "max": 4203,
            "min": 0,
            "orientation": "horizontal",
            "style": "IPY_MODEL_a90f3273f36f49e6acd7d7a0df62e068",
            "value": 4203
          }
        },
        "8ee2d42b277740358a6f13d1bd7ade7a": {
          "model_module": "@jupyter-widgets/controls",
          "model_name": "HTMLModel",
          "model_module_version": "1.5.0",
          "state": {
            "_dom_classes": [],
            "_model_module": "@jupyter-widgets/controls",
            "_model_module_version": "1.5.0",
            "_model_name": "HTMLModel",
            "_view_count": null,
            "_view_module": "@jupyter-widgets/controls",
            "_view_module_version": "1.5.0",
            "_view_name": "HTMLView",
            "description": "",
            "description_tooltip": null,
            "layout": "IPY_MODEL_0015f94ef9f048d5b4a5beb088fcff80",
            "placeholder": "​",
            "style": "IPY_MODEL_c145010d59394ebd9d9af72edcac2e38",
            "value": " 4.20k/4.20k [00:00&lt;00:00, 331kB/s]"
          }
        },
        "0ac7212b1438458297e2b71f4402fd84": {
          "model_module": "@jupyter-widgets/base",
          "model_name": "LayoutModel",
          "model_module_version": "1.2.0",
          "state": {
            "_model_module": "@jupyter-widgets/base",
            "_model_module_version": "1.2.0",
            "_model_name": "LayoutModel",
            "_view_count": null,
            "_view_module": "@jupyter-widgets/base",
            "_view_module_version": "1.2.0",
            "_view_name": "LayoutView",
            "align_content": null,
            "align_items": null,
            "align_self": null,
            "border": null,
            "bottom": null,
            "display": null,
            "flex": null,
            "flex_flow": null,
            "grid_area": null,
            "grid_auto_columns": null,
            "grid_auto_flow": null,
            "grid_auto_rows": null,
            "grid_column": null,
            "grid_gap": null,
            "grid_row": null,
            "grid_template_areas": null,
            "grid_template_columns": null,
            "grid_template_rows": null,
            "height": null,
            "justify_content": null,
            "justify_items": null,
            "left": null,
            "margin": null,
            "max_height": null,
            "max_width": null,
            "min_height": null,
            "min_width": null,
            "object_fit": null,
            "object_position": null,
            "order": null,
            "overflow": null,
            "overflow_x": null,
            "overflow_y": null,
            "padding": null,
            "right": null,
            "top": null,
            "visibility": null,
            "width": null
          }
        },
        "d57329d7b33244668d32e2126d3f106e": {
          "model_module": "@jupyter-widgets/base",
          "model_name": "LayoutModel",
          "model_module_version": "1.2.0",
          "state": {
            "_model_module": "@jupyter-widgets/base",
            "_model_module_version": "1.2.0",
            "_model_name": "LayoutModel",
            "_view_count": null,
            "_view_module": "@jupyter-widgets/base",
            "_view_module_version": "1.2.0",
            "_view_name": "LayoutView",
            "align_content": null,
            "align_items": null,
            "align_self": null,
            "border": null,
            "bottom": null,
            "display": null,
            "flex": null,
            "flex_flow": null,
            "grid_area": null,
            "grid_auto_columns": null,
            "grid_auto_flow": null,
            "grid_auto_rows": null,
            "grid_column": null,
            "grid_gap": null,
            "grid_row": null,
            "grid_template_areas": null,
            "grid_template_columns": null,
            "grid_template_rows": null,
            "height": null,
            "justify_content": null,
            "justify_items": null,
            "left": null,
            "margin": null,
            "max_height": null,
            "max_width": null,
            "min_height": null,
            "min_width": null,
            "object_fit": null,
            "object_position": null,
            "order": null,
            "overflow": null,
            "overflow_x": null,
            "overflow_y": null,
            "padding": null,
            "right": null,
            "top": null,
            "visibility": null,
            "width": null
          }
        },
        "4cd3e6f79fc449adb60174c46759bcf1": {
          "model_module": "@jupyter-widgets/controls",
          "model_name": "DescriptionStyleModel",
          "model_module_version": "1.5.0",
          "state": {
            "_model_module": "@jupyter-widgets/controls",
            "_model_module_version": "1.5.0",
            "_model_name": "DescriptionStyleModel",
            "_view_count": null,
            "_view_module": "@jupyter-widgets/base",
            "_view_module_version": "1.2.0",
            "_view_name": "StyleView",
            "description_width": ""
          }
        },
        "39928318717c405fa5899cfb5e09d490": {
          "model_module": "@jupyter-widgets/base",
          "model_name": "LayoutModel",
          "model_module_version": "1.2.0",
          "state": {
            "_model_module": "@jupyter-widgets/base",
            "_model_module_version": "1.2.0",
            "_model_name": "LayoutModel",
            "_view_count": null,
            "_view_module": "@jupyter-widgets/base",
            "_view_module_version": "1.2.0",
            "_view_name": "LayoutView",
            "align_content": null,
            "align_items": null,
            "align_self": null,
            "border": null,
            "bottom": null,
            "display": null,
            "flex": null,
            "flex_flow": null,
            "grid_area": null,
            "grid_auto_columns": null,
            "grid_auto_flow": null,
            "grid_auto_rows": null,
            "grid_column": null,
            "grid_gap": null,
            "grid_row": null,
            "grid_template_areas": null,
            "grid_template_columns": null,
            "grid_template_rows": null,
            "height": null,
            "justify_content": null,
            "justify_items": null,
            "left": null,
            "margin": null,
            "max_height": null,
            "max_width": null,
            "min_height": null,
            "min_width": null,
            "object_fit": null,
            "object_position": null,
            "order": null,
            "overflow": null,
            "overflow_x": null,
            "overflow_y": null,
            "padding": null,
            "right": null,
            "top": null,
            "visibility": null,
            "width": null
          }
        },
        "a90f3273f36f49e6acd7d7a0df62e068": {
          "model_module": "@jupyter-widgets/controls",
          "model_name": "ProgressStyleModel",
          "model_module_version": "1.5.0",
          "state": {
            "_model_module": "@jupyter-widgets/controls",
            "_model_module_version": "1.5.0",
            "_model_name": "ProgressStyleModel",
            "_view_count": null,
            "_view_module": "@jupyter-widgets/base",
            "_view_module_version": "1.2.0",
            "_view_name": "StyleView",
            "bar_color": null,
            "description_width": ""
          }
        },
        "0015f94ef9f048d5b4a5beb088fcff80": {
          "model_module": "@jupyter-widgets/base",
          "model_name": "LayoutModel",
          "model_module_version": "1.2.0",
          "state": {
            "_model_module": "@jupyter-widgets/base",
            "_model_module_version": "1.2.0",
            "_model_name": "LayoutModel",
            "_view_count": null,
            "_view_module": "@jupyter-widgets/base",
            "_view_module_version": "1.2.0",
            "_view_name": "LayoutView",
            "align_content": null,
            "align_items": null,
            "align_self": null,
            "border": null,
            "bottom": null,
            "display": null,
            "flex": null,
            "flex_flow": null,
            "grid_area": null,
            "grid_auto_columns": null,
            "grid_auto_flow": null,
            "grid_auto_rows": null,
            "grid_column": null,
            "grid_gap": null,
            "grid_row": null,
            "grid_template_areas": null,
            "grid_template_columns": null,
            "grid_template_rows": null,
            "height": null,
            "justify_content": null,
            "justify_items": null,
            "left": null,
            "margin": null,
            "max_height": null,
            "max_width": null,
            "min_height": null,
            "min_width": null,
            "object_fit": null,
            "object_position": null,
            "order": null,
            "overflow": null,
            "overflow_x": null,
            "overflow_y": null,
            "padding": null,
            "right": null,
            "top": null,
            "visibility": null,
            "width": null
          }
        },
        "c145010d59394ebd9d9af72edcac2e38": {
          "model_module": "@jupyter-widgets/controls",
          "model_name": "DescriptionStyleModel",
          "model_module_version": "1.5.0",
          "state": {
            "_model_module": "@jupyter-widgets/controls",
            "_model_module_version": "1.5.0",
            "_model_name": "DescriptionStyleModel",
            "_view_count": null,
            "_view_module": "@jupyter-widgets/base",
            "_view_module_version": "1.2.0",
            "_view_name": "StyleView",
            "description_width": ""
          }
        },
        "98ddde8f166f44409f6778c0f75ea7c7": {
          "model_module": "@jupyter-widgets/controls",
          "model_name": "HBoxModel",
          "model_module_version": "1.5.0",
          "state": {
            "_dom_classes": [],
            "_model_module": "@jupyter-widgets/controls",
            "_model_module_version": "1.5.0",
            "_model_name": "HBoxModel",
            "_view_count": null,
            "_view_module": "@jupyter-widgets/controls",
            "_view_module_version": "1.5.0",
            "_view_name": "HBoxView",
            "box_style": "",
            "children": [
              "IPY_MODEL_ea86a5ee9a1e44bba502781ab4eb601d",
              "IPY_MODEL_0857342b801248f5b8979be23db07317",
              "IPY_MODEL_ffc01faf369c4e11b128d27caf0276f1"
            ],
            "layout": "IPY_MODEL_3b67f2762a8a4784acbd3eede7d2df1b"
          }
        },
        "ea86a5ee9a1e44bba502781ab4eb601d": {
          "model_module": "@jupyter-widgets/controls",
          "model_name": "HTMLModel",
          "model_module_version": "1.5.0",
          "state": {
            "_dom_classes": [],
            "_model_module": "@jupyter-widgets/controls",
            "_model_module_version": "1.5.0",
            "_model_name": "HTMLModel",
            "_view_count": null,
            "_view_module": "@jupyter-widgets/controls",
            "_view_module_version": "1.5.0",
            "_view_name": "HTMLView",
            "description": "",
            "description_tooltip": null,
            "layout": "IPY_MODEL_355def576fab4abb9699550f09fedbe2",
            "placeholder": "​",
            "style": "IPY_MODEL_67e2518210e24ecb893f00521dfba483",
            "value": "Downloading builder script: 100%"
          }
        },
        "0857342b801248f5b8979be23db07317": {
          "model_module": "@jupyter-widgets/controls",
          "model_name": "FloatProgressModel",
          "model_module_version": "1.5.0",
          "state": {
            "_dom_classes": [],
            "_model_module": "@jupyter-widgets/controls",
            "_model_module_version": "1.5.0",
            "_model_name": "FloatProgressModel",
            "_view_count": null,
            "_view_module": "@jupyter-widgets/controls",
            "_view_module_version": "1.5.0",
            "_view_name": "ProgressView",
            "bar_style": "success",
            "description": "",
            "description_tooltip": null,
            "layout": "IPY_MODEL_db5cf7e3a25d41f0a5cf00f260f370e5",
            "max": 6771,
            "min": 0,
            "orientation": "horizontal",
            "style": "IPY_MODEL_1cb0fc753f614e399e23467d1aec2f92",
            "value": 6771
          }
        },
        "ffc01faf369c4e11b128d27caf0276f1": {
          "model_module": "@jupyter-widgets/controls",
          "model_name": "HTMLModel",
          "model_module_version": "1.5.0",
          "state": {
            "_dom_classes": [],
            "_model_module": "@jupyter-widgets/controls",
            "_model_module_version": "1.5.0",
            "_model_name": "HTMLModel",
            "_view_count": null,
            "_view_module": "@jupyter-widgets/controls",
            "_view_module_version": "1.5.0",
            "_view_name": "HTMLView",
            "description": "",
            "description_tooltip": null,
            "layout": "IPY_MODEL_83c7648ec1304c86b74e1ed54b35229b",
            "placeholder": "​",
            "style": "IPY_MODEL_68cfb97f980048469c1e75399e239502",
            "value": " 6.77k/6.77k [00:00&lt;00:00, 570kB/s]"
          }
        },
        "3b67f2762a8a4784acbd3eede7d2df1b": {
          "model_module": "@jupyter-widgets/base",
          "model_name": "LayoutModel",
          "model_module_version": "1.2.0",
          "state": {
            "_model_module": "@jupyter-widgets/base",
            "_model_module_version": "1.2.0",
            "_model_name": "LayoutModel",
            "_view_count": null,
            "_view_module": "@jupyter-widgets/base",
            "_view_module_version": "1.2.0",
            "_view_name": "LayoutView",
            "align_content": null,
            "align_items": null,
            "align_self": null,
            "border": null,
            "bottom": null,
            "display": null,
            "flex": null,
            "flex_flow": null,
            "grid_area": null,
            "grid_auto_columns": null,
            "grid_auto_flow": null,
            "grid_auto_rows": null,
            "grid_column": null,
            "grid_gap": null,
            "grid_row": null,
            "grid_template_areas": null,
            "grid_template_columns": null,
            "grid_template_rows": null,
            "height": null,
            "justify_content": null,
            "justify_items": null,
            "left": null,
            "margin": null,
            "max_height": null,
            "max_width": null,
            "min_height": null,
            "min_width": null,
            "object_fit": null,
            "object_position": null,
            "order": null,
            "overflow": null,
            "overflow_x": null,
            "overflow_y": null,
            "padding": null,
            "right": null,
            "top": null,
            "visibility": null,
            "width": null
          }
        },
        "355def576fab4abb9699550f09fedbe2": {
          "model_module": "@jupyter-widgets/base",
          "model_name": "LayoutModel",
          "model_module_version": "1.2.0",
          "state": {
            "_model_module": "@jupyter-widgets/base",
            "_model_module_version": "1.2.0",
            "_model_name": "LayoutModel",
            "_view_count": null,
            "_view_module": "@jupyter-widgets/base",
            "_view_module_version": "1.2.0",
            "_view_name": "LayoutView",
            "align_content": null,
            "align_items": null,
            "align_self": null,
            "border": null,
            "bottom": null,
            "display": null,
            "flex": null,
            "flex_flow": null,
            "grid_area": null,
            "grid_auto_columns": null,
            "grid_auto_flow": null,
            "grid_auto_rows": null,
            "grid_column": null,
            "grid_gap": null,
            "grid_row": null,
            "grid_template_areas": null,
            "grid_template_columns": null,
            "grid_template_rows": null,
            "height": null,
            "justify_content": null,
            "justify_items": null,
            "left": null,
            "margin": null,
            "max_height": null,
            "max_width": null,
            "min_height": null,
            "min_width": null,
            "object_fit": null,
            "object_position": null,
            "order": null,
            "overflow": null,
            "overflow_x": null,
            "overflow_y": null,
            "padding": null,
            "right": null,
            "top": null,
            "visibility": null,
            "width": null
          }
        },
        "67e2518210e24ecb893f00521dfba483": {
          "model_module": "@jupyter-widgets/controls",
          "model_name": "DescriptionStyleModel",
          "model_module_version": "1.5.0",
          "state": {
            "_model_module": "@jupyter-widgets/controls",
            "_model_module_version": "1.5.0",
            "_model_name": "DescriptionStyleModel",
            "_view_count": null,
            "_view_module": "@jupyter-widgets/base",
            "_view_module_version": "1.2.0",
            "_view_name": "StyleView",
            "description_width": ""
          }
        },
        "db5cf7e3a25d41f0a5cf00f260f370e5": {
          "model_module": "@jupyter-widgets/base",
          "model_name": "LayoutModel",
          "model_module_version": "1.2.0",
          "state": {
            "_model_module": "@jupyter-widgets/base",
            "_model_module_version": "1.2.0",
            "_model_name": "LayoutModel",
            "_view_count": null,
            "_view_module": "@jupyter-widgets/base",
            "_view_module_version": "1.2.0",
            "_view_name": "LayoutView",
            "align_content": null,
            "align_items": null,
            "align_self": null,
            "border": null,
            "bottom": null,
            "display": null,
            "flex": null,
            "flex_flow": null,
            "grid_area": null,
            "grid_auto_columns": null,
            "grid_auto_flow": null,
            "grid_auto_rows": null,
            "grid_column": null,
            "grid_gap": null,
            "grid_row": null,
            "grid_template_areas": null,
            "grid_template_columns": null,
            "grid_template_rows": null,
            "height": null,
            "justify_content": null,
            "justify_items": null,
            "left": null,
            "margin": null,
            "max_height": null,
            "max_width": null,
            "min_height": null,
            "min_width": null,
            "object_fit": null,
            "object_position": null,
            "order": null,
            "overflow": null,
            "overflow_x": null,
            "overflow_y": null,
            "padding": null,
            "right": null,
            "top": null,
            "visibility": null,
            "width": null
          }
        },
        "1cb0fc753f614e399e23467d1aec2f92": {
          "model_module": "@jupyter-widgets/controls",
          "model_name": "ProgressStyleModel",
          "model_module_version": "1.5.0",
          "state": {
            "_model_module": "@jupyter-widgets/controls",
            "_model_module_version": "1.5.0",
            "_model_name": "ProgressStyleModel",
            "_view_count": null,
            "_view_module": "@jupyter-widgets/base",
            "_view_module_version": "1.2.0",
            "_view_name": "StyleView",
            "bar_color": null,
            "description_width": ""
          }
        },
        "83c7648ec1304c86b74e1ed54b35229b": {
          "model_module": "@jupyter-widgets/base",
          "model_name": "LayoutModel",
          "model_module_version": "1.2.0",
          "state": {
            "_model_module": "@jupyter-widgets/base",
            "_model_module_version": "1.2.0",
            "_model_name": "LayoutModel",
            "_view_count": null,
            "_view_module": "@jupyter-widgets/base",
            "_view_module_version": "1.2.0",
            "_view_name": "LayoutView",
            "align_content": null,
            "align_items": null,
            "align_self": null,
            "border": null,
            "bottom": null,
            "display": null,
            "flex": null,
            "flex_flow": null,
            "grid_area": null,
            "grid_auto_columns": null,
            "grid_auto_flow": null,
            "grid_auto_rows": null,
            "grid_column": null,
            "grid_gap": null,
            "grid_row": null,
            "grid_template_areas": null,
            "grid_template_columns": null,
            "grid_template_rows": null,
            "height": null,
            "justify_content": null,
            "justify_items": null,
            "left": null,
            "margin": null,
            "max_height": null,
            "max_width": null,
            "min_height": null,
            "min_width": null,
            "object_fit": null,
            "object_position": null,
            "order": null,
            "overflow": null,
            "overflow_x": null,
            "overflow_y": null,
            "padding": null,
            "right": null,
            "top": null,
            "visibility": null,
            "width": null
          }
        },
        "68cfb97f980048469c1e75399e239502": {
          "model_module": "@jupyter-widgets/controls",
          "model_name": "DescriptionStyleModel",
          "model_module_version": "1.5.0",
          "state": {
            "_model_module": "@jupyter-widgets/controls",
            "_model_module_version": "1.5.0",
            "_model_name": "DescriptionStyleModel",
            "_view_count": null,
            "_view_module": "@jupyter-widgets/base",
            "_view_module_version": "1.2.0",
            "_view_name": "StyleView",
            "description_width": ""
          }
        },
        "49d03505dc8a420196563d20f0a7b91a": {
          "model_module": "@jupyter-widgets/controls",
          "model_name": "HBoxModel",
          "model_module_version": "1.5.0",
          "state": {
            "_dom_classes": [],
            "_model_module": "@jupyter-widgets/controls",
            "_model_module_version": "1.5.0",
            "_model_name": "HBoxModel",
            "_view_count": null,
            "_view_module": "@jupyter-widgets/controls",
            "_view_module_version": "1.5.0",
            "_view_name": "HBoxView",
            "box_style": "",
            "children": [
              "IPY_MODEL_b6ae1ea9501e4f9bba5f42ab208e1b1a",
              "IPY_MODEL_214ec83242094e88ad98cf6a6e4b3973",
              "IPY_MODEL_e1d05bbe710e48d6964bec37f56fd097"
            ],
            "layout": "IPY_MODEL_a6d02c1e6a074a2c8d3358bc9250e6c0"
          }
        },
        "b6ae1ea9501e4f9bba5f42ab208e1b1a": {
          "model_module": "@jupyter-widgets/controls",
          "model_name": "HTMLModel",
          "model_module_version": "1.5.0",
          "state": {
            "_dom_classes": [],
            "_model_module": "@jupyter-widgets/controls",
            "_model_module_version": "1.5.0",
            "_model_name": "HTMLModel",
            "_view_count": null,
            "_view_module": "@jupyter-widgets/controls",
            "_view_module_version": "1.5.0",
            "_view_name": "HTMLView",
            "description": "",
            "description_tooltip": null,
            "layout": "IPY_MODEL_e8df6b8852dc498ab9343fa80f90520a",
            "placeholder": "​",
            "style": "IPY_MODEL_7e64214c18f445c09c622b0ba4c2aba1",
            "value": "Downloading builder script: 100%"
          }
        },
        "214ec83242094e88ad98cf6a6e4b3973": {
          "model_module": "@jupyter-widgets/controls",
          "model_name": "FloatProgressModel",
          "model_module_version": "1.5.0",
          "state": {
            "_dom_classes": [],
            "_model_module": "@jupyter-widgets/controls",
            "_model_module_version": "1.5.0",
            "_model_name": "FloatProgressModel",
            "_view_count": null,
            "_view_module": "@jupyter-widgets/controls",
            "_view_module_version": "1.5.0",
            "_view_name": "ProgressView",
            "bar_style": "success",
            "description": "",
            "description_tooltip": null,
            "layout": "IPY_MODEL_a289774ae1694091b7185c378a0c775a",
            "max": 7546,
            "min": 0,
            "orientation": "horizontal",
            "style": "IPY_MODEL_d767c1a23227444fa2f8b4fd5b7bed36",
            "value": 7546
          }
        },
        "e1d05bbe710e48d6964bec37f56fd097": {
          "model_module": "@jupyter-widgets/controls",
          "model_name": "HTMLModel",
          "model_module_version": "1.5.0",
          "state": {
            "_dom_classes": [],
            "_model_module": "@jupyter-widgets/controls",
            "_model_module_version": "1.5.0",
            "_model_name": "HTMLModel",
            "_view_count": null,
            "_view_module": "@jupyter-widgets/controls",
            "_view_module_version": "1.5.0",
            "_view_name": "HTMLView",
            "description": "",
            "description_tooltip": null,
            "layout": "IPY_MODEL_bb754a2a680841b2be2b295254e36511",
            "placeholder": "​",
            "style": "IPY_MODEL_af4e7b0e52474ce4a120131266c26e4f",
            "value": " 7.55k/7.55k [00:00&lt;00:00, 572kB/s]"
          }
        },
        "a6d02c1e6a074a2c8d3358bc9250e6c0": {
          "model_module": "@jupyter-widgets/base",
          "model_name": "LayoutModel",
          "model_module_version": "1.2.0",
          "state": {
            "_model_module": "@jupyter-widgets/base",
            "_model_module_version": "1.2.0",
            "_model_name": "LayoutModel",
            "_view_count": null,
            "_view_module": "@jupyter-widgets/base",
            "_view_module_version": "1.2.0",
            "_view_name": "LayoutView",
            "align_content": null,
            "align_items": null,
            "align_self": null,
            "border": null,
            "bottom": null,
            "display": null,
            "flex": null,
            "flex_flow": null,
            "grid_area": null,
            "grid_auto_columns": null,
            "grid_auto_flow": null,
            "grid_auto_rows": null,
            "grid_column": null,
            "grid_gap": null,
            "grid_row": null,
            "grid_template_areas": null,
            "grid_template_columns": null,
            "grid_template_rows": null,
            "height": null,
            "justify_content": null,
            "justify_items": null,
            "left": null,
            "margin": null,
            "max_height": null,
            "max_width": null,
            "min_height": null,
            "min_width": null,
            "object_fit": null,
            "object_position": null,
            "order": null,
            "overflow": null,
            "overflow_x": null,
            "overflow_y": null,
            "padding": null,
            "right": null,
            "top": null,
            "visibility": null,
            "width": null
          }
        },
        "e8df6b8852dc498ab9343fa80f90520a": {
          "model_module": "@jupyter-widgets/base",
          "model_name": "LayoutModel",
          "model_module_version": "1.2.0",
          "state": {
            "_model_module": "@jupyter-widgets/base",
            "_model_module_version": "1.2.0",
            "_model_name": "LayoutModel",
            "_view_count": null,
            "_view_module": "@jupyter-widgets/base",
            "_view_module_version": "1.2.0",
            "_view_name": "LayoutView",
            "align_content": null,
            "align_items": null,
            "align_self": null,
            "border": null,
            "bottom": null,
            "display": null,
            "flex": null,
            "flex_flow": null,
            "grid_area": null,
            "grid_auto_columns": null,
            "grid_auto_flow": null,
            "grid_auto_rows": null,
            "grid_column": null,
            "grid_gap": null,
            "grid_row": null,
            "grid_template_areas": null,
            "grid_template_columns": null,
            "grid_template_rows": null,
            "height": null,
            "justify_content": null,
            "justify_items": null,
            "left": null,
            "margin": null,
            "max_height": null,
            "max_width": null,
            "min_height": null,
            "min_width": null,
            "object_fit": null,
            "object_position": null,
            "order": null,
            "overflow": null,
            "overflow_x": null,
            "overflow_y": null,
            "padding": null,
            "right": null,
            "top": null,
            "visibility": null,
            "width": null
          }
        },
        "7e64214c18f445c09c622b0ba4c2aba1": {
          "model_module": "@jupyter-widgets/controls",
          "model_name": "DescriptionStyleModel",
          "model_module_version": "1.5.0",
          "state": {
            "_model_module": "@jupyter-widgets/controls",
            "_model_module_version": "1.5.0",
            "_model_name": "DescriptionStyleModel",
            "_view_count": null,
            "_view_module": "@jupyter-widgets/base",
            "_view_module_version": "1.2.0",
            "_view_name": "StyleView",
            "description_width": ""
          }
        },
        "a289774ae1694091b7185c378a0c775a": {
          "model_module": "@jupyter-widgets/base",
          "model_name": "LayoutModel",
          "model_module_version": "1.2.0",
          "state": {
            "_model_module": "@jupyter-widgets/base",
            "_model_module_version": "1.2.0",
            "_model_name": "LayoutModel",
            "_view_count": null,
            "_view_module": "@jupyter-widgets/base",
            "_view_module_version": "1.2.0",
            "_view_name": "LayoutView",
            "align_content": null,
            "align_items": null,
            "align_self": null,
            "border": null,
            "bottom": null,
            "display": null,
            "flex": null,
            "flex_flow": null,
            "grid_area": null,
            "grid_auto_columns": null,
            "grid_auto_flow": null,
            "grid_auto_rows": null,
            "grid_column": null,
            "grid_gap": null,
            "grid_row": null,
            "grid_template_areas": null,
            "grid_template_columns": null,
            "grid_template_rows": null,
            "height": null,
            "justify_content": null,
            "justify_items": null,
            "left": null,
            "margin": null,
            "max_height": null,
            "max_width": null,
            "min_height": null,
            "min_width": null,
            "object_fit": null,
            "object_position": null,
            "order": null,
            "overflow": null,
            "overflow_x": null,
            "overflow_y": null,
            "padding": null,
            "right": null,
            "top": null,
            "visibility": null,
            "width": null
          }
        },
        "d767c1a23227444fa2f8b4fd5b7bed36": {
          "model_module": "@jupyter-widgets/controls",
          "model_name": "ProgressStyleModel",
          "model_module_version": "1.5.0",
          "state": {
            "_model_module": "@jupyter-widgets/controls",
            "_model_module_version": "1.5.0",
            "_model_name": "ProgressStyleModel",
            "_view_count": null,
            "_view_module": "@jupyter-widgets/base",
            "_view_module_version": "1.2.0",
            "_view_name": "StyleView",
            "bar_color": null,
            "description_width": ""
          }
        },
        "bb754a2a680841b2be2b295254e36511": {
          "model_module": "@jupyter-widgets/base",
          "model_name": "LayoutModel",
          "model_module_version": "1.2.0",
          "state": {
            "_model_module": "@jupyter-widgets/base",
            "_model_module_version": "1.2.0",
            "_model_name": "LayoutModel",
            "_view_count": null,
            "_view_module": "@jupyter-widgets/base",
            "_view_module_version": "1.2.0",
            "_view_name": "LayoutView",
            "align_content": null,
            "align_items": null,
            "align_self": null,
            "border": null,
            "bottom": null,
            "display": null,
            "flex": null,
            "flex_flow": null,
            "grid_area": null,
            "grid_auto_columns": null,
            "grid_auto_flow": null,
            "grid_auto_rows": null,
            "grid_column": null,
            "grid_gap": null,
            "grid_row": null,
            "grid_template_areas": null,
            "grid_template_columns": null,
            "grid_template_rows": null,
            "height": null,
            "justify_content": null,
            "justify_items": null,
            "left": null,
            "margin": null,
            "max_height": null,
            "max_width": null,
            "min_height": null,
            "min_width": null,
            "object_fit": null,
            "object_position": null,
            "order": null,
            "overflow": null,
            "overflow_x": null,
            "overflow_y": null,
            "padding": null,
            "right": null,
            "top": null,
            "visibility": null,
            "width": null
          }
        },
        "af4e7b0e52474ce4a120131266c26e4f": {
          "model_module": "@jupyter-widgets/controls",
          "model_name": "DescriptionStyleModel",
          "model_module_version": "1.5.0",
          "state": {
            "_model_module": "@jupyter-widgets/controls",
            "_model_module_version": "1.5.0",
            "_model_name": "DescriptionStyleModel",
            "_view_count": null,
            "_view_module": "@jupyter-widgets/base",
            "_view_module_version": "1.2.0",
            "_view_name": "StyleView",
            "description_width": ""
          }
        },
        "7cd6efe3b06840bf8e8cd0a9103ab14a": {
          "model_module": "@jupyter-widgets/controls",
          "model_name": "HBoxModel",
          "model_module_version": "1.5.0",
          "state": {
            "_dom_classes": [],
            "_model_module": "@jupyter-widgets/controls",
            "_model_module_version": "1.5.0",
            "_model_name": "HBoxModel",
            "_view_count": null,
            "_view_module": "@jupyter-widgets/controls",
            "_view_module_version": "1.5.0",
            "_view_name": "HBoxView",
            "box_style": "",
            "children": [
              "IPY_MODEL_83972fa7bcb649e38074e28e42cc4acc",
              "IPY_MODEL_01a755bb5a514672ad7bc7b4bc0d487a",
              "IPY_MODEL_29337c68e8b54443b8209ce26a5c9e0b"
            ],
            "layout": "IPY_MODEL_1a12846264894ea9b313a44b188becec"
          }
        },
        "83972fa7bcb649e38074e28e42cc4acc": {
          "model_module": "@jupyter-widgets/controls",
          "model_name": "HTMLModel",
          "model_module_version": "1.5.0",
          "state": {
            "_dom_classes": [],
            "_model_module": "@jupyter-widgets/controls",
            "_model_module_version": "1.5.0",
            "_model_name": "HTMLModel",
            "_view_count": null,
            "_view_module": "@jupyter-widgets/controls",
            "_view_module_version": "1.5.0",
            "_view_name": "HTMLView",
            "description": "",
            "description_tooltip": null,
            "layout": "IPY_MODEL_6ec442922fd140bdbbaf8d1bd338fb3f",
            "placeholder": "​",
            "style": "IPY_MODEL_95b49aca8fbd4997a04d5f9cafbf474b",
            "value": "Downloading builder script: 100%"
          }
        },
        "01a755bb5a514672ad7bc7b4bc0d487a": {
          "model_module": "@jupyter-widgets/controls",
          "model_name": "FloatProgressModel",
          "model_module_version": "1.5.0",
          "state": {
            "_dom_classes": [],
            "_model_module": "@jupyter-widgets/controls",
            "_model_module_version": "1.5.0",
            "_model_name": "FloatProgressModel",
            "_view_count": null,
            "_view_module": "@jupyter-widgets/controls",
            "_view_module_version": "1.5.0",
            "_view_name": "ProgressView",
            "bar_style": "success",
            "description": "",
            "description_tooltip": null,
            "layout": "IPY_MODEL_2388867372bc45a0a3250cc8b4455f5b",
            "max": 7363,
            "min": 0,
            "orientation": "horizontal",
            "style": "IPY_MODEL_7ba268c862694c4a90420b0689d49301",
            "value": 7363
          }
        },
        "29337c68e8b54443b8209ce26a5c9e0b": {
          "model_module": "@jupyter-widgets/controls",
          "model_name": "HTMLModel",
          "model_module_version": "1.5.0",
          "state": {
            "_dom_classes": [],
            "_model_module": "@jupyter-widgets/controls",
            "_model_module_version": "1.5.0",
            "_model_name": "HTMLModel",
            "_view_count": null,
            "_view_module": "@jupyter-widgets/controls",
            "_view_module_version": "1.5.0",
            "_view_name": "HTMLView",
            "description": "",
            "description_tooltip": null,
            "layout": "IPY_MODEL_149ec2770d88466a8e7a6054464903e4",
            "placeholder": "​",
            "style": "IPY_MODEL_c950b24da00543598aeb6e7db052126f",
            "value": " 7.36k/7.36k [00:00&lt;00:00, 465kB/s]"
          }
        },
        "1a12846264894ea9b313a44b188becec": {
          "model_module": "@jupyter-widgets/base",
          "model_name": "LayoutModel",
          "model_module_version": "1.2.0",
          "state": {
            "_model_module": "@jupyter-widgets/base",
            "_model_module_version": "1.2.0",
            "_model_name": "LayoutModel",
            "_view_count": null,
            "_view_module": "@jupyter-widgets/base",
            "_view_module_version": "1.2.0",
            "_view_name": "LayoutView",
            "align_content": null,
            "align_items": null,
            "align_self": null,
            "border": null,
            "bottom": null,
            "display": null,
            "flex": null,
            "flex_flow": null,
            "grid_area": null,
            "grid_auto_columns": null,
            "grid_auto_flow": null,
            "grid_auto_rows": null,
            "grid_column": null,
            "grid_gap": null,
            "grid_row": null,
            "grid_template_areas": null,
            "grid_template_columns": null,
            "grid_template_rows": null,
            "height": null,
            "justify_content": null,
            "justify_items": null,
            "left": null,
            "margin": null,
            "max_height": null,
            "max_width": null,
            "min_height": null,
            "min_width": null,
            "object_fit": null,
            "object_position": null,
            "order": null,
            "overflow": null,
            "overflow_x": null,
            "overflow_y": null,
            "padding": null,
            "right": null,
            "top": null,
            "visibility": null,
            "width": null
          }
        },
        "6ec442922fd140bdbbaf8d1bd338fb3f": {
          "model_module": "@jupyter-widgets/base",
          "model_name": "LayoutModel",
          "model_module_version": "1.2.0",
          "state": {
            "_model_module": "@jupyter-widgets/base",
            "_model_module_version": "1.2.0",
            "_model_name": "LayoutModel",
            "_view_count": null,
            "_view_module": "@jupyter-widgets/base",
            "_view_module_version": "1.2.0",
            "_view_name": "LayoutView",
            "align_content": null,
            "align_items": null,
            "align_self": null,
            "border": null,
            "bottom": null,
            "display": null,
            "flex": null,
            "flex_flow": null,
            "grid_area": null,
            "grid_auto_columns": null,
            "grid_auto_flow": null,
            "grid_auto_rows": null,
            "grid_column": null,
            "grid_gap": null,
            "grid_row": null,
            "grid_template_areas": null,
            "grid_template_columns": null,
            "grid_template_rows": null,
            "height": null,
            "justify_content": null,
            "justify_items": null,
            "left": null,
            "margin": null,
            "max_height": null,
            "max_width": null,
            "min_height": null,
            "min_width": null,
            "object_fit": null,
            "object_position": null,
            "order": null,
            "overflow": null,
            "overflow_x": null,
            "overflow_y": null,
            "padding": null,
            "right": null,
            "top": null,
            "visibility": null,
            "width": null
          }
        },
        "95b49aca8fbd4997a04d5f9cafbf474b": {
          "model_module": "@jupyter-widgets/controls",
          "model_name": "DescriptionStyleModel",
          "model_module_version": "1.5.0",
          "state": {
            "_model_module": "@jupyter-widgets/controls",
            "_model_module_version": "1.5.0",
            "_model_name": "DescriptionStyleModel",
            "_view_count": null,
            "_view_module": "@jupyter-widgets/base",
            "_view_module_version": "1.2.0",
            "_view_name": "StyleView",
            "description_width": ""
          }
        },
        "2388867372bc45a0a3250cc8b4455f5b": {
          "model_module": "@jupyter-widgets/base",
          "model_name": "LayoutModel",
          "model_module_version": "1.2.0",
          "state": {
            "_model_module": "@jupyter-widgets/base",
            "_model_module_version": "1.2.0",
            "_model_name": "LayoutModel",
            "_view_count": null,
            "_view_module": "@jupyter-widgets/base",
            "_view_module_version": "1.2.0",
            "_view_name": "LayoutView",
            "align_content": null,
            "align_items": null,
            "align_self": null,
            "border": null,
            "bottom": null,
            "display": null,
            "flex": null,
            "flex_flow": null,
            "grid_area": null,
            "grid_auto_columns": null,
            "grid_auto_flow": null,
            "grid_auto_rows": null,
            "grid_column": null,
            "grid_gap": null,
            "grid_row": null,
            "grid_template_areas": null,
            "grid_template_columns": null,
            "grid_template_rows": null,
            "height": null,
            "justify_content": null,
            "justify_items": null,
            "left": null,
            "margin": null,
            "max_height": null,
            "max_width": null,
            "min_height": null,
            "min_width": null,
            "object_fit": null,
            "object_position": null,
            "order": null,
            "overflow": null,
            "overflow_x": null,
            "overflow_y": null,
            "padding": null,
            "right": null,
            "top": null,
            "visibility": null,
            "width": null
          }
        },
        "7ba268c862694c4a90420b0689d49301": {
          "model_module": "@jupyter-widgets/controls",
          "model_name": "ProgressStyleModel",
          "model_module_version": "1.5.0",
          "state": {
            "_model_module": "@jupyter-widgets/controls",
            "_model_module_version": "1.5.0",
            "_model_name": "ProgressStyleModel",
            "_view_count": null,
            "_view_module": "@jupyter-widgets/base",
            "_view_module_version": "1.2.0",
            "_view_name": "StyleView",
            "bar_color": null,
            "description_width": ""
          }
        },
        "149ec2770d88466a8e7a6054464903e4": {
          "model_module": "@jupyter-widgets/base",
          "model_name": "LayoutModel",
          "model_module_version": "1.2.0",
          "state": {
            "_model_module": "@jupyter-widgets/base",
            "_model_module_version": "1.2.0",
            "_model_name": "LayoutModel",
            "_view_count": null,
            "_view_module": "@jupyter-widgets/base",
            "_view_module_version": "1.2.0",
            "_view_name": "LayoutView",
            "align_content": null,
            "align_items": null,
            "align_self": null,
            "border": null,
            "bottom": null,
            "display": null,
            "flex": null,
            "flex_flow": null,
            "grid_area": null,
            "grid_auto_columns": null,
            "grid_auto_flow": null,
            "grid_auto_rows": null,
            "grid_column": null,
            "grid_gap": null,
            "grid_row": null,
            "grid_template_areas": null,
            "grid_template_columns": null,
            "grid_template_rows": null,
            "height": null,
            "justify_content": null,
            "justify_items": null,
            "left": null,
            "margin": null,
            "max_height": null,
            "max_width": null,
            "min_height": null,
            "min_width": null,
            "object_fit": null,
            "object_position": null,
            "order": null,
            "overflow": null,
            "overflow_x": null,
            "overflow_y": null,
            "padding": null,
            "right": null,
            "top": null,
            "visibility": null,
            "width": null
          }
        },
        "c950b24da00543598aeb6e7db052126f": {
          "model_module": "@jupyter-widgets/controls",
          "model_name": "DescriptionStyleModel",
          "model_module_version": "1.5.0",
          "state": {
            "_model_module": "@jupyter-widgets/controls",
            "_model_module_version": "1.5.0",
            "_model_name": "DescriptionStyleModel",
            "_view_count": null,
            "_view_module": "@jupyter-widgets/base",
            "_view_module_version": "1.2.0",
            "_view_name": "StyleView",
            "description_width": ""
          }
        }
      }
    }
  },
  "cells": [
    {
      "cell_type": "markdown",
      "metadata": {
        "id": "view-in-github",
        "colab_type": "text"
      },
      "source": [
        "<a href=\"https://colab.research.google.com/github/janvierk/MRP/blob/main/MRP_mBERT.ipynb\" target=\"_parent\"><img src=\"https://colab.research.google.com/assets/colab-badge.svg\" alt=\"Open In Colab\"/></a>"
      ]
    },
    {
      "cell_type": "code",
      "source": [
        "from google.colab import drive"
      ],
      "metadata": {
        "id": "yErlGAHoDnUV"
      },
      "execution_count": 1,
      "outputs": []
    },
    {
      "cell_type": "markdown",
      "source": [],
      "metadata": {
        "id": "e-Je-CsDgADE"
      }
    },
    {
      "cell_type": "code",
      "source": [
        "drive.mount('/content/drive')"
      ],
      "metadata": {
        "colab": {
          "base_uri": "https://localhost:8080/"
        },
        "id": "i34ozUvEDrdp",
        "outputId": "248a5604-b23d-47e3-a1ce-58e74ef7b92a"
      },
      "execution_count": 2,
      "outputs": [
        {
          "output_type": "stream",
          "name": "stdout",
          "text": [
            "Mounted at /content/drive\n"
          ]
        }
      ]
    },
    {
      "cell_type": "code",
      "source": [
        "import os"
      ],
      "metadata": {
        "id": "fuloZucOqyGX"
      },
      "execution_count": 3,
      "outputs": []
    },
    {
      "cell_type": "code",
      "source": [
        "os.chdir('/content/drive/MyDrive/MRP')"
      ],
      "metadata": {
        "id": "yc3Ngtx5Dwee"
      },
      "execution_count": 4,
      "outputs": []
    },
    {
      "cell_type": "code",
      "execution_count": 6,
      "metadata": {
        "id": "byB4_Y3HQj1p"
      },
      "outputs": [],
      "source": [
        "#installing requitred libries and supressing  the print-out\n",
        "#!pip install requests==2.31.0 --upgrade -q > NUL\n",
        "!pip install accelerate -U -q > NUL\n",
        "!pip install transformers -q > NUL\n",
        "!pip install torch -q > NUL\n",
        "#!pip install -U transformers -q >NULip install datasets -q > NUL\n",
        "!pip install tensorflow -q > NUL\n",
        "!pip install datasets -q > NUL\n",
        "!pip install evaluate -q > NUL"
      ]
    },
    {
      "cell_type": "code",
      "source": [],
      "metadata": {
        "id": "RCOOWOxqDlXh"
      },
      "execution_count": null,
      "outputs": []
    },
    {
      "cell_type": "code",
      "source": [
        "#Required packages and libries\n",
        "#Required packages and libries\n",
        "import pandas as pd\n",
        "import numpy as np\n",
        "import matplotlib.pyplot as plt\n",
        "from transformers import BertTokenizer\n",
        "from transformers import BertForSequenceClassification\n",
        "from transformers  import Trainer\n",
        "from transformers import TrainingArguments\n",
        "from transformers import XLMRobertaTokenizer\n",
        "from transformers import XLMRobertaForSequenceClassification\n",
        "from transformers import MT5ForConditionalGeneration\n",
        "from transformers import T5Tokenizer\n",
        "import seaborn as sn\n",
        "import matplotlib\n",
        "from transformers import AutoTokenizer, AutoModelForTokenClassification\n",
        "import transformers as tf\n",
        "import torch\n",
        "from datasets import load_dataset\n",
        "import datasets\n",
        "import  evaluate"
      ],
      "metadata": {
        "id": "ua7IrbmzBExm"
      },
      "execution_count": 7,
      "outputs": []
    },
    {
      "cell_type": "code",
      "source": [
        "#importing the clean dataset to train the model\n",
        "swahili_dat = pd.read_csv(\"swahili_clean.csv\")"
      ],
      "metadata": {
        "id": "woNvXOY84Lz9"
      },
      "execution_count": 8,
      "outputs": []
    },
    {
      "cell_type": "code",
      "source": [
        "english_dat = pd.read_csv(\"english_news_clean\")"
      ],
      "metadata": {
        "id": "rjOj6kyJN77P"
      },
      "execution_count": 9,
      "outputs": []
    },
    {
      "cell_type": "code",
      "source": [
        "english_dat.shape[0]"
      ],
      "metadata": {
        "colab": {
          "base_uri": "https://localhost:8080/"
        },
        "id": "Je6L_Sqhkz85",
        "outputId": "98b53ed0-fe30-4791-f6a5-f2973919acf9"
      },
      "execution_count": 10,
      "outputs": [
        {
          "output_type": "execute_result",
          "data": {
            "text/plain": [
              "29544"
            ]
          },
          "metadata": {},
          "execution_count": 10
        }
      ]
    },
    {
      "cell_type": "code",
      "source": [
        "swahili_dat.shape[0]"
      ],
      "metadata": {
        "id": "9WbVkMdZJyKN",
        "colab": {
          "base_uri": "https://localhost:8080/"
        },
        "outputId": "1c2e1def-e67e-475b-ea6f-ba299f7ed5ae"
      },
      "execution_count": 11,
      "outputs": [
        {
          "output_type": "execute_result",
          "data": {
            "text/plain": [
              "29544"
            ]
          },
          "metadata": {},
          "execution_count": 11
        }
      ]
    },
    {
      "cell_type": "code",
      "source": [
        "english_dat.shape[0]"
      ],
      "metadata": {
        "id": "rfbyM0YgJ5nx",
        "colab": {
          "base_uri": "https://localhost:8080/"
        },
        "outputId": "883a8eb2-ae80-48ef-f161-f96bcbbf115c"
      },
      "execution_count": 12,
      "outputs": [
        {
          "output_type": "execute_result",
          "data": {
            "text/plain": [
              "29544"
            ]
          },
          "metadata": {},
          "execution_count": 12
        }
      ]
    },
    {
      "cell_type": "code",
      "source": [
        "#shuffling the datasets\n",
        "swahili_dat= swahili_dat.sample(frac =1, random_state =42)\n",
        "english_dat = english_dat.sample(frac =1, random_state = 42)"
      ],
      "metadata": {
        "id": "EW-Ecsoi6QTD"
      },
      "execution_count": 13,
      "outputs": []
    },
    {
      "cell_type": "code",
      "source": [
        "english_dat.value_counts(\"label\")"
      ],
      "metadata": {
        "colab": {
          "base_uri": "https://localhost:8080/",
          "height": 272
        },
        "id": "9_EZ_SlBlZHQ",
        "outputId": "9b315854-3260-4cc0-f1bc-2f7b99be947a"
      },
      "execution_count": 14,
      "outputs": [
        {
          "output_type": "execute_result",
          "data": {
            "text/plain": [
              "label\n",
              "0    16000\n",
              "1    11720\n",
              "2      854\n",
              "3      557\n",
              "4      413\n",
              "Name: count, dtype: int64"
            ],
            "text/html": [
              "<div>\n",
              "<style scoped>\n",
              "    .dataframe tbody tr th:only-of-type {\n",
              "        vertical-align: middle;\n",
              "    }\n",
              "\n",
              "    .dataframe tbody tr th {\n",
              "        vertical-align: top;\n",
              "    }\n",
              "\n",
              "    .dataframe thead th {\n",
              "        text-align: right;\n",
              "    }\n",
              "</style>\n",
              "<table border=\"1\" class=\"dataframe\">\n",
              "  <thead>\n",
              "    <tr style=\"text-align: right;\">\n",
              "      <th></th>\n",
              "      <th>count</th>\n",
              "    </tr>\n",
              "    <tr>\n",
              "      <th>label</th>\n",
              "      <th></th>\n",
              "    </tr>\n",
              "  </thead>\n",
              "  <tbody>\n",
              "    <tr>\n",
              "      <th>0</th>\n",
              "      <td>16000</td>\n",
              "    </tr>\n",
              "    <tr>\n",
              "      <th>1</th>\n",
              "      <td>11720</td>\n",
              "    </tr>\n",
              "    <tr>\n",
              "      <th>2</th>\n",
              "      <td>854</td>\n",
              "    </tr>\n",
              "    <tr>\n",
              "      <th>3</th>\n",
              "      <td>557</td>\n",
              "    </tr>\n",
              "    <tr>\n",
              "      <th>4</th>\n",
              "      <td>413</td>\n",
              "    </tr>\n",
              "  </tbody>\n",
              "</table>\n",
              "</div><br><label><b>dtype:</b> int64</label>"
            ]
          },
          "metadata": {},
          "execution_count": 14
        }
      ]
    },
    {
      "cell_type": "code",
      "source": [
        "\n",
        "#creating a small swahili dataset"
      ],
      "metadata": {
        "id": "IM2Wkrwc5bOy"
      },
      "execution_count": null,
      "outputs": []
    },
    {
      "cell_type": "code",
      "source": [
        "#dividing swahili dataset for training, development and testing\n",
        "from sklearn.model_selection import train_test_split\n",
        "swahili_train, swahili_development = train_test_split(swahili_dat, test_size=0.4,  random_state = 42 )\n",
        "swahili_validation, swahili_testing = train_test_split(swahili_development, test_size = 0.5, random_state = 42)"
      ],
      "metadata": {
        "id": "5AEP8Gg3uNRQ"
      },
      "execution_count": 15,
      "outputs": []
    },
    {
      "cell_type": "code",
      "source": [
        "#resetting the index\n",
        "swahili_testing.reset_index(drop = True, inplace = True)\n",
        "swahili_validation.reset_index(drop = True, inplace = True)\n",
        "swahili_train.reset_index(drop = True, inplace = True)"
      ],
      "metadata": {
        "id": "_ohTCijFNI3b"
      },
      "execution_count": 16,
      "outputs": []
    },
    {
      "cell_type": "code",
      "source": [
        "#saving the dataset\n",
        "swahili_testing.to_csv(\"swahili_testing.csv\", index=False)\n",
        "swahili_train.to_csv(\"swahili_train.csv\", index =False)\n",
        "swahili_validation.to_csv(\"swahili_validation.csv\", index = False)"
      ],
      "metadata": {
        "id": "nWc7Br7TOn5v"
      },
      "execution_count": 17,
      "outputs": []
    },
    {
      "cell_type": "code",
      "source": [
        "#dividing cnn dataset for training, validation and testing\n",
        "english_train, english_development = train_test_split(english_dat, test_size=0.4,  random_state = 42 )\n",
        "english_validation, english_testing = train_test_split(english_development, test_size = 0.5, random_state = 42)"
      ],
      "metadata": {
        "id": "EynPPNBnMZar"
      },
      "execution_count": 18,
      "outputs": []
    },
    {
      "cell_type": "code",
      "source": [
        "#resetting the index\n",
        "english_testing.reset_index(drop = True, inplace = True)\n",
        "english_validation.reset_index(drop = True, inplace = True)\n",
        "english_train.reset_index(drop = True, inplace = True)"
      ],
      "metadata": {
        "id": "ZB7ThRSQNenw"
      },
      "execution_count": 19,
      "outputs": []
    },
    {
      "cell_type": "code",
      "source": [
        "#saving the english dataset\n",
        "english_testing.to_csv(\"english_testing.csv\", index=False)\n",
        "english_train.to_csv(\"english_train.csv\", index =False)\n",
        "english_validation.to_csv(\"english_validation.csv\", index = False)"
      ],
      "metadata": {
        "id": "payV-HxZN_ko"
      },
      "execution_count": 20,
      "outputs": []
    },
    {
      "cell_type": "code",
      "source": [
        "#Uisng Bert tokenizer for tokernization of the data\n",
        "tokenizer = BertTokenizer.from_pretrained(\"bert-base-multilingual-cased\")\n",
        "\n",
        "def tokenize_data(text):\n",
        "  return tokenizer(text,\n",
        "                   padding = \"max_length\",\n",
        "                   truncation = True,\n",
        "  )\n"
      ],
      "metadata": {
        "id": "D3GdBTq-usge",
        "colab": {
          "base_uri": "https://localhost:8080/",
          "height": 304,
          "referenced_widgets": [
            "4b73b914669f429bbb388e0e3cf76402",
            "c7899799c888404d901fd9e73b6789b6",
            "b051bc62c25444b4b4a8e1667e971a56",
            "233399666f8b484095a62b43303a7cc8",
            "ca51ed61d7b44b6abda53f34ced95dfc",
            "3f2f3b4570f5446aa11e242a3089cb49",
            "f032362fb2774a339d1fc01eaa9ef812",
            "00da78b2650c44b4a26c4f71e902786f",
            "8bd45d778ce84a14b555c4c5c8eefa0f",
            "b3cf48bd7cea47d3b59af2a4782710f0",
            "7448217273fe466a92c547225de59aaa",
            "94b15170d7504732a00820c3f2912684",
            "611934c22b794f81a491f23cbae076cc",
            "8fb40f5a166b4ca1b2dd39f524ecd352",
            "168ae8b76f944adf808b57432d4bcd36",
            "903d29da3cf3449eaaedf25954580b5f",
            "c0694ffe50b74e04be50b65249a101a4",
            "c40503708d304f6bac4825b8eb305a63",
            "04eec4fdb7594b61b8dfc0c3d740c9f7",
            "edb8f254476a400a8cfa95710cb5de0e",
            "32b8cdcf68ed48ef9f6c3733d480f61a",
            "bc44825e1d3d43f986a0da7a0ca5d12d",
            "4d87c4b65c66495582955ac397d60106",
            "f48fd36f0d9043f68f555e94ae171f51",
            "7d3cc31d40ec4b4581e716ada701fbbc",
            "97f442688dfe47a8bb2ac4662b03c80d",
            "22237a4c1860425fa0152a43acb1bf28",
            "e8c49bb8b97a49c39750c4cbd24b92ee",
            "1f630bba85e2453ab32b75ecdfe2fb27",
            "6c377b7a2723446188a57335e9d33f53",
            "cf51edcb78284a88b273cc8f6dc8bf59",
            "bac588138df7446b9bdd8fe61b1f0118",
            "756e2633cde040f2affb5ac9d25db2e5",
            "f4a1689ded744b939350f53fab8cd6b6",
            "582733eee92946aabcc862598f46a429",
            "6b32c1bc82134da7934656767ea72a9b",
            "a9e38616751e4a61b7f569db80050d85",
            "86b4d1db0745480eba7013c63f503a26",
            "3a3036fb7936436cbcd0aaae4d65b6f0",
            "14072447c90d45ebbc080b0f5990312d",
            "228d1e0deb7541bfb764fbdf959c92bd",
            "186311ed9ff44e6a812024f74f445439",
            "b21bee20bb024afd86f1969bf3698782",
            "6c859eb51d7f445b9c9d81cdb4bfa524"
          ]
        },
        "outputId": "87ac26e8-3e69-4703-86d5-2b75d4bcba58"
      },
      "execution_count": 21,
      "outputs": [
        {
          "output_type": "stream",
          "name": "stderr",
          "text": [
            "/usr/local/lib/python3.10/dist-packages/huggingface_hub/utils/_token.py:89: UserWarning: \n",
            "The secret `HF_TOKEN` does not exist in your Colab secrets.\n",
            "To authenticate with the Hugging Face Hub, create a token in your settings tab (https://huggingface.co/settings/tokens), set it as secret in your Google Colab and restart your session.\n",
            "You will be able to reuse this secret in all of your notebooks.\n",
            "Please note that authentication is recommended but still optional to access public models or datasets.\n",
            "  warnings.warn(\n"
          ]
        },
        {
          "output_type": "display_data",
          "data": {
            "text/plain": [
              "tokenizer_config.json:   0%|          | 0.00/49.0 [00:00<?, ?B/s]"
            ],
            "application/vnd.jupyter.widget-view+json": {
              "version_major": 2,
              "version_minor": 0,
              "model_id": "4b73b914669f429bbb388e0e3cf76402"
            }
          },
          "metadata": {}
        },
        {
          "output_type": "display_data",
          "data": {
            "text/plain": [
              "vocab.txt:   0%|          | 0.00/996k [00:00<?, ?B/s]"
            ],
            "application/vnd.jupyter.widget-view+json": {
              "version_major": 2,
              "version_minor": 0,
              "model_id": "94b15170d7504732a00820c3f2912684"
            }
          },
          "metadata": {}
        },
        {
          "output_type": "display_data",
          "data": {
            "text/plain": [
              "tokenizer.json:   0%|          | 0.00/1.96M [00:00<?, ?B/s]"
            ],
            "application/vnd.jupyter.widget-view+json": {
              "version_major": 2,
              "version_minor": 0,
              "model_id": "4d87c4b65c66495582955ac397d60106"
            }
          },
          "metadata": {}
        },
        {
          "output_type": "display_data",
          "data": {
            "text/plain": [
              "config.json:   0%|          | 0.00/625 [00:00<?, ?B/s]"
            ],
            "application/vnd.jupyter.widget-view+json": {
              "version_major": 2,
              "version_minor": 0,
              "model_id": "f4a1689ded744b939350f53fab8cd6b6"
            }
          },
          "metadata": {}
        },
        {
          "output_type": "stream",
          "name": "stderr",
          "text": [
            "/usr/local/lib/python3.10/dist-packages/transformers/tokenization_utils_base.py:1601: FutureWarning: `clean_up_tokenization_spaces` was not set. It will be set to `True` by default. This behavior will be depracted in transformers v4.45, and will be then set to `False` by default. For more details check this issue: https://github.com/huggingface/transformers/issues/31884\n",
            "  warnings.warn(\n"
          ]
        }
      ]
    },
    {
      "cell_type": "code",
      "source": [
        "#tokenizing swahili data\n",
        "tokenized_swahili_train =  swahili_train[\"text\"].apply(tokenize_data)\n",
        "tokenized_swahili_validation = swahili_validation[\"text\"].apply(tokenize_data)\n",
        "tokenized_swahili_testing = swahili_testing[\"text\"].apply(tokenize_data)"
      ],
      "metadata": {
        "id": "aQcCVgTCyDdp"
      },
      "execution_count": 22,
      "outputs": []
    },
    {
      "cell_type": "code",
      "source": [
        "#tokenizing english data\n",
        "tokenized_english_train =  english_train[\"text\"].apply(tokenize_data)\n",
        "tokenized_english_validation = english_validation[\"text\"].apply(tokenize_data)\n",
        "tokenized_english_testing = english_testing[\"text\"].apply(tokenize_data)"
      ],
      "metadata": {
        "id": "U1pBBNIPQEb-"
      },
      "execution_count": 23,
      "outputs": []
    },
    {
      "cell_type": "code",
      "source": [
        "#checking if the text has been tokenized accordingly\n",
        "for i in range(3):\n",
        "    print(f\"Tokenized entry {i+1}:\")\n",
        "    print(f\"Input IDs: {tokenized_swahili_train.iloc[i]['input_ids']}\")\n",
        "    print(f\"Token Type IDs: {tokenized_swahili_train.iloc[i]['token_type_ids']}\")\n",
        "    print(f\"Attention Mask: {tokenized_swahili_train.iloc[i]['attention_mask']}\")\n",
        "    print(\"\\n\")"
      ],
      "metadata": {
        "colab": {
          "base_uri": "https://localhost:8080/"
        },
        "id": "LBclcUXAQDez",
        "outputId": "93903ec4-d67c-41c9-d922-1ec6cd958e77"
      },
      "execution_count": 24,
      "outputs": [
        {
          "output_type": "stream",
          "name": "stdout",
          "text": [
            "Tokenized entry 1:\n",
            "Input IDs: [101, 28941, 18845, 10116, 18939, 103695, 10537, 10879, 69553, 26127, 10113, 14876, 10465, 19502, 10133, 15176, 12589, 10879, 69553, 13024, 10381, 10113, 10879, 35481, 37861, 10113, 99946, 10401, 107591, 20338, 10132, 10883, 16423, 10908, 28532, 52866, 95342, 10549, 106306, 11044, 10109, 44795, 15914, 15529, 10133, 13171, 10559, 102161, 11471, 69553, 11952, 76372, 13723, 58671, 11471, 21511, 14590, 11037, 39796, 10549, 11856, 14383, 64470, 13605, 10133, 33376, 10219, 10132, 106712, 10550, 10133, 10549, 10911, 12806, 10549, 23605, 10116, 10549, 10148, 10246, 10549, 123, 118, 123, 28532, 158, 14394, 10320, 11471, 25633, 13369, 117, 35368, 119, 13026, 28167, 11471, 12865, 49581, 11460, 10228, 10133, 117, 11118, 10820, 10392, 13565, 10369, 117, 11471, 41947, 78314, 19830, 82125, 10113, 14876, 18089, 15694, 23661, 86137, 13133, 11282, 13605, 10133, 14266, 15694, 37583, 12177, 10113, 189, 81111, 10775, 11471, 10133, 11471, 75459, 10376, 11037, 11471, 32874, 49869, 10138, 92287, 43197, 84381, 10559, 102161, 11471, 21986, 13196, 108285, 15694, 39493, 10371, 10132, 12331, 10116, 12555, 10216, 10244, 10339, 10911, 12806, 10150, 11471, 95340, 45717, 28128, 10921, 10730, 22491, 10549, 15694, 110712, 53036, 14266, 25712, 75131, 119, 100, 12148, 10761, 10113, 53100, 100962, 10213, 10775, 15694, 95610, 86137, 13133, 11282, 57069, 14876, 18089, 36873, 10113, 23559, 10153, 15343, 15938, 10113, 13055, 66573, 78361, 10132, 19626, 21840, 20897, 13743, 25712, 13055, 14266, 75131, 10109, 85583, 13055, 12577, 10550, 10743, 67000, 10138, 10941, 10991, 12555, 10216, 10228, 11359, 10132, 58628, 100086, 10113, 42231, 15694, 13318, 10921, 15694, 46704, 20897, 23315, 53100, 14875, 10605, 10371, 10132, 12331, 10116, 12555, 10216, 10244, 57087, 95340, 45717, 10506, 11959, 15694, 33494, 10113, 75459, 10376, 11037, 12517, 10134, 43006, 10449, 117, 100, 10392, 13565, 10369, 10820, 119, 95101, 16326, 10132, 13605, 10133, 117, 10820, 12134, 12739, 10637, 26979, 11803, 90804, 10676, 10824, 12096, 51744, 13605, 10133, 14266, 107928, 38501, 10390, 10730, 22491, 10549, 21388, 10758, 15694, 23661, 56847, 12438, 11645, 10549, 15694, 10775, 47673, 10113, 172, 108047, 10549, 19604, 10138, 10549, 151, 24813, 11044, 150, 10775, 11471, 30771, 15192, 45401, 10280, 15694, 11119, 10637, 21537, 10133, 10780, 124, 117, 24296, 84381, 13743, 12944, 17714, 10109, 86627, 85795, 88282, 10342, 151, 24813, 11044, 119, 13026, 28167, 33901, 10133, 39842, 12134, 17496, 10280, 56985, 19830, 82125, 10113, 14266, 11252, 12964, 11471, 10133, 150, 29731, 34849, 117, 11609, 66161, 11236, 10246, 10559, 56621, 18812, 35474, 27005, 15694, 17942, 31460, 68257, 74461, 37861, 10113, 158, 29731, 34849, 12134, 48349, 19584, 10229, 14266, 14047, 13784, 10549, 14876, 10465, 19502, 10133, 10824, 20758, 12675, 14876, 18089, 82043, 10549, 15694, 110712, 53036, 14266, 10911, 12806, 89029, 172, 108047, 10549, 16423, 10908, 119, 100, 15318, 10138, 10271, 18073, 15414, 12438, 82294, 45031, 25799, 10991, 113, 21388, 10758, 114, 10132, 100431, 11471, 11119, 84269, 10116, 87127, 11471, 13520, 19604, 10138, 10339, 12815, 13369, 117, 11803, 104596, 72244, 10132, 19604, 10138, 14876, 18089, 82043, 10549, 15694, 110712, 10637, 36171, 36811, 10138, 89029, 13743, 19604, 10138, 10339, 10133, 10339, 12815, 13369, 11959, 15694, 27980, 12536, 10921, 28859, 10797, 43064, 14266, 189, 24049, 14553, 99932, 20664, 11037, 119, 100, 48024, 10113, 11252, 12964, 66161, 11236, 10246, 53100, 68192, 62310, 10113, 21695, 17942, 31460, 21388, 10758, 113, 68257, 114, 102]\n",
            "Token Type IDs: [0, 0, 0, 0, 0, 0, 0, 0, 0, 0, 0, 0, 0, 0, 0, 0, 0, 0, 0, 0, 0, 0, 0, 0, 0, 0, 0, 0, 0, 0, 0, 0, 0, 0, 0, 0, 0, 0, 0, 0, 0, 0, 0, 0, 0, 0, 0, 0, 0, 0, 0, 0, 0, 0, 0, 0, 0, 0, 0, 0, 0, 0, 0, 0, 0, 0, 0, 0, 0, 0, 0, 0, 0, 0, 0, 0, 0, 0, 0, 0, 0, 0, 0, 0, 0, 0, 0, 0, 0, 0, 0, 0, 0, 0, 0, 0, 0, 0, 0, 0, 0, 0, 0, 0, 0, 0, 0, 0, 0, 0, 0, 0, 0, 0, 0, 0, 0, 0, 0, 0, 0, 0, 0, 0, 0, 0, 0, 0, 0, 0, 0, 0, 0, 0, 0, 0, 0, 0, 0, 0, 0, 0, 0, 0, 0, 0, 0, 0, 0, 0, 0, 0, 0, 0, 0, 0, 0, 0, 0, 0, 0, 0, 0, 0, 0, 0, 0, 0, 0, 0, 0, 0, 0, 0, 0, 0, 0, 0, 0, 0, 0, 0, 0, 0, 0, 0, 0, 0, 0, 0, 0, 0, 0, 0, 0, 0, 0, 0, 0, 0, 0, 0, 0, 0, 0, 0, 0, 0, 0, 0, 0, 0, 0, 0, 0, 0, 0, 0, 0, 0, 0, 0, 0, 0, 0, 0, 0, 0, 0, 0, 0, 0, 0, 0, 0, 0, 0, 0, 0, 0, 0, 0, 0, 0, 0, 0, 0, 0, 0, 0, 0, 0, 0, 0, 0, 0, 0, 0, 0, 0, 0, 0, 0, 0, 0, 0, 0, 0, 0, 0, 0, 0, 0, 0, 0, 0, 0, 0, 0, 0, 0, 0, 0, 0, 0, 0, 0, 0, 0, 0, 0, 0, 0, 0, 0, 0, 0, 0, 0, 0, 0, 0, 0, 0, 0, 0, 0, 0, 0, 0, 0, 0, 0, 0, 0, 0, 0, 0, 0, 0, 0, 0, 0, 0, 0, 0, 0, 0, 0, 0, 0, 0, 0, 0, 0, 0, 0, 0, 0, 0, 0, 0, 0, 0, 0, 0, 0, 0, 0, 0, 0, 0, 0, 0, 0, 0, 0, 0, 0, 0, 0, 0, 0, 0, 0, 0, 0, 0, 0, 0, 0, 0, 0, 0, 0, 0, 0, 0, 0, 0, 0, 0, 0, 0, 0, 0, 0, 0, 0, 0, 0, 0, 0, 0, 0, 0, 0, 0, 0, 0, 0, 0, 0, 0, 0, 0, 0, 0, 0, 0, 0, 0, 0, 0, 0, 0, 0, 0, 0, 0, 0, 0, 0, 0, 0, 0, 0, 0, 0, 0, 0, 0, 0, 0, 0, 0, 0, 0, 0, 0, 0, 0, 0, 0, 0, 0, 0, 0, 0, 0, 0, 0, 0, 0, 0, 0, 0, 0, 0, 0, 0, 0, 0, 0, 0, 0, 0, 0, 0, 0, 0, 0, 0, 0, 0, 0, 0, 0, 0, 0, 0, 0, 0, 0, 0, 0, 0, 0, 0, 0, 0, 0, 0, 0, 0, 0, 0, 0, 0, 0, 0, 0, 0, 0, 0, 0, 0, 0, 0, 0, 0, 0]\n",
            "Attention Mask: [1, 1, 1, 1, 1, 1, 1, 1, 1, 1, 1, 1, 1, 1, 1, 1, 1, 1, 1, 1, 1, 1, 1, 1, 1, 1, 1, 1, 1, 1, 1, 1, 1, 1, 1, 1, 1, 1, 1, 1, 1, 1, 1, 1, 1, 1, 1, 1, 1, 1, 1, 1, 1, 1, 1, 1, 1, 1, 1, 1, 1, 1, 1, 1, 1, 1, 1, 1, 1, 1, 1, 1, 1, 1, 1, 1, 1, 1, 1, 1, 1, 1, 1, 1, 1, 1, 1, 1, 1, 1, 1, 1, 1, 1, 1, 1, 1, 1, 1, 1, 1, 1, 1, 1, 1, 1, 1, 1, 1, 1, 1, 1, 1, 1, 1, 1, 1, 1, 1, 1, 1, 1, 1, 1, 1, 1, 1, 1, 1, 1, 1, 1, 1, 1, 1, 1, 1, 1, 1, 1, 1, 1, 1, 1, 1, 1, 1, 1, 1, 1, 1, 1, 1, 1, 1, 1, 1, 1, 1, 1, 1, 1, 1, 1, 1, 1, 1, 1, 1, 1, 1, 1, 1, 1, 1, 1, 1, 1, 1, 1, 1, 1, 1, 1, 1, 1, 1, 1, 1, 1, 1, 1, 1, 1, 1, 1, 1, 1, 1, 1, 1, 1, 1, 1, 1, 1, 1, 1, 1, 1, 1, 1, 1, 1, 1, 1, 1, 1, 1, 1, 1, 1, 1, 1, 1, 1, 1, 1, 1, 1, 1, 1, 1, 1, 1, 1, 1, 1, 1, 1, 1, 1, 1, 1, 1, 1, 1, 1, 1, 1, 1, 1, 1, 1, 1, 1, 1, 1, 1, 1, 1, 1, 1, 1, 1, 1, 1, 1, 1, 1, 1, 1, 1, 1, 1, 1, 1, 1, 1, 1, 1, 1, 1, 1, 1, 1, 1, 1, 1, 1, 1, 1, 1, 1, 1, 1, 1, 1, 1, 1, 1, 1, 1, 1, 1, 1, 1, 1, 1, 1, 1, 1, 1, 1, 1, 1, 1, 1, 1, 1, 1, 1, 1, 1, 1, 1, 1, 1, 1, 1, 1, 1, 1, 1, 1, 1, 1, 1, 1, 1, 1, 1, 1, 1, 1, 1, 1, 1, 1, 1, 1, 1, 1, 1, 1, 1, 1, 1, 1, 1, 1, 1, 1, 1, 1, 1, 1, 1, 1, 1, 1, 1, 1, 1, 1, 1, 1, 1, 1, 1, 1, 1, 1, 1, 1, 1, 1, 1, 1, 1, 1, 1, 1, 1, 1, 1, 1, 1, 1, 1, 1, 1, 1, 1, 1, 1, 1, 1, 1, 1, 1, 1, 1, 1, 1, 1, 1, 1, 1, 1, 1, 1, 1, 1, 1, 1, 1, 1, 1, 1, 1, 1, 1, 1, 1, 1, 1, 1, 1, 1, 1, 1, 1, 1, 1, 1, 1, 1, 1, 1, 1, 1, 1, 1, 1, 1, 1, 1, 1, 1, 1, 1, 1, 1, 1, 1, 1, 1, 1, 1, 1, 1, 1, 1, 1, 1, 1, 1, 1, 1, 1, 1, 1, 1, 1, 1, 1, 1, 1, 1, 1, 1, 1, 1, 1, 1, 1, 1, 1, 1, 1, 1, 1, 1, 1, 1, 1, 1, 1, 1, 1, 1]\n",
            "\n",
            "\n",
            "Tokenized entry 2:\n",
            "Input IDs: [101, 148, 62674, 51036, 11733, 36789, 181, 11119, 12096, 11471, 32874, 49869, 10138, 22580, 95901, 46488, 10549, 11951, 66436, 10775, 150, 10537, 10133, 11529, 10132, 18837, 10113, 117, 10824, 10440, 12964, 11471, 19604, 10138, 17847, 11471, 65153, 65970, 11335, 117, 105342, 10366, 16326, 17657, 33738, 15385, 58074, 10113, 10132, 19626, 102482, 119, 150, 11119, 12096, 26506, 10133, 11735, 41944, 10305, 11037, 68257, 13743, 158, 14394, 10320, 11471, 25294, 11517, 28941, 12659, 10537, 18028, 69513, 10228, 11359, 117, 10559, 102161, 53301, 10549, 181, 83648, 10758, 19604, 10138, 17847, 57087, 69553, 29280, 35526, 117, 18837, 10113, 11959, 24049, 20897, 11037, 15385, 58074, 10113, 10132, 19626, 102482, 11471, 88485, 14875, 123, 118, 122, 117, 12322, 11037, 10414, 53301, 10549, 57294, 19604, 10138, 75131, 58628, 10213, 19626, 102482, 172, 108047, 10549, 150, 10537, 10133, 11529, 119, 93026, 28726, 10465, 10637, 10132, 34055, 16490, 48989, 10116, 61450, 11471, 10824, 12096, 51744, 89029, 63923, 10113, 28532, 158, 14394, 10320, 11471, 42541, 96760, 10219, 117, 23921, 10113, 28079, 23804, 11471, 18837, 10113, 117, 150, 24748, 13641, 14074, 73995, 12134, 38443, 10113, 19604, 10138, 28766, 177, 13520, 21151, 13091, 10132, 44101, 108047, 58628, 100086, 10113, 11959, 58628, 10213, 106712, 10550, 10133, 13743, 181, 11119, 12096, 26506, 10133, 119, 100, 100, 15318, 10138, 21833, 10138, 19960, 103007, 12322, 24623, 13784, 10371, 15176, 12589, 181, 11119, 12096, 11471, 57294, 172, 108047, 10549, 155, 67000, 10138, 85150, 10132, 17802, 11119, 10637, 190, 12871, 10369, 172, 108047, 10549, 85889, 11457, 117, 100, 12134, 38443, 10113, 14074, 73995, 119, 13518, 38443, 10113, 14266, 10148, 10466, 91705, 11037, 18812, 46704, 20897, 23315, 14753, 19334, 11471, 10219, 15343, 65627, 10637, 52866, 12715, 10133, 89029, 11471, 57992, 11008, 31380, 15694, 46704, 20897, 23315, 19604, 10138, 28766, 22944, 87373, 77008, 10879, 24238, 10133, 18939, 189, 11119, 84269, 10116, 11471, 10133, 119, 13518, 100962, 10703, 15694, 62808, 48439, 10113, 16963, 10113, 11471, 17298, 58319, 11471, 10133, 150, 10537, 10133, 11529, 77007, 10113, 118, 190, 15594, 11119, 10637, 13743, 181, 11119, 12096, 11471, 10133, 11471, 68257, 117, 58671, 44101, 108047, 11803, 41944, 10637, 190, 12871, 10369, 10132, 15694, 46704, 20897, 23315, 11471, 32191, 58074, 10113, 10132, 19626, 102482, 13743, 181, 11119, 12096, 26506, 10133, 119, 48511, 10741, 17617, 35432, 117, 11252, 12964, 92287, 39522, 42985, 11471, 19604, 10138, 10549, 150, 10537, 10133, 11529, 117, 23642, 50164, 10896, 55660, 12134, 38443, 10113, 19604, 10138, 28766, 19960, 10775, 54774, 10113, 190, 12871, 10369, 15694, 46704, 20897, 23315, 22944, 11359, 100086, 10113, 181, 103208, 32552, 10371, 10549, 181, 83648, 10758, 11959, 58628, 10213, 19626, 102482, 119, 13518, 38443, 10113, 35943, 14212, 13250, 29665, 11924, 15694, 102500, 11233, 181, 11119, 12096, 26506, 10133, 10132, 11471, 11119, 84269, 10116, 35432, 11471, 13520, 13743, 66271, 182, 63934, 10116, 119, 13518, 38443, 10113, 18812, 11037, 106844, 11471, 42241, 10132, 52507, 11282, 11471, 29509, 10113, 11471, 19604, 10138, 10549, 150, 10537, 10133, 11529, 11471, 47817, 37861, 10870, 14266, 22571, 10116, 15385, 11359, 82427, 23841, 19604, 10138, 89029, 119, 150, 10537, 10133, 22944, 15594, 40501, 37249, 11037, 10132, 25444, 98443, 10342, 10549, 144, 11565, 89563, 10107, 177, 13520, 13743, 10132, 86108, 10549, 10193, 12322, 11037, 10132, 12331, 10116, 10148, 102]\n",
            "Token Type IDs: [0, 0, 0, 0, 0, 0, 0, 0, 0, 0, 0, 0, 0, 0, 0, 0, 0, 0, 0, 0, 0, 0, 0, 0, 0, 0, 0, 0, 0, 0, 0, 0, 0, 0, 0, 0, 0, 0, 0, 0, 0, 0, 0, 0, 0, 0, 0, 0, 0, 0, 0, 0, 0, 0, 0, 0, 0, 0, 0, 0, 0, 0, 0, 0, 0, 0, 0, 0, 0, 0, 0, 0, 0, 0, 0, 0, 0, 0, 0, 0, 0, 0, 0, 0, 0, 0, 0, 0, 0, 0, 0, 0, 0, 0, 0, 0, 0, 0, 0, 0, 0, 0, 0, 0, 0, 0, 0, 0, 0, 0, 0, 0, 0, 0, 0, 0, 0, 0, 0, 0, 0, 0, 0, 0, 0, 0, 0, 0, 0, 0, 0, 0, 0, 0, 0, 0, 0, 0, 0, 0, 0, 0, 0, 0, 0, 0, 0, 0, 0, 0, 0, 0, 0, 0, 0, 0, 0, 0, 0, 0, 0, 0, 0, 0, 0, 0, 0, 0, 0, 0, 0, 0, 0, 0, 0, 0, 0, 0, 0, 0, 0, 0, 0, 0, 0, 0, 0, 0, 0, 0, 0, 0, 0, 0, 0, 0, 0, 0, 0, 0, 0, 0, 0, 0, 0, 0, 0, 0, 0, 0, 0, 0, 0, 0, 0, 0, 0, 0, 0, 0, 0, 0, 0, 0, 0, 0, 0, 0, 0, 0, 0, 0, 0, 0, 0, 0, 0, 0, 0, 0, 0, 0, 0, 0, 0, 0, 0, 0, 0, 0, 0, 0, 0, 0, 0, 0, 0, 0, 0, 0, 0, 0, 0, 0, 0, 0, 0, 0, 0, 0, 0, 0, 0, 0, 0, 0, 0, 0, 0, 0, 0, 0, 0, 0, 0, 0, 0, 0, 0, 0, 0, 0, 0, 0, 0, 0, 0, 0, 0, 0, 0, 0, 0, 0, 0, 0, 0, 0, 0, 0, 0, 0, 0, 0, 0, 0, 0, 0, 0, 0, 0, 0, 0, 0, 0, 0, 0, 0, 0, 0, 0, 0, 0, 0, 0, 0, 0, 0, 0, 0, 0, 0, 0, 0, 0, 0, 0, 0, 0, 0, 0, 0, 0, 0, 0, 0, 0, 0, 0, 0, 0, 0, 0, 0, 0, 0, 0, 0, 0, 0, 0, 0, 0, 0, 0, 0, 0, 0, 0, 0, 0, 0, 0, 0, 0, 0, 0, 0, 0, 0, 0, 0, 0, 0, 0, 0, 0, 0, 0, 0, 0, 0, 0, 0, 0, 0, 0, 0, 0, 0, 0, 0, 0, 0, 0, 0, 0, 0, 0, 0, 0, 0, 0, 0, 0, 0, 0, 0, 0, 0, 0, 0, 0, 0, 0, 0, 0, 0, 0, 0, 0, 0, 0, 0, 0, 0, 0, 0, 0, 0, 0, 0, 0, 0, 0, 0, 0, 0, 0, 0, 0, 0, 0, 0, 0, 0, 0, 0, 0, 0, 0, 0, 0, 0, 0, 0, 0, 0, 0, 0, 0, 0, 0, 0, 0, 0, 0, 0, 0, 0, 0, 0, 0, 0, 0, 0, 0, 0, 0, 0, 0, 0, 0, 0, 0, 0, 0, 0, 0, 0, 0, 0]\n",
            "Attention Mask: [1, 1, 1, 1, 1, 1, 1, 1, 1, 1, 1, 1, 1, 1, 1, 1, 1, 1, 1, 1, 1, 1, 1, 1, 1, 1, 1, 1, 1, 1, 1, 1, 1, 1, 1, 1, 1, 1, 1, 1, 1, 1, 1, 1, 1, 1, 1, 1, 1, 1, 1, 1, 1, 1, 1, 1, 1, 1, 1, 1, 1, 1, 1, 1, 1, 1, 1, 1, 1, 1, 1, 1, 1, 1, 1, 1, 1, 1, 1, 1, 1, 1, 1, 1, 1, 1, 1, 1, 1, 1, 1, 1, 1, 1, 1, 1, 1, 1, 1, 1, 1, 1, 1, 1, 1, 1, 1, 1, 1, 1, 1, 1, 1, 1, 1, 1, 1, 1, 1, 1, 1, 1, 1, 1, 1, 1, 1, 1, 1, 1, 1, 1, 1, 1, 1, 1, 1, 1, 1, 1, 1, 1, 1, 1, 1, 1, 1, 1, 1, 1, 1, 1, 1, 1, 1, 1, 1, 1, 1, 1, 1, 1, 1, 1, 1, 1, 1, 1, 1, 1, 1, 1, 1, 1, 1, 1, 1, 1, 1, 1, 1, 1, 1, 1, 1, 1, 1, 1, 1, 1, 1, 1, 1, 1, 1, 1, 1, 1, 1, 1, 1, 1, 1, 1, 1, 1, 1, 1, 1, 1, 1, 1, 1, 1, 1, 1, 1, 1, 1, 1, 1, 1, 1, 1, 1, 1, 1, 1, 1, 1, 1, 1, 1, 1, 1, 1, 1, 1, 1, 1, 1, 1, 1, 1, 1, 1, 1, 1, 1, 1, 1, 1, 1, 1, 1, 1, 1, 1, 1, 1, 1, 1, 1, 1, 1, 1, 1, 1, 1, 1, 1, 1, 1, 1, 1, 1, 1, 1, 1, 1, 1, 1, 1, 1, 1, 1, 1, 1, 1, 1, 1, 1, 1, 1, 1, 1, 1, 1, 1, 1, 1, 1, 1, 1, 1, 1, 1, 1, 1, 1, 1, 1, 1, 1, 1, 1, 1, 1, 1, 1, 1, 1, 1, 1, 1, 1, 1, 1, 1, 1, 1, 1, 1, 1, 1, 1, 1, 1, 1, 1, 1, 1, 1, 1, 1, 1, 1, 1, 1, 1, 1, 1, 1, 1, 1, 1, 1, 1, 1, 1, 1, 1, 1, 1, 1, 1, 1, 1, 1, 1, 1, 1, 1, 1, 1, 1, 1, 1, 1, 1, 1, 1, 1, 1, 1, 1, 1, 1, 1, 1, 1, 1, 1, 1, 1, 1, 1, 1, 1, 1, 1, 1, 1, 1, 1, 1, 1, 1, 1, 1, 1, 1, 1, 1, 1, 1, 1, 1, 1, 1, 1, 1, 1, 1, 1, 1, 1, 1, 1, 1, 1, 1, 1, 1, 1, 1, 1, 1, 1, 1, 1, 1, 1, 1, 1, 1, 1, 1, 1, 1, 1, 1, 1, 1, 1, 1, 1, 1, 1, 1, 1, 1, 1, 1, 1, 1, 1, 1, 1, 1, 1, 1, 1, 1, 1, 1, 1, 1, 1, 1, 1, 1, 1, 1, 1, 1, 1, 1, 1, 1, 1, 1, 1, 1, 1, 1, 1, 1, 1, 1, 1, 1, 1, 1, 1, 1, 1, 1, 1, 1, 1, 1]\n",
            "\n",
            "\n",
            "Tokenized entry 3:\n",
            "Input IDs: [101, 10685, 27042, 41275, 58730, 64091, 11281, 160, 52338, 12022, 17421, 38850, 42031, 35976, 77864, 10549, 25694, 11477, 10339, 28941, 47337, 37534, 11233, 10594, 77864, 15694, 104693, 10116, 189, 12577, 12096, 11471, 10133, 10879, 14601, 40501, 119, 13740, 11359, 15359, 14013, 23315, 26979, 10132, 10594, 38989, 10549, 52758, 117, 15688, 10537, 10132, 11803, 19235, 119, 160, 98234, 40849, 11471, 13996, 18089, 21777, 15300, 119, 15746, 10921, 10549, 16963, 10113, 55155, 40678, 18696, 24345, 77155, 10132, 66271, 10549, 10437, 11401, 10342, 11471, 10879, 75990, 14266, 15688, 46314, 10116, 10549, 10594, 10941, 10991, 119, 51082, 10138, 92276, 11471, 14497, 59094, 10113, 10614, 10921, 57069, 11471, 35201, 74675, 177, 13520, 107928, 10549, 58715, 10921, 117, 58671, 25694, 11790, 48989, 10116, 10414, 75980, 11717, 15385, 23315, 12322, 11037, 13956, 75990, 42231, 11471, 10219, 62005, 10228, 47954, 12443, 46123, 119, 10282, 10116, 15694, 110712, 10637, 22795, 58452, 48989, 10116, 16803, 43006, 15688, 10537, 10257, 52758, 181, 19584, 12871, 10480, 68602, 82300, 11951, 12577, 182, 10703, 12871, 181, 19584, 12871, 17489, 11717, 11282, 11471, 15694, 110712, 10637, 10257, 15694, 24623, 34366, 10921, 66271, 75131, 10228, 13520, 14266, 10440, 119, 30409, 13546, 13723, 13723, 13852, 15688, 46314, 10116, 10549, 10594, 57087, 51484, 11952, 11057, 64194, 14266, 14047, 13784, 10549, 26979, 13723, 27983, 10280, 182, 11460, 12589, 11471, 32926, 55155, 117, 22944, 13520, 51892, 10280, 11250, 11908, 25699, 18687, 11471, 10228, 13520, 10480, 68602, 10342, 14266, 10440, 10153, 10147, 44799, 51141, 10116, 109628, 17714, 18939, 11803, 19235, 11471, 10440, 10132, 11951, 12577, 10153, 46071, 10113, 15694, 102994, 11631, 10132, 11803, 19235, 28532, 109628, 17714, 38516, 16326, 16803, 13187, 20324, 10280, 26979, 77405, 10132, 25699, 18687, 117, 55155, 10414, 66271, 181, 75516, 10113, 181, 10343, 119, 48511, 75863, 10449, 10614, 10921, 10549, 49385, 15594, 10148, 10466, 117, 35264, 92276, 11471, 18342, 104388, 10132, 100781, 10280, 10559, 91931, 10228, 86803, 29241, 20897, 117, 10879, 15525, 76479, 181, 10637, 11282, 10153, 36573, 11359, 15694, 61078, 10637, 81993, 10340, 11471, 10440, 10132, 25699, 18687, 11023, 70436, 21695, 73713, 25989, 10228, 13520, 59779, 16803, 13187, 20324, 10280, 25694, 11790, 10406, 20288, 10112, 16184, 10113, 106615, 14260, 10637, 15694, 10147, 24049, 73463, 77203, 10219, 10133, 119, 21699, 10116, 23559, 11520, 11282, 57087, 66573, 51382, 54112, 35264, 92276, 15694, 13372, 12964, 190, 70965, 10537, 42231, 11803, 19235, 11471, 10133, 10132, 26979, 72628, 10113, 11471, 85805, 87127, 11471, 18342, 25989, 10228, 13520, 10480, 68602, 10342, 15694, 106156, 190, 70965, 10537, 10559, 81357, 10133, 13319, 11630, 52662, 11037, 29325, 41025, 10449, 14266, 14047, 13784, 10549, 11803, 19235, 58671, 38973, 80708, 43006, 10132, 11471, 85805, 117, 26506, 10853, 11803, 19235, 11471, 45531, 48985, 10113, 15694, 64208, 10280, 190, 70965, 10537, 10132, 11471, 10637, 11282, 11471, 10133, 10132, 10134, 25391, 10112, 10414, 11614, 10342, 11803, 26426, 25405, 15694, 11310, 64639, 190, 70965, 10537, 42231, 10133, 119, 48511, 179, 20706, 10116, 66271, 23559, 55155, 22944, 60744, 54112, 10480, 16746, 19522, 11382, 83822, 14266, 10342, 10414, 182, 39231, 10133, 10549, 105342, 181, 10637, 11282, 15385, 16119, 35595, 23031, 38989, 117, 10414, 10506, 11037, 10132, 36873, 10113, 76479, 105342, 81993, 10340, 26979, 10132, 109628, 17714, 18939, 10550, 119, 49878, 10116, 14266, 11471, 14497, 102]\n",
            "Token Type IDs: [0, 0, 0, 0, 0, 0, 0, 0, 0, 0, 0, 0, 0, 0, 0, 0, 0, 0, 0, 0, 0, 0, 0, 0, 0, 0, 0, 0, 0, 0, 0, 0, 0, 0, 0, 0, 0, 0, 0, 0, 0, 0, 0, 0, 0, 0, 0, 0, 0, 0, 0, 0, 0, 0, 0, 0, 0, 0, 0, 0, 0, 0, 0, 0, 0, 0, 0, 0, 0, 0, 0, 0, 0, 0, 0, 0, 0, 0, 0, 0, 0, 0, 0, 0, 0, 0, 0, 0, 0, 0, 0, 0, 0, 0, 0, 0, 0, 0, 0, 0, 0, 0, 0, 0, 0, 0, 0, 0, 0, 0, 0, 0, 0, 0, 0, 0, 0, 0, 0, 0, 0, 0, 0, 0, 0, 0, 0, 0, 0, 0, 0, 0, 0, 0, 0, 0, 0, 0, 0, 0, 0, 0, 0, 0, 0, 0, 0, 0, 0, 0, 0, 0, 0, 0, 0, 0, 0, 0, 0, 0, 0, 0, 0, 0, 0, 0, 0, 0, 0, 0, 0, 0, 0, 0, 0, 0, 0, 0, 0, 0, 0, 0, 0, 0, 0, 0, 0, 0, 0, 0, 0, 0, 0, 0, 0, 0, 0, 0, 0, 0, 0, 0, 0, 0, 0, 0, 0, 0, 0, 0, 0, 0, 0, 0, 0, 0, 0, 0, 0, 0, 0, 0, 0, 0, 0, 0, 0, 0, 0, 0, 0, 0, 0, 0, 0, 0, 0, 0, 0, 0, 0, 0, 0, 0, 0, 0, 0, 0, 0, 0, 0, 0, 0, 0, 0, 0, 0, 0, 0, 0, 0, 0, 0, 0, 0, 0, 0, 0, 0, 0, 0, 0, 0, 0, 0, 0, 0, 0, 0, 0, 0, 0, 0, 0, 0, 0, 0, 0, 0, 0, 0, 0, 0, 0, 0, 0, 0, 0, 0, 0, 0, 0, 0, 0, 0, 0, 0, 0, 0, 0, 0, 0, 0, 0, 0, 0, 0, 0, 0, 0, 0, 0, 0, 0, 0, 0, 0, 0, 0, 0, 0, 0, 0, 0, 0, 0, 0, 0, 0, 0, 0, 0, 0, 0, 0, 0, 0, 0, 0, 0, 0, 0, 0, 0, 0, 0, 0, 0, 0, 0, 0, 0, 0, 0, 0, 0, 0, 0, 0, 0, 0, 0, 0, 0, 0, 0, 0, 0, 0, 0, 0, 0, 0, 0, 0, 0, 0, 0, 0, 0, 0, 0, 0, 0, 0, 0, 0, 0, 0, 0, 0, 0, 0, 0, 0, 0, 0, 0, 0, 0, 0, 0, 0, 0, 0, 0, 0, 0, 0, 0, 0, 0, 0, 0, 0, 0, 0, 0, 0, 0, 0, 0, 0, 0, 0, 0, 0, 0, 0, 0, 0, 0, 0, 0, 0, 0, 0, 0, 0, 0, 0, 0, 0, 0, 0, 0, 0, 0, 0, 0, 0, 0, 0, 0, 0, 0, 0, 0, 0, 0, 0, 0, 0, 0, 0, 0, 0, 0, 0, 0, 0, 0, 0, 0, 0, 0, 0, 0, 0, 0, 0, 0, 0, 0, 0, 0, 0, 0, 0, 0, 0, 0, 0, 0, 0, 0, 0, 0, 0, 0, 0, 0]\n",
            "Attention Mask: [1, 1, 1, 1, 1, 1, 1, 1, 1, 1, 1, 1, 1, 1, 1, 1, 1, 1, 1, 1, 1, 1, 1, 1, 1, 1, 1, 1, 1, 1, 1, 1, 1, 1, 1, 1, 1, 1, 1, 1, 1, 1, 1, 1, 1, 1, 1, 1, 1, 1, 1, 1, 1, 1, 1, 1, 1, 1, 1, 1, 1, 1, 1, 1, 1, 1, 1, 1, 1, 1, 1, 1, 1, 1, 1, 1, 1, 1, 1, 1, 1, 1, 1, 1, 1, 1, 1, 1, 1, 1, 1, 1, 1, 1, 1, 1, 1, 1, 1, 1, 1, 1, 1, 1, 1, 1, 1, 1, 1, 1, 1, 1, 1, 1, 1, 1, 1, 1, 1, 1, 1, 1, 1, 1, 1, 1, 1, 1, 1, 1, 1, 1, 1, 1, 1, 1, 1, 1, 1, 1, 1, 1, 1, 1, 1, 1, 1, 1, 1, 1, 1, 1, 1, 1, 1, 1, 1, 1, 1, 1, 1, 1, 1, 1, 1, 1, 1, 1, 1, 1, 1, 1, 1, 1, 1, 1, 1, 1, 1, 1, 1, 1, 1, 1, 1, 1, 1, 1, 1, 1, 1, 1, 1, 1, 1, 1, 1, 1, 1, 1, 1, 1, 1, 1, 1, 1, 1, 1, 1, 1, 1, 1, 1, 1, 1, 1, 1, 1, 1, 1, 1, 1, 1, 1, 1, 1, 1, 1, 1, 1, 1, 1, 1, 1, 1, 1, 1, 1, 1, 1, 1, 1, 1, 1, 1, 1, 1, 1, 1, 1, 1, 1, 1, 1, 1, 1, 1, 1, 1, 1, 1, 1, 1, 1, 1, 1, 1, 1, 1, 1, 1, 1, 1, 1, 1, 1, 1, 1, 1, 1, 1, 1, 1, 1, 1, 1, 1, 1, 1, 1, 1, 1, 1, 1, 1, 1, 1, 1, 1, 1, 1, 1, 1, 1, 1, 1, 1, 1, 1, 1, 1, 1, 1, 1, 1, 1, 1, 1, 1, 1, 1, 1, 1, 1, 1, 1, 1, 1, 1, 1, 1, 1, 1, 1, 1, 1, 1, 1, 1, 1, 1, 1, 1, 1, 1, 1, 1, 1, 1, 1, 1, 1, 1, 1, 1, 1, 1, 1, 1, 1, 1, 1, 1, 1, 1, 1, 1, 1, 1, 1, 1, 1, 1, 1, 1, 1, 1, 1, 1, 1, 1, 1, 1, 1, 1, 1, 1, 1, 1, 1, 1, 1, 1, 1, 1, 1, 1, 1, 1, 1, 1, 1, 1, 1, 1, 1, 1, 1, 1, 1, 1, 1, 1, 1, 1, 1, 1, 1, 1, 1, 1, 1, 1, 1, 1, 1, 1, 1, 1, 1, 1, 1, 1, 1, 1, 1, 1, 1, 1, 1, 1, 1, 1, 1, 1, 1, 1, 1, 1, 1, 1, 1, 1, 1, 1, 1, 1, 1, 1, 1, 1, 1, 1, 1, 1, 1, 1, 1, 1, 1, 1, 1, 1, 1, 1, 1, 1, 1, 1, 1, 1, 1, 1, 1, 1, 1, 1, 1, 1, 1, 1, 1, 1, 1, 1, 1, 1, 1, 1, 1, 1, 1, 1, 1, 1, 1, 1, 1, 1, 1, 1, 1]\n",
            "\n",
            "\n"
          ]
        }
      ]
    },
    {
      "cell_type": "code",
      "source": [],
      "metadata": {
        "id": "UZYwgi6eP2vr"
      },
      "execution_count": null,
      "outputs": []
    },
    {
      "cell_type": "code",
      "source": [
        "#extracting input ids and attention mask for swahili training\n",
        "input_ids_swahili_train= [item[\"input_ids\"] for item in tokenized_swahili_train]\n",
        "attention_mask_swahili_train = [item[\"attention_mask\"] for item in tokenized_swahili_train]\n",
        "swahili_encodings_train = {\"input_ids\": input_ids_swahili_train,\n",
        "             \"attention_mask\": attention_mask_swahili_train}"
      ],
      "metadata": {
        "id": "lZN8fatkusqB"
      },
      "execution_count": 25,
      "outputs": []
    },
    {
      "cell_type": "code",
      "source": [
        "#extracting input ids and attention mask for swahili validation\n",
        "input_ids_swahili_validation= [item[\"input_ids\"] for item in tokenized_swahili_validation]\n",
        "attention_mask_swahili_validation = [item[\"attention_mask\"] for item in tokenized_swahili_validation]\n",
        "swahili_encodings_validation = {\"input_ids\": input_ids_swahili_validation,\n",
        "             \"attention_mask\": attention_mask_swahili_validation}"
      ],
      "metadata": {
        "id": "hPZpM4hIusvS"
      },
      "execution_count": 26,
      "outputs": []
    },
    {
      "cell_type": "code",
      "source": [
        "#extracting input ids and attention mask for swahili testing\n",
        "input_ids_swahili_testing= [item[\"input_ids\"] for item in tokenized_swahili_testing]\n",
        "attention_mask_swahili_testing = [item[\"attention_mask\"] for item in tokenized_swahili_testing]\n",
        "swahili_encodings_testing = {\"input_ids\": input_ids_swahili_testing,\n",
        "             \"attention_mask\": attention_mask_swahili_testing}"
      ],
      "metadata": {
        "id": "7SiiC3U9uszU"
      },
      "execution_count": 27,
      "outputs": []
    },
    {
      "cell_type": "code",
      "source": [],
      "metadata": {
        "id": "MGAf6U2LW-8X"
      },
      "execution_count": null,
      "outputs": []
    },
    {
      "cell_type": "markdown",
      "source": [],
      "metadata": {
        "id": "U2RIq1TOWcat"
      }
    },
    {
      "cell_type": "code",
      "source": [
        "#extracting input ids and attention mask for english training\n",
        "input_ids_english_train= [item[\"input_ids\"] for item in tokenized_english_train]\n",
        "attention_mask_english_train = [item[\"attention_mask\"] for item in tokenized_english_train]\n",
        "english_encodings_train = {\"input_ids\": input_ids_english_train,\n",
        "             \"attention_mask\": attention_mask_english_train}"
      ],
      "metadata": {
        "id": "UkNmCYpKus3X"
      },
      "execution_count": 28,
      "outputs": []
    },
    {
      "cell_type": "code",
      "source": [
        "#extracting input ids and attention mask for english validation\n",
        "input_ids_english_validation= [item[\"input_ids\"] for item in tokenized_english_validation]\n",
        "attention_mask_english_validation = [item[\"attention_mask\"] for item in tokenized_english_validation]\n",
        "english_encodings_validation = {\"input_ids\": input_ids_english_validation,\n",
        "             \"attention_mask\": attention_mask_english_validation}"
      ],
      "metadata": {
        "id": "0saS6abZWr0H"
      },
      "execution_count": 29,
      "outputs": []
    },
    {
      "cell_type": "code",
      "source": [
        "#extracting input ids and attention mask for english testing\n",
        "input_ids_english_testing= [item[\"input_ids\"] for item in tokenized_english_testing]\n",
        "attention_mask_english_testing = [item[\"attention_mask\"] for item in tokenized_english_testing]\n",
        "english_encodings_testing = {\"input_ids\": input_ids_english_testing,\n",
        "             \"attention_mask\": attention_mask_english_testing}"
      ],
      "metadata": {
        "id": "dbsUAv5JWyiN"
      },
      "execution_count": 30,
      "outputs": []
    },
    {
      "cell_type": "code",
      "source": [
        "#getting labels for swahili datasets\n",
        "swahili_train_labels = swahili_train[\"label\"]\n",
        "swahili_validation_labels = swahili_validation[\"label\"]\n",
        "swahili_testing_labels = swahili_testing[\"label\"]"
      ],
      "metadata": {
        "id": "doIMk6T2cGOC"
      },
      "execution_count": 31,
      "outputs": []
    },
    {
      "cell_type": "code",
      "source": [
        "#getting labels for english datasets\n",
        "english_train_labels = english_train[\"label\"]\n",
        "english_validation_labels = english_validation[\"label\"]\n",
        "english_testing_labels = english_testing[\"label\"]"
      ],
      "metadata": {
        "id": "QGdnvLEF6-nR"
      },
      "execution_count": 32,
      "outputs": []
    },
    {
      "cell_type": "code",
      "source": [
        "#creating tensor data to feed into the model\n",
        "import torch\n",
        "from torch.utils.data import Dataset, DataLoader\n",
        "\n",
        "class TextDataset (Dataset):\n",
        "  def __init__(self, encodings, labels):\n",
        "    self.encodings = encodings\n",
        "    self.labels = labels\n",
        "\n",
        "  def __getitem__(self, idx):\n",
        "    item = {key: torch.tensor(val[idx]) for key, val in self.encodings.items()}\n",
        "    item[\"labels\"] = torch.tensor(self.labels[idx])\n",
        "    return item\n",
        "  def __len__(self):\n",
        "    return len(self.labels)"
      ],
      "metadata": {
        "id": "JXDpOCL8p7Ay"
      },
      "execution_count": 33,
      "outputs": []
    },
    {
      "cell_type": "code",
      "source": [
        "#swahili ready data\n",
        "#english ready data\n",
        "swahili_ready_train = TextDataset(swahili_encodings_train, swahili_train_labels)\n",
        "swahili_ready_validation = TextDataset(swahili_encodings_validation, swahili_validation_labels)\n",
        "swahili_ready_testing = TextDataset(swahili_encodings_testing, swahili_testing_labels)"
      ],
      "metadata": {
        "id": "FPrGBm61cxLf"
      },
      "execution_count": 34,
      "outputs": []
    },
    {
      "cell_type": "code",
      "source": [
        "#english ready data\n",
        "english_ready_train = TextDataset(english_encodings_train, english_train_labels)\n",
        "english_ready_validation = TextDataset(english_encodings_validation, english_validation_labels)\n",
        "english_ready_testing = TextDataset(english_encodings_testing, english_testing_labels)"
      ],
      "metadata": {
        "id": "WeO0y2OzdIXA"
      },
      "execution_count": 35,
      "outputs": []
    },
    {
      "cell_type": "code",
      "source": [
        "def inspect_dataset(dataset, num_samples):\n",
        "  for i in range(min(num_samples, len(dataset))):\n",
        "    item = dataset[i]\n",
        "    print(f\"samples{i}:\")\n",
        "    for key, value in item.items():\n",
        "      print(f\" {key} : {value}\")\n",
        "    print(\"\\n\")\n"
      ],
      "metadata": {
        "id": "YV_0Di9ZqBZX"
      },
      "execution_count": 36,
      "outputs": []
    },
    {
      "cell_type": "code",
      "source": [
        "#Building  a simple mBert model for small swahili dataset\n",
        "!pip install -U accelerate -q >NUL\n",
        "!pip install -U transformers -q >NUL\n",
        "swahili_mbert = BertForSequenceClassification.from_pretrained(\"bert-base-multilingual-cased\",\n",
        "                                                                  num_labels = swahili_train[\"label\"].nunique())\n",
        "english_mbert =  BertForSequenceClassification.from_pretrained(\"bert-base-multilingual-cased\",\n",
        "                                                                  num_labels = english_train[\"label\"].nunique())"
      ],
      "metadata": {
        "id": "yiIpht2F-8Ou",
        "colab": {
          "base_uri": "https://localhost:8080/",
          "height": 138,
          "referenced_widgets": [
            "381673899df341fa9651be634f5150a6",
            "fdabfe4f00e54f27aaed35c017bf77ce",
            "e56e2cbf3aa3434eb29dc7a34bd86ac0",
            "12ff89c26da84a7c8a36a21a127fac41",
            "19deb5a636854d50b24319eb33b2eedb",
            "bbb83f09cc614ab593f336b87fa52799",
            "54cf979e4b014f57b960c9b986daa4b5",
            "b496546665e145358cb286107d52ff1e",
            "e4d0fb39f5c846d489b9845ec6bc0ea7",
            "e5078dbad07b4cdeb01a8ba94d0d1281",
            "a4267100331848e38e005c78381e363a"
          ]
        },
        "outputId": "f358953e-f398-45c8-a526-4abfc6b5d39e"
      },
      "execution_count": 37,
      "outputs": [
        {
          "output_type": "display_data",
          "data": {
            "text/plain": [
              "model.safetensors:   0%|          | 0.00/714M [00:00<?, ?B/s]"
            ],
            "application/vnd.jupyter.widget-view+json": {
              "version_major": 2,
              "version_minor": 0,
              "model_id": "381673899df341fa9651be634f5150a6"
            }
          },
          "metadata": {}
        },
        {
          "output_type": "stream",
          "name": "stderr",
          "text": [
            "Some weights of BertForSequenceClassification were not initialized from the model checkpoint at bert-base-multilingual-cased and are newly initialized: ['classifier.bias', 'classifier.weight']\n",
            "You should probably TRAIN this model on a down-stream task to be able to use it for predictions and inference.\n",
            "Some weights of BertForSequenceClassification were not initialized from the model checkpoint at bert-base-multilingual-cased and are newly initialized: ['classifier.bias', 'classifier.weight']\n",
            "You should probably TRAIN this model on a down-stream task to be able to use it for predictions and inference.\n"
          ]
        }
      ]
    },
    {
      "cell_type": "code",
      "source": [
        "#training arguments\n",
        "training_args_sm = TrainingArguments(\n",
        "    output_dir=\"./sm_results1\",\n",
        "    num_train_epochs=3,\n",
        "    per_device_train_batch_size=16,\n",
        "    per_device_eval_batch_size=16,\n",
        "    warmup_steps=200,\n",
        "    weight_decay=0.01,\n",
        "    logging_dir=\"./sm_logging1\",\n",
        "    logging_steps=20,\n",
        "    load_best_model_at_end=True,\n",
        "    eval_strategy=\"epoch\",\n",
        "    save_strategy=\"epoch\"\n",
        ")\n",
        "training_args_em = TrainingArguments(\n",
        "    output_dir=\"./em_results1\",\n",
        "    num_train_epochs=3,\n",
        "    per_device_train_batch_size=16,\n",
        "    per_device_eval_batch_size=16,\n",
        "    warmup_steps=200,\n",
        "    weight_decay=0.01,\n",
        "    logging_dir=\"./em_logging1\",\n",
        "    logging_steps=20,\n",
        "    load_best_model_at_end=True,\n",
        "    eval_strategy=\"epoch\",\n",
        "    save_strategy=\"epoch\"\n",
        ")"
      ],
      "metadata": {
        "id": "UcO0KMSefKBm"
      },
      "execution_count": 38,
      "outputs": []
    },
    {
      "cell_type": "code",
      "source": [
        "#computing the evaluation metrics\n",
        "import evaluate\n",
        "accuracy_metric = evaluate.load(\"accuracy\")\n",
        "f1_metric = evaluate.load(\"f1\")\n",
        "precision_metric = evaluate.load(\"precision\")\n",
        "recall_metric = evaluate.load(\"recall\")\n"
      ],
      "metadata": {
        "colab": {
          "base_uri": "https://localhost:8080/",
          "height": 145,
          "referenced_widgets": [
            "fd6395c58952469b8849f51e73753b64",
            "da72d52ca55141ec9be44e342e3c86d9",
            "c25de6606dea47a3930dc02dd6c69dcd",
            "8ee2d42b277740358a6f13d1bd7ade7a",
            "0ac7212b1438458297e2b71f4402fd84",
            "d57329d7b33244668d32e2126d3f106e",
            "4cd3e6f79fc449adb60174c46759bcf1",
            "39928318717c405fa5899cfb5e09d490",
            "a90f3273f36f49e6acd7d7a0df62e068",
            "0015f94ef9f048d5b4a5beb088fcff80",
            "c145010d59394ebd9d9af72edcac2e38",
            "98ddde8f166f44409f6778c0f75ea7c7",
            "ea86a5ee9a1e44bba502781ab4eb601d",
            "0857342b801248f5b8979be23db07317",
            "ffc01faf369c4e11b128d27caf0276f1",
            "3b67f2762a8a4784acbd3eede7d2df1b",
            "355def576fab4abb9699550f09fedbe2",
            "67e2518210e24ecb893f00521dfba483",
            "db5cf7e3a25d41f0a5cf00f260f370e5",
            "1cb0fc753f614e399e23467d1aec2f92",
            "83c7648ec1304c86b74e1ed54b35229b",
            "68cfb97f980048469c1e75399e239502",
            "49d03505dc8a420196563d20f0a7b91a",
            "b6ae1ea9501e4f9bba5f42ab208e1b1a",
            "214ec83242094e88ad98cf6a6e4b3973",
            "e1d05bbe710e48d6964bec37f56fd097",
            "a6d02c1e6a074a2c8d3358bc9250e6c0",
            "e8df6b8852dc498ab9343fa80f90520a",
            "7e64214c18f445c09c622b0ba4c2aba1",
            "a289774ae1694091b7185c378a0c775a",
            "d767c1a23227444fa2f8b4fd5b7bed36",
            "bb754a2a680841b2be2b295254e36511",
            "af4e7b0e52474ce4a120131266c26e4f",
            "7cd6efe3b06840bf8e8cd0a9103ab14a",
            "83972fa7bcb649e38074e28e42cc4acc",
            "01a755bb5a514672ad7bc7b4bc0d487a",
            "29337c68e8b54443b8209ce26a5c9e0b",
            "1a12846264894ea9b313a44b188becec",
            "6ec442922fd140bdbbaf8d1bd338fb3f",
            "95b49aca8fbd4997a04d5f9cafbf474b",
            "2388867372bc45a0a3250cc8b4455f5b",
            "7ba268c862694c4a90420b0689d49301",
            "149ec2770d88466a8e7a6054464903e4",
            "c950b24da00543598aeb6e7db052126f"
          ]
        },
        "id": "2BVR8NoBhdC4",
        "outputId": "56f70e16-1443-431c-9168-5e6480ceb0c7"
      },
      "execution_count": 39,
      "outputs": [
        {
          "output_type": "display_data",
          "data": {
            "text/plain": [
              "Downloading builder script:   0%|          | 0.00/4.20k [00:00<?, ?B/s]"
            ],
            "application/vnd.jupyter.widget-view+json": {
              "version_major": 2,
              "version_minor": 0,
              "model_id": "fd6395c58952469b8849f51e73753b64"
            }
          },
          "metadata": {}
        },
        {
          "output_type": "display_data",
          "data": {
            "text/plain": [
              "Downloading builder script:   0%|          | 0.00/6.77k [00:00<?, ?B/s]"
            ],
            "application/vnd.jupyter.widget-view+json": {
              "version_major": 2,
              "version_minor": 0,
              "model_id": "98ddde8f166f44409f6778c0f75ea7c7"
            }
          },
          "metadata": {}
        },
        {
          "output_type": "display_data",
          "data": {
            "text/plain": [
              "Downloading builder script:   0%|          | 0.00/7.55k [00:00<?, ?B/s]"
            ],
            "application/vnd.jupyter.widget-view+json": {
              "version_major": 2,
              "version_minor": 0,
              "model_id": "49d03505dc8a420196563d20f0a7b91a"
            }
          },
          "metadata": {}
        },
        {
          "output_type": "display_data",
          "data": {
            "text/plain": [
              "Downloading builder script:   0%|          | 0.00/7.36k [00:00<?, ?B/s]"
            ],
            "application/vnd.jupyter.widget-view+json": {
              "version_major": 2,
              "version_minor": 0,
              "model_id": "7cd6efe3b06840bf8e8cd0a9103ab14a"
            }
          },
          "metadata": {}
        }
      ]
    },
    {
      "cell_type": "code",
      "source": [
        "from transformers import EarlyStoppingCallback\n",
        "from sklearn.metrics import confusion_matrix"
      ],
      "metadata": {
        "id": "-wYM2Ep3hnPv"
      },
      "execution_count": 40,
      "outputs": []
    },
    {
      "cell_type": "code",
      "source": [
        "\"\"\"#computing the evaluation metrics\n",
        "accuracy_metric = evaluate.load(\"accuracy\")\n",
        "f1_metric = evaluate.load(\"f1\")\n",
        "precision_metric = evaluate.load(\"precision\")\n",
        "recall_metric = evaluate.load(\"recall\")\n",
        "\n",
        "def compute_metrics(pred):\n",
        "    labels = pred.label_ids\n",
        "    preds = pred.predictions.argmax(-1)\n",
        "\n",
        "    accuracy = accuracy_metric.compute(predictions=preds, references=labels)\n",
        "    f1 = f1_metric.compute(predictions=preds, references=labels, average='weighted')\n",
        "    precision = precision_metric.compute(predictions=preds, references=labels, average='weighted')\n",
        "    recall = recall_metric.compute(predictions=preds, references=labels, average='weighted')\n",
        "\n",
        "    return {\n",
        "        'accuracy': accuracy['accuracy'],\n",
        "        'f1': f1['f1'],\n",
        "        'precision': precision['precision'],\n",
        "        'recall': recall['recall']\n",
        "    }\"\"\""
      ],
      "metadata": {
        "id": "b8PPLz9a_LKq"
      },
      "execution_count": null,
      "outputs": []
    },
    {
      "cell_type": "code",
      "source": [
        "#computing the evaluation metrics\n",
        "accuracy_metric = evaluate.load(\"accuracy\")\n",
        "f1_metric = evaluate.load(\"f1\")\n",
        "precision_metric = evaluate.load(\"precision\")\n",
        "recall_metric = evaluate.load(\"recall\")\n",
        "\n",
        "def compute_metrics(pred):\n",
        "    labels = pred.label_ids\n",
        "    preds = pred.predictions.argmax(-1)\n",
        "\n",
        "    accuracy = accuracy_metric.compute(predictions=preds, references=labels)\n",
        "    f1 = f1_metric.compute(predictions=preds, references=labels, average='weighted')\n",
        "    precision = precision_metric.compute(predictions=preds, references=labels, average='weighted')\n",
        "    recall = recall_metric.compute(predictions=preds, references=labels, average='weighted')\n",
        "    conf_matrix = confusion_matrix(labels, preds)\n",
        "    conf_matrix_list = conf_matrix.tolist()\n",
        "\n",
        "    return {\n",
        "        'accuracy': accuracy['accuracy'],\n",
        "        'f1': f1['f1'],\n",
        "        'precision': precision['precision'],\n",
        "        'recall': recall['recall'],\n",
        "        'conf_matrix': conf_matrix_list\n",
        "    }"
      ],
      "metadata": {
        "id": "L0cvaCNLm6mG"
      },
      "execution_count": 41,
      "outputs": []
    },
    {
      "cell_type": "code",
      "source": [
        "import torch\n",
        "from sklearn.utils.class_weight import compute_class_weight\n",
        "import numpy as np\n",
        "import torch.nn as nn\n",
        "# Calculate class weights using sklearn's compute_class_weight\n",
        "class_weights = compute_class_weight('balanced', classes=np.unique(swahili_train_labels), y=swahili_train_labels)\n",
        "\n",
        "# Convert class weights to a tensor for PyTorch\n",
        "class_weights = torch.tensor(class_weights, dtype=torch.float)"
      ],
      "metadata": {
        "id": "PU_7YlkPt4KC"
      },
      "execution_count": 42,
      "outputs": []
    },
    {
      "cell_type": "code",
      "source": [
        "#Define your custom Trainer class with class weights\n",
        "class CustomTrainer(Trainer):\n",
        "    def __init__(self, class_weights, *args, **kwargs):\n",
        "        super().__init__(*args, **kwargs)\n",
        "        self.class_weights = class_weights.to(self.args.device)  # Move weights to the appropriate device\n",
        "\n",
        "    def compute_loss(self, model, inputs, return_outputs=False):\n",
        "        labels = inputs.get(\"labels\")\n",
        "        # Forward pass\n",
        "        outputs = model(**inputs)\n",
        "        logits = outputs.get(\"logits\")\n",
        "\n",
        "        # Define the loss function with class weights\n",
        "        loss_fct = nn.CrossEntropyLoss(weight=self.class_weights)\n",
        "        loss = loss_fct(logits, labels)\n",
        "\n",
        "        return (loss, outputs) if return_outputs else loss"
      ],
      "metadata": {
        "id": "96EC7wWcuE8b"
      },
      "execution_count": 43,
      "outputs": []
    },
    {
      "cell_type": "code",
      "source": [
        "mbert_trainer_swahili = CustomTrainer(\n",
        "    model=swahili_mbert,\n",
        "    args=training_args_sm,\n",
        "    train_dataset=swahili_ready_train,\n",
        "    eval_dataset=swahili_ready_validation,\n",
        "    compute_metrics=compute_metrics,\n",
        "    callbacks=[EarlyStoppingCallback(early_stopping_patience=1)],\n",
        "    class_weights=class_weights)  # Pass class weights to the custom trainer"
      ],
      "metadata": {
        "id": "vNnTZinVuPzv"
      },
      "execution_count": 44,
      "outputs": []
    },
    {
      "cell_type": "code",
      "source": [
        "\"\"\"mbert_trainer_swahili= Trainer(\n",
        "    model=swahili_mbert,\n",
        "    args=training_args_sm,\n",
        "    train_dataset=swahili_ready_train,\n",
        "    eval_dataset=swahili_ready_validation,\n",
        "    compute_metrics=compute_metrics,  # Use the modified compute_metrics function\n",
        ")\"\"\""
      ],
      "metadata": {
        "id": "oDxnRmSvsD1l"
      },
      "execution_count": null,
      "outputs": []
    },
    {
      "cell_type": "code",
      "source": [
        "\"\"\"mbert_trainer_english = Trainer(\n",
        "    model=english_mbert,\n",
        "    args=training_args_em,\n",
        "    train_dataset=english_ready_train,\n",
        "    eval_dataset=english_ready_validation,\n",
        "    compute_metrics=compute_metrics,  # Use the modified compute_metrics function\n",
        ")\"\"\""
      ],
      "metadata": {
        "id": "Dokqxm-LolbV"
      },
      "execution_count": null,
      "outputs": []
    },
    {
      "cell_type": "code",
      "source": [
        "mbert_trainer_english = CustomTrainer(\n",
        "    model=english_mbert,\n",
        "    args=training_args_em,\n",
        "    train_dataset=english_ready_train,\n",
        "    eval_dataset=english_ready_validation,\n",
        "    compute_metrics=compute_metrics,\n",
        "    callbacks=[EarlyStoppingCallback(early_stopping_patience=1)],\n",
        "    class_weights=class_weights)  # Pass class weights to the custom trainer"
      ],
      "metadata": {
        "id": "F31ho8XIwgkD"
      },
      "execution_count": 45,
      "outputs": []
    },
    {
      "cell_type": "code",
      "source": [
        "mbert_trainer_swahili.train()"
      ],
      "metadata": {
        "colab": {
          "base_uri": "https://localhost:8080/",
          "height": 415
        },
        "id": "a5A724GDzg2O",
        "outputId": "53939a6c-a35d-470b-d756-e5ba13e1e75b"
      },
      "execution_count": 46,
      "outputs": [
        {
          "output_type": "display_data",
          "data": {
            "text/plain": [
              "<IPython.core.display.HTML object>"
            ],
            "text/html": [
              "\n",
              "    <div>\n",
              "      \n",
              "      <progress value='3324' max='3324' style='width:300px; height:20px; vertical-align: middle;'></progress>\n",
              "      [3324/3324 21:14, Epoch 3/3]\n",
              "    </div>\n",
              "    <table border=\"1\" class=\"dataframe\">\n",
              "  <thead>\n",
              " <tr style=\"text-align: left;\">\n",
              "      <th>Epoch</th>\n",
              "      <th>Training Loss</th>\n",
              "      <th>Validation Loss</th>\n",
              "      <th>Accuracy</th>\n",
              "      <th>F1</th>\n",
              "      <th>Precision</th>\n",
              "      <th>Recall</th>\n",
              "      <th>Conf Matrix</th>\n",
              "    </tr>\n",
              "  </thead>\n",
              "  <tbody>\n",
              "    <tr>\n",
              "      <td>1</td>\n",
              "      <td>0.551900</td>\n",
              "      <td>0.602845</td>\n",
              "      <td>0.866813</td>\n",
              "      <td>0.868223</td>\n",
              "      <td>0.873432</td>\n",
              "      <td>0.866813</td>\n",
              "      <td>[[2757, 79, 63, 153, 163], [105, 215, 0, 0, 18], [15, 1, 490, 5, 41], [78, 4, 4, 104, 10], [20, 6, 20, 2, 1556]]</td>\n",
              "    </tr>\n",
              "    <tr>\n",
              "      <td>2</td>\n",
              "      <td>0.472800</td>\n",
              "      <td>0.495836</td>\n",
              "      <td>0.912168</td>\n",
              "      <td>0.911185</td>\n",
              "      <td>0.911537</td>\n",
              "      <td>0.912168</td>\n",
              "      <td>[[2976, 31, 43, 75, 90], [89, 238, 0, 0, 11], [18, 0, 495, 6, 33], [75, 0, 8, 117, 0], [21, 8, 11, 0, 1564]]</td>\n",
              "    </tr>\n",
              "    <tr>\n",
              "      <td>3</td>\n",
              "      <td>0.392100</td>\n",
              "      <td>0.489622</td>\n",
              "      <td>0.912506</td>\n",
              "      <td>0.912472</td>\n",
              "      <td>0.913167</td>\n",
              "      <td>0.912506</td>\n",
              "      <td>[[2929, 81, 49, 79, 77], [69, 260, 0, 0, 9], [11, 1, 516, 1, 23], [76, 1, 5, 118, 0], [17, 6, 12, 0, 1569]]</td>\n",
              "    </tr>\n",
              "  </tbody>\n",
              "</table><p>"
            ]
          },
          "metadata": {}
        },
        {
          "output_type": "stream",
          "name": "stderr",
          "text": [
            "Trainer is attempting to log a value of \"[[2757, 79, 63, 153, 163], [105, 215, 0, 0, 18], [15, 1, 490, 5, 41], [78, 4, 4, 104, 10], [20, 6, 20, 2, 1556]]\" of type <class 'list'> for key \"eval/conf_matrix\" as a scalar. This invocation of Tensorboard's writer.add_scalar() is incorrect so we dropped this attribute.\n",
            "Trainer is attempting to log a value of \"[[2976, 31, 43, 75, 90], [89, 238, 0, 0, 11], [18, 0, 495, 6, 33], [75, 0, 8, 117, 0], [21, 8, 11, 0, 1564]]\" of type <class 'list'> for key \"eval/conf_matrix\" as a scalar. This invocation of Tensorboard's writer.add_scalar() is incorrect so we dropped this attribute.\n",
            "Trainer is attempting to log a value of \"[[2929, 81, 49, 79, 77], [69, 260, 0, 0, 9], [11, 1, 516, 1, 23], [76, 1, 5, 118, 0], [17, 6, 12, 0, 1569]]\" of type <class 'list'> for key \"eval/conf_matrix\" as a scalar. This invocation of Tensorboard's writer.add_scalar() is incorrect so we dropped this attribute.\n"
          ]
        },
        {
          "output_type": "execute_result",
          "data": {
            "text/plain": [
              "TrainOutput(global_step=3324, training_loss=0.541478790961448, metrics={'train_runtime': 1277.46, 'train_samples_per_second': 41.628, 'train_steps_per_second': 2.602, 'total_flos': 1.3992096579950592e+16, 'train_loss': 0.541478790961448, 'epoch': 3.0})"
            ]
          },
          "metadata": {},
          "execution_count": 46
        }
      ]
    },
    {
      "cell_type": "code",
      "source": [
        "#evaluation of swahili dataset\n",
        "#testing mbert swahili model on testing dataset\n",
        "mbert_test_swahili = mbert_trainer_swahili.evaluate(eval_dataset=swahili_ready_testing)"
      ],
      "metadata": {
        "colab": {
          "base_uri": "https://localhost:8080/",
          "height": 74
        },
        "id": "jgfFfBeOh-OH",
        "outputId": "8dc4aba2-dbad-4ced-b25d-d6a19f7329db"
      },
      "execution_count": 49,
      "outputs": [
        {
          "output_type": "display_data",
          "data": {
            "text/plain": [
              "<IPython.core.display.HTML object>"
            ],
            "text/html": [
              "\n",
              "    <div>\n",
              "      \n",
              "      <progress value='370' max='370' style='width:300px; height:20px; vertical-align: middle;'></progress>\n",
              "      [370/370 00:37]\n",
              "    </div>\n",
              "    "
            ]
          },
          "metadata": {}
        },
        {
          "output_type": "stream",
          "name": "stderr",
          "text": [
            "Trainer is attempting to log a value of \"[[2911, 72, 29, 99, 59], [93, 277, 1, 0, 8], [16, 1, 550, 5, 20], [73, 0, 4, 118, 0], [10, 4, 25, 0, 1534]]\" of type <class 'list'> for key \"eval/conf_matrix\" as a scalar. This invocation of Tensorboard's writer.add_scalar() is incorrect so we dropped this attribute.\n"
          ]
        }
      ]
    },
    {
      "cell_type": "code",
      "source": [
        "print(mbert_test_swahili)"
      ],
      "metadata": {
        "colab": {
          "base_uri": "https://localhost:8080/"
        },
        "id": "PwF779qynqk3",
        "outputId": "b6c2a650-4592-403f-9c1b-ccf501125698"
      },
      "execution_count": 64,
      "outputs": [
        {
          "output_type": "stream",
          "name": "stdout",
          "text": [
            "{'eval_loss': 0.4714862108230591, 'eval_accuracy': 0.9121678795058386, 'eval_f1': 0.9125165489608603, 'eval_precision': 0.9134012996831977, 'eval_recall': 0.9121678795058386, 'eval_conf_matrix': [[2911, 72, 29, 99, 59], [93, 277, 1, 0, 8], [16, 1, 550, 5, 20], [73, 0, 4, 118, 0], [10, 4, 25, 0, 1534]], 'eval_runtime': 37.9642, 'eval_samples_per_second': 155.647, 'eval_steps_per_second': 9.746, 'epoch': 3.0}\n"
          ]
        }
      ]
    },
    {
      "cell_type": "code",
      "source": [
        "# Assuming mbert_test_swahili contains the evaluation results\n",
        "eval_loss = mbert_test_swahili.get('eval_loss', None)\n",
        "eval_accuracy = mbert_test_swahili.get('eval_accuracy', None)\n",
        "eval_f1 = mbert_test_swahili.get('eval_f1', None)\n",
        "eval_precision = mbert_test_swahili.get('eval_precision', None)\n",
        "eval_recall = mbert_test_swahili.get('eval_recall', None)\n",
        "eval_conf_matrix = mbert_test_swahili.get('eval_conf_matrix', None)\n"
      ],
      "metadata": {
        "id": "YPDNJjCRpA4D"
      },
      "execution_count": 65,
      "outputs": []
    },
    {
      "cell_type": "code",
      "source": [
        "print(f\"Evaluation Loss: {eval_loss}\")\n",
        "print(f\"Evaluation Accuracy: {eval_accuracy}\")\n",
        "print(f\"Evaluation F1 Score: {eval_f1}\")\n",
        "print(f\"Evaluation Precision: {eval_precision}\")\n",
        "print(f\"Evaluation Recall: {eval_recall}\")\n",
        "print(f\"Confusion Matrix: {eval_conf_matrix}\")"
      ],
      "metadata": {
        "colab": {
          "base_uri": "https://localhost:8080/"
        },
        "id": "uR_SOdfQpDal",
        "outputId": "46aa711d-a789-4f9a-cd8f-8f622c4dd170"
      },
      "execution_count": 66,
      "outputs": [
        {
          "output_type": "stream",
          "name": "stdout",
          "text": [
            "Evaluation Loss: 0.4714862108230591\n",
            "Evaluation Accuracy: 0.9121678795058386\n",
            "Evaluation F1 Score: 0.9125165489608603\n",
            "Evaluation Precision: 0.9134012996831977\n",
            "Evaluation Recall: 0.9121678795058386\n",
            "Confusion Matrix: [[2911, 72, 29, 99, 59], [93, 277, 1, 0, 8], [16, 1, 550, 5, 20], [73, 0, 4, 118, 0], [10, 4, 25, 0, 1534]]\n"
          ]
        }
      ]
    },
    {
      "cell_type": "code",
      "source": [
        "#accessing the log information\n",
        "training_logs_swahili = mbert_trainer_swahili.state.log_history"
      ],
      "metadata": {
        "id": "8gQ3269kiKLP"
      },
      "execution_count": 50,
      "outputs": []
    },
    {
      "cell_type": "code",
      "source": [],
      "metadata": {
        "id": "6-hiaZzEsYFF"
      },
      "execution_count": 87,
      "outputs": []
    },
    {
      "cell_type": "code",
      "source": [
        "#creating a"
      ],
      "metadata": {
        "id": "uJMM_t3HQljP"
      },
      "execution_count": 80,
      "outputs": []
    },
    {
      "cell_type": "code",
      "source": [
        "mbert_trainer_english.train()"
      ],
      "metadata": {
        "colab": {
          "base_uri": "https://localhost:8080/",
          "height": 415
        },
        "id": "U50tCKfl4E54",
        "outputId": "81ce18f5-59d1-4447-f9ce-5a3c01b3ef42"
      },
      "execution_count": 76,
      "outputs": [
        {
          "output_type": "display_data",
          "data": {
            "text/plain": [
              "<IPython.core.display.HTML object>"
            ],
            "text/html": [
              "\n",
              "    <div>\n",
              "      \n",
              "      <progress value='3324' max='3324' style='width:300px; height:20px; vertical-align: middle;'></progress>\n",
              "      [3324/3324 21:59, Epoch 3/3]\n",
              "    </div>\n",
              "    <table border=\"1\" class=\"dataframe\">\n",
              "  <thead>\n",
              " <tr style=\"text-align: left;\">\n",
              "      <th>Epoch</th>\n",
              "      <th>Training Loss</th>\n",
              "      <th>Validation Loss</th>\n",
              "      <th>Accuracy</th>\n",
              "      <th>F1</th>\n",
              "      <th>Precision</th>\n",
              "      <th>Recall</th>\n",
              "      <th>Conf Matrix</th>\n",
              "    </tr>\n",
              "  </thead>\n",
              "  <tbody>\n",
              "    <tr>\n",
              "      <td>1</td>\n",
              "      <td>0.101100</td>\n",
              "      <td>0.172848</td>\n",
              "      <td>0.962092</td>\n",
              "      <td>0.960066</td>\n",
              "      <td>0.959799</td>\n",
              "      <td>0.962092</td>\n",
              "      <td>[[3096, 63, 8, 15, 13], [16, 2350, 0, 0, 0], [22, 0, 143, 1, 0], [52, 4, 0, 38, 0], [28, 2, 0, 0, 58]]</td>\n",
              "    </tr>\n",
              "    <tr>\n",
              "      <td>2</td>\n",
              "      <td>0.104500</td>\n",
              "      <td>0.151159</td>\n",
              "      <td>0.960230</td>\n",
              "      <td>0.959102</td>\n",
              "      <td>0.959064</td>\n",
              "      <td>0.960230</td>\n",
              "      <td>[[3063, 94, 7, 24, 7], [6, 2360, 0, 0, 0], [20, 2, 141, 2, 1], [44, 1, 0, 49, 0], [23, 4, 0, 0, 61]]</td>\n",
              "    </tr>\n",
              "    <tr>\n",
              "      <td>3</td>\n",
              "      <td>0.178800</td>\n",
              "      <td>0.143816</td>\n",
              "      <td>0.966153</td>\n",
              "      <td>0.966017</td>\n",
              "      <td>0.965983</td>\n",
              "      <td>0.966153</td>\n",
              "      <td>[[3085, 52, 11, 31, 16], [18, 2347, 0, 0, 1], [18, 0, 146, 1, 1], [33, 1, 0, 60, 0], [16, 1, 0, 0, 71]]</td>\n",
              "    </tr>\n",
              "  </tbody>\n",
              "</table><p>"
            ]
          },
          "metadata": {}
        },
        {
          "output_type": "stream",
          "name": "stderr",
          "text": [
            "Trainer is attempting to log a value of \"[[3096, 63, 8, 15, 13], [16, 2350, 0, 0, 0], [22, 0, 143, 1, 0], [52, 4, 0, 38, 0], [28, 2, 0, 0, 58]]\" of type <class 'list'> for key \"eval/conf_matrix\" as a scalar. This invocation of Tensorboard's writer.add_scalar() is incorrect so we dropped this attribute.\n",
            "Trainer is attempting to log a value of \"[[3063, 94, 7, 24, 7], [6, 2360, 0, 0, 0], [20, 2, 141, 2, 1], [44, 1, 0, 49, 0], [23, 4, 0, 0, 61]]\" of type <class 'list'> for key \"eval/conf_matrix\" as a scalar. This invocation of Tensorboard's writer.add_scalar() is incorrect so we dropped this attribute.\n",
            "Trainer is attempting to log a value of \"[[3085, 52, 11, 31, 16], [18, 2347, 0, 0, 1], [18, 0, 146, 1, 1], [33, 1, 0, 60, 0], [16, 1, 0, 0, 71]]\" of type <class 'list'> for key \"eval/conf_matrix\" as a scalar. This invocation of Tensorboard's writer.add_scalar() is incorrect so we dropped this attribute.\n"
          ]
        },
        {
          "output_type": "execute_result",
          "data": {
            "text/plain": [
              "TrainOutput(global_step=3324, training_loss=0.17317612418987835, metrics={'train_runtime': 1319.914, 'train_samples_per_second': 40.289, 'train_steps_per_second': 2.518, 'total_flos': 1.3992096579950592e+16, 'train_loss': 0.17317612418987835, 'epoch': 3.0})"
            ]
          },
          "metadata": {},
          "execution_count": 76
        }
      ]
    },
    {
      "cell_type": "code",
      "source": [],
      "metadata": {
        "id": "1BYAqsMMNEoh"
      },
      "execution_count": null,
      "outputs": []
    },
    {
      "cell_type": "code",
      "source": [
        "#testing mbert swahili model on testing dataset\n",
        "mbert_test_swahili = mbert_trainer_swahili.evaluate(eval_dataset=swahili_ready_testing)"
      ],
      "metadata": {
        "colab": {
          "base_uri": "https://localhost:8080/",
          "height": 74
        },
        "id": "mwF6HARprPfF",
        "outputId": "0710ee02-a280-49e1-d728-e8e98d39c25f"
      },
      "execution_count": 81,
      "outputs": [
        {
          "output_type": "display_data",
          "data": {
            "text/plain": [
              "<IPython.core.display.HTML object>"
            ],
            "text/html": [
              "\n",
              "    <div>\n",
              "      \n",
              "      <progress value='740' max='370' style='width:300px; height:20px; vertical-align: middle;'></progress>\n",
              "      [370/370 2:52:33]\n",
              "    </div>\n",
              "    "
            ]
          },
          "metadata": {}
        },
        {
          "output_type": "stream",
          "name": "stderr",
          "text": [
            "Trainer is attempting to log a value of \"[[2911, 72, 29, 99, 59], [93, 277, 1, 0, 8], [16, 1, 550, 5, 20], [73, 0, 4, 118, 0], [10, 4, 25, 0, 1534]]\" of type <class 'list'> for key \"eval/conf_matrix\" as a scalar. This invocation of Tensorboard's writer.add_scalar() is incorrect so we dropped this attribute.\n"
          ]
        }
      ]
    },
    {
      "cell_type": "code",
      "source": [
        "#mbert_trainer_swahili.evaluate(eval_dataset=swahili_ready_testing)"
      ],
      "metadata": {
        "id": "OFOtUduVs_I0"
      },
      "execution_count": null,
      "outputs": []
    },
    {
      "cell_type": "code",
      "source": [
        "mbert_test_english = mbert_trainer_english.evaluate(eval_dataset=english_ready_testing)"
      ],
      "metadata": {
        "colab": {
          "base_uri": "https://localhost:8080/",
          "height": 74
        },
        "id": "9OaeUzMnsq9f",
        "outputId": "5a3dfa77-26e7-49a5-d064-7e585b844cdc"
      },
      "execution_count": 77,
      "outputs": [
        {
          "output_type": "display_data",
          "data": {
            "text/plain": [
              "<IPython.core.display.HTML object>"
            ],
            "text/html": [
              "\n",
              "    <div>\n",
              "      \n",
              "      <progress value='370' max='370' style='width:300px; height:20px; vertical-align: middle;'></progress>\n",
              "      [370/370 00:37]\n",
              "    </div>\n",
              "    "
            ]
          },
          "metadata": {}
        },
        {
          "output_type": "stream",
          "name": "stderr",
          "text": [
            "Trainer is attempting to log a value of \"[[3071, 62, 7, 35, 16], [24, 2284, 0, 2, 3], [29, 2, 161, 1, 3], [36, 2, 2, 66, 2], [20, 1, 0, 0, 80]]\" of type <class 'list'> for key \"eval/conf_matrix\" as a scalar. This invocation of Tensorboard's writer.add_scalar() is incorrect so we dropped this attribute.\n"
          ]
        }
      ]
    },
    {
      "cell_type": "code",
      "source": [
        "#accessing the logging  history for visualization\n",
        "training_logs_english = mbert_trainer_english.state.log_history"
      ],
      "metadata": {
        "id": "Qln3p-9fuVQ2"
      },
      "execution_count": 78,
      "outputs": []
    },
    {
      "cell_type": "code",
      "source": [
        "print(mbert_test_english)"
      ],
      "metadata": {
        "colab": {
          "base_uri": "https://localhost:8080/"
        },
        "id": "jxLakJYzmWhn",
        "outputId": "f7327a88-c3e9-411e-f11a-841f9ced3561"
      },
      "execution_count": 88,
      "outputs": [
        {
          "output_type": "stream",
          "name": "stdout",
          "text": [
            "{'eval_loss': 0.20582488179206848, 'eval_accuracy': 0.9581993569131833, 'eval_f1': 0.9578955995479915, 'eval_precision': 0.9579556943722635, 'eval_recall': 0.9581993569131833, 'eval_conf_matrix': [[3071, 62, 7, 35, 16], [24, 2284, 0, 2, 3], [29, 2, 161, 1, 3], [36, 2, 2, 66, 2], [20, 1, 0, 0, 80]], 'eval_runtime': 38.0978, 'eval_samples_per_second': 155.101, 'eval_steps_per_second': 9.712, 'epoch': 3.0}\n"
          ]
        }
      ]
    },
    {
      "cell_type": "code",
      "source": [
        "print(mbert_test_swahili)"
      ],
      "metadata": {
        "id": "1474RXGjTm_w",
        "colab": {
          "base_uri": "https://localhost:8080/"
        },
        "outputId": "8635a67f-e8d9-4184-fbff-3acdf9907542"
      },
      "execution_count": 89,
      "outputs": [
        {
          "output_type": "stream",
          "name": "stdout",
          "text": [
            "{'eval_loss': 0.4714862108230591, 'eval_accuracy': 0.9121678795058386, 'eval_f1': 0.9125165489608603, 'eval_precision': 0.9134012996831977, 'eval_recall': 0.9121678795058386, 'eval_conf_matrix': [[2911, 72, 29, 99, 59], [93, 277, 1, 0, 8], [16, 1, 550, 5, 20], [73, 0, 4, 118, 0], [10, 4, 25, 0, 1534]], 'eval_runtime': 38.0312, 'eval_samples_per_second': 155.372, 'eval_steps_per_second': 9.729, 'epoch': 3.0}\n"
          ]
        }
      ]
    }
  ]
}