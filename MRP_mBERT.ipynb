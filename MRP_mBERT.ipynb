{
  "nbformat": 4,
  "nbformat_minor": 0,
  "metadata": {
    "colab": {
      "provenance": [],
      "machine_shape": "hm",
      "gpuType": "A100",
      "authorship_tag": "ABX9TyOQpEr22sLN1CcdW1ZoJieR",
      "include_colab_link": true
    },
    "kernelspec": {
      "name": "python3",
      "display_name": "Python 3"
    },
    "language_info": {
      "name": "python"
    },
    "accelerator": "GPU",
    "widgets": {
      "application/vnd.jupyter.widget-state+json": {
        "668f5163136148408c02ccdae3b436dd": {
          "model_module": "@jupyter-widgets/controls",
          "model_name": "HBoxModel",
          "model_module_version": "1.5.0",
          "state": {
            "_dom_classes": [],
            "_model_module": "@jupyter-widgets/controls",
            "_model_module_version": "1.5.0",
            "_model_name": "HBoxModel",
            "_view_count": null,
            "_view_module": "@jupyter-widgets/controls",
            "_view_module_version": "1.5.0",
            "_view_name": "HBoxView",
            "box_style": "",
            "children": [
              "IPY_MODEL_ad87f1467e4946719b92e31f13a68de0",
              "IPY_MODEL_4dc62f74cfa04000a345570bd223b890",
              "IPY_MODEL_5464c0d0ae604ec3aff85801c0021169"
            ],
            "layout": "IPY_MODEL_e9ed2dcdacd34108a828d6651c8e04ce"
          }
        },
        "ad87f1467e4946719b92e31f13a68de0": {
          "model_module": "@jupyter-widgets/controls",
          "model_name": "HTMLModel",
          "model_module_version": "1.5.0",
          "state": {
            "_dom_classes": [],
            "_model_module": "@jupyter-widgets/controls",
            "_model_module_version": "1.5.0",
            "_model_name": "HTMLModel",
            "_view_count": null,
            "_view_module": "@jupyter-widgets/controls",
            "_view_module_version": "1.5.0",
            "_view_name": "HTMLView",
            "description": "",
            "description_tooltip": null,
            "layout": "IPY_MODEL_62df89b529014e809a4024674927aed5",
            "placeholder": "​",
            "style": "IPY_MODEL_6c05264c48314e989151aea79de34a28",
            "value": "tokenizer_config.json: 100%"
          }
        },
        "4dc62f74cfa04000a345570bd223b890": {
          "model_module": "@jupyter-widgets/controls",
          "model_name": "FloatProgressModel",
          "model_module_version": "1.5.0",
          "state": {
            "_dom_classes": [],
            "_model_module": "@jupyter-widgets/controls",
            "_model_module_version": "1.5.0",
            "_model_name": "FloatProgressModel",
            "_view_count": null,
            "_view_module": "@jupyter-widgets/controls",
            "_view_module_version": "1.5.0",
            "_view_name": "ProgressView",
            "bar_style": "success",
            "description": "",
            "description_tooltip": null,
            "layout": "IPY_MODEL_40b04a9b71824ab5a97cf0ce64421a1e",
            "max": 49,
            "min": 0,
            "orientation": "horizontal",
            "style": "IPY_MODEL_7025b0c4fe234dac87bc47492acd83c0",
            "value": 49
          }
        },
        "5464c0d0ae604ec3aff85801c0021169": {
          "model_module": "@jupyter-widgets/controls",
          "model_name": "HTMLModel",
          "model_module_version": "1.5.0",
          "state": {
            "_dom_classes": [],
            "_model_module": "@jupyter-widgets/controls",
            "_model_module_version": "1.5.0",
            "_model_name": "HTMLModel",
            "_view_count": null,
            "_view_module": "@jupyter-widgets/controls",
            "_view_module_version": "1.5.0",
            "_view_name": "HTMLView",
            "description": "",
            "description_tooltip": null,
            "layout": "IPY_MODEL_071f34ea7b644de8a58ca2def8346f30",
            "placeholder": "​",
            "style": "IPY_MODEL_9eb6a970266145c1b966a2da762ce62c",
            "value": " 49.0/49.0 [00:00&lt;00:00, 3.78kB/s]"
          }
        },
        "e9ed2dcdacd34108a828d6651c8e04ce": {
          "model_module": "@jupyter-widgets/base",
          "model_name": "LayoutModel",
          "model_module_version": "1.2.0",
          "state": {
            "_model_module": "@jupyter-widgets/base",
            "_model_module_version": "1.2.0",
            "_model_name": "LayoutModel",
            "_view_count": null,
            "_view_module": "@jupyter-widgets/base",
            "_view_module_version": "1.2.0",
            "_view_name": "LayoutView",
            "align_content": null,
            "align_items": null,
            "align_self": null,
            "border": null,
            "bottom": null,
            "display": null,
            "flex": null,
            "flex_flow": null,
            "grid_area": null,
            "grid_auto_columns": null,
            "grid_auto_flow": null,
            "grid_auto_rows": null,
            "grid_column": null,
            "grid_gap": null,
            "grid_row": null,
            "grid_template_areas": null,
            "grid_template_columns": null,
            "grid_template_rows": null,
            "height": null,
            "justify_content": null,
            "justify_items": null,
            "left": null,
            "margin": null,
            "max_height": null,
            "max_width": null,
            "min_height": null,
            "min_width": null,
            "object_fit": null,
            "object_position": null,
            "order": null,
            "overflow": null,
            "overflow_x": null,
            "overflow_y": null,
            "padding": null,
            "right": null,
            "top": null,
            "visibility": null,
            "width": null
          }
        },
        "62df89b529014e809a4024674927aed5": {
          "model_module": "@jupyter-widgets/base",
          "model_name": "LayoutModel",
          "model_module_version": "1.2.0",
          "state": {
            "_model_module": "@jupyter-widgets/base",
            "_model_module_version": "1.2.0",
            "_model_name": "LayoutModel",
            "_view_count": null,
            "_view_module": "@jupyter-widgets/base",
            "_view_module_version": "1.2.0",
            "_view_name": "LayoutView",
            "align_content": null,
            "align_items": null,
            "align_self": null,
            "border": null,
            "bottom": null,
            "display": null,
            "flex": null,
            "flex_flow": null,
            "grid_area": null,
            "grid_auto_columns": null,
            "grid_auto_flow": null,
            "grid_auto_rows": null,
            "grid_column": null,
            "grid_gap": null,
            "grid_row": null,
            "grid_template_areas": null,
            "grid_template_columns": null,
            "grid_template_rows": null,
            "height": null,
            "justify_content": null,
            "justify_items": null,
            "left": null,
            "margin": null,
            "max_height": null,
            "max_width": null,
            "min_height": null,
            "min_width": null,
            "object_fit": null,
            "object_position": null,
            "order": null,
            "overflow": null,
            "overflow_x": null,
            "overflow_y": null,
            "padding": null,
            "right": null,
            "top": null,
            "visibility": null,
            "width": null
          }
        },
        "6c05264c48314e989151aea79de34a28": {
          "model_module": "@jupyter-widgets/controls",
          "model_name": "DescriptionStyleModel",
          "model_module_version": "1.5.0",
          "state": {
            "_model_module": "@jupyter-widgets/controls",
            "_model_module_version": "1.5.0",
            "_model_name": "DescriptionStyleModel",
            "_view_count": null,
            "_view_module": "@jupyter-widgets/base",
            "_view_module_version": "1.2.0",
            "_view_name": "StyleView",
            "description_width": ""
          }
        },
        "40b04a9b71824ab5a97cf0ce64421a1e": {
          "model_module": "@jupyter-widgets/base",
          "model_name": "LayoutModel",
          "model_module_version": "1.2.0",
          "state": {
            "_model_module": "@jupyter-widgets/base",
            "_model_module_version": "1.2.0",
            "_model_name": "LayoutModel",
            "_view_count": null,
            "_view_module": "@jupyter-widgets/base",
            "_view_module_version": "1.2.0",
            "_view_name": "LayoutView",
            "align_content": null,
            "align_items": null,
            "align_self": null,
            "border": null,
            "bottom": null,
            "display": null,
            "flex": null,
            "flex_flow": null,
            "grid_area": null,
            "grid_auto_columns": null,
            "grid_auto_flow": null,
            "grid_auto_rows": null,
            "grid_column": null,
            "grid_gap": null,
            "grid_row": null,
            "grid_template_areas": null,
            "grid_template_columns": null,
            "grid_template_rows": null,
            "height": null,
            "justify_content": null,
            "justify_items": null,
            "left": null,
            "margin": null,
            "max_height": null,
            "max_width": null,
            "min_height": null,
            "min_width": null,
            "object_fit": null,
            "object_position": null,
            "order": null,
            "overflow": null,
            "overflow_x": null,
            "overflow_y": null,
            "padding": null,
            "right": null,
            "top": null,
            "visibility": null,
            "width": null
          }
        },
        "7025b0c4fe234dac87bc47492acd83c0": {
          "model_module": "@jupyter-widgets/controls",
          "model_name": "ProgressStyleModel",
          "model_module_version": "1.5.0",
          "state": {
            "_model_module": "@jupyter-widgets/controls",
            "_model_module_version": "1.5.0",
            "_model_name": "ProgressStyleModel",
            "_view_count": null,
            "_view_module": "@jupyter-widgets/base",
            "_view_module_version": "1.2.0",
            "_view_name": "StyleView",
            "bar_color": null,
            "description_width": ""
          }
        },
        "071f34ea7b644de8a58ca2def8346f30": {
          "model_module": "@jupyter-widgets/base",
          "model_name": "LayoutModel",
          "model_module_version": "1.2.0",
          "state": {
            "_model_module": "@jupyter-widgets/base",
            "_model_module_version": "1.2.0",
            "_model_name": "LayoutModel",
            "_view_count": null,
            "_view_module": "@jupyter-widgets/base",
            "_view_module_version": "1.2.0",
            "_view_name": "LayoutView",
            "align_content": null,
            "align_items": null,
            "align_self": null,
            "border": null,
            "bottom": null,
            "display": null,
            "flex": null,
            "flex_flow": null,
            "grid_area": null,
            "grid_auto_columns": null,
            "grid_auto_flow": null,
            "grid_auto_rows": null,
            "grid_column": null,
            "grid_gap": null,
            "grid_row": null,
            "grid_template_areas": null,
            "grid_template_columns": null,
            "grid_template_rows": null,
            "height": null,
            "justify_content": null,
            "justify_items": null,
            "left": null,
            "margin": null,
            "max_height": null,
            "max_width": null,
            "min_height": null,
            "min_width": null,
            "object_fit": null,
            "object_position": null,
            "order": null,
            "overflow": null,
            "overflow_x": null,
            "overflow_y": null,
            "padding": null,
            "right": null,
            "top": null,
            "visibility": null,
            "width": null
          }
        },
        "9eb6a970266145c1b966a2da762ce62c": {
          "model_module": "@jupyter-widgets/controls",
          "model_name": "DescriptionStyleModel",
          "model_module_version": "1.5.0",
          "state": {
            "_model_module": "@jupyter-widgets/controls",
            "_model_module_version": "1.5.0",
            "_model_name": "DescriptionStyleModel",
            "_view_count": null,
            "_view_module": "@jupyter-widgets/base",
            "_view_module_version": "1.2.0",
            "_view_name": "StyleView",
            "description_width": ""
          }
        },
        "45d8333c1e0044de91444b60776c6a99": {
          "model_module": "@jupyter-widgets/controls",
          "model_name": "HBoxModel",
          "model_module_version": "1.5.0",
          "state": {
            "_dom_classes": [],
            "_model_module": "@jupyter-widgets/controls",
            "_model_module_version": "1.5.0",
            "_model_name": "HBoxModel",
            "_view_count": null,
            "_view_module": "@jupyter-widgets/controls",
            "_view_module_version": "1.5.0",
            "_view_name": "HBoxView",
            "box_style": "",
            "children": [
              "IPY_MODEL_bcf1d74838534bd8b34f3c31c1a708a8",
              "IPY_MODEL_0dd759d9b21b409a8b3f3014b95c7b08",
              "IPY_MODEL_9f807948fa004dbca7560b7c335715e5"
            ],
            "layout": "IPY_MODEL_a9a6efde4e2a4c8c834a1c3360312feb"
          }
        },
        "bcf1d74838534bd8b34f3c31c1a708a8": {
          "model_module": "@jupyter-widgets/controls",
          "model_name": "HTMLModel",
          "model_module_version": "1.5.0",
          "state": {
            "_dom_classes": [],
            "_model_module": "@jupyter-widgets/controls",
            "_model_module_version": "1.5.0",
            "_model_name": "HTMLModel",
            "_view_count": null,
            "_view_module": "@jupyter-widgets/controls",
            "_view_module_version": "1.5.0",
            "_view_name": "HTMLView",
            "description": "",
            "description_tooltip": null,
            "layout": "IPY_MODEL_3261d1adb1974c8aa7d8eec9b3d366d6",
            "placeholder": "​",
            "style": "IPY_MODEL_fa28572e8c1a4e7daf287c69f2ea49d8",
            "value": "vocab.txt: 100%"
          }
        },
        "0dd759d9b21b409a8b3f3014b95c7b08": {
          "model_module": "@jupyter-widgets/controls",
          "model_name": "FloatProgressModel",
          "model_module_version": "1.5.0",
          "state": {
            "_dom_classes": [],
            "_model_module": "@jupyter-widgets/controls",
            "_model_module_version": "1.5.0",
            "_model_name": "FloatProgressModel",
            "_view_count": null,
            "_view_module": "@jupyter-widgets/controls",
            "_view_module_version": "1.5.0",
            "_view_name": "ProgressView",
            "bar_style": "success",
            "description": "",
            "description_tooltip": null,
            "layout": "IPY_MODEL_426731500a534a958932ce1cdf53abbf",
            "max": 995526,
            "min": 0,
            "orientation": "horizontal",
            "style": "IPY_MODEL_79b2fedbf695453386f60470a068d77e",
            "value": 995526
          }
        },
        "9f807948fa004dbca7560b7c335715e5": {
          "model_module": "@jupyter-widgets/controls",
          "model_name": "HTMLModel",
          "model_module_version": "1.5.0",
          "state": {
            "_dom_classes": [],
            "_model_module": "@jupyter-widgets/controls",
            "_model_module_version": "1.5.0",
            "_model_name": "HTMLModel",
            "_view_count": null,
            "_view_module": "@jupyter-widgets/controls",
            "_view_module_version": "1.5.0",
            "_view_name": "HTMLView",
            "description": "",
            "description_tooltip": null,
            "layout": "IPY_MODEL_bd64186c20af4ec9b204cbfa7a4a49ab",
            "placeholder": "​",
            "style": "IPY_MODEL_6e499e26bbe64f36a0d8c8816922bc90",
            "value": " 996k/996k [00:00&lt;00:00, 10.5MB/s]"
          }
        },
        "a9a6efde4e2a4c8c834a1c3360312feb": {
          "model_module": "@jupyter-widgets/base",
          "model_name": "LayoutModel",
          "model_module_version": "1.2.0",
          "state": {
            "_model_module": "@jupyter-widgets/base",
            "_model_module_version": "1.2.0",
            "_model_name": "LayoutModel",
            "_view_count": null,
            "_view_module": "@jupyter-widgets/base",
            "_view_module_version": "1.2.0",
            "_view_name": "LayoutView",
            "align_content": null,
            "align_items": null,
            "align_self": null,
            "border": null,
            "bottom": null,
            "display": null,
            "flex": null,
            "flex_flow": null,
            "grid_area": null,
            "grid_auto_columns": null,
            "grid_auto_flow": null,
            "grid_auto_rows": null,
            "grid_column": null,
            "grid_gap": null,
            "grid_row": null,
            "grid_template_areas": null,
            "grid_template_columns": null,
            "grid_template_rows": null,
            "height": null,
            "justify_content": null,
            "justify_items": null,
            "left": null,
            "margin": null,
            "max_height": null,
            "max_width": null,
            "min_height": null,
            "min_width": null,
            "object_fit": null,
            "object_position": null,
            "order": null,
            "overflow": null,
            "overflow_x": null,
            "overflow_y": null,
            "padding": null,
            "right": null,
            "top": null,
            "visibility": null,
            "width": null
          }
        },
        "3261d1adb1974c8aa7d8eec9b3d366d6": {
          "model_module": "@jupyter-widgets/base",
          "model_name": "LayoutModel",
          "model_module_version": "1.2.0",
          "state": {
            "_model_module": "@jupyter-widgets/base",
            "_model_module_version": "1.2.0",
            "_model_name": "LayoutModel",
            "_view_count": null,
            "_view_module": "@jupyter-widgets/base",
            "_view_module_version": "1.2.0",
            "_view_name": "LayoutView",
            "align_content": null,
            "align_items": null,
            "align_self": null,
            "border": null,
            "bottom": null,
            "display": null,
            "flex": null,
            "flex_flow": null,
            "grid_area": null,
            "grid_auto_columns": null,
            "grid_auto_flow": null,
            "grid_auto_rows": null,
            "grid_column": null,
            "grid_gap": null,
            "grid_row": null,
            "grid_template_areas": null,
            "grid_template_columns": null,
            "grid_template_rows": null,
            "height": null,
            "justify_content": null,
            "justify_items": null,
            "left": null,
            "margin": null,
            "max_height": null,
            "max_width": null,
            "min_height": null,
            "min_width": null,
            "object_fit": null,
            "object_position": null,
            "order": null,
            "overflow": null,
            "overflow_x": null,
            "overflow_y": null,
            "padding": null,
            "right": null,
            "top": null,
            "visibility": null,
            "width": null
          }
        },
        "fa28572e8c1a4e7daf287c69f2ea49d8": {
          "model_module": "@jupyter-widgets/controls",
          "model_name": "DescriptionStyleModel",
          "model_module_version": "1.5.0",
          "state": {
            "_model_module": "@jupyter-widgets/controls",
            "_model_module_version": "1.5.0",
            "_model_name": "DescriptionStyleModel",
            "_view_count": null,
            "_view_module": "@jupyter-widgets/base",
            "_view_module_version": "1.2.0",
            "_view_name": "StyleView",
            "description_width": ""
          }
        },
        "426731500a534a958932ce1cdf53abbf": {
          "model_module": "@jupyter-widgets/base",
          "model_name": "LayoutModel",
          "model_module_version": "1.2.0",
          "state": {
            "_model_module": "@jupyter-widgets/base",
            "_model_module_version": "1.2.0",
            "_model_name": "LayoutModel",
            "_view_count": null,
            "_view_module": "@jupyter-widgets/base",
            "_view_module_version": "1.2.0",
            "_view_name": "LayoutView",
            "align_content": null,
            "align_items": null,
            "align_self": null,
            "border": null,
            "bottom": null,
            "display": null,
            "flex": null,
            "flex_flow": null,
            "grid_area": null,
            "grid_auto_columns": null,
            "grid_auto_flow": null,
            "grid_auto_rows": null,
            "grid_column": null,
            "grid_gap": null,
            "grid_row": null,
            "grid_template_areas": null,
            "grid_template_columns": null,
            "grid_template_rows": null,
            "height": null,
            "justify_content": null,
            "justify_items": null,
            "left": null,
            "margin": null,
            "max_height": null,
            "max_width": null,
            "min_height": null,
            "min_width": null,
            "object_fit": null,
            "object_position": null,
            "order": null,
            "overflow": null,
            "overflow_x": null,
            "overflow_y": null,
            "padding": null,
            "right": null,
            "top": null,
            "visibility": null,
            "width": null
          }
        },
        "79b2fedbf695453386f60470a068d77e": {
          "model_module": "@jupyter-widgets/controls",
          "model_name": "ProgressStyleModel",
          "model_module_version": "1.5.0",
          "state": {
            "_model_module": "@jupyter-widgets/controls",
            "_model_module_version": "1.5.0",
            "_model_name": "ProgressStyleModel",
            "_view_count": null,
            "_view_module": "@jupyter-widgets/base",
            "_view_module_version": "1.2.0",
            "_view_name": "StyleView",
            "bar_color": null,
            "description_width": ""
          }
        },
        "bd64186c20af4ec9b204cbfa7a4a49ab": {
          "model_module": "@jupyter-widgets/base",
          "model_name": "LayoutModel",
          "model_module_version": "1.2.0",
          "state": {
            "_model_module": "@jupyter-widgets/base",
            "_model_module_version": "1.2.0",
            "_model_name": "LayoutModel",
            "_view_count": null,
            "_view_module": "@jupyter-widgets/base",
            "_view_module_version": "1.2.0",
            "_view_name": "LayoutView",
            "align_content": null,
            "align_items": null,
            "align_self": null,
            "border": null,
            "bottom": null,
            "display": null,
            "flex": null,
            "flex_flow": null,
            "grid_area": null,
            "grid_auto_columns": null,
            "grid_auto_flow": null,
            "grid_auto_rows": null,
            "grid_column": null,
            "grid_gap": null,
            "grid_row": null,
            "grid_template_areas": null,
            "grid_template_columns": null,
            "grid_template_rows": null,
            "height": null,
            "justify_content": null,
            "justify_items": null,
            "left": null,
            "margin": null,
            "max_height": null,
            "max_width": null,
            "min_height": null,
            "min_width": null,
            "object_fit": null,
            "object_position": null,
            "order": null,
            "overflow": null,
            "overflow_x": null,
            "overflow_y": null,
            "padding": null,
            "right": null,
            "top": null,
            "visibility": null,
            "width": null
          }
        },
        "6e499e26bbe64f36a0d8c8816922bc90": {
          "model_module": "@jupyter-widgets/controls",
          "model_name": "DescriptionStyleModel",
          "model_module_version": "1.5.0",
          "state": {
            "_model_module": "@jupyter-widgets/controls",
            "_model_module_version": "1.5.0",
            "_model_name": "DescriptionStyleModel",
            "_view_count": null,
            "_view_module": "@jupyter-widgets/base",
            "_view_module_version": "1.2.0",
            "_view_name": "StyleView",
            "description_width": ""
          }
        },
        "baeac57c4b1b46c496a2012491a1cb90": {
          "model_module": "@jupyter-widgets/controls",
          "model_name": "HBoxModel",
          "model_module_version": "1.5.0",
          "state": {
            "_dom_classes": [],
            "_model_module": "@jupyter-widgets/controls",
            "_model_module_version": "1.5.0",
            "_model_name": "HBoxModel",
            "_view_count": null,
            "_view_module": "@jupyter-widgets/controls",
            "_view_module_version": "1.5.0",
            "_view_name": "HBoxView",
            "box_style": "",
            "children": [
              "IPY_MODEL_23c950ce0c22471e8824306f3c02cfd2",
              "IPY_MODEL_f092b9c853a34e6eab8d04fb8d25c296",
              "IPY_MODEL_0d5fe5e29c694d1b940be63d9a836ded"
            ],
            "layout": "IPY_MODEL_0e02145664234086b5000436f275c9d4"
          }
        },
        "23c950ce0c22471e8824306f3c02cfd2": {
          "model_module": "@jupyter-widgets/controls",
          "model_name": "HTMLModel",
          "model_module_version": "1.5.0",
          "state": {
            "_dom_classes": [],
            "_model_module": "@jupyter-widgets/controls",
            "_model_module_version": "1.5.0",
            "_model_name": "HTMLModel",
            "_view_count": null,
            "_view_module": "@jupyter-widgets/controls",
            "_view_module_version": "1.5.0",
            "_view_name": "HTMLView",
            "description": "",
            "description_tooltip": null,
            "layout": "IPY_MODEL_beca0f65a9f64c52a04a9b98496d49c6",
            "placeholder": "​",
            "style": "IPY_MODEL_2b1173c228644d2a9bb08cfea566daf5",
            "value": "tokenizer.json: 100%"
          }
        },
        "f092b9c853a34e6eab8d04fb8d25c296": {
          "model_module": "@jupyter-widgets/controls",
          "model_name": "FloatProgressModel",
          "model_module_version": "1.5.0",
          "state": {
            "_dom_classes": [],
            "_model_module": "@jupyter-widgets/controls",
            "_model_module_version": "1.5.0",
            "_model_name": "FloatProgressModel",
            "_view_count": null,
            "_view_module": "@jupyter-widgets/controls",
            "_view_module_version": "1.5.0",
            "_view_name": "ProgressView",
            "bar_style": "success",
            "description": "",
            "description_tooltip": null,
            "layout": "IPY_MODEL_2493841e715f4d4f964285fb9a174d84",
            "max": 1961828,
            "min": 0,
            "orientation": "horizontal",
            "style": "IPY_MODEL_b5a238bee5b549fba99e87143e4eb213",
            "value": 1961828
          }
        },
        "0d5fe5e29c694d1b940be63d9a836ded": {
          "model_module": "@jupyter-widgets/controls",
          "model_name": "HTMLModel",
          "model_module_version": "1.5.0",
          "state": {
            "_dom_classes": [],
            "_model_module": "@jupyter-widgets/controls",
            "_model_module_version": "1.5.0",
            "_model_name": "HTMLModel",
            "_view_count": null,
            "_view_module": "@jupyter-widgets/controls",
            "_view_module_version": "1.5.0",
            "_view_name": "HTMLView",
            "description": "",
            "description_tooltip": null,
            "layout": "IPY_MODEL_bae85d8811e2482095fb2faef563f63b",
            "placeholder": "​",
            "style": "IPY_MODEL_0cfb25ebdb8e4bb9bb92e4c54f4629a3",
            "value": " 1.96M/1.96M [00:00&lt;00:00, 10.4MB/s]"
          }
        },
        "0e02145664234086b5000436f275c9d4": {
          "model_module": "@jupyter-widgets/base",
          "model_name": "LayoutModel",
          "model_module_version": "1.2.0",
          "state": {
            "_model_module": "@jupyter-widgets/base",
            "_model_module_version": "1.2.0",
            "_model_name": "LayoutModel",
            "_view_count": null,
            "_view_module": "@jupyter-widgets/base",
            "_view_module_version": "1.2.0",
            "_view_name": "LayoutView",
            "align_content": null,
            "align_items": null,
            "align_self": null,
            "border": null,
            "bottom": null,
            "display": null,
            "flex": null,
            "flex_flow": null,
            "grid_area": null,
            "grid_auto_columns": null,
            "grid_auto_flow": null,
            "grid_auto_rows": null,
            "grid_column": null,
            "grid_gap": null,
            "grid_row": null,
            "grid_template_areas": null,
            "grid_template_columns": null,
            "grid_template_rows": null,
            "height": null,
            "justify_content": null,
            "justify_items": null,
            "left": null,
            "margin": null,
            "max_height": null,
            "max_width": null,
            "min_height": null,
            "min_width": null,
            "object_fit": null,
            "object_position": null,
            "order": null,
            "overflow": null,
            "overflow_x": null,
            "overflow_y": null,
            "padding": null,
            "right": null,
            "top": null,
            "visibility": null,
            "width": null
          }
        },
        "beca0f65a9f64c52a04a9b98496d49c6": {
          "model_module": "@jupyter-widgets/base",
          "model_name": "LayoutModel",
          "model_module_version": "1.2.0",
          "state": {
            "_model_module": "@jupyter-widgets/base",
            "_model_module_version": "1.2.0",
            "_model_name": "LayoutModel",
            "_view_count": null,
            "_view_module": "@jupyter-widgets/base",
            "_view_module_version": "1.2.0",
            "_view_name": "LayoutView",
            "align_content": null,
            "align_items": null,
            "align_self": null,
            "border": null,
            "bottom": null,
            "display": null,
            "flex": null,
            "flex_flow": null,
            "grid_area": null,
            "grid_auto_columns": null,
            "grid_auto_flow": null,
            "grid_auto_rows": null,
            "grid_column": null,
            "grid_gap": null,
            "grid_row": null,
            "grid_template_areas": null,
            "grid_template_columns": null,
            "grid_template_rows": null,
            "height": null,
            "justify_content": null,
            "justify_items": null,
            "left": null,
            "margin": null,
            "max_height": null,
            "max_width": null,
            "min_height": null,
            "min_width": null,
            "object_fit": null,
            "object_position": null,
            "order": null,
            "overflow": null,
            "overflow_x": null,
            "overflow_y": null,
            "padding": null,
            "right": null,
            "top": null,
            "visibility": null,
            "width": null
          }
        },
        "2b1173c228644d2a9bb08cfea566daf5": {
          "model_module": "@jupyter-widgets/controls",
          "model_name": "DescriptionStyleModel",
          "model_module_version": "1.5.0",
          "state": {
            "_model_module": "@jupyter-widgets/controls",
            "_model_module_version": "1.5.0",
            "_model_name": "DescriptionStyleModel",
            "_view_count": null,
            "_view_module": "@jupyter-widgets/base",
            "_view_module_version": "1.2.0",
            "_view_name": "StyleView",
            "description_width": ""
          }
        },
        "2493841e715f4d4f964285fb9a174d84": {
          "model_module": "@jupyter-widgets/base",
          "model_name": "LayoutModel",
          "model_module_version": "1.2.0",
          "state": {
            "_model_module": "@jupyter-widgets/base",
            "_model_module_version": "1.2.0",
            "_model_name": "LayoutModel",
            "_view_count": null,
            "_view_module": "@jupyter-widgets/base",
            "_view_module_version": "1.2.0",
            "_view_name": "LayoutView",
            "align_content": null,
            "align_items": null,
            "align_self": null,
            "border": null,
            "bottom": null,
            "display": null,
            "flex": null,
            "flex_flow": null,
            "grid_area": null,
            "grid_auto_columns": null,
            "grid_auto_flow": null,
            "grid_auto_rows": null,
            "grid_column": null,
            "grid_gap": null,
            "grid_row": null,
            "grid_template_areas": null,
            "grid_template_columns": null,
            "grid_template_rows": null,
            "height": null,
            "justify_content": null,
            "justify_items": null,
            "left": null,
            "margin": null,
            "max_height": null,
            "max_width": null,
            "min_height": null,
            "min_width": null,
            "object_fit": null,
            "object_position": null,
            "order": null,
            "overflow": null,
            "overflow_x": null,
            "overflow_y": null,
            "padding": null,
            "right": null,
            "top": null,
            "visibility": null,
            "width": null
          }
        },
        "b5a238bee5b549fba99e87143e4eb213": {
          "model_module": "@jupyter-widgets/controls",
          "model_name": "ProgressStyleModel",
          "model_module_version": "1.5.0",
          "state": {
            "_model_module": "@jupyter-widgets/controls",
            "_model_module_version": "1.5.0",
            "_model_name": "ProgressStyleModel",
            "_view_count": null,
            "_view_module": "@jupyter-widgets/base",
            "_view_module_version": "1.2.0",
            "_view_name": "StyleView",
            "bar_color": null,
            "description_width": ""
          }
        },
        "bae85d8811e2482095fb2faef563f63b": {
          "model_module": "@jupyter-widgets/base",
          "model_name": "LayoutModel",
          "model_module_version": "1.2.0",
          "state": {
            "_model_module": "@jupyter-widgets/base",
            "_model_module_version": "1.2.0",
            "_model_name": "LayoutModel",
            "_view_count": null,
            "_view_module": "@jupyter-widgets/base",
            "_view_module_version": "1.2.0",
            "_view_name": "LayoutView",
            "align_content": null,
            "align_items": null,
            "align_self": null,
            "border": null,
            "bottom": null,
            "display": null,
            "flex": null,
            "flex_flow": null,
            "grid_area": null,
            "grid_auto_columns": null,
            "grid_auto_flow": null,
            "grid_auto_rows": null,
            "grid_column": null,
            "grid_gap": null,
            "grid_row": null,
            "grid_template_areas": null,
            "grid_template_columns": null,
            "grid_template_rows": null,
            "height": null,
            "justify_content": null,
            "justify_items": null,
            "left": null,
            "margin": null,
            "max_height": null,
            "max_width": null,
            "min_height": null,
            "min_width": null,
            "object_fit": null,
            "object_position": null,
            "order": null,
            "overflow": null,
            "overflow_x": null,
            "overflow_y": null,
            "padding": null,
            "right": null,
            "top": null,
            "visibility": null,
            "width": null
          }
        },
        "0cfb25ebdb8e4bb9bb92e4c54f4629a3": {
          "model_module": "@jupyter-widgets/controls",
          "model_name": "DescriptionStyleModel",
          "model_module_version": "1.5.0",
          "state": {
            "_model_module": "@jupyter-widgets/controls",
            "_model_module_version": "1.5.0",
            "_model_name": "DescriptionStyleModel",
            "_view_count": null,
            "_view_module": "@jupyter-widgets/base",
            "_view_module_version": "1.2.0",
            "_view_name": "StyleView",
            "description_width": ""
          }
        },
        "2297422a43994e8196ed7eae40ab032e": {
          "model_module": "@jupyter-widgets/controls",
          "model_name": "HBoxModel",
          "model_module_version": "1.5.0",
          "state": {
            "_dom_classes": [],
            "_model_module": "@jupyter-widgets/controls",
            "_model_module_version": "1.5.0",
            "_model_name": "HBoxModel",
            "_view_count": null,
            "_view_module": "@jupyter-widgets/controls",
            "_view_module_version": "1.5.0",
            "_view_name": "HBoxView",
            "box_style": "",
            "children": [
              "IPY_MODEL_5b454ca0110b43aba08ae5f682959e56",
              "IPY_MODEL_76e9d7003df64711b0773da0f7dd2dfc",
              "IPY_MODEL_5ba21f59efb94938af7cc84bfd157178"
            ],
            "layout": "IPY_MODEL_fcceccc0a4664f5db9f49371b14fec95"
          }
        },
        "5b454ca0110b43aba08ae5f682959e56": {
          "model_module": "@jupyter-widgets/controls",
          "model_name": "HTMLModel",
          "model_module_version": "1.5.0",
          "state": {
            "_dom_classes": [],
            "_model_module": "@jupyter-widgets/controls",
            "_model_module_version": "1.5.0",
            "_model_name": "HTMLModel",
            "_view_count": null,
            "_view_module": "@jupyter-widgets/controls",
            "_view_module_version": "1.5.0",
            "_view_name": "HTMLView",
            "description": "",
            "description_tooltip": null,
            "layout": "IPY_MODEL_583afa14a52347249801bda16586822e",
            "placeholder": "​",
            "style": "IPY_MODEL_4fbb22b7625d473e90a5a879d3aeab5d",
            "value": "config.json: 100%"
          }
        },
        "76e9d7003df64711b0773da0f7dd2dfc": {
          "model_module": "@jupyter-widgets/controls",
          "model_name": "FloatProgressModel",
          "model_module_version": "1.5.0",
          "state": {
            "_dom_classes": [],
            "_model_module": "@jupyter-widgets/controls",
            "_model_module_version": "1.5.0",
            "_model_name": "FloatProgressModel",
            "_view_count": null,
            "_view_module": "@jupyter-widgets/controls",
            "_view_module_version": "1.5.0",
            "_view_name": "ProgressView",
            "bar_style": "success",
            "description": "",
            "description_tooltip": null,
            "layout": "IPY_MODEL_850c5c51518d4ee78754b5e7ec33620b",
            "max": 625,
            "min": 0,
            "orientation": "horizontal",
            "style": "IPY_MODEL_1900d17c2500473d85e5383c2f44c050",
            "value": 625
          }
        },
        "5ba21f59efb94938af7cc84bfd157178": {
          "model_module": "@jupyter-widgets/controls",
          "model_name": "HTMLModel",
          "model_module_version": "1.5.0",
          "state": {
            "_dom_classes": [],
            "_model_module": "@jupyter-widgets/controls",
            "_model_module_version": "1.5.0",
            "_model_name": "HTMLModel",
            "_view_count": null,
            "_view_module": "@jupyter-widgets/controls",
            "_view_module_version": "1.5.0",
            "_view_name": "HTMLView",
            "description": "",
            "description_tooltip": null,
            "layout": "IPY_MODEL_e1098bcac3dc47e6b1be872967a1988c",
            "placeholder": "​",
            "style": "IPY_MODEL_8358fe23dc4b4a5ca078ad363691ae92",
            "value": " 625/625 [00:00&lt;00:00, 49.7kB/s]"
          }
        },
        "fcceccc0a4664f5db9f49371b14fec95": {
          "model_module": "@jupyter-widgets/base",
          "model_name": "LayoutModel",
          "model_module_version": "1.2.0",
          "state": {
            "_model_module": "@jupyter-widgets/base",
            "_model_module_version": "1.2.0",
            "_model_name": "LayoutModel",
            "_view_count": null,
            "_view_module": "@jupyter-widgets/base",
            "_view_module_version": "1.2.0",
            "_view_name": "LayoutView",
            "align_content": null,
            "align_items": null,
            "align_self": null,
            "border": null,
            "bottom": null,
            "display": null,
            "flex": null,
            "flex_flow": null,
            "grid_area": null,
            "grid_auto_columns": null,
            "grid_auto_flow": null,
            "grid_auto_rows": null,
            "grid_column": null,
            "grid_gap": null,
            "grid_row": null,
            "grid_template_areas": null,
            "grid_template_columns": null,
            "grid_template_rows": null,
            "height": null,
            "justify_content": null,
            "justify_items": null,
            "left": null,
            "margin": null,
            "max_height": null,
            "max_width": null,
            "min_height": null,
            "min_width": null,
            "object_fit": null,
            "object_position": null,
            "order": null,
            "overflow": null,
            "overflow_x": null,
            "overflow_y": null,
            "padding": null,
            "right": null,
            "top": null,
            "visibility": null,
            "width": null
          }
        },
        "583afa14a52347249801bda16586822e": {
          "model_module": "@jupyter-widgets/base",
          "model_name": "LayoutModel",
          "model_module_version": "1.2.0",
          "state": {
            "_model_module": "@jupyter-widgets/base",
            "_model_module_version": "1.2.0",
            "_model_name": "LayoutModel",
            "_view_count": null,
            "_view_module": "@jupyter-widgets/base",
            "_view_module_version": "1.2.0",
            "_view_name": "LayoutView",
            "align_content": null,
            "align_items": null,
            "align_self": null,
            "border": null,
            "bottom": null,
            "display": null,
            "flex": null,
            "flex_flow": null,
            "grid_area": null,
            "grid_auto_columns": null,
            "grid_auto_flow": null,
            "grid_auto_rows": null,
            "grid_column": null,
            "grid_gap": null,
            "grid_row": null,
            "grid_template_areas": null,
            "grid_template_columns": null,
            "grid_template_rows": null,
            "height": null,
            "justify_content": null,
            "justify_items": null,
            "left": null,
            "margin": null,
            "max_height": null,
            "max_width": null,
            "min_height": null,
            "min_width": null,
            "object_fit": null,
            "object_position": null,
            "order": null,
            "overflow": null,
            "overflow_x": null,
            "overflow_y": null,
            "padding": null,
            "right": null,
            "top": null,
            "visibility": null,
            "width": null
          }
        },
        "4fbb22b7625d473e90a5a879d3aeab5d": {
          "model_module": "@jupyter-widgets/controls",
          "model_name": "DescriptionStyleModel",
          "model_module_version": "1.5.0",
          "state": {
            "_model_module": "@jupyter-widgets/controls",
            "_model_module_version": "1.5.0",
            "_model_name": "DescriptionStyleModel",
            "_view_count": null,
            "_view_module": "@jupyter-widgets/base",
            "_view_module_version": "1.2.0",
            "_view_name": "StyleView",
            "description_width": ""
          }
        },
        "850c5c51518d4ee78754b5e7ec33620b": {
          "model_module": "@jupyter-widgets/base",
          "model_name": "LayoutModel",
          "model_module_version": "1.2.0",
          "state": {
            "_model_module": "@jupyter-widgets/base",
            "_model_module_version": "1.2.0",
            "_model_name": "LayoutModel",
            "_view_count": null,
            "_view_module": "@jupyter-widgets/base",
            "_view_module_version": "1.2.0",
            "_view_name": "LayoutView",
            "align_content": null,
            "align_items": null,
            "align_self": null,
            "border": null,
            "bottom": null,
            "display": null,
            "flex": null,
            "flex_flow": null,
            "grid_area": null,
            "grid_auto_columns": null,
            "grid_auto_flow": null,
            "grid_auto_rows": null,
            "grid_column": null,
            "grid_gap": null,
            "grid_row": null,
            "grid_template_areas": null,
            "grid_template_columns": null,
            "grid_template_rows": null,
            "height": null,
            "justify_content": null,
            "justify_items": null,
            "left": null,
            "margin": null,
            "max_height": null,
            "max_width": null,
            "min_height": null,
            "min_width": null,
            "object_fit": null,
            "object_position": null,
            "order": null,
            "overflow": null,
            "overflow_x": null,
            "overflow_y": null,
            "padding": null,
            "right": null,
            "top": null,
            "visibility": null,
            "width": null
          }
        },
        "1900d17c2500473d85e5383c2f44c050": {
          "model_module": "@jupyter-widgets/controls",
          "model_name": "ProgressStyleModel",
          "model_module_version": "1.5.0",
          "state": {
            "_model_module": "@jupyter-widgets/controls",
            "_model_module_version": "1.5.0",
            "_model_name": "ProgressStyleModel",
            "_view_count": null,
            "_view_module": "@jupyter-widgets/base",
            "_view_module_version": "1.2.0",
            "_view_name": "StyleView",
            "bar_color": null,
            "description_width": ""
          }
        },
        "e1098bcac3dc47e6b1be872967a1988c": {
          "model_module": "@jupyter-widgets/base",
          "model_name": "LayoutModel",
          "model_module_version": "1.2.0",
          "state": {
            "_model_module": "@jupyter-widgets/base",
            "_model_module_version": "1.2.0",
            "_model_name": "LayoutModel",
            "_view_count": null,
            "_view_module": "@jupyter-widgets/base",
            "_view_module_version": "1.2.0",
            "_view_name": "LayoutView",
            "align_content": null,
            "align_items": null,
            "align_self": null,
            "border": null,
            "bottom": null,
            "display": null,
            "flex": null,
            "flex_flow": null,
            "grid_area": null,
            "grid_auto_columns": null,
            "grid_auto_flow": null,
            "grid_auto_rows": null,
            "grid_column": null,
            "grid_gap": null,
            "grid_row": null,
            "grid_template_areas": null,
            "grid_template_columns": null,
            "grid_template_rows": null,
            "height": null,
            "justify_content": null,
            "justify_items": null,
            "left": null,
            "margin": null,
            "max_height": null,
            "max_width": null,
            "min_height": null,
            "min_width": null,
            "object_fit": null,
            "object_position": null,
            "order": null,
            "overflow": null,
            "overflow_x": null,
            "overflow_y": null,
            "padding": null,
            "right": null,
            "top": null,
            "visibility": null,
            "width": null
          }
        },
        "8358fe23dc4b4a5ca078ad363691ae92": {
          "model_module": "@jupyter-widgets/controls",
          "model_name": "DescriptionStyleModel",
          "model_module_version": "1.5.0",
          "state": {
            "_model_module": "@jupyter-widgets/controls",
            "_model_module_version": "1.5.0",
            "_model_name": "DescriptionStyleModel",
            "_view_count": null,
            "_view_module": "@jupyter-widgets/base",
            "_view_module_version": "1.2.0",
            "_view_name": "StyleView",
            "description_width": ""
          }
        },
        "e86de455464549a1a4f0963bb2cb192c": {
          "model_module": "@jupyter-widgets/controls",
          "model_name": "HBoxModel",
          "model_module_version": "1.5.0",
          "state": {
            "_dom_classes": [],
            "_model_module": "@jupyter-widgets/controls",
            "_model_module_version": "1.5.0",
            "_model_name": "HBoxModel",
            "_view_count": null,
            "_view_module": "@jupyter-widgets/controls",
            "_view_module_version": "1.5.0",
            "_view_name": "HBoxView",
            "box_style": "",
            "children": [
              "IPY_MODEL_88e4acd0f27447e78aa49bce43506eca",
              "IPY_MODEL_2709c32c45a84cee86340431683f69a5",
              "IPY_MODEL_2db6ab4b994b458e979fdddd94b4d9e0"
            ],
            "layout": "IPY_MODEL_bafcf1bfa5944e579a6b3c471312400c"
          }
        },
        "88e4acd0f27447e78aa49bce43506eca": {
          "model_module": "@jupyter-widgets/controls",
          "model_name": "HTMLModel",
          "model_module_version": "1.5.0",
          "state": {
            "_dom_classes": [],
            "_model_module": "@jupyter-widgets/controls",
            "_model_module_version": "1.5.0",
            "_model_name": "HTMLModel",
            "_view_count": null,
            "_view_module": "@jupyter-widgets/controls",
            "_view_module_version": "1.5.0",
            "_view_name": "HTMLView",
            "description": "",
            "description_tooltip": null,
            "layout": "IPY_MODEL_d52847fd4ca34dd9b4b71a600d1a7b10",
            "placeholder": "​",
            "style": "IPY_MODEL_52201ce9ddf14e079806704c694adce8",
            "value": "model.safetensors: 100%"
          }
        },
        "2709c32c45a84cee86340431683f69a5": {
          "model_module": "@jupyter-widgets/controls",
          "model_name": "FloatProgressModel",
          "model_module_version": "1.5.0",
          "state": {
            "_dom_classes": [],
            "_model_module": "@jupyter-widgets/controls",
            "_model_module_version": "1.5.0",
            "_model_name": "FloatProgressModel",
            "_view_count": null,
            "_view_module": "@jupyter-widgets/controls",
            "_view_module_version": "1.5.0",
            "_view_name": "ProgressView",
            "bar_style": "success",
            "description": "",
            "description_tooltip": null,
            "layout": "IPY_MODEL_3b6de0fc13d440e18b01f4697aa8dfeb",
            "max": 714290682,
            "min": 0,
            "orientation": "horizontal",
            "style": "IPY_MODEL_600a989abb1243ff849a00f282f70b53",
            "value": 714290682
          }
        },
        "2db6ab4b994b458e979fdddd94b4d9e0": {
          "model_module": "@jupyter-widgets/controls",
          "model_name": "HTMLModel",
          "model_module_version": "1.5.0",
          "state": {
            "_dom_classes": [],
            "_model_module": "@jupyter-widgets/controls",
            "_model_module_version": "1.5.0",
            "_model_name": "HTMLModel",
            "_view_count": null,
            "_view_module": "@jupyter-widgets/controls",
            "_view_module_version": "1.5.0",
            "_view_name": "HTMLView",
            "description": "",
            "description_tooltip": null,
            "layout": "IPY_MODEL_2af551b97e494399b9fd6fea1efacc90",
            "placeholder": "​",
            "style": "IPY_MODEL_f728b717d7674268ad64cce4814c4cf8",
            "value": " 714M/714M [00:02&lt;00:00, 287MB/s]"
          }
        },
        "bafcf1bfa5944e579a6b3c471312400c": {
          "model_module": "@jupyter-widgets/base",
          "model_name": "LayoutModel",
          "model_module_version": "1.2.0",
          "state": {
            "_model_module": "@jupyter-widgets/base",
            "_model_module_version": "1.2.0",
            "_model_name": "LayoutModel",
            "_view_count": null,
            "_view_module": "@jupyter-widgets/base",
            "_view_module_version": "1.2.0",
            "_view_name": "LayoutView",
            "align_content": null,
            "align_items": null,
            "align_self": null,
            "border": null,
            "bottom": null,
            "display": null,
            "flex": null,
            "flex_flow": null,
            "grid_area": null,
            "grid_auto_columns": null,
            "grid_auto_flow": null,
            "grid_auto_rows": null,
            "grid_column": null,
            "grid_gap": null,
            "grid_row": null,
            "grid_template_areas": null,
            "grid_template_columns": null,
            "grid_template_rows": null,
            "height": null,
            "justify_content": null,
            "justify_items": null,
            "left": null,
            "margin": null,
            "max_height": null,
            "max_width": null,
            "min_height": null,
            "min_width": null,
            "object_fit": null,
            "object_position": null,
            "order": null,
            "overflow": null,
            "overflow_x": null,
            "overflow_y": null,
            "padding": null,
            "right": null,
            "top": null,
            "visibility": null,
            "width": null
          }
        },
        "d52847fd4ca34dd9b4b71a600d1a7b10": {
          "model_module": "@jupyter-widgets/base",
          "model_name": "LayoutModel",
          "model_module_version": "1.2.0",
          "state": {
            "_model_module": "@jupyter-widgets/base",
            "_model_module_version": "1.2.0",
            "_model_name": "LayoutModel",
            "_view_count": null,
            "_view_module": "@jupyter-widgets/base",
            "_view_module_version": "1.2.0",
            "_view_name": "LayoutView",
            "align_content": null,
            "align_items": null,
            "align_self": null,
            "border": null,
            "bottom": null,
            "display": null,
            "flex": null,
            "flex_flow": null,
            "grid_area": null,
            "grid_auto_columns": null,
            "grid_auto_flow": null,
            "grid_auto_rows": null,
            "grid_column": null,
            "grid_gap": null,
            "grid_row": null,
            "grid_template_areas": null,
            "grid_template_columns": null,
            "grid_template_rows": null,
            "height": null,
            "justify_content": null,
            "justify_items": null,
            "left": null,
            "margin": null,
            "max_height": null,
            "max_width": null,
            "min_height": null,
            "min_width": null,
            "object_fit": null,
            "object_position": null,
            "order": null,
            "overflow": null,
            "overflow_x": null,
            "overflow_y": null,
            "padding": null,
            "right": null,
            "top": null,
            "visibility": null,
            "width": null
          }
        },
        "52201ce9ddf14e079806704c694adce8": {
          "model_module": "@jupyter-widgets/controls",
          "model_name": "DescriptionStyleModel",
          "model_module_version": "1.5.0",
          "state": {
            "_model_module": "@jupyter-widgets/controls",
            "_model_module_version": "1.5.0",
            "_model_name": "DescriptionStyleModel",
            "_view_count": null,
            "_view_module": "@jupyter-widgets/base",
            "_view_module_version": "1.2.0",
            "_view_name": "StyleView",
            "description_width": ""
          }
        },
        "3b6de0fc13d440e18b01f4697aa8dfeb": {
          "model_module": "@jupyter-widgets/base",
          "model_name": "LayoutModel",
          "model_module_version": "1.2.0",
          "state": {
            "_model_module": "@jupyter-widgets/base",
            "_model_module_version": "1.2.0",
            "_model_name": "LayoutModel",
            "_view_count": null,
            "_view_module": "@jupyter-widgets/base",
            "_view_module_version": "1.2.0",
            "_view_name": "LayoutView",
            "align_content": null,
            "align_items": null,
            "align_self": null,
            "border": null,
            "bottom": null,
            "display": null,
            "flex": null,
            "flex_flow": null,
            "grid_area": null,
            "grid_auto_columns": null,
            "grid_auto_flow": null,
            "grid_auto_rows": null,
            "grid_column": null,
            "grid_gap": null,
            "grid_row": null,
            "grid_template_areas": null,
            "grid_template_columns": null,
            "grid_template_rows": null,
            "height": null,
            "justify_content": null,
            "justify_items": null,
            "left": null,
            "margin": null,
            "max_height": null,
            "max_width": null,
            "min_height": null,
            "min_width": null,
            "object_fit": null,
            "object_position": null,
            "order": null,
            "overflow": null,
            "overflow_x": null,
            "overflow_y": null,
            "padding": null,
            "right": null,
            "top": null,
            "visibility": null,
            "width": null
          }
        },
        "600a989abb1243ff849a00f282f70b53": {
          "model_module": "@jupyter-widgets/controls",
          "model_name": "ProgressStyleModel",
          "model_module_version": "1.5.0",
          "state": {
            "_model_module": "@jupyter-widgets/controls",
            "_model_module_version": "1.5.0",
            "_model_name": "ProgressStyleModel",
            "_view_count": null,
            "_view_module": "@jupyter-widgets/base",
            "_view_module_version": "1.2.0",
            "_view_name": "StyleView",
            "bar_color": null,
            "description_width": ""
          }
        },
        "2af551b97e494399b9fd6fea1efacc90": {
          "model_module": "@jupyter-widgets/base",
          "model_name": "LayoutModel",
          "model_module_version": "1.2.0",
          "state": {
            "_model_module": "@jupyter-widgets/base",
            "_model_module_version": "1.2.0",
            "_model_name": "LayoutModel",
            "_view_count": null,
            "_view_module": "@jupyter-widgets/base",
            "_view_module_version": "1.2.0",
            "_view_name": "LayoutView",
            "align_content": null,
            "align_items": null,
            "align_self": null,
            "border": null,
            "bottom": null,
            "display": null,
            "flex": null,
            "flex_flow": null,
            "grid_area": null,
            "grid_auto_columns": null,
            "grid_auto_flow": null,
            "grid_auto_rows": null,
            "grid_column": null,
            "grid_gap": null,
            "grid_row": null,
            "grid_template_areas": null,
            "grid_template_columns": null,
            "grid_template_rows": null,
            "height": null,
            "justify_content": null,
            "justify_items": null,
            "left": null,
            "margin": null,
            "max_height": null,
            "max_width": null,
            "min_height": null,
            "min_width": null,
            "object_fit": null,
            "object_position": null,
            "order": null,
            "overflow": null,
            "overflow_x": null,
            "overflow_y": null,
            "padding": null,
            "right": null,
            "top": null,
            "visibility": null,
            "width": null
          }
        },
        "f728b717d7674268ad64cce4814c4cf8": {
          "model_module": "@jupyter-widgets/controls",
          "model_name": "DescriptionStyleModel",
          "model_module_version": "1.5.0",
          "state": {
            "_model_module": "@jupyter-widgets/controls",
            "_model_module_version": "1.5.0",
            "_model_name": "DescriptionStyleModel",
            "_view_count": null,
            "_view_module": "@jupyter-widgets/base",
            "_view_module_version": "1.2.0",
            "_view_name": "StyleView",
            "description_width": ""
          }
        },
        "5136ecada3aa42268846c1c2c1f91e0c": {
          "model_module": "@jupyter-widgets/controls",
          "model_name": "HBoxModel",
          "model_module_version": "1.5.0",
          "state": {
            "_dom_classes": [],
            "_model_module": "@jupyter-widgets/controls",
            "_model_module_version": "1.5.0",
            "_model_name": "HBoxModel",
            "_view_count": null,
            "_view_module": "@jupyter-widgets/controls",
            "_view_module_version": "1.5.0",
            "_view_name": "HBoxView",
            "box_style": "",
            "children": [
              "IPY_MODEL_50e1b84158e24244a6d73b03b1bd0088",
              "IPY_MODEL_d46202101e784f70acbf84c32fca595c",
              "IPY_MODEL_950af30dab334b8daec7de7897a9242c"
            ],
            "layout": "IPY_MODEL_67d7651032d442c68c637df56a8cc151"
          }
        },
        "50e1b84158e24244a6d73b03b1bd0088": {
          "model_module": "@jupyter-widgets/controls",
          "model_name": "HTMLModel",
          "model_module_version": "1.5.0",
          "state": {
            "_dom_classes": [],
            "_model_module": "@jupyter-widgets/controls",
            "_model_module_version": "1.5.0",
            "_model_name": "HTMLModel",
            "_view_count": null,
            "_view_module": "@jupyter-widgets/controls",
            "_view_module_version": "1.5.0",
            "_view_name": "HTMLView",
            "description": "",
            "description_tooltip": null,
            "layout": "IPY_MODEL_b29b17d44da94e3d8a551ceaeadb3b60",
            "placeholder": "​",
            "style": "IPY_MODEL_8e5e3eb805124e5cb31c5fdf7186482a",
            "value": "Downloading builder script: 100%"
          }
        },
        "d46202101e784f70acbf84c32fca595c": {
          "model_module": "@jupyter-widgets/controls",
          "model_name": "FloatProgressModel",
          "model_module_version": "1.5.0",
          "state": {
            "_dom_classes": [],
            "_model_module": "@jupyter-widgets/controls",
            "_model_module_version": "1.5.0",
            "_model_name": "FloatProgressModel",
            "_view_count": null,
            "_view_module": "@jupyter-widgets/controls",
            "_view_module_version": "1.5.0",
            "_view_name": "ProgressView",
            "bar_style": "success",
            "description": "",
            "description_tooltip": null,
            "layout": "IPY_MODEL_196b1efd91ac44fcae49513df556d02c",
            "max": 4203,
            "min": 0,
            "orientation": "horizontal",
            "style": "IPY_MODEL_d05b13c3a056410898f1780fff2f2cd0",
            "value": 4203
          }
        },
        "950af30dab334b8daec7de7897a9242c": {
          "model_module": "@jupyter-widgets/controls",
          "model_name": "HTMLModel",
          "model_module_version": "1.5.0",
          "state": {
            "_dom_classes": [],
            "_model_module": "@jupyter-widgets/controls",
            "_model_module_version": "1.5.0",
            "_model_name": "HTMLModel",
            "_view_count": null,
            "_view_module": "@jupyter-widgets/controls",
            "_view_module_version": "1.5.0",
            "_view_name": "HTMLView",
            "description": "",
            "description_tooltip": null,
            "layout": "IPY_MODEL_6d548733cc884382b0f7a95c15dc13d9",
            "placeholder": "​",
            "style": "IPY_MODEL_06b71c67395f4f2bb5306c309c6743c9",
            "value": " 4.20k/4.20k [00:00&lt;00:00, 298kB/s]"
          }
        },
        "67d7651032d442c68c637df56a8cc151": {
          "model_module": "@jupyter-widgets/base",
          "model_name": "LayoutModel",
          "model_module_version": "1.2.0",
          "state": {
            "_model_module": "@jupyter-widgets/base",
            "_model_module_version": "1.2.0",
            "_model_name": "LayoutModel",
            "_view_count": null,
            "_view_module": "@jupyter-widgets/base",
            "_view_module_version": "1.2.0",
            "_view_name": "LayoutView",
            "align_content": null,
            "align_items": null,
            "align_self": null,
            "border": null,
            "bottom": null,
            "display": null,
            "flex": null,
            "flex_flow": null,
            "grid_area": null,
            "grid_auto_columns": null,
            "grid_auto_flow": null,
            "grid_auto_rows": null,
            "grid_column": null,
            "grid_gap": null,
            "grid_row": null,
            "grid_template_areas": null,
            "grid_template_columns": null,
            "grid_template_rows": null,
            "height": null,
            "justify_content": null,
            "justify_items": null,
            "left": null,
            "margin": null,
            "max_height": null,
            "max_width": null,
            "min_height": null,
            "min_width": null,
            "object_fit": null,
            "object_position": null,
            "order": null,
            "overflow": null,
            "overflow_x": null,
            "overflow_y": null,
            "padding": null,
            "right": null,
            "top": null,
            "visibility": null,
            "width": null
          }
        },
        "b29b17d44da94e3d8a551ceaeadb3b60": {
          "model_module": "@jupyter-widgets/base",
          "model_name": "LayoutModel",
          "model_module_version": "1.2.0",
          "state": {
            "_model_module": "@jupyter-widgets/base",
            "_model_module_version": "1.2.0",
            "_model_name": "LayoutModel",
            "_view_count": null,
            "_view_module": "@jupyter-widgets/base",
            "_view_module_version": "1.2.0",
            "_view_name": "LayoutView",
            "align_content": null,
            "align_items": null,
            "align_self": null,
            "border": null,
            "bottom": null,
            "display": null,
            "flex": null,
            "flex_flow": null,
            "grid_area": null,
            "grid_auto_columns": null,
            "grid_auto_flow": null,
            "grid_auto_rows": null,
            "grid_column": null,
            "grid_gap": null,
            "grid_row": null,
            "grid_template_areas": null,
            "grid_template_columns": null,
            "grid_template_rows": null,
            "height": null,
            "justify_content": null,
            "justify_items": null,
            "left": null,
            "margin": null,
            "max_height": null,
            "max_width": null,
            "min_height": null,
            "min_width": null,
            "object_fit": null,
            "object_position": null,
            "order": null,
            "overflow": null,
            "overflow_x": null,
            "overflow_y": null,
            "padding": null,
            "right": null,
            "top": null,
            "visibility": null,
            "width": null
          }
        },
        "8e5e3eb805124e5cb31c5fdf7186482a": {
          "model_module": "@jupyter-widgets/controls",
          "model_name": "DescriptionStyleModel",
          "model_module_version": "1.5.0",
          "state": {
            "_model_module": "@jupyter-widgets/controls",
            "_model_module_version": "1.5.0",
            "_model_name": "DescriptionStyleModel",
            "_view_count": null,
            "_view_module": "@jupyter-widgets/base",
            "_view_module_version": "1.2.0",
            "_view_name": "StyleView",
            "description_width": ""
          }
        },
        "196b1efd91ac44fcae49513df556d02c": {
          "model_module": "@jupyter-widgets/base",
          "model_name": "LayoutModel",
          "model_module_version": "1.2.0",
          "state": {
            "_model_module": "@jupyter-widgets/base",
            "_model_module_version": "1.2.0",
            "_model_name": "LayoutModel",
            "_view_count": null,
            "_view_module": "@jupyter-widgets/base",
            "_view_module_version": "1.2.0",
            "_view_name": "LayoutView",
            "align_content": null,
            "align_items": null,
            "align_self": null,
            "border": null,
            "bottom": null,
            "display": null,
            "flex": null,
            "flex_flow": null,
            "grid_area": null,
            "grid_auto_columns": null,
            "grid_auto_flow": null,
            "grid_auto_rows": null,
            "grid_column": null,
            "grid_gap": null,
            "grid_row": null,
            "grid_template_areas": null,
            "grid_template_columns": null,
            "grid_template_rows": null,
            "height": null,
            "justify_content": null,
            "justify_items": null,
            "left": null,
            "margin": null,
            "max_height": null,
            "max_width": null,
            "min_height": null,
            "min_width": null,
            "object_fit": null,
            "object_position": null,
            "order": null,
            "overflow": null,
            "overflow_x": null,
            "overflow_y": null,
            "padding": null,
            "right": null,
            "top": null,
            "visibility": null,
            "width": null
          }
        },
        "d05b13c3a056410898f1780fff2f2cd0": {
          "model_module": "@jupyter-widgets/controls",
          "model_name": "ProgressStyleModel",
          "model_module_version": "1.5.0",
          "state": {
            "_model_module": "@jupyter-widgets/controls",
            "_model_module_version": "1.5.0",
            "_model_name": "ProgressStyleModel",
            "_view_count": null,
            "_view_module": "@jupyter-widgets/base",
            "_view_module_version": "1.2.0",
            "_view_name": "StyleView",
            "bar_color": null,
            "description_width": ""
          }
        },
        "6d548733cc884382b0f7a95c15dc13d9": {
          "model_module": "@jupyter-widgets/base",
          "model_name": "LayoutModel",
          "model_module_version": "1.2.0",
          "state": {
            "_model_module": "@jupyter-widgets/base",
            "_model_module_version": "1.2.0",
            "_model_name": "LayoutModel",
            "_view_count": null,
            "_view_module": "@jupyter-widgets/base",
            "_view_module_version": "1.2.0",
            "_view_name": "LayoutView",
            "align_content": null,
            "align_items": null,
            "align_self": null,
            "border": null,
            "bottom": null,
            "display": null,
            "flex": null,
            "flex_flow": null,
            "grid_area": null,
            "grid_auto_columns": null,
            "grid_auto_flow": null,
            "grid_auto_rows": null,
            "grid_column": null,
            "grid_gap": null,
            "grid_row": null,
            "grid_template_areas": null,
            "grid_template_columns": null,
            "grid_template_rows": null,
            "height": null,
            "justify_content": null,
            "justify_items": null,
            "left": null,
            "margin": null,
            "max_height": null,
            "max_width": null,
            "min_height": null,
            "min_width": null,
            "object_fit": null,
            "object_position": null,
            "order": null,
            "overflow": null,
            "overflow_x": null,
            "overflow_y": null,
            "padding": null,
            "right": null,
            "top": null,
            "visibility": null,
            "width": null
          }
        },
        "06b71c67395f4f2bb5306c309c6743c9": {
          "model_module": "@jupyter-widgets/controls",
          "model_name": "DescriptionStyleModel",
          "model_module_version": "1.5.0",
          "state": {
            "_model_module": "@jupyter-widgets/controls",
            "_model_module_version": "1.5.0",
            "_model_name": "DescriptionStyleModel",
            "_view_count": null,
            "_view_module": "@jupyter-widgets/base",
            "_view_module_version": "1.2.0",
            "_view_name": "StyleView",
            "description_width": ""
          }
        },
        "c9527078510e4089808a945f5a9c5c84": {
          "model_module": "@jupyter-widgets/controls",
          "model_name": "HBoxModel",
          "model_module_version": "1.5.0",
          "state": {
            "_dom_classes": [],
            "_model_module": "@jupyter-widgets/controls",
            "_model_module_version": "1.5.0",
            "_model_name": "HBoxModel",
            "_view_count": null,
            "_view_module": "@jupyter-widgets/controls",
            "_view_module_version": "1.5.0",
            "_view_name": "HBoxView",
            "box_style": "",
            "children": [
              "IPY_MODEL_a2669a1a3a704b369d34d5cdffed1a2c",
              "IPY_MODEL_7081981e479a4b25a3cf955f53ab5c7e",
              "IPY_MODEL_8690b1b554d54950ba8b9614ca1f87de"
            ],
            "layout": "IPY_MODEL_41111e46109e4fd7bda7060552c8100e"
          }
        },
        "a2669a1a3a704b369d34d5cdffed1a2c": {
          "model_module": "@jupyter-widgets/controls",
          "model_name": "HTMLModel",
          "model_module_version": "1.5.0",
          "state": {
            "_dom_classes": [],
            "_model_module": "@jupyter-widgets/controls",
            "_model_module_version": "1.5.0",
            "_model_name": "HTMLModel",
            "_view_count": null,
            "_view_module": "@jupyter-widgets/controls",
            "_view_module_version": "1.5.0",
            "_view_name": "HTMLView",
            "description": "",
            "description_tooltip": null,
            "layout": "IPY_MODEL_7e4ad1caa4bf4f5b9469f3bcf7a09379",
            "placeholder": "​",
            "style": "IPY_MODEL_d7bf4a10aa714a8694715d6b89f56b6b",
            "value": "Downloading builder script: 100%"
          }
        },
        "7081981e479a4b25a3cf955f53ab5c7e": {
          "model_module": "@jupyter-widgets/controls",
          "model_name": "FloatProgressModel",
          "model_module_version": "1.5.0",
          "state": {
            "_dom_classes": [],
            "_model_module": "@jupyter-widgets/controls",
            "_model_module_version": "1.5.0",
            "_model_name": "FloatProgressModel",
            "_view_count": null,
            "_view_module": "@jupyter-widgets/controls",
            "_view_module_version": "1.5.0",
            "_view_name": "ProgressView",
            "bar_style": "success",
            "description": "",
            "description_tooltip": null,
            "layout": "IPY_MODEL_10162d69b4674ef3bf39947c26d698b1",
            "max": 6771,
            "min": 0,
            "orientation": "horizontal",
            "style": "IPY_MODEL_795cc9cb8b5e444591d75feadf927eca",
            "value": 6771
          }
        },
        "8690b1b554d54950ba8b9614ca1f87de": {
          "model_module": "@jupyter-widgets/controls",
          "model_name": "HTMLModel",
          "model_module_version": "1.5.0",
          "state": {
            "_dom_classes": [],
            "_model_module": "@jupyter-widgets/controls",
            "_model_module_version": "1.5.0",
            "_model_name": "HTMLModel",
            "_view_count": null,
            "_view_module": "@jupyter-widgets/controls",
            "_view_module_version": "1.5.0",
            "_view_name": "HTMLView",
            "description": "",
            "description_tooltip": null,
            "layout": "IPY_MODEL_83cb5ec965024e23897027ca3644a8fd",
            "placeholder": "​",
            "style": "IPY_MODEL_312899bd9e164746801d9c9fa8c0979e",
            "value": " 6.77k/6.77k [00:00&lt;00:00, 518kB/s]"
          }
        },
        "41111e46109e4fd7bda7060552c8100e": {
          "model_module": "@jupyter-widgets/base",
          "model_name": "LayoutModel",
          "model_module_version": "1.2.0",
          "state": {
            "_model_module": "@jupyter-widgets/base",
            "_model_module_version": "1.2.0",
            "_model_name": "LayoutModel",
            "_view_count": null,
            "_view_module": "@jupyter-widgets/base",
            "_view_module_version": "1.2.0",
            "_view_name": "LayoutView",
            "align_content": null,
            "align_items": null,
            "align_self": null,
            "border": null,
            "bottom": null,
            "display": null,
            "flex": null,
            "flex_flow": null,
            "grid_area": null,
            "grid_auto_columns": null,
            "grid_auto_flow": null,
            "grid_auto_rows": null,
            "grid_column": null,
            "grid_gap": null,
            "grid_row": null,
            "grid_template_areas": null,
            "grid_template_columns": null,
            "grid_template_rows": null,
            "height": null,
            "justify_content": null,
            "justify_items": null,
            "left": null,
            "margin": null,
            "max_height": null,
            "max_width": null,
            "min_height": null,
            "min_width": null,
            "object_fit": null,
            "object_position": null,
            "order": null,
            "overflow": null,
            "overflow_x": null,
            "overflow_y": null,
            "padding": null,
            "right": null,
            "top": null,
            "visibility": null,
            "width": null
          }
        },
        "7e4ad1caa4bf4f5b9469f3bcf7a09379": {
          "model_module": "@jupyter-widgets/base",
          "model_name": "LayoutModel",
          "model_module_version": "1.2.0",
          "state": {
            "_model_module": "@jupyter-widgets/base",
            "_model_module_version": "1.2.0",
            "_model_name": "LayoutModel",
            "_view_count": null,
            "_view_module": "@jupyter-widgets/base",
            "_view_module_version": "1.2.0",
            "_view_name": "LayoutView",
            "align_content": null,
            "align_items": null,
            "align_self": null,
            "border": null,
            "bottom": null,
            "display": null,
            "flex": null,
            "flex_flow": null,
            "grid_area": null,
            "grid_auto_columns": null,
            "grid_auto_flow": null,
            "grid_auto_rows": null,
            "grid_column": null,
            "grid_gap": null,
            "grid_row": null,
            "grid_template_areas": null,
            "grid_template_columns": null,
            "grid_template_rows": null,
            "height": null,
            "justify_content": null,
            "justify_items": null,
            "left": null,
            "margin": null,
            "max_height": null,
            "max_width": null,
            "min_height": null,
            "min_width": null,
            "object_fit": null,
            "object_position": null,
            "order": null,
            "overflow": null,
            "overflow_x": null,
            "overflow_y": null,
            "padding": null,
            "right": null,
            "top": null,
            "visibility": null,
            "width": null
          }
        },
        "d7bf4a10aa714a8694715d6b89f56b6b": {
          "model_module": "@jupyter-widgets/controls",
          "model_name": "DescriptionStyleModel",
          "model_module_version": "1.5.0",
          "state": {
            "_model_module": "@jupyter-widgets/controls",
            "_model_module_version": "1.5.0",
            "_model_name": "DescriptionStyleModel",
            "_view_count": null,
            "_view_module": "@jupyter-widgets/base",
            "_view_module_version": "1.2.0",
            "_view_name": "StyleView",
            "description_width": ""
          }
        },
        "10162d69b4674ef3bf39947c26d698b1": {
          "model_module": "@jupyter-widgets/base",
          "model_name": "LayoutModel",
          "model_module_version": "1.2.0",
          "state": {
            "_model_module": "@jupyter-widgets/base",
            "_model_module_version": "1.2.0",
            "_model_name": "LayoutModel",
            "_view_count": null,
            "_view_module": "@jupyter-widgets/base",
            "_view_module_version": "1.2.0",
            "_view_name": "LayoutView",
            "align_content": null,
            "align_items": null,
            "align_self": null,
            "border": null,
            "bottom": null,
            "display": null,
            "flex": null,
            "flex_flow": null,
            "grid_area": null,
            "grid_auto_columns": null,
            "grid_auto_flow": null,
            "grid_auto_rows": null,
            "grid_column": null,
            "grid_gap": null,
            "grid_row": null,
            "grid_template_areas": null,
            "grid_template_columns": null,
            "grid_template_rows": null,
            "height": null,
            "justify_content": null,
            "justify_items": null,
            "left": null,
            "margin": null,
            "max_height": null,
            "max_width": null,
            "min_height": null,
            "min_width": null,
            "object_fit": null,
            "object_position": null,
            "order": null,
            "overflow": null,
            "overflow_x": null,
            "overflow_y": null,
            "padding": null,
            "right": null,
            "top": null,
            "visibility": null,
            "width": null
          }
        },
        "795cc9cb8b5e444591d75feadf927eca": {
          "model_module": "@jupyter-widgets/controls",
          "model_name": "ProgressStyleModel",
          "model_module_version": "1.5.0",
          "state": {
            "_model_module": "@jupyter-widgets/controls",
            "_model_module_version": "1.5.0",
            "_model_name": "ProgressStyleModel",
            "_view_count": null,
            "_view_module": "@jupyter-widgets/base",
            "_view_module_version": "1.2.0",
            "_view_name": "StyleView",
            "bar_color": null,
            "description_width": ""
          }
        },
        "83cb5ec965024e23897027ca3644a8fd": {
          "model_module": "@jupyter-widgets/base",
          "model_name": "LayoutModel",
          "model_module_version": "1.2.0",
          "state": {
            "_model_module": "@jupyter-widgets/base",
            "_model_module_version": "1.2.0",
            "_model_name": "LayoutModel",
            "_view_count": null,
            "_view_module": "@jupyter-widgets/base",
            "_view_module_version": "1.2.0",
            "_view_name": "LayoutView",
            "align_content": null,
            "align_items": null,
            "align_self": null,
            "border": null,
            "bottom": null,
            "display": null,
            "flex": null,
            "flex_flow": null,
            "grid_area": null,
            "grid_auto_columns": null,
            "grid_auto_flow": null,
            "grid_auto_rows": null,
            "grid_column": null,
            "grid_gap": null,
            "grid_row": null,
            "grid_template_areas": null,
            "grid_template_columns": null,
            "grid_template_rows": null,
            "height": null,
            "justify_content": null,
            "justify_items": null,
            "left": null,
            "margin": null,
            "max_height": null,
            "max_width": null,
            "min_height": null,
            "min_width": null,
            "object_fit": null,
            "object_position": null,
            "order": null,
            "overflow": null,
            "overflow_x": null,
            "overflow_y": null,
            "padding": null,
            "right": null,
            "top": null,
            "visibility": null,
            "width": null
          }
        },
        "312899bd9e164746801d9c9fa8c0979e": {
          "model_module": "@jupyter-widgets/controls",
          "model_name": "DescriptionStyleModel",
          "model_module_version": "1.5.0",
          "state": {
            "_model_module": "@jupyter-widgets/controls",
            "_model_module_version": "1.5.0",
            "_model_name": "DescriptionStyleModel",
            "_view_count": null,
            "_view_module": "@jupyter-widgets/base",
            "_view_module_version": "1.2.0",
            "_view_name": "StyleView",
            "description_width": ""
          }
        },
        "259228f673674a0bbc4ba98e35a9d5b2": {
          "model_module": "@jupyter-widgets/controls",
          "model_name": "HBoxModel",
          "model_module_version": "1.5.0",
          "state": {
            "_dom_classes": [],
            "_model_module": "@jupyter-widgets/controls",
            "_model_module_version": "1.5.0",
            "_model_name": "HBoxModel",
            "_view_count": null,
            "_view_module": "@jupyter-widgets/controls",
            "_view_module_version": "1.5.0",
            "_view_name": "HBoxView",
            "box_style": "",
            "children": [
              "IPY_MODEL_dfaf2e42f1b44ae4beecdf9f7fab6d32",
              "IPY_MODEL_d3a9f09eaa6b45c79bf988b2d7c40e7e",
              "IPY_MODEL_efdcd0e44f694f98beea50e468bf81fd"
            ],
            "layout": "IPY_MODEL_5930784fbd254835b3ae6832a8888dc6"
          }
        },
        "dfaf2e42f1b44ae4beecdf9f7fab6d32": {
          "model_module": "@jupyter-widgets/controls",
          "model_name": "HTMLModel",
          "model_module_version": "1.5.0",
          "state": {
            "_dom_classes": [],
            "_model_module": "@jupyter-widgets/controls",
            "_model_module_version": "1.5.0",
            "_model_name": "HTMLModel",
            "_view_count": null,
            "_view_module": "@jupyter-widgets/controls",
            "_view_module_version": "1.5.0",
            "_view_name": "HTMLView",
            "description": "",
            "description_tooltip": null,
            "layout": "IPY_MODEL_f8ff6a83eb8645b6af05039e0426280a",
            "placeholder": "​",
            "style": "IPY_MODEL_ec18e8b3e2f5411492b98703e8fe733d",
            "value": "Downloading builder script: 100%"
          }
        },
        "d3a9f09eaa6b45c79bf988b2d7c40e7e": {
          "model_module": "@jupyter-widgets/controls",
          "model_name": "FloatProgressModel",
          "model_module_version": "1.5.0",
          "state": {
            "_dom_classes": [],
            "_model_module": "@jupyter-widgets/controls",
            "_model_module_version": "1.5.0",
            "_model_name": "FloatProgressModel",
            "_view_count": null,
            "_view_module": "@jupyter-widgets/controls",
            "_view_module_version": "1.5.0",
            "_view_name": "ProgressView",
            "bar_style": "success",
            "description": "",
            "description_tooltip": null,
            "layout": "IPY_MODEL_f64f3cdcba5f4b4a8f492a404134a96c",
            "max": 7546,
            "min": 0,
            "orientation": "horizontal",
            "style": "IPY_MODEL_ed415dffda81498eb7b13c3f0cf79081",
            "value": 7546
          }
        },
        "efdcd0e44f694f98beea50e468bf81fd": {
          "model_module": "@jupyter-widgets/controls",
          "model_name": "HTMLModel",
          "model_module_version": "1.5.0",
          "state": {
            "_dom_classes": [],
            "_model_module": "@jupyter-widgets/controls",
            "_model_module_version": "1.5.0",
            "_model_name": "HTMLModel",
            "_view_count": null,
            "_view_module": "@jupyter-widgets/controls",
            "_view_module_version": "1.5.0",
            "_view_name": "HTMLView",
            "description": "",
            "description_tooltip": null,
            "layout": "IPY_MODEL_37f5b9d6c35f46d18f908fa5f8d886ab",
            "placeholder": "​",
            "style": "IPY_MODEL_9a0f79b5a3374d2e849a151ea211512a",
            "value": " 7.55k/7.55k [00:00&lt;00:00, 549kB/s]"
          }
        },
        "5930784fbd254835b3ae6832a8888dc6": {
          "model_module": "@jupyter-widgets/base",
          "model_name": "LayoutModel",
          "model_module_version": "1.2.0",
          "state": {
            "_model_module": "@jupyter-widgets/base",
            "_model_module_version": "1.2.0",
            "_model_name": "LayoutModel",
            "_view_count": null,
            "_view_module": "@jupyter-widgets/base",
            "_view_module_version": "1.2.0",
            "_view_name": "LayoutView",
            "align_content": null,
            "align_items": null,
            "align_self": null,
            "border": null,
            "bottom": null,
            "display": null,
            "flex": null,
            "flex_flow": null,
            "grid_area": null,
            "grid_auto_columns": null,
            "grid_auto_flow": null,
            "grid_auto_rows": null,
            "grid_column": null,
            "grid_gap": null,
            "grid_row": null,
            "grid_template_areas": null,
            "grid_template_columns": null,
            "grid_template_rows": null,
            "height": null,
            "justify_content": null,
            "justify_items": null,
            "left": null,
            "margin": null,
            "max_height": null,
            "max_width": null,
            "min_height": null,
            "min_width": null,
            "object_fit": null,
            "object_position": null,
            "order": null,
            "overflow": null,
            "overflow_x": null,
            "overflow_y": null,
            "padding": null,
            "right": null,
            "top": null,
            "visibility": null,
            "width": null
          }
        },
        "f8ff6a83eb8645b6af05039e0426280a": {
          "model_module": "@jupyter-widgets/base",
          "model_name": "LayoutModel",
          "model_module_version": "1.2.0",
          "state": {
            "_model_module": "@jupyter-widgets/base",
            "_model_module_version": "1.2.0",
            "_model_name": "LayoutModel",
            "_view_count": null,
            "_view_module": "@jupyter-widgets/base",
            "_view_module_version": "1.2.0",
            "_view_name": "LayoutView",
            "align_content": null,
            "align_items": null,
            "align_self": null,
            "border": null,
            "bottom": null,
            "display": null,
            "flex": null,
            "flex_flow": null,
            "grid_area": null,
            "grid_auto_columns": null,
            "grid_auto_flow": null,
            "grid_auto_rows": null,
            "grid_column": null,
            "grid_gap": null,
            "grid_row": null,
            "grid_template_areas": null,
            "grid_template_columns": null,
            "grid_template_rows": null,
            "height": null,
            "justify_content": null,
            "justify_items": null,
            "left": null,
            "margin": null,
            "max_height": null,
            "max_width": null,
            "min_height": null,
            "min_width": null,
            "object_fit": null,
            "object_position": null,
            "order": null,
            "overflow": null,
            "overflow_x": null,
            "overflow_y": null,
            "padding": null,
            "right": null,
            "top": null,
            "visibility": null,
            "width": null
          }
        },
        "ec18e8b3e2f5411492b98703e8fe733d": {
          "model_module": "@jupyter-widgets/controls",
          "model_name": "DescriptionStyleModel",
          "model_module_version": "1.5.0",
          "state": {
            "_model_module": "@jupyter-widgets/controls",
            "_model_module_version": "1.5.0",
            "_model_name": "DescriptionStyleModel",
            "_view_count": null,
            "_view_module": "@jupyter-widgets/base",
            "_view_module_version": "1.2.0",
            "_view_name": "StyleView",
            "description_width": ""
          }
        },
        "f64f3cdcba5f4b4a8f492a404134a96c": {
          "model_module": "@jupyter-widgets/base",
          "model_name": "LayoutModel",
          "model_module_version": "1.2.0",
          "state": {
            "_model_module": "@jupyter-widgets/base",
            "_model_module_version": "1.2.0",
            "_model_name": "LayoutModel",
            "_view_count": null,
            "_view_module": "@jupyter-widgets/base",
            "_view_module_version": "1.2.0",
            "_view_name": "LayoutView",
            "align_content": null,
            "align_items": null,
            "align_self": null,
            "border": null,
            "bottom": null,
            "display": null,
            "flex": null,
            "flex_flow": null,
            "grid_area": null,
            "grid_auto_columns": null,
            "grid_auto_flow": null,
            "grid_auto_rows": null,
            "grid_column": null,
            "grid_gap": null,
            "grid_row": null,
            "grid_template_areas": null,
            "grid_template_columns": null,
            "grid_template_rows": null,
            "height": null,
            "justify_content": null,
            "justify_items": null,
            "left": null,
            "margin": null,
            "max_height": null,
            "max_width": null,
            "min_height": null,
            "min_width": null,
            "object_fit": null,
            "object_position": null,
            "order": null,
            "overflow": null,
            "overflow_x": null,
            "overflow_y": null,
            "padding": null,
            "right": null,
            "top": null,
            "visibility": null,
            "width": null
          }
        },
        "ed415dffda81498eb7b13c3f0cf79081": {
          "model_module": "@jupyter-widgets/controls",
          "model_name": "ProgressStyleModel",
          "model_module_version": "1.5.0",
          "state": {
            "_model_module": "@jupyter-widgets/controls",
            "_model_module_version": "1.5.0",
            "_model_name": "ProgressStyleModel",
            "_view_count": null,
            "_view_module": "@jupyter-widgets/base",
            "_view_module_version": "1.2.0",
            "_view_name": "StyleView",
            "bar_color": null,
            "description_width": ""
          }
        },
        "37f5b9d6c35f46d18f908fa5f8d886ab": {
          "model_module": "@jupyter-widgets/base",
          "model_name": "LayoutModel",
          "model_module_version": "1.2.0",
          "state": {
            "_model_module": "@jupyter-widgets/base",
            "_model_module_version": "1.2.0",
            "_model_name": "LayoutModel",
            "_view_count": null,
            "_view_module": "@jupyter-widgets/base",
            "_view_module_version": "1.2.0",
            "_view_name": "LayoutView",
            "align_content": null,
            "align_items": null,
            "align_self": null,
            "border": null,
            "bottom": null,
            "display": null,
            "flex": null,
            "flex_flow": null,
            "grid_area": null,
            "grid_auto_columns": null,
            "grid_auto_flow": null,
            "grid_auto_rows": null,
            "grid_column": null,
            "grid_gap": null,
            "grid_row": null,
            "grid_template_areas": null,
            "grid_template_columns": null,
            "grid_template_rows": null,
            "height": null,
            "justify_content": null,
            "justify_items": null,
            "left": null,
            "margin": null,
            "max_height": null,
            "max_width": null,
            "min_height": null,
            "min_width": null,
            "object_fit": null,
            "object_position": null,
            "order": null,
            "overflow": null,
            "overflow_x": null,
            "overflow_y": null,
            "padding": null,
            "right": null,
            "top": null,
            "visibility": null,
            "width": null
          }
        },
        "9a0f79b5a3374d2e849a151ea211512a": {
          "model_module": "@jupyter-widgets/controls",
          "model_name": "DescriptionStyleModel",
          "model_module_version": "1.5.0",
          "state": {
            "_model_module": "@jupyter-widgets/controls",
            "_model_module_version": "1.5.0",
            "_model_name": "DescriptionStyleModel",
            "_view_count": null,
            "_view_module": "@jupyter-widgets/base",
            "_view_module_version": "1.2.0",
            "_view_name": "StyleView",
            "description_width": ""
          }
        },
        "fa3f93a96a1447e7acafbe28c7698233": {
          "model_module": "@jupyter-widgets/controls",
          "model_name": "HBoxModel",
          "model_module_version": "1.5.0",
          "state": {
            "_dom_classes": [],
            "_model_module": "@jupyter-widgets/controls",
            "_model_module_version": "1.5.0",
            "_model_name": "HBoxModel",
            "_view_count": null,
            "_view_module": "@jupyter-widgets/controls",
            "_view_module_version": "1.5.0",
            "_view_name": "HBoxView",
            "box_style": "",
            "children": [
              "IPY_MODEL_085eefa664a5482f919d400cb6eaa474",
              "IPY_MODEL_4cfac8e1469c4034a2448c4416ee30bc",
              "IPY_MODEL_29b572b56d1d4ab88610f39fad432fd4"
            ],
            "layout": "IPY_MODEL_cf1db9a995104ac9b6eafb027d10a826"
          }
        },
        "085eefa664a5482f919d400cb6eaa474": {
          "model_module": "@jupyter-widgets/controls",
          "model_name": "HTMLModel",
          "model_module_version": "1.5.0",
          "state": {
            "_dom_classes": [],
            "_model_module": "@jupyter-widgets/controls",
            "_model_module_version": "1.5.0",
            "_model_name": "HTMLModel",
            "_view_count": null,
            "_view_module": "@jupyter-widgets/controls",
            "_view_module_version": "1.5.0",
            "_view_name": "HTMLView",
            "description": "",
            "description_tooltip": null,
            "layout": "IPY_MODEL_384818ec69964b68bf8bf77ecc5aafd1",
            "placeholder": "​",
            "style": "IPY_MODEL_541155aa8cff4ca1a887b80cc55263b8",
            "value": "Downloading builder script: 100%"
          }
        },
        "4cfac8e1469c4034a2448c4416ee30bc": {
          "model_module": "@jupyter-widgets/controls",
          "model_name": "FloatProgressModel",
          "model_module_version": "1.5.0",
          "state": {
            "_dom_classes": [],
            "_model_module": "@jupyter-widgets/controls",
            "_model_module_version": "1.5.0",
            "_model_name": "FloatProgressModel",
            "_view_count": null,
            "_view_module": "@jupyter-widgets/controls",
            "_view_module_version": "1.5.0",
            "_view_name": "ProgressView",
            "bar_style": "success",
            "description": "",
            "description_tooltip": null,
            "layout": "IPY_MODEL_1686e2ad06714d9b9da42e87e433af20",
            "max": 7363,
            "min": 0,
            "orientation": "horizontal",
            "style": "IPY_MODEL_9d9e686cef0a490b8fcfa7e8bdb994f9",
            "value": 7363
          }
        },
        "29b572b56d1d4ab88610f39fad432fd4": {
          "model_module": "@jupyter-widgets/controls",
          "model_name": "HTMLModel",
          "model_module_version": "1.5.0",
          "state": {
            "_dom_classes": [],
            "_model_module": "@jupyter-widgets/controls",
            "_model_module_version": "1.5.0",
            "_model_name": "HTMLModel",
            "_view_count": null,
            "_view_module": "@jupyter-widgets/controls",
            "_view_module_version": "1.5.0",
            "_view_name": "HTMLView",
            "description": "",
            "description_tooltip": null,
            "layout": "IPY_MODEL_56e8010ad232433bbdb3ef72cf76aeea",
            "placeholder": "​",
            "style": "IPY_MODEL_612fa5f568bb4cdfb02453002567beb6",
            "value": " 7.36k/7.36k [00:00&lt;00:00, 531kB/s]"
          }
        },
        "cf1db9a995104ac9b6eafb027d10a826": {
          "model_module": "@jupyter-widgets/base",
          "model_name": "LayoutModel",
          "model_module_version": "1.2.0",
          "state": {
            "_model_module": "@jupyter-widgets/base",
            "_model_module_version": "1.2.0",
            "_model_name": "LayoutModel",
            "_view_count": null,
            "_view_module": "@jupyter-widgets/base",
            "_view_module_version": "1.2.0",
            "_view_name": "LayoutView",
            "align_content": null,
            "align_items": null,
            "align_self": null,
            "border": null,
            "bottom": null,
            "display": null,
            "flex": null,
            "flex_flow": null,
            "grid_area": null,
            "grid_auto_columns": null,
            "grid_auto_flow": null,
            "grid_auto_rows": null,
            "grid_column": null,
            "grid_gap": null,
            "grid_row": null,
            "grid_template_areas": null,
            "grid_template_columns": null,
            "grid_template_rows": null,
            "height": null,
            "justify_content": null,
            "justify_items": null,
            "left": null,
            "margin": null,
            "max_height": null,
            "max_width": null,
            "min_height": null,
            "min_width": null,
            "object_fit": null,
            "object_position": null,
            "order": null,
            "overflow": null,
            "overflow_x": null,
            "overflow_y": null,
            "padding": null,
            "right": null,
            "top": null,
            "visibility": null,
            "width": null
          }
        },
        "384818ec69964b68bf8bf77ecc5aafd1": {
          "model_module": "@jupyter-widgets/base",
          "model_name": "LayoutModel",
          "model_module_version": "1.2.0",
          "state": {
            "_model_module": "@jupyter-widgets/base",
            "_model_module_version": "1.2.0",
            "_model_name": "LayoutModel",
            "_view_count": null,
            "_view_module": "@jupyter-widgets/base",
            "_view_module_version": "1.2.0",
            "_view_name": "LayoutView",
            "align_content": null,
            "align_items": null,
            "align_self": null,
            "border": null,
            "bottom": null,
            "display": null,
            "flex": null,
            "flex_flow": null,
            "grid_area": null,
            "grid_auto_columns": null,
            "grid_auto_flow": null,
            "grid_auto_rows": null,
            "grid_column": null,
            "grid_gap": null,
            "grid_row": null,
            "grid_template_areas": null,
            "grid_template_columns": null,
            "grid_template_rows": null,
            "height": null,
            "justify_content": null,
            "justify_items": null,
            "left": null,
            "margin": null,
            "max_height": null,
            "max_width": null,
            "min_height": null,
            "min_width": null,
            "object_fit": null,
            "object_position": null,
            "order": null,
            "overflow": null,
            "overflow_x": null,
            "overflow_y": null,
            "padding": null,
            "right": null,
            "top": null,
            "visibility": null,
            "width": null
          }
        },
        "541155aa8cff4ca1a887b80cc55263b8": {
          "model_module": "@jupyter-widgets/controls",
          "model_name": "DescriptionStyleModel",
          "model_module_version": "1.5.0",
          "state": {
            "_model_module": "@jupyter-widgets/controls",
            "_model_module_version": "1.5.0",
            "_model_name": "DescriptionStyleModel",
            "_view_count": null,
            "_view_module": "@jupyter-widgets/base",
            "_view_module_version": "1.2.0",
            "_view_name": "StyleView",
            "description_width": ""
          }
        },
        "1686e2ad06714d9b9da42e87e433af20": {
          "model_module": "@jupyter-widgets/base",
          "model_name": "LayoutModel",
          "model_module_version": "1.2.0",
          "state": {
            "_model_module": "@jupyter-widgets/base",
            "_model_module_version": "1.2.0",
            "_model_name": "LayoutModel",
            "_view_count": null,
            "_view_module": "@jupyter-widgets/base",
            "_view_module_version": "1.2.0",
            "_view_name": "LayoutView",
            "align_content": null,
            "align_items": null,
            "align_self": null,
            "border": null,
            "bottom": null,
            "display": null,
            "flex": null,
            "flex_flow": null,
            "grid_area": null,
            "grid_auto_columns": null,
            "grid_auto_flow": null,
            "grid_auto_rows": null,
            "grid_column": null,
            "grid_gap": null,
            "grid_row": null,
            "grid_template_areas": null,
            "grid_template_columns": null,
            "grid_template_rows": null,
            "height": null,
            "justify_content": null,
            "justify_items": null,
            "left": null,
            "margin": null,
            "max_height": null,
            "max_width": null,
            "min_height": null,
            "min_width": null,
            "object_fit": null,
            "object_position": null,
            "order": null,
            "overflow": null,
            "overflow_x": null,
            "overflow_y": null,
            "padding": null,
            "right": null,
            "top": null,
            "visibility": null,
            "width": null
          }
        },
        "9d9e686cef0a490b8fcfa7e8bdb994f9": {
          "model_module": "@jupyter-widgets/controls",
          "model_name": "ProgressStyleModel",
          "model_module_version": "1.5.0",
          "state": {
            "_model_module": "@jupyter-widgets/controls",
            "_model_module_version": "1.5.0",
            "_model_name": "ProgressStyleModel",
            "_view_count": null,
            "_view_module": "@jupyter-widgets/base",
            "_view_module_version": "1.2.0",
            "_view_name": "StyleView",
            "bar_color": null,
            "description_width": ""
          }
        },
        "56e8010ad232433bbdb3ef72cf76aeea": {
          "model_module": "@jupyter-widgets/base",
          "model_name": "LayoutModel",
          "model_module_version": "1.2.0",
          "state": {
            "_model_module": "@jupyter-widgets/base",
            "_model_module_version": "1.2.0",
            "_model_name": "LayoutModel",
            "_view_count": null,
            "_view_module": "@jupyter-widgets/base",
            "_view_module_version": "1.2.0",
            "_view_name": "LayoutView",
            "align_content": null,
            "align_items": null,
            "align_self": null,
            "border": null,
            "bottom": null,
            "display": null,
            "flex": null,
            "flex_flow": null,
            "grid_area": null,
            "grid_auto_columns": null,
            "grid_auto_flow": null,
            "grid_auto_rows": null,
            "grid_column": null,
            "grid_gap": null,
            "grid_row": null,
            "grid_template_areas": null,
            "grid_template_columns": null,
            "grid_template_rows": null,
            "height": null,
            "justify_content": null,
            "justify_items": null,
            "left": null,
            "margin": null,
            "max_height": null,
            "max_width": null,
            "min_height": null,
            "min_width": null,
            "object_fit": null,
            "object_position": null,
            "order": null,
            "overflow": null,
            "overflow_x": null,
            "overflow_y": null,
            "padding": null,
            "right": null,
            "top": null,
            "visibility": null,
            "width": null
          }
        },
        "612fa5f568bb4cdfb02453002567beb6": {
          "model_module": "@jupyter-widgets/controls",
          "model_name": "DescriptionStyleModel",
          "model_module_version": "1.5.0",
          "state": {
            "_model_module": "@jupyter-widgets/controls",
            "_model_module_version": "1.5.0",
            "_model_name": "DescriptionStyleModel",
            "_view_count": null,
            "_view_module": "@jupyter-widgets/base",
            "_view_module_version": "1.2.0",
            "_view_name": "StyleView",
            "description_width": ""
          }
        }
      }
    }
  },
  "cells": [
    {
      "cell_type": "markdown",
      "metadata": {
        "id": "view-in-github",
        "colab_type": "text"
      },
      "source": [
        "<a href=\"https://colab.research.google.com/github/janvierk/MRP/blob/main/MRP_mBERT.ipynb\" target=\"_parent\"><img src=\"https://colab.research.google.com/assets/colab-badge.svg\" alt=\"Open In Colab\"/></a>"
      ]
    },
    {
      "cell_type": "code",
      "source": [
        "from google.colab import drive"
      ],
      "metadata": {
        "id": "yErlGAHoDnUV"
      },
      "execution_count": null,
      "outputs": []
    },
    {
      "cell_type": "markdown",
      "source": [],
      "metadata": {
        "id": "e-Je-CsDgADE"
      }
    },
    {
      "cell_type": "code",
      "source": [
        "drive.mount('/content/drive')"
      ],
      "metadata": {
        "colab": {
          "base_uri": "https://localhost:8080/"
        },
        "id": "i34ozUvEDrdp",
        "outputId": "abbb0a55-5685-4d85-ec30-2d70d4bb7b0a"
      },
      "execution_count": null,
      "outputs": [
        {
          "output_type": "stream",
          "name": "stdout",
          "text": [
            "Mounted at /content/drive\n"
          ]
        }
      ]
    },
    {
      "cell_type": "code",
      "source": [
        "import os"
      ],
      "metadata": {
        "id": "fuloZucOqyGX"
      },
      "execution_count": null,
      "outputs": []
    },
    {
      "cell_type": "code",
      "source": [
        "os.chdir('/content/drive/MyDrive/MRP')"
      ],
      "metadata": {
        "id": "yc3Ngtx5Dwee"
      },
      "execution_count": null,
      "outputs": []
    },
    {
      "cell_type": "code",
      "execution_count": null,
      "metadata": {
        "id": "byB4_Y3HQj1p"
      },
      "outputs": [],
      "source": [
        "#installing requitred libries and supressing  the print-out\n",
        "#!pip install requests==2.31.0 --upgrade -q > NUL\n",
        "!pip install accelerate -U -q > NUL\n",
        "!pip install transformers -q > NUL\n",
        "!pip install torch -q > NUL\n",
        "#!pip install -U transformers -q >NULip install datasets -q > NUL\n",
        "!pip install tensorflow -q > NUL\n",
        "!pip install datasets -q > NUL\n",
        "!pip install evaluate -q > NUL"
      ]
    },
    {
      "cell_type": "code",
      "source": [],
      "metadata": {
        "id": "RCOOWOxqDlXh"
      },
      "execution_count": null,
      "outputs": []
    },
    {
      "cell_type": "code",
      "source": [
        "#Required packages and libries\n",
        "#Required packages and libries\n",
        "import pandas as pd\n",
        "import numpy as np\n",
        "import matplotlib.pyplot as plt\n",
        "from transformers import BertTokenizer\n",
        "from transformers import BertForSequenceClassification\n",
        "from transformers  import Trainer\n",
        "from transformers import TrainingArguments\n",
        "from transformers import XLMRobertaTokenizer\n",
        "from transformers import XLMRobertaForSequenceClassification\n",
        "from transformers import MT5ForConditionalGeneration\n",
        "from transformers import T5Tokenizer\n",
        "import seaborn as sn\n",
        "import matplotlib\n",
        "from transformers import AutoTokenizer, AutoModelForTokenClassification\n",
        "import transformers as tf\n",
        "import torch\n",
        "from datasets import load_dataset\n",
        "import datasets\n",
        "import  evaluate"
      ],
      "metadata": {
        "id": "ua7IrbmzBExm"
      },
      "execution_count": null,
      "outputs": []
    },
    {
      "cell_type": "code",
      "source": [
        "#importing the clean dataset to train the model\n",
        "swahili_dat = pd.read_csv(\"swahili_clean.csv\")"
      ],
      "metadata": {
        "id": "woNvXOY84Lz9"
      },
      "execution_count": null,
      "outputs": []
    },
    {
      "cell_type": "code",
      "source": [
        "english_dat = pd.read_csv(\"english_news_clean\")"
      ],
      "metadata": {
        "id": "rjOj6kyJN77P"
      },
      "execution_count": null,
      "outputs": []
    },
    {
      "cell_type": "code",
      "source": [
        "english_dat.shape[0]"
      ],
      "metadata": {
        "colab": {
          "base_uri": "https://localhost:8080/"
        },
        "id": "Je6L_Sqhkz85",
        "outputId": "480a3696-9a5d-4350-e3ef-b6255ee7fcbf"
      },
      "execution_count": null,
      "outputs": [
        {
          "output_type": "execute_result",
          "data": {
            "text/plain": [
              "29544"
            ]
          },
          "metadata": {},
          "execution_count": 10
        }
      ]
    },
    {
      "cell_type": "code",
      "source": [
        "swahili_dat.shape[0]"
      ],
      "metadata": {
        "id": "9WbVkMdZJyKN",
        "colab": {
          "base_uri": "https://localhost:8080/"
        },
        "outputId": "bf9755d6-e9c6-4eb1-b62f-dbe02e9c13d1"
      },
      "execution_count": null,
      "outputs": [
        {
          "output_type": "execute_result",
          "data": {
            "text/plain": [
              "29544"
            ]
          },
          "metadata": {},
          "execution_count": 11
        }
      ]
    },
    {
      "cell_type": "code",
      "source": [
        "english_dat.shape[0]"
      ],
      "metadata": {
        "id": "rfbyM0YgJ5nx",
        "colab": {
          "base_uri": "https://localhost:8080/"
        },
        "outputId": "bd1b726a-e41c-4611-f2c9-5ce4dc86fbae"
      },
      "execution_count": null,
      "outputs": [
        {
          "output_type": "execute_result",
          "data": {
            "text/plain": [
              "29544"
            ]
          },
          "metadata": {},
          "execution_count": 12
        }
      ]
    },
    {
      "cell_type": "code",
      "source": [
        "#shuffling the datasets\n",
        "swahili_dat= swahili_dat.sample(frac =1, random_state =42)\n",
        "english_dat = english_dat.sample(frac =1, random_state = 42)"
      ],
      "metadata": {
        "id": "EW-Ecsoi6QTD"
      },
      "execution_count": null,
      "outputs": []
    },
    {
      "cell_type": "code",
      "source": [
        "english_dat.value_counts(\"label\")"
      ],
      "metadata": {
        "colab": {
          "base_uri": "https://localhost:8080/",
          "height": 272
        },
        "id": "9_EZ_SlBlZHQ",
        "outputId": "bbc5a3af-bae9-48bd-9c1e-a979bb79b908"
      },
      "execution_count": null,
      "outputs": [
        {
          "output_type": "execute_result",
          "data": {
            "text/plain": [
              "label\n",
              "0    16000\n",
              "1    11720\n",
              "2      854\n",
              "3      557\n",
              "4      413\n",
              "Name: count, dtype: int64"
            ],
            "text/html": [
              "<div>\n",
              "<style scoped>\n",
              "    .dataframe tbody tr th:only-of-type {\n",
              "        vertical-align: middle;\n",
              "    }\n",
              "\n",
              "    .dataframe tbody tr th {\n",
              "        vertical-align: top;\n",
              "    }\n",
              "\n",
              "    .dataframe thead th {\n",
              "        text-align: right;\n",
              "    }\n",
              "</style>\n",
              "<table border=\"1\" class=\"dataframe\">\n",
              "  <thead>\n",
              "    <tr style=\"text-align: right;\">\n",
              "      <th></th>\n",
              "      <th>count</th>\n",
              "    </tr>\n",
              "    <tr>\n",
              "      <th>label</th>\n",
              "      <th></th>\n",
              "    </tr>\n",
              "  </thead>\n",
              "  <tbody>\n",
              "    <tr>\n",
              "      <th>0</th>\n",
              "      <td>16000</td>\n",
              "    </tr>\n",
              "    <tr>\n",
              "      <th>1</th>\n",
              "      <td>11720</td>\n",
              "    </tr>\n",
              "    <tr>\n",
              "      <th>2</th>\n",
              "      <td>854</td>\n",
              "    </tr>\n",
              "    <tr>\n",
              "      <th>3</th>\n",
              "      <td>557</td>\n",
              "    </tr>\n",
              "    <tr>\n",
              "      <th>4</th>\n",
              "      <td>413</td>\n",
              "    </tr>\n",
              "  </tbody>\n",
              "</table>\n",
              "</div><br><label><b>dtype:</b> int64</label>"
            ]
          },
          "metadata": {},
          "execution_count": 14
        }
      ]
    },
    {
      "cell_type": "code",
      "source": [
        "\n",
        "#creating a small swahili dataset"
      ],
      "metadata": {
        "id": "IM2Wkrwc5bOy"
      },
      "execution_count": null,
      "outputs": []
    },
    {
      "cell_type": "code",
      "source": [
        "#dividing swahili dataset for training, development and testing\n",
        "from sklearn.model_selection import train_test_split\n",
        "swahili_train, swahili_development = train_test_split(swahili_dat, test_size=0.4,  random_state = 42 )\n",
        "swahili_validation, swahili_testing = train_test_split(swahili_development, test_size = 0.5, random_state = 42)"
      ],
      "metadata": {
        "id": "5AEP8Gg3uNRQ"
      },
      "execution_count": null,
      "outputs": []
    },
    {
      "cell_type": "code",
      "source": [
        "#resetting the index\n",
        "swahili_testing.reset_index(drop = True, inplace = True)\n",
        "swahili_validation.reset_index(drop = True, inplace = True)\n",
        "swahili_train.reset_index(drop = True, inplace = True)"
      ],
      "metadata": {
        "id": "_ohTCijFNI3b"
      },
      "execution_count": null,
      "outputs": []
    },
    {
      "cell_type": "code",
      "source": [
        "#saving the dataset\n",
        "swahili_testing.to_csv(\"swahili_testing.csv\", index=False)\n",
        "swahili_train.to_csv(\"swahili_train.csv\", index =False)\n",
        "swahili_validation.to_csv(\"swahili_validation.csv\", index = False)"
      ],
      "metadata": {
        "id": "nWc7Br7TOn5v"
      },
      "execution_count": null,
      "outputs": []
    },
    {
      "cell_type": "code",
      "source": [
        "#dividing cnn dataset for training, validation and testing\n",
        "english_train, english_development = train_test_split(english_dat, test_size=0.4,  random_state = 42 )\n",
        "english_validation, english_testing = train_test_split(english_development, test_size = 0.5, random_state = 42)"
      ],
      "metadata": {
        "id": "EynPPNBnMZar"
      },
      "execution_count": null,
      "outputs": []
    },
    {
      "cell_type": "code",
      "source": [
        "#resetting the index\n",
        "english_testing.reset_index(drop = True, inplace = True)\n",
        "english_validation.reset_index(drop = True, inplace = True)\n",
        "english_train.reset_index(drop = True, inplace = True)"
      ],
      "metadata": {
        "id": "ZB7ThRSQNenw"
      },
      "execution_count": null,
      "outputs": []
    },
    {
      "cell_type": "code",
      "source": [
        "#saving the english dataset\n",
        "english_testing.to_csv(\"english_testing.csv\", index=False)\n",
        "english_train.to_csv(\"english_train.csv\", index =False)\n",
        "english_validation.to_csv(\"english_validation.csv\", index = False)"
      ],
      "metadata": {
        "id": "payV-HxZN_ko"
      },
      "execution_count": null,
      "outputs": []
    },
    {
      "cell_type": "code",
      "source": [
        "#Uisng Bert tokenizer for tokernization of the data\n",
        "tokenizer = BertTokenizer.from_pretrained(\"bert-base-multilingual-cased\")\n",
        "\n",
        "def tokenize_data(text):\n",
        "  return tokenizer(text,\n",
        "                   padding = \"max_length\",\n",
        "                   truncation = True,\n",
        "  )\n"
      ],
      "metadata": {
        "id": "D3GdBTq-usge",
        "colab": {
          "base_uri": "https://localhost:8080/",
          "height": 269,
          "referenced_widgets": [
            "668f5163136148408c02ccdae3b436dd",
            "ad87f1467e4946719b92e31f13a68de0",
            "4dc62f74cfa04000a345570bd223b890",
            "5464c0d0ae604ec3aff85801c0021169",
            "e9ed2dcdacd34108a828d6651c8e04ce",
            "62df89b529014e809a4024674927aed5",
            "6c05264c48314e989151aea79de34a28",
            "40b04a9b71824ab5a97cf0ce64421a1e",
            "7025b0c4fe234dac87bc47492acd83c0",
            "071f34ea7b644de8a58ca2def8346f30",
            "9eb6a970266145c1b966a2da762ce62c",
            "45d8333c1e0044de91444b60776c6a99",
            "bcf1d74838534bd8b34f3c31c1a708a8",
            "0dd759d9b21b409a8b3f3014b95c7b08",
            "9f807948fa004dbca7560b7c335715e5",
            "a9a6efde4e2a4c8c834a1c3360312feb",
            "3261d1adb1974c8aa7d8eec9b3d366d6",
            "fa28572e8c1a4e7daf287c69f2ea49d8",
            "426731500a534a958932ce1cdf53abbf",
            "79b2fedbf695453386f60470a068d77e",
            "bd64186c20af4ec9b204cbfa7a4a49ab",
            "6e499e26bbe64f36a0d8c8816922bc90",
            "baeac57c4b1b46c496a2012491a1cb90",
            "23c950ce0c22471e8824306f3c02cfd2",
            "f092b9c853a34e6eab8d04fb8d25c296",
            "0d5fe5e29c694d1b940be63d9a836ded",
            "0e02145664234086b5000436f275c9d4",
            "beca0f65a9f64c52a04a9b98496d49c6",
            "2b1173c228644d2a9bb08cfea566daf5",
            "2493841e715f4d4f964285fb9a174d84",
            "b5a238bee5b549fba99e87143e4eb213",
            "bae85d8811e2482095fb2faef563f63b",
            "0cfb25ebdb8e4bb9bb92e4c54f4629a3",
            "2297422a43994e8196ed7eae40ab032e",
            "5b454ca0110b43aba08ae5f682959e56",
            "76e9d7003df64711b0773da0f7dd2dfc",
            "5ba21f59efb94938af7cc84bfd157178",
            "fcceccc0a4664f5db9f49371b14fec95",
            "583afa14a52347249801bda16586822e",
            "4fbb22b7625d473e90a5a879d3aeab5d",
            "850c5c51518d4ee78754b5e7ec33620b",
            "1900d17c2500473d85e5383c2f44c050",
            "e1098bcac3dc47e6b1be872967a1988c",
            "8358fe23dc4b4a5ca078ad363691ae92"
          ]
        },
        "outputId": "6523d14b-821f-4a22-e712-855a16a61e79"
      },
      "execution_count": null,
      "outputs": [
        {
          "output_type": "stream",
          "name": "stderr",
          "text": [
            "/usr/local/lib/python3.10/dist-packages/huggingface_hub/utils/_token.py:89: UserWarning: \n",
            "The secret `HF_TOKEN` does not exist in your Colab secrets.\n",
            "To authenticate with the Hugging Face Hub, create a token in your settings tab (https://huggingface.co/settings/tokens), set it as secret in your Google Colab and restart your session.\n",
            "You will be able to reuse this secret in all of your notebooks.\n",
            "Please note that authentication is recommended but still optional to access public models or datasets.\n",
            "  warnings.warn(\n"
          ]
        },
        {
          "output_type": "display_data",
          "data": {
            "text/plain": [
              "tokenizer_config.json:   0%|          | 0.00/49.0 [00:00<?, ?B/s]"
            ],
            "application/vnd.jupyter.widget-view+json": {
              "version_major": 2,
              "version_minor": 0,
              "model_id": "668f5163136148408c02ccdae3b436dd"
            }
          },
          "metadata": {}
        },
        {
          "output_type": "display_data",
          "data": {
            "text/plain": [
              "vocab.txt:   0%|          | 0.00/996k [00:00<?, ?B/s]"
            ],
            "application/vnd.jupyter.widget-view+json": {
              "version_major": 2,
              "version_minor": 0,
              "model_id": "45d8333c1e0044de91444b60776c6a99"
            }
          },
          "metadata": {}
        },
        {
          "output_type": "display_data",
          "data": {
            "text/plain": [
              "tokenizer.json:   0%|          | 0.00/1.96M [00:00<?, ?B/s]"
            ],
            "application/vnd.jupyter.widget-view+json": {
              "version_major": 2,
              "version_minor": 0,
              "model_id": "baeac57c4b1b46c496a2012491a1cb90"
            }
          },
          "metadata": {}
        },
        {
          "output_type": "display_data",
          "data": {
            "text/plain": [
              "config.json:   0%|          | 0.00/625 [00:00<?, ?B/s]"
            ],
            "application/vnd.jupyter.widget-view+json": {
              "version_major": 2,
              "version_minor": 0,
              "model_id": "2297422a43994e8196ed7eae40ab032e"
            }
          },
          "metadata": {}
        }
      ]
    },
    {
      "cell_type": "code",
      "source": [
        "#tokenizing swahili data\n",
        "tokenized_swahili_train =  swahili_train[\"text\"].apply(tokenize_data)\n",
        "tokenized_swahili_validation = swahili_validation[\"text\"].apply(tokenize_data)\n",
        "tokenized_swahili_testing = swahili_testing[\"text\"].apply(tokenize_data)"
      ],
      "metadata": {
        "id": "aQcCVgTCyDdp"
      },
      "execution_count": null,
      "outputs": []
    },
    {
      "cell_type": "code",
      "source": [
        "#tokenizing english data\n",
        "tokenized_english_train =  english_train[\"text\"].apply(tokenize_data)\n",
        "tokenized_english_validation = english_validation[\"text\"].apply(tokenize_data)\n",
        "tokenized_english_testing = english_testing[\"text\"].apply(tokenize_data)"
      ],
      "metadata": {
        "id": "U1pBBNIPQEb-"
      },
      "execution_count": null,
      "outputs": []
    },
    {
      "cell_type": "code",
      "source": [
        "#checking if the text has been tokenized accordingly\n",
        "for i in range(3):\n",
        "    print(f\"Tokenized entry {i+1}:\")\n",
        "    print(f\"Input IDs: {tokenized_swahili_train.iloc[i]['input_ids']}\")\n",
        "    print(f\"Token Type IDs: {tokenized_swahili_train.iloc[i]['token_type_ids']}\")\n",
        "    print(f\"Attention Mask: {tokenized_swahili_train.iloc[i]['attention_mask']}\")\n",
        "    print(\"\\n\")"
      ],
      "metadata": {
        "colab": {
          "base_uri": "https://localhost:8080/"
        },
        "id": "LBclcUXAQDez",
        "outputId": "bcc23635-1557-4bd3-c6fd-914c26334dd0"
      },
      "execution_count": null,
      "outputs": [
        {
          "output_type": "stream",
          "name": "stdout",
          "text": [
            "Tokenized entry 1:\n",
            "Input IDs: [101, 28941, 18845, 10116, 18939, 103695, 10537, 10879, 69553, 26127, 10113, 14876, 10465, 19502, 10133, 15176, 12589, 10879, 69553, 13024, 10381, 10113, 10879, 35481, 37861, 10113, 99946, 10401, 107591, 20338, 10132, 10883, 16423, 10908, 28532, 52866, 95342, 10549, 106306, 11044, 10109, 44795, 15914, 15529, 10133, 13171, 10559, 102161, 11471, 69553, 11952, 76372, 13723, 58671, 11471, 21511, 14590, 11037, 39796, 10549, 11856, 14383, 64470, 13605, 10133, 33376, 10219, 10132, 106712, 10550, 10133, 10549, 10911, 12806, 10549, 23605, 10116, 10549, 10148, 10246, 10549, 123, 118, 123, 28532, 158, 14394, 10320, 11471, 25633, 13369, 117, 35368, 119, 13026, 28167, 11471, 12865, 49581, 11460, 10228, 10133, 117, 11118, 10820, 10392, 13565, 10369, 117, 11471, 41947, 78314, 19830, 82125, 10113, 14876, 18089, 15694, 23661, 86137, 13133, 11282, 13605, 10133, 14266, 15694, 37583, 12177, 10113, 189, 81111, 10775, 11471, 10133, 11471, 75459, 10376, 11037, 11471, 32874, 49869, 10138, 92287, 43197, 84381, 10559, 102161, 11471, 21986, 13196, 108285, 15694, 39493, 10371, 10132, 12331, 10116, 12555, 10216, 10244, 10339, 10911, 12806, 10150, 11471, 95340, 45717, 28128, 10921, 10730, 22491, 10549, 15694, 110712, 53036, 14266, 25712, 75131, 119, 100, 12148, 10761, 10113, 53100, 100962, 10213, 10775, 15694, 95610, 86137, 13133, 11282, 57069, 14876, 18089, 36873, 10113, 23559, 10153, 15343, 15938, 10113, 13055, 66573, 78361, 10132, 19626, 21840, 20897, 13743, 25712, 13055, 14266, 75131, 10109, 85583, 13055, 12577, 10550, 10743, 67000, 10138, 10941, 10991, 12555, 10216, 10228, 11359, 10132, 58628, 100086, 10113, 42231, 15694, 13318, 10921, 15694, 46704, 20897, 23315, 53100, 14875, 10605, 10371, 10132, 12331, 10116, 12555, 10216, 10244, 57087, 95340, 45717, 10506, 11959, 15694, 33494, 10113, 75459, 10376, 11037, 12517, 10134, 43006, 10449, 117, 100, 10392, 13565, 10369, 10820, 119, 95101, 16326, 10132, 13605, 10133, 117, 10820, 12134, 12739, 10637, 26979, 11803, 90804, 10676, 10824, 12096, 51744, 13605, 10133, 14266, 107928, 38501, 10390, 10730, 22491, 10549, 21388, 10758, 15694, 23661, 56847, 12438, 11645, 10549, 15694, 10775, 47673, 10113, 172, 108047, 10549, 19604, 10138, 10549, 151, 24813, 11044, 150, 10775, 11471, 30771, 15192, 45401, 10280, 15694, 11119, 10637, 21537, 10133, 10780, 124, 117, 24296, 84381, 13743, 12944, 17714, 10109, 86627, 85795, 88282, 10342, 151, 24813, 11044, 119, 13026, 28167, 33901, 10133, 39842, 12134, 17496, 10280, 56985, 19830, 82125, 10113, 14266, 11252, 12964, 11471, 10133, 150, 29731, 34849, 117, 11609, 66161, 11236, 10246, 10559, 56621, 18812, 35474, 27005, 15694, 17942, 31460, 68257, 74461, 37861, 10113, 158, 29731, 34849, 12134, 48349, 19584, 10229, 14266, 14047, 13784, 10549, 14876, 10465, 19502, 10133, 10824, 20758, 12675, 14876, 18089, 82043, 10549, 15694, 110712, 53036, 14266, 10911, 12806, 89029, 172, 108047, 10549, 16423, 10908, 119, 100, 15318, 10138, 10271, 18073, 15414, 12438, 82294, 45031, 25799, 10991, 113, 21388, 10758, 114, 10132, 100431, 11471, 11119, 84269, 10116, 87127, 11471, 13520, 19604, 10138, 10339, 12815, 13369, 117, 11803, 104596, 72244, 10132, 19604, 10138, 14876, 18089, 82043, 10549, 15694, 110712, 10637, 36171, 36811, 10138, 89029, 13743, 19604, 10138, 10339, 10133, 10339, 12815, 13369, 11959, 15694, 27980, 12536, 10921, 28859, 10797, 43064, 14266, 189, 24049, 14553, 99932, 20664, 11037, 119, 100, 48024, 10113, 11252, 12964, 66161, 11236, 10246, 53100, 68192, 62310, 10113, 21695, 17942, 31460, 21388, 10758, 113, 68257, 114, 102]\n",
            "Token Type IDs: [0, 0, 0, 0, 0, 0, 0, 0, 0, 0, 0, 0, 0, 0, 0, 0, 0, 0, 0, 0, 0, 0, 0, 0, 0, 0, 0, 0, 0, 0, 0, 0, 0, 0, 0, 0, 0, 0, 0, 0, 0, 0, 0, 0, 0, 0, 0, 0, 0, 0, 0, 0, 0, 0, 0, 0, 0, 0, 0, 0, 0, 0, 0, 0, 0, 0, 0, 0, 0, 0, 0, 0, 0, 0, 0, 0, 0, 0, 0, 0, 0, 0, 0, 0, 0, 0, 0, 0, 0, 0, 0, 0, 0, 0, 0, 0, 0, 0, 0, 0, 0, 0, 0, 0, 0, 0, 0, 0, 0, 0, 0, 0, 0, 0, 0, 0, 0, 0, 0, 0, 0, 0, 0, 0, 0, 0, 0, 0, 0, 0, 0, 0, 0, 0, 0, 0, 0, 0, 0, 0, 0, 0, 0, 0, 0, 0, 0, 0, 0, 0, 0, 0, 0, 0, 0, 0, 0, 0, 0, 0, 0, 0, 0, 0, 0, 0, 0, 0, 0, 0, 0, 0, 0, 0, 0, 0, 0, 0, 0, 0, 0, 0, 0, 0, 0, 0, 0, 0, 0, 0, 0, 0, 0, 0, 0, 0, 0, 0, 0, 0, 0, 0, 0, 0, 0, 0, 0, 0, 0, 0, 0, 0, 0, 0, 0, 0, 0, 0, 0, 0, 0, 0, 0, 0, 0, 0, 0, 0, 0, 0, 0, 0, 0, 0, 0, 0, 0, 0, 0, 0, 0, 0, 0, 0, 0, 0, 0, 0, 0, 0, 0, 0, 0, 0, 0, 0, 0, 0, 0, 0, 0, 0, 0, 0, 0, 0, 0, 0, 0, 0, 0, 0, 0, 0, 0, 0, 0, 0, 0, 0, 0, 0, 0, 0, 0, 0, 0, 0, 0, 0, 0, 0, 0, 0, 0, 0, 0, 0, 0, 0, 0, 0, 0, 0, 0, 0, 0, 0, 0, 0, 0, 0, 0, 0, 0, 0, 0, 0, 0, 0, 0, 0, 0, 0, 0, 0, 0, 0, 0, 0, 0, 0, 0, 0, 0, 0, 0, 0, 0, 0, 0, 0, 0, 0, 0, 0, 0, 0, 0, 0, 0, 0, 0, 0, 0, 0, 0, 0, 0, 0, 0, 0, 0, 0, 0, 0, 0, 0, 0, 0, 0, 0, 0, 0, 0, 0, 0, 0, 0, 0, 0, 0, 0, 0, 0, 0, 0, 0, 0, 0, 0, 0, 0, 0, 0, 0, 0, 0, 0, 0, 0, 0, 0, 0, 0, 0, 0, 0, 0, 0, 0, 0, 0, 0, 0, 0, 0, 0, 0, 0, 0, 0, 0, 0, 0, 0, 0, 0, 0, 0, 0, 0, 0, 0, 0, 0, 0, 0, 0, 0, 0, 0, 0, 0, 0, 0, 0, 0, 0, 0, 0, 0, 0, 0, 0, 0, 0, 0, 0, 0, 0, 0, 0, 0, 0, 0, 0, 0, 0, 0, 0, 0, 0, 0, 0, 0, 0, 0, 0, 0, 0, 0, 0, 0, 0, 0, 0, 0, 0, 0, 0, 0, 0, 0, 0, 0, 0, 0, 0, 0, 0, 0, 0, 0, 0, 0, 0, 0, 0, 0, 0, 0]\n",
            "Attention Mask: [1, 1, 1, 1, 1, 1, 1, 1, 1, 1, 1, 1, 1, 1, 1, 1, 1, 1, 1, 1, 1, 1, 1, 1, 1, 1, 1, 1, 1, 1, 1, 1, 1, 1, 1, 1, 1, 1, 1, 1, 1, 1, 1, 1, 1, 1, 1, 1, 1, 1, 1, 1, 1, 1, 1, 1, 1, 1, 1, 1, 1, 1, 1, 1, 1, 1, 1, 1, 1, 1, 1, 1, 1, 1, 1, 1, 1, 1, 1, 1, 1, 1, 1, 1, 1, 1, 1, 1, 1, 1, 1, 1, 1, 1, 1, 1, 1, 1, 1, 1, 1, 1, 1, 1, 1, 1, 1, 1, 1, 1, 1, 1, 1, 1, 1, 1, 1, 1, 1, 1, 1, 1, 1, 1, 1, 1, 1, 1, 1, 1, 1, 1, 1, 1, 1, 1, 1, 1, 1, 1, 1, 1, 1, 1, 1, 1, 1, 1, 1, 1, 1, 1, 1, 1, 1, 1, 1, 1, 1, 1, 1, 1, 1, 1, 1, 1, 1, 1, 1, 1, 1, 1, 1, 1, 1, 1, 1, 1, 1, 1, 1, 1, 1, 1, 1, 1, 1, 1, 1, 1, 1, 1, 1, 1, 1, 1, 1, 1, 1, 1, 1, 1, 1, 1, 1, 1, 1, 1, 1, 1, 1, 1, 1, 1, 1, 1, 1, 1, 1, 1, 1, 1, 1, 1, 1, 1, 1, 1, 1, 1, 1, 1, 1, 1, 1, 1, 1, 1, 1, 1, 1, 1, 1, 1, 1, 1, 1, 1, 1, 1, 1, 1, 1, 1, 1, 1, 1, 1, 1, 1, 1, 1, 1, 1, 1, 1, 1, 1, 1, 1, 1, 1, 1, 1, 1, 1, 1, 1, 1, 1, 1, 1, 1, 1, 1, 1, 1, 1, 1, 1, 1, 1, 1, 1, 1, 1, 1, 1, 1, 1, 1, 1, 1, 1, 1, 1, 1, 1, 1, 1, 1, 1, 1, 1, 1, 1, 1, 1, 1, 1, 1, 1, 1, 1, 1, 1, 1, 1, 1, 1, 1, 1, 1, 1, 1, 1, 1, 1, 1, 1, 1, 1, 1, 1, 1, 1, 1, 1, 1, 1, 1, 1, 1, 1, 1, 1, 1, 1, 1, 1, 1, 1, 1, 1, 1, 1, 1, 1, 1, 1, 1, 1, 1, 1, 1, 1, 1, 1, 1, 1, 1, 1, 1, 1, 1, 1, 1, 1, 1, 1, 1, 1, 1, 1, 1, 1, 1, 1, 1, 1, 1, 1, 1, 1, 1, 1, 1, 1, 1, 1, 1, 1, 1, 1, 1, 1, 1, 1, 1, 1, 1, 1, 1, 1, 1, 1, 1, 1, 1, 1, 1, 1, 1, 1, 1, 1, 1, 1, 1, 1, 1, 1, 1, 1, 1, 1, 1, 1, 1, 1, 1, 1, 1, 1, 1, 1, 1, 1, 1, 1, 1, 1, 1, 1, 1, 1, 1, 1, 1, 1, 1, 1, 1, 1, 1, 1, 1, 1, 1, 1, 1, 1, 1, 1, 1, 1, 1, 1, 1, 1, 1, 1, 1, 1, 1, 1, 1, 1, 1, 1, 1, 1, 1, 1, 1, 1, 1, 1, 1, 1, 1, 1]\n",
            "\n",
            "\n",
            "Tokenized entry 2:\n",
            "Input IDs: [101, 148, 62674, 51036, 11733, 36789, 181, 11119, 12096, 11471, 32874, 49869, 10138, 22580, 95901, 46488, 10549, 11951, 66436, 10775, 150, 10537, 10133, 11529, 10132, 18837, 10113, 117, 10824, 10440, 12964, 11471, 19604, 10138, 17847, 11471, 65153, 65970, 11335, 117, 105342, 10366, 16326, 17657, 33738, 15385, 58074, 10113, 10132, 19626, 102482, 119, 150, 11119, 12096, 26506, 10133, 11735, 41944, 10305, 11037, 68257, 13743, 158, 14394, 10320, 11471, 25294, 11517, 28941, 12659, 10537, 18028, 69513, 10228, 11359, 117, 10559, 102161, 53301, 10549, 181, 83648, 10758, 19604, 10138, 17847, 57087, 69553, 29280, 35526, 117, 18837, 10113, 11959, 24049, 20897, 11037, 15385, 58074, 10113, 10132, 19626, 102482, 11471, 88485, 14875, 123, 118, 122, 117, 12322, 11037, 10414, 53301, 10549, 57294, 19604, 10138, 75131, 58628, 10213, 19626, 102482, 172, 108047, 10549, 150, 10537, 10133, 11529, 119, 93026, 28726, 10465, 10637, 10132, 34055, 16490, 48989, 10116, 61450, 11471, 10824, 12096, 51744, 89029, 63923, 10113, 28532, 158, 14394, 10320, 11471, 42541, 96760, 10219, 117, 23921, 10113, 28079, 23804, 11471, 18837, 10113, 117, 150, 24748, 13641, 14074, 73995, 12134, 38443, 10113, 19604, 10138, 28766, 177, 13520, 21151, 13091, 10132, 44101, 108047, 58628, 100086, 10113, 11959, 58628, 10213, 106712, 10550, 10133, 13743, 181, 11119, 12096, 26506, 10133, 119, 100, 100, 15318, 10138, 21833, 10138, 19960, 103007, 12322, 24623, 13784, 10371, 15176, 12589, 181, 11119, 12096, 11471, 57294, 172, 108047, 10549, 155, 67000, 10138, 85150, 10132, 17802, 11119, 10637, 190, 12871, 10369, 172, 108047, 10549, 85889, 11457, 117, 100, 12134, 38443, 10113, 14074, 73995, 119, 13518, 38443, 10113, 14266, 10148, 10466, 91705, 11037, 18812, 46704, 20897, 23315, 14753, 19334, 11471, 10219, 15343, 65627, 10637, 52866, 12715, 10133, 89029, 11471, 57992, 11008, 31380, 15694, 46704, 20897, 23315, 19604, 10138, 28766, 22944, 87373, 77008, 10879, 24238, 10133, 18939, 189, 11119, 84269, 10116, 11471, 10133, 119, 13518, 100962, 10703, 15694, 62808, 48439, 10113, 16963, 10113, 11471, 17298, 58319, 11471, 10133, 150, 10537, 10133, 11529, 77007, 10113, 118, 190, 15594, 11119, 10637, 13743, 181, 11119, 12096, 11471, 10133, 11471, 68257, 117, 58671, 44101, 108047, 11803, 41944, 10637, 190, 12871, 10369, 10132, 15694, 46704, 20897, 23315, 11471, 32191, 58074, 10113, 10132, 19626, 102482, 13743, 181, 11119, 12096, 26506, 10133, 119, 48511, 10741, 17617, 35432, 117, 11252, 12964, 92287, 39522, 42985, 11471, 19604, 10138, 10549, 150, 10537, 10133, 11529, 117, 23642, 50164, 10896, 55660, 12134, 38443, 10113, 19604, 10138, 28766, 19960, 10775, 54774, 10113, 190, 12871, 10369, 15694, 46704, 20897, 23315, 22944, 11359, 100086, 10113, 181, 103208, 32552, 10371, 10549, 181, 83648, 10758, 11959, 58628, 10213, 19626, 102482, 119, 13518, 38443, 10113, 35943, 14212, 13250, 29665, 11924, 15694, 102500, 11233, 181, 11119, 12096, 26506, 10133, 10132, 11471, 11119, 84269, 10116, 35432, 11471, 13520, 13743, 66271, 182, 63934, 10116, 119, 13518, 38443, 10113, 18812, 11037, 106844, 11471, 42241, 10132, 52507, 11282, 11471, 29509, 10113, 11471, 19604, 10138, 10549, 150, 10537, 10133, 11529, 11471, 47817, 37861, 10870, 14266, 22571, 10116, 15385, 11359, 82427, 23841, 19604, 10138, 89029, 119, 150, 10537, 10133, 22944, 15594, 40501, 37249, 11037, 10132, 25444, 98443, 10342, 10549, 144, 11565, 89563, 10107, 177, 13520, 13743, 10132, 86108, 10549, 10193, 12322, 11037, 10132, 12331, 10116, 10148, 102]\n",
            "Token Type IDs: [0, 0, 0, 0, 0, 0, 0, 0, 0, 0, 0, 0, 0, 0, 0, 0, 0, 0, 0, 0, 0, 0, 0, 0, 0, 0, 0, 0, 0, 0, 0, 0, 0, 0, 0, 0, 0, 0, 0, 0, 0, 0, 0, 0, 0, 0, 0, 0, 0, 0, 0, 0, 0, 0, 0, 0, 0, 0, 0, 0, 0, 0, 0, 0, 0, 0, 0, 0, 0, 0, 0, 0, 0, 0, 0, 0, 0, 0, 0, 0, 0, 0, 0, 0, 0, 0, 0, 0, 0, 0, 0, 0, 0, 0, 0, 0, 0, 0, 0, 0, 0, 0, 0, 0, 0, 0, 0, 0, 0, 0, 0, 0, 0, 0, 0, 0, 0, 0, 0, 0, 0, 0, 0, 0, 0, 0, 0, 0, 0, 0, 0, 0, 0, 0, 0, 0, 0, 0, 0, 0, 0, 0, 0, 0, 0, 0, 0, 0, 0, 0, 0, 0, 0, 0, 0, 0, 0, 0, 0, 0, 0, 0, 0, 0, 0, 0, 0, 0, 0, 0, 0, 0, 0, 0, 0, 0, 0, 0, 0, 0, 0, 0, 0, 0, 0, 0, 0, 0, 0, 0, 0, 0, 0, 0, 0, 0, 0, 0, 0, 0, 0, 0, 0, 0, 0, 0, 0, 0, 0, 0, 0, 0, 0, 0, 0, 0, 0, 0, 0, 0, 0, 0, 0, 0, 0, 0, 0, 0, 0, 0, 0, 0, 0, 0, 0, 0, 0, 0, 0, 0, 0, 0, 0, 0, 0, 0, 0, 0, 0, 0, 0, 0, 0, 0, 0, 0, 0, 0, 0, 0, 0, 0, 0, 0, 0, 0, 0, 0, 0, 0, 0, 0, 0, 0, 0, 0, 0, 0, 0, 0, 0, 0, 0, 0, 0, 0, 0, 0, 0, 0, 0, 0, 0, 0, 0, 0, 0, 0, 0, 0, 0, 0, 0, 0, 0, 0, 0, 0, 0, 0, 0, 0, 0, 0, 0, 0, 0, 0, 0, 0, 0, 0, 0, 0, 0, 0, 0, 0, 0, 0, 0, 0, 0, 0, 0, 0, 0, 0, 0, 0, 0, 0, 0, 0, 0, 0, 0, 0, 0, 0, 0, 0, 0, 0, 0, 0, 0, 0, 0, 0, 0, 0, 0, 0, 0, 0, 0, 0, 0, 0, 0, 0, 0, 0, 0, 0, 0, 0, 0, 0, 0, 0, 0, 0, 0, 0, 0, 0, 0, 0, 0, 0, 0, 0, 0, 0, 0, 0, 0, 0, 0, 0, 0, 0, 0, 0, 0, 0, 0, 0, 0, 0, 0, 0, 0, 0, 0, 0, 0, 0, 0, 0, 0, 0, 0, 0, 0, 0, 0, 0, 0, 0, 0, 0, 0, 0, 0, 0, 0, 0, 0, 0, 0, 0, 0, 0, 0, 0, 0, 0, 0, 0, 0, 0, 0, 0, 0, 0, 0, 0, 0, 0, 0, 0, 0, 0, 0, 0, 0, 0, 0, 0, 0, 0, 0, 0, 0, 0, 0, 0, 0, 0, 0, 0, 0, 0, 0, 0, 0, 0, 0, 0, 0, 0, 0, 0, 0, 0, 0, 0, 0, 0, 0, 0, 0, 0, 0, 0, 0, 0, 0, 0]\n",
            "Attention Mask: [1, 1, 1, 1, 1, 1, 1, 1, 1, 1, 1, 1, 1, 1, 1, 1, 1, 1, 1, 1, 1, 1, 1, 1, 1, 1, 1, 1, 1, 1, 1, 1, 1, 1, 1, 1, 1, 1, 1, 1, 1, 1, 1, 1, 1, 1, 1, 1, 1, 1, 1, 1, 1, 1, 1, 1, 1, 1, 1, 1, 1, 1, 1, 1, 1, 1, 1, 1, 1, 1, 1, 1, 1, 1, 1, 1, 1, 1, 1, 1, 1, 1, 1, 1, 1, 1, 1, 1, 1, 1, 1, 1, 1, 1, 1, 1, 1, 1, 1, 1, 1, 1, 1, 1, 1, 1, 1, 1, 1, 1, 1, 1, 1, 1, 1, 1, 1, 1, 1, 1, 1, 1, 1, 1, 1, 1, 1, 1, 1, 1, 1, 1, 1, 1, 1, 1, 1, 1, 1, 1, 1, 1, 1, 1, 1, 1, 1, 1, 1, 1, 1, 1, 1, 1, 1, 1, 1, 1, 1, 1, 1, 1, 1, 1, 1, 1, 1, 1, 1, 1, 1, 1, 1, 1, 1, 1, 1, 1, 1, 1, 1, 1, 1, 1, 1, 1, 1, 1, 1, 1, 1, 1, 1, 1, 1, 1, 1, 1, 1, 1, 1, 1, 1, 1, 1, 1, 1, 1, 1, 1, 1, 1, 1, 1, 1, 1, 1, 1, 1, 1, 1, 1, 1, 1, 1, 1, 1, 1, 1, 1, 1, 1, 1, 1, 1, 1, 1, 1, 1, 1, 1, 1, 1, 1, 1, 1, 1, 1, 1, 1, 1, 1, 1, 1, 1, 1, 1, 1, 1, 1, 1, 1, 1, 1, 1, 1, 1, 1, 1, 1, 1, 1, 1, 1, 1, 1, 1, 1, 1, 1, 1, 1, 1, 1, 1, 1, 1, 1, 1, 1, 1, 1, 1, 1, 1, 1, 1, 1, 1, 1, 1, 1, 1, 1, 1, 1, 1, 1, 1, 1, 1, 1, 1, 1, 1, 1, 1, 1, 1, 1, 1, 1, 1, 1, 1, 1, 1, 1, 1, 1, 1, 1, 1, 1, 1, 1, 1, 1, 1, 1, 1, 1, 1, 1, 1, 1, 1, 1, 1, 1, 1, 1, 1, 1, 1, 1, 1, 1, 1, 1, 1, 1, 1, 1, 1, 1, 1, 1, 1, 1, 1, 1, 1, 1, 1, 1, 1, 1, 1, 1, 1, 1, 1, 1, 1, 1, 1, 1, 1, 1, 1, 1, 1, 1, 1, 1, 1, 1, 1, 1, 1, 1, 1, 1, 1, 1, 1, 1, 1, 1, 1, 1, 1, 1, 1, 1, 1, 1, 1, 1, 1, 1, 1, 1, 1, 1, 1, 1, 1, 1, 1, 1, 1, 1, 1, 1, 1, 1, 1, 1, 1, 1, 1, 1, 1, 1, 1, 1, 1, 1, 1, 1, 1, 1, 1, 1, 1, 1, 1, 1, 1, 1, 1, 1, 1, 1, 1, 1, 1, 1, 1, 1, 1, 1, 1, 1, 1, 1, 1, 1, 1, 1, 1, 1, 1, 1, 1, 1, 1, 1, 1, 1, 1, 1, 1, 1, 1, 1, 1, 1, 1, 1, 1, 1, 1, 1, 1, 1, 1, 1, 1, 1]\n",
            "\n",
            "\n",
            "Tokenized entry 3:\n",
            "Input IDs: [101, 10685, 27042, 41275, 58730, 64091, 11281, 160, 52338, 12022, 17421, 38850, 42031, 35976, 77864, 10549, 25694, 11477, 10339, 28941, 47337, 37534, 11233, 10594, 77864, 15694, 104693, 10116, 189, 12577, 12096, 11471, 10133, 10879, 14601, 40501, 119, 13740, 11359, 15359, 14013, 23315, 26979, 10132, 10594, 38989, 10549, 52758, 117, 15688, 10537, 10132, 11803, 19235, 119, 160, 98234, 40849, 11471, 13996, 18089, 21777, 15300, 119, 15746, 10921, 10549, 16963, 10113, 55155, 40678, 18696, 24345, 77155, 10132, 66271, 10549, 10437, 11401, 10342, 11471, 10879, 75990, 14266, 15688, 46314, 10116, 10549, 10594, 10941, 10991, 119, 51082, 10138, 92276, 11471, 14497, 59094, 10113, 10614, 10921, 57069, 11471, 35201, 74675, 177, 13520, 107928, 10549, 58715, 10921, 117, 58671, 25694, 11790, 48989, 10116, 10414, 75980, 11717, 15385, 23315, 12322, 11037, 13956, 75990, 42231, 11471, 10219, 62005, 10228, 47954, 12443, 46123, 119, 10282, 10116, 15694, 110712, 10637, 22795, 58452, 48989, 10116, 16803, 43006, 15688, 10537, 10257, 52758, 181, 19584, 12871, 10480, 68602, 82300, 11951, 12577, 182, 10703, 12871, 181, 19584, 12871, 17489, 11717, 11282, 11471, 15694, 110712, 10637, 10257, 15694, 24623, 34366, 10921, 66271, 75131, 10228, 13520, 14266, 10440, 119, 30409, 13546, 13723, 13723, 13852, 15688, 46314, 10116, 10549, 10594, 57087, 51484, 11952, 11057, 64194, 14266, 14047, 13784, 10549, 26979, 13723, 27983, 10280, 182, 11460, 12589, 11471, 32926, 55155, 117, 22944, 13520, 51892, 10280, 11250, 11908, 25699, 18687, 11471, 10228, 13520, 10480, 68602, 10342, 14266, 10440, 10153, 10147, 44799, 51141, 10116, 109628, 17714, 18939, 11803, 19235, 11471, 10440, 10132, 11951, 12577, 10153, 46071, 10113, 15694, 102994, 11631, 10132, 11803, 19235, 28532, 109628, 17714, 38516, 16326, 16803, 13187, 20324, 10280, 26979, 77405, 10132, 25699, 18687, 117, 55155, 10414, 66271, 181, 75516, 10113, 181, 10343, 119, 48511, 75863, 10449, 10614, 10921, 10549, 49385, 15594, 10148, 10466, 117, 35264, 92276, 11471, 18342, 104388, 10132, 100781, 10280, 10559, 91931, 10228, 86803, 29241, 20897, 117, 10879, 15525, 76479, 181, 10637, 11282, 10153, 36573, 11359, 15694, 61078, 10637, 81993, 10340, 11471, 10440, 10132, 25699, 18687, 11023, 70436, 21695, 73713, 25989, 10228, 13520, 59779, 16803, 13187, 20324, 10280, 25694, 11790, 10406, 20288, 10112, 16184, 10113, 106615, 14260, 10637, 15694, 10147, 24049, 73463, 77203, 10219, 10133, 119, 21699, 10116, 23559, 11520, 11282, 57087, 66573, 51382, 54112, 35264, 92276, 15694, 13372, 12964, 190, 70965, 10537, 42231, 11803, 19235, 11471, 10133, 10132, 26979, 72628, 10113, 11471, 85805, 87127, 11471, 18342, 25989, 10228, 13520, 10480, 68602, 10342, 15694, 106156, 190, 70965, 10537, 10559, 81357, 10133, 13319, 11630, 52662, 11037, 29325, 41025, 10449, 14266, 14047, 13784, 10549, 11803, 19235, 58671, 38973, 80708, 43006, 10132, 11471, 85805, 117, 26506, 10853, 11803, 19235, 11471, 45531, 48985, 10113, 15694, 64208, 10280, 190, 70965, 10537, 10132, 11471, 10637, 11282, 11471, 10133, 10132, 10134, 25391, 10112, 10414, 11614, 10342, 11803, 26426, 25405, 15694, 11310, 64639, 190, 70965, 10537, 42231, 10133, 119, 48511, 179, 20706, 10116, 66271, 23559, 55155, 22944, 60744, 54112, 10480, 16746, 19522, 11382, 83822, 14266, 10342, 10414, 182, 39231, 10133, 10549, 105342, 181, 10637, 11282, 15385, 16119, 35595, 23031, 38989, 117, 10414, 10506, 11037, 10132, 36873, 10113, 76479, 105342, 81993, 10340, 26979, 10132, 109628, 17714, 18939, 10550, 119, 49878, 10116, 14266, 11471, 14497, 102]\n",
            "Token Type IDs: [0, 0, 0, 0, 0, 0, 0, 0, 0, 0, 0, 0, 0, 0, 0, 0, 0, 0, 0, 0, 0, 0, 0, 0, 0, 0, 0, 0, 0, 0, 0, 0, 0, 0, 0, 0, 0, 0, 0, 0, 0, 0, 0, 0, 0, 0, 0, 0, 0, 0, 0, 0, 0, 0, 0, 0, 0, 0, 0, 0, 0, 0, 0, 0, 0, 0, 0, 0, 0, 0, 0, 0, 0, 0, 0, 0, 0, 0, 0, 0, 0, 0, 0, 0, 0, 0, 0, 0, 0, 0, 0, 0, 0, 0, 0, 0, 0, 0, 0, 0, 0, 0, 0, 0, 0, 0, 0, 0, 0, 0, 0, 0, 0, 0, 0, 0, 0, 0, 0, 0, 0, 0, 0, 0, 0, 0, 0, 0, 0, 0, 0, 0, 0, 0, 0, 0, 0, 0, 0, 0, 0, 0, 0, 0, 0, 0, 0, 0, 0, 0, 0, 0, 0, 0, 0, 0, 0, 0, 0, 0, 0, 0, 0, 0, 0, 0, 0, 0, 0, 0, 0, 0, 0, 0, 0, 0, 0, 0, 0, 0, 0, 0, 0, 0, 0, 0, 0, 0, 0, 0, 0, 0, 0, 0, 0, 0, 0, 0, 0, 0, 0, 0, 0, 0, 0, 0, 0, 0, 0, 0, 0, 0, 0, 0, 0, 0, 0, 0, 0, 0, 0, 0, 0, 0, 0, 0, 0, 0, 0, 0, 0, 0, 0, 0, 0, 0, 0, 0, 0, 0, 0, 0, 0, 0, 0, 0, 0, 0, 0, 0, 0, 0, 0, 0, 0, 0, 0, 0, 0, 0, 0, 0, 0, 0, 0, 0, 0, 0, 0, 0, 0, 0, 0, 0, 0, 0, 0, 0, 0, 0, 0, 0, 0, 0, 0, 0, 0, 0, 0, 0, 0, 0, 0, 0, 0, 0, 0, 0, 0, 0, 0, 0, 0, 0, 0, 0, 0, 0, 0, 0, 0, 0, 0, 0, 0, 0, 0, 0, 0, 0, 0, 0, 0, 0, 0, 0, 0, 0, 0, 0, 0, 0, 0, 0, 0, 0, 0, 0, 0, 0, 0, 0, 0, 0, 0, 0, 0, 0, 0, 0, 0, 0, 0, 0, 0, 0, 0, 0, 0, 0, 0, 0, 0, 0, 0, 0, 0, 0, 0, 0, 0, 0, 0, 0, 0, 0, 0, 0, 0, 0, 0, 0, 0, 0, 0, 0, 0, 0, 0, 0, 0, 0, 0, 0, 0, 0, 0, 0, 0, 0, 0, 0, 0, 0, 0, 0, 0, 0, 0, 0, 0, 0, 0, 0, 0, 0, 0, 0, 0, 0, 0, 0, 0, 0, 0, 0, 0, 0, 0, 0, 0, 0, 0, 0, 0, 0, 0, 0, 0, 0, 0, 0, 0, 0, 0, 0, 0, 0, 0, 0, 0, 0, 0, 0, 0, 0, 0, 0, 0, 0, 0, 0, 0, 0, 0, 0, 0, 0, 0, 0, 0, 0, 0, 0, 0, 0, 0, 0, 0, 0, 0, 0, 0, 0, 0, 0, 0, 0, 0, 0, 0, 0, 0, 0, 0, 0, 0, 0, 0, 0, 0, 0, 0, 0, 0, 0, 0, 0, 0, 0, 0, 0]\n",
            "Attention Mask: [1, 1, 1, 1, 1, 1, 1, 1, 1, 1, 1, 1, 1, 1, 1, 1, 1, 1, 1, 1, 1, 1, 1, 1, 1, 1, 1, 1, 1, 1, 1, 1, 1, 1, 1, 1, 1, 1, 1, 1, 1, 1, 1, 1, 1, 1, 1, 1, 1, 1, 1, 1, 1, 1, 1, 1, 1, 1, 1, 1, 1, 1, 1, 1, 1, 1, 1, 1, 1, 1, 1, 1, 1, 1, 1, 1, 1, 1, 1, 1, 1, 1, 1, 1, 1, 1, 1, 1, 1, 1, 1, 1, 1, 1, 1, 1, 1, 1, 1, 1, 1, 1, 1, 1, 1, 1, 1, 1, 1, 1, 1, 1, 1, 1, 1, 1, 1, 1, 1, 1, 1, 1, 1, 1, 1, 1, 1, 1, 1, 1, 1, 1, 1, 1, 1, 1, 1, 1, 1, 1, 1, 1, 1, 1, 1, 1, 1, 1, 1, 1, 1, 1, 1, 1, 1, 1, 1, 1, 1, 1, 1, 1, 1, 1, 1, 1, 1, 1, 1, 1, 1, 1, 1, 1, 1, 1, 1, 1, 1, 1, 1, 1, 1, 1, 1, 1, 1, 1, 1, 1, 1, 1, 1, 1, 1, 1, 1, 1, 1, 1, 1, 1, 1, 1, 1, 1, 1, 1, 1, 1, 1, 1, 1, 1, 1, 1, 1, 1, 1, 1, 1, 1, 1, 1, 1, 1, 1, 1, 1, 1, 1, 1, 1, 1, 1, 1, 1, 1, 1, 1, 1, 1, 1, 1, 1, 1, 1, 1, 1, 1, 1, 1, 1, 1, 1, 1, 1, 1, 1, 1, 1, 1, 1, 1, 1, 1, 1, 1, 1, 1, 1, 1, 1, 1, 1, 1, 1, 1, 1, 1, 1, 1, 1, 1, 1, 1, 1, 1, 1, 1, 1, 1, 1, 1, 1, 1, 1, 1, 1, 1, 1, 1, 1, 1, 1, 1, 1, 1, 1, 1, 1, 1, 1, 1, 1, 1, 1, 1, 1, 1, 1, 1, 1, 1, 1, 1, 1, 1, 1, 1, 1, 1, 1, 1, 1, 1, 1, 1, 1, 1, 1, 1, 1, 1, 1, 1, 1, 1, 1, 1, 1, 1, 1, 1, 1, 1, 1, 1, 1, 1, 1, 1, 1, 1, 1, 1, 1, 1, 1, 1, 1, 1, 1, 1, 1, 1, 1, 1, 1, 1, 1, 1, 1, 1, 1, 1, 1, 1, 1, 1, 1, 1, 1, 1, 1, 1, 1, 1, 1, 1, 1, 1, 1, 1, 1, 1, 1, 1, 1, 1, 1, 1, 1, 1, 1, 1, 1, 1, 1, 1, 1, 1, 1, 1, 1, 1, 1, 1, 1, 1, 1, 1, 1, 1, 1, 1, 1, 1, 1, 1, 1, 1, 1, 1, 1, 1, 1, 1, 1, 1, 1, 1, 1, 1, 1, 1, 1, 1, 1, 1, 1, 1, 1, 1, 1, 1, 1, 1, 1, 1, 1, 1, 1, 1, 1, 1, 1, 1, 1, 1, 1, 1, 1, 1, 1, 1, 1, 1, 1, 1, 1, 1, 1, 1, 1, 1, 1, 1, 1, 1, 1, 1, 1, 1, 1, 1, 1, 1, 1, 1, 1, 1]\n",
            "\n",
            "\n"
          ]
        }
      ]
    },
    {
      "cell_type": "code",
      "source": [],
      "metadata": {
        "id": "UZYwgi6eP2vr"
      },
      "execution_count": null,
      "outputs": []
    },
    {
      "cell_type": "code",
      "source": [
        "#extracting input ids and attention mask for swahili training\n",
        "input_ids_swahili_train= [item[\"input_ids\"] for item in tokenized_swahili_train]\n",
        "attention_mask_swahili_train = [item[\"attention_mask\"] for item in tokenized_swahili_train]\n",
        "swahili_encodings_train = {\"input_ids\": input_ids_swahili_train,\n",
        "             \"attention_mask\": attention_mask_swahili_train}"
      ],
      "metadata": {
        "id": "lZN8fatkusqB"
      },
      "execution_count": null,
      "outputs": []
    },
    {
      "cell_type": "code",
      "source": [
        "#extracting input ids and attention mask for swahili validation\n",
        "input_ids_swahili_validation= [item[\"input_ids\"] for item in tokenized_swahili_validation]\n",
        "attention_mask_swahili_validation = [item[\"attention_mask\"] for item in tokenized_swahili_validation]\n",
        "swahili_encodings_validation = {\"input_ids\": input_ids_swahili_validation,\n",
        "             \"attention_mask\": attention_mask_swahili_validation}"
      ],
      "metadata": {
        "id": "hPZpM4hIusvS"
      },
      "execution_count": null,
      "outputs": []
    },
    {
      "cell_type": "code",
      "source": [
        "#extracting input ids and attention mask for swahili testing\n",
        "input_ids_swahili_testing= [item[\"input_ids\"] for item in tokenized_swahili_testing]\n",
        "attention_mask_swahili_testing = [item[\"attention_mask\"] for item in tokenized_swahili_testing]\n",
        "swahili_encodings_testing = {\"input_ids\": input_ids_swahili_testing,\n",
        "             \"attention_mask\": attention_mask_swahili_testing}"
      ],
      "metadata": {
        "id": "7SiiC3U9uszU"
      },
      "execution_count": null,
      "outputs": []
    },
    {
      "cell_type": "code",
      "source": [],
      "metadata": {
        "id": "MGAf6U2LW-8X"
      },
      "execution_count": null,
      "outputs": []
    },
    {
      "cell_type": "markdown",
      "source": [],
      "metadata": {
        "id": "U2RIq1TOWcat"
      }
    },
    {
      "cell_type": "code",
      "source": [
        "#extracting input ids and attention mask for english training\n",
        "input_ids_english_train= [item[\"input_ids\"] for item in tokenized_english_train]\n",
        "attention_mask_english_train = [item[\"attention_mask\"] for item in tokenized_english_train]\n",
        "english_encodings_train = {\"input_ids\": input_ids_english_train,\n",
        "             \"attention_mask\": attention_mask_english_train}"
      ],
      "metadata": {
        "id": "UkNmCYpKus3X"
      },
      "execution_count": null,
      "outputs": []
    },
    {
      "cell_type": "code",
      "source": [
        "#extracting input ids and attention mask for english validation\n",
        "input_ids_english_validation= [item[\"input_ids\"] for item in tokenized_english_validation]\n",
        "attention_mask_english_validation = [item[\"attention_mask\"] for item in tokenized_english_validation]\n",
        "english_encodings_validation = {\"input_ids\": input_ids_english_validation,\n",
        "             \"attention_mask\": attention_mask_english_validation}"
      ],
      "metadata": {
        "id": "0saS6abZWr0H"
      },
      "execution_count": null,
      "outputs": []
    },
    {
      "cell_type": "code",
      "source": [
        "#extracting input ids and attention mask for english testing\n",
        "input_ids_english_testing= [item[\"input_ids\"] for item in tokenized_english_testing]\n",
        "attention_mask_english_testing = [item[\"attention_mask\"] for item in tokenized_english_testing]\n",
        "english_encodings_testing = {\"input_ids\": input_ids_english_testing,\n",
        "             \"attention_mask\": attention_mask_english_testing}"
      ],
      "metadata": {
        "id": "dbsUAv5JWyiN"
      },
      "execution_count": null,
      "outputs": []
    },
    {
      "cell_type": "code",
      "source": [
        "#getting labels for swahili datasets\n",
        "swahili_train_labels = swahili_train[\"label\"]\n",
        "swahili_validation_labels = swahili_validation[\"label\"]\n",
        "swahili_testing_labels = swahili_testing[\"label\"]"
      ],
      "metadata": {
        "id": "doIMk6T2cGOC"
      },
      "execution_count": null,
      "outputs": []
    },
    {
      "cell_type": "code",
      "source": [
        "#getting labels for english datasets\n",
        "english_train_labels = english_train[\"label\"]\n",
        "english_validation_labels = english_validation[\"label\"]\n",
        "english_testing_labels = english_testing[\"label\"]"
      ],
      "metadata": {
        "id": "QGdnvLEF6-nR"
      },
      "execution_count": null,
      "outputs": []
    },
    {
      "cell_type": "code",
      "source": [
        "#creating tensor data to feed into the model\n",
        "import torch\n",
        "from torch.utils.data import Dataset, DataLoader\n",
        "\n",
        "class TextDataset (Dataset):\n",
        "  def __init__(self, encodings, labels):\n",
        "    self.encodings = encodings\n",
        "    self.labels = labels\n",
        "\n",
        "  def __getitem__(self, idx):\n",
        "    item = {key: torch.tensor(val[idx]) for key, val in self.encodings.items()}\n",
        "    item[\"labels\"] = torch.tensor(self.labels[idx])\n",
        "    return item\n",
        "  def __len__(self):\n",
        "    return len(self.labels)"
      ],
      "metadata": {
        "id": "JXDpOCL8p7Ay"
      },
      "execution_count": null,
      "outputs": []
    },
    {
      "cell_type": "code",
      "source": [
        "#swahili ready data\n",
        "#english ready data\n",
        "swahili_ready_train = TextDataset(swahili_encodings_train, swahili_train_labels)\n",
        "swahili_ready_validation = TextDataset(swahili_encodings_validation, swahili_validation_labels)\n",
        "swahili_ready_testing = TextDataset(swahili_encodings_testing, swahili_testing_labels)"
      ],
      "metadata": {
        "id": "FPrGBm61cxLf"
      },
      "execution_count": null,
      "outputs": []
    },
    {
      "cell_type": "code",
      "source": [
        "#english ready data\n",
        "english_ready_train = TextDataset(english_encodings_train, english_train_labels)\n",
        "english_ready_validation = TextDataset(english_encodings_validation, english_validation_labels)\n",
        "english_ready_testing = TextDataset(english_encodings_testing, english_testing_labels)"
      ],
      "metadata": {
        "id": "WeO0y2OzdIXA"
      },
      "execution_count": null,
      "outputs": []
    },
    {
      "cell_type": "code",
      "source": [
        "def inspect_dataset(dataset, num_samples):\n",
        "  for i in range(min(num_samples, len(dataset))):\n",
        "    item = dataset[i]\n",
        "    print(f\"samples{i}:\")\n",
        "    for key, value in item.items():\n",
        "      print(f\" {key} : {value}\")\n",
        "    print(\"\\n\")\n"
      ],
      "metadata": {
        "id": "YV_0Di9ZqBZX"
      },
      "execution_count": null,
      "outputs": []
    },
    {
      "cell_type": "code",
      "source": [
        "#Building  a simple mBert model for small swahili dataset\n",
        "!pip install -U accelerate -q >NUL\n",
        "!pip install -U transformers -q >NUL\n",
        "swahili_mbert = BertForSequenceClassification.from_pretrained(\"bert-base-multilingual-cased\",\n",
        "                                                                  num_labels = swahili_train[\"label\"].nunique())\n",
        "english_mbert =  BertForSequenceClassification.from_pretrained(\"bert-base-multilingual-cased\",\n",
        "                                                                  num_labels = english_train[\"label\"].nunique())"
      ],
      "metadata": {
        "id": "yiIpht2F-8Ou",
        "colab": {
          "base_uri": "https://localhost:8080/",
          "height": 138,
          "referenced_widgets": [
            "e86de455464549a1a4f0963bb2cb192c",
            "88e4acd0f27447e78aa49bce43506eca",
            "2709c32c45a84cee86340431683f69a5",
            "2db6ab4b994b458e979fdddd94b4d9e0",
            "bafcf1bfa5944e579a6b3c471312400c",
            "d52847fd4ca34dd9b4b71a600d1a7b10",
            "52201ce9ddf14e079806704c694adce8",
            "3b6de0fc13d440e18b01f4697aa8dfeb",
            "600a989abb1243ff849a00f282f70b53",
            "2af551b97e494399b9fd6fea1efacc90",
            "f728b717d7674268ad64cce4814c4cf8"
          ]
        },
        "outputId": "a94f970b-7c87-4c7f-9026-9e94999ffc99"
      },
      "execution_count": null,
      "outputs": [
        {
          "output_type": "display_data",
          "data": {
            "text/plain": [
              "model.safetensors:   0%|          | 0.00/714M [00:00<?, ?B/s]"
            ],
            "application/vnd.jupyter.widget-view+json": {
              "version_major": 2,
              "version_minor": 0,
              "model_id": "e86de455464549a1a4f0963bb2cb192c"
            }
          },
          "metadata": {}
        },
        {
          "output_type": "stream",
          "name": "stderr",
          "text": [
            "Some weights of BertForSequenceClassification were not initialized from the model checkpoint at bert-base-multilingual-cased and are newly initialized: ['classifier.bias', 'classifier.weight']\n",
            "You should probably TRAIN this model on a down-stream task to be able to use it for predictions and inference.\n",
            "Some weights of BertForSequenceClassification were not initialized from the model checkpoint at bert-base-multilingual-cased and are newly initialized: ['classifier.bias', 'classifier.weight']\n",
            "You should probably TRAIN this model on a down-stream task to be able to use it for predictions and inference.\n"
          ]
        }
      ]
    },
    {
      "cell_type": "code",
      "source": [
        "#training arguments\n",
        "training_args_sm = TrainingArguments(\n",
        "    output_dir=\"./sm_results1\",\n",
        "    num_train_epochs=3,\n",
        "    per_device_train_batch_size=16,\n",
        "    per_device_eval_batch_size=16,\n",
        "    warmup_steps=200,\n",
        "    weight_decay=0.01,\n",
        "    logging_dir=\"./sm_logging1\",\n",
        "    logging_steps=20,\n",
        "    load_best_model_at_end=True,\n",
        "    eval_strategy=\"epoch\",\n",
        "    save_strategy=\"epoch\"\n",
        ")\n",
        "training_args_em = TrainingArguments(\n",
        "    output_dir=\"./em_results1\",\n",
        "    num_train_epochs=3,\n",
        "    per_device_train_batch_size=16,\n",
        "    per_device_eval_batch_size=16,\n",
        "    warmup_steps=200,\n",
        "    weight_decay=0.01,\n",
        "    logging_dir=\"./em_logging1\",\n",
        "    logging_steps=20,\n",
        "    load_best_model_at_end=True,\n",
        "    eval_strategy=\"epoch\",\n",
        "    save_strategy=\"epoch\"\n",
        ")"
      ],
      "metadata": {
        "id": "UcO0KMSefKBm"
      },
      "execution_count": null,
      "outputs": []
    },
    {
      "cell_type": "code",
      "source": [
        "#computing the evaluation metrics\n",
        "import evaluate\n",
        "accuracy_metric = evaluate.load(\"accuracy\")\n",
        "f1_metric = evaluate.load(\"f1\")\n",
        "precision_metric = evaluate.load(\"precision\")\n",
        "recall_metric = evaluate.load(\"recall\")\n"
      ],
      "metadata": {
        "colab": {
          "base_uri": "https://localhost:8080/",
          "height": 145,
          "referenced_widgets": [
            "5136ecada3aa42268846c1c2c1f91e0c",
            "50e1b84158e24244a6d73b03b1bd0088",
            "d46202101e784f70acbf84c32fca595c",
            "950af30dab334b8daec7de7897a9242c",
            "67d7651032d442c68c637df56a8cc151",
            "b29b17d44da94e3d8a551ceaeadb3b60",
            "8e5e3eb805124e5cb31c5fdf7186482a",
            "196b1efd91ac44fcae49513df556d02c",
            "d05b13c3a056410898f1780fff2f2cd0",
            "6d548733cc884382b0f7a95c15dc13d9",
            "06b71c67395f4f2bb5306c309c6743c9",
            "c9527078510e4089808a945f5a9c5c84",
            "a2669a1a3a704b369d34d5cdffed1a2c",
            "7081981e479a4b25a3cf955f53ab5c7e",
            "8690b1b554d54950ba8b9614ca1f87de",
            "41111e46109e4fd7bda7060552c8100e",
            "7e4ad1caa4bf4f5b9469f3bcf7a09379",
            "d7bf4a10aa714a8694715d6b89f56b6b",
            "10162d69b4674ef3bf39947c26d698b1",
            "795cc9cb8b5e444591d75feadf927eca",
            "83cb5ec965024e23897027ca3644a8fd",
            "312899bd9e164746801d9c9fa8c0979e",
            "259228f673674a0bbc4ba98e35a9d5b2",
            "dfaf2e42f1b44ae4beecdf9f7fab6d32",
            "d3a9f09eaa6b45c79bf988b2d7c40e7e",
            "efdcd0e44f694f98beea50e468bf81fd",
            "5930784fbd254835b3ae6832a8888dc6",
            "f8ff6a83eb8645b6af05039e0426280a",
            "ec18e8b3e2f5411492b98703e8fe733d",
            "f64f3cdcba5f4b4a8f492a404134a96c",
            "ed415dffda81498eb7b13c3f0cf79081",
            "37f5b9d6c35f46d18f908fa5f8d886ab",
            "9a0f79b5a3374d2e849a151ea211512a",
            "fa3f93a96a1447e7acafbe28c7698233",
            "085eefa664a5482f919d400cb6eaa474",
            "4cfac8e1469c4034a2448c4416ee30bc",
            "29b572b56d1d4ab88610f39fad432fd4",
            "cf1db9a995104ac9b6eafb027d10a826",
            "384818ec69964b68bf8bf77ecc5aafd1",
            "541155aa8cff4ca1a887b80cc55263b8",
            "1686e2ad06714d9b9da42e87e433af20",
            "9d9e686cef0a490b8fcfa7e8bdb994f9",
            "56e8010ad232433bbdb3ef72cf76aeea",
            "612fa5f568bb4cdfb02453002567beb6"
          ]
        },
        "id": "2BVR8NoBhdC4",
        "outputId": "1d725403-6fe3-4fe9-b7ec-c64f00071742"
      },
      "execution_count": null,
      "outputs": [
        {
          "output_type": "display_data",
          "data": {
            "text/plain": [
              "Downloading builder script:   0%|          | 0.00/4.20k [00:00<?, ?B/s]"
            ],
            "application/vnd.jupyter.widget-view+json": {
              "version_major": 2,
              "version_minor": 0,
              "model_id": "5136ecada3aa42268846c1c2c1f91e0c"
            }
          },
          "metadata": {}
        },
        {
          "output_type": "display_data",
          "data": {
            "text/plain": [
              "Downloading builder script:   0%|          | 0.00/6.77k [00:00<?, ?B/s]"
            ],
            "application/vnd.jupyter.widget-view+json": {
              "version_major": 2,
              "version_minor": 0,
              "model_id": "c9527078510e4089808a945f5a9c5c84"
            }
          },
          "metadata": {}
        },
        {
          "output_type": "display_data",
          "data": {
            "text/plain": [
              "Downloading builder script:   0%|          | 0.00/7.55k [00:00<?, ?B/s]"
            ],
            "application/vnd.jupyter.widget-view+json": {
              "version_major": 2,
              "version_minor": 0,
              "model_id": "259228f673674a0bbc4ba98e35a9d5b2"
            }
          },
          "metadata": {}
        },
        {
          "output_type": "display_data",
          "data": {
            "text/plain": [
              "Downloading builder script:   0%|          | 0.00/7.36k [00:00<?, ?B/s]"
            ],
            "application/vnd.jupyter.widget-view+json": {
              "version_major": 2,
              "version_minor": 0,
              "model_id": "fa3f93a96a1447e7acafbe28c7698233"
            }
          },
          "metadata": {}
        }
      ]
    },
    {
      "cell_type": "code",
      "source": [
        "from transformers import EarlyStoppingCallback\n",
        "from sklearn.metrics import confusion_matrix"
      ],
      "metadata": {
        "id": "-wYM2Ep3hnPv"
      },
      "execution_count": null,
      "outputs": []
    },
    {
      "cell_type": "code",
      "source": [
        "\"\"\"#computing the evaluation metrics\n",
        "accuracy_metric = evaluate.load(\"accuracy\")\n",
        "f1_metric = evaluate.load(\"f1\")\n",
        "precision_metric = evaluate.load(\"precision\")\n",
        "recall_metric = evaluate.load(\"recall\")\n",
        "\n",
        "def compute_metrics(pred):\n",
        "    labels = pred.label_ids\n",
        "    preds = pred.predictions.argmax(-1)\n",
        "\n",
        "    accuracy = accuracy_metric.compute(predictions=preds, references=labels)\n",
        "    f1 = f1_metric.compute(predictions=preds, references=labels, average='weighted')\n",
        "    precision = precision_metric.compute(predictions=preds, references=labels, average='weighted')\n",
        "    recall = recall_metric.compute(predictions=preds, references=labels, average='weighted')\n",
        "\n",
        "    return {\n",
        "        'accuracy': accuracy['accuracy'],\n",
        "        'f1': f1['f1'],\n",
        "        'precision': precision['precision'],\n",
        "        'recall': recall['recall']\n",
        "    }\"\"\""
      ],
      "metadata": {
        "id": "b8PPLz9a_LKq"
      },
      "execution_count": null,
      "outputs": []
    },
    {
      "cell_type": "code",
      "source": [
        "#computing the evaluation metrics\n",
        "accuracy_metric = evaluate.load(\"accuracy\")\n",
        "f1_metric = evaluate.load(\"f1\")\n",
        "precision_metric = evaluate.load(\"precision\")\n",
        "recall_metric = evaluate.load(\"recall\")\n",
        "\n",
        "def compute_metrics(pred):\n",
        "    labels = pred.label_ids\n",
        "    preds = pred.predictions.argmax(-1)\n",
        "\n",
        "    accuracy = accuracy_metric.compute(predictions=preds, references=labels)\n",
        "    f1 = f1_metric.compute(predictions=preds, references=labels, average='weighted')\n",
        "    precision = precision_metric.compute(predictions=preds, references=labels, average='weighted')\n",
        "    recall = recall_metric.compute(predictions=preds, references=labels, average='weighted')\n",
        "    conf_matrix = confusion_matrix(labels, preds)\n",
        "    conf_matrix_list = conf_matrix.tolist()\n",
        "\n",
        "    return {\n",
        "        'accuracy': accuracy['accuracy'],\n",
        "        'f1': f1['f1'],\n",
        "        'precision': precision['precision'],\n",
        "        'recall': recall['recall'],\n",
        "        'conf_matrix': conf_matrix_list\n",
        "    }"
      ],
      "metadata": {
        "id": "L0cvaCNLm6mG"
      },
      "execution_count": null,
      "outputs": []
    },
    {
      "cell_type": "code",
      "source": [
        "import torch\n",
        "from sklearn.utils.class_weight import compute_class_weight\n",
        "import numpy as np\n",
        "import torch.nn as nn\n",
        "# Calculate class weights using sklearn's compute_class_weight\n",
        "class_weights = compute_class_weight('balanced', classes=np.unique(swahili_train_labels), y=swahili_train_labels)\n",
        "\n",
        "# Convert class weights to a tensor for PyTorch\n",
        "class_weights = torch.tensor(class_weights, dtype=torch.float)"
      ],
      "metadata": {
        "id": "PU_7YlkPt4KC"
      },
      "execution_count": null,
      "outputs": []
    },
    {
      "cell_type": "code",
      "source": [
        "#Define your custom Trainer class with class weights\n",
        "class CustomTrainer(Trainer):\n",
        "    def __init__(self, class_weights, *args, **kwargs):\n",
        "        super().__init__(*args, **kwargs)\n",
        "        self.class_weights = class_weights.to(self.args.device)  # Move weights to the appropriate device\n",
        "\n",
        "    def compute_loss(self, model, inputs, return_outputs=False):\n",
        "        labels = inputs.get(\"labels\")\n",
        "        # Forward pass\n",
        "        outputs = model(**inputs)\n",
        "        logits = outputs.get(\"logits\")\n",
        "\n",
        "        # Define the loss function with class weights\n",
        "        loss_fct = nn.CrossEntropyLoss(weight=self.class_weights)\n",
        "        loss = loss_fct(logits, labels)\n",
        "\n",
        "        return (loss, outputs) if return_outputs else loss"
      ],
      "metadata": {
        "id": "96EC7wWcuE8b"
      },
      "execution_count": null,
      "outputs": []
    },
    {
      "cell_type": "code",
      "source": [
        "mbert_trainer_swahili = CustomTrainer(\n",
        "    model=swahili_mbert,\n",
        "    args=training_args_sm,\n",
        "    train_dataset=swahili_ready_train,\n",
        "    eval_dataset=swahili_ready_validation,\n",
        "    compute_metrics=compute_metrics,\n",
        "    callbacks=[EarlyStoppingCallback(early_stopping_patience=1)],\n",
        "    class_weights=class_weights)  # Pass class weights to the custom trainer"
      ],
      "metadata": {
        "id": "vNnTZinVuPzv"
      },
      "execution_count": null,
      "outputs": []
    },
    {
      "cell_type": "code",
      "source": [
        "\"\"\"mbert_trainer_swahili= Trainer(\n",
        "    model=swahili_mbert,\n",
        "    args=training_args_sm,\n",
        "    train_dataset=swahili_ready_train,\n",
        "    eval_dataset=swahili_ready_validation,\n",
        "    compute_metrics=compute_metrics,  # Use the modified compute_metrics function\n",
        ")\"\"\""
      ],
      "metadata": {
        "id": "oDxnRmSvsD1l"
      },
      "execution_count": null,
      "outputs": []
    },
    {
      "cell_type": "code",
      "source": [
        "\"\"\"mbert_trainer_english = Trainer(\n",
        "    model=english_mbert,\n",
        "    args=training_args_em,\n",
        "    train_dataset=english_ready_train,\n",
        "    eval_dataset=english_ready_validation,\n",
        "    compute_metrics=compute_metrics,  # Use the modified compute_metrics function\n",
        ")\"\"\""
      ],
      "metadata": {
        "id": "Dokqxm-LolbV"
      },
      "execution_count": null,
      "outputs": []
    },
    {
      "cell_type": "code",
      "source": [
        "mbert_trainer_english = CustomTrainer(\n",
        "    model=english_mbert,\n",
        "    args=training_args_em,\n",
        "    train_dataset=english_ready_train,\n",
        "    eval_dataset=english_ready_validation,\n",
        "    compute_metrics=compute_metrics,\n",
        "    callbacks=[EarlyStoppingCallback(early_stopping_patience=1)],\n",
        "    class_weights=class_weights)  # Pass class weights to the custom trainer"
      ],
      "metadata": {
        "id": "F31ho8XIwgkD"
      },
      "execution_count": null,
      "outputs": []
    },
    {
      "cell_type": "code",
      "source": [
        "mbert_trainer_swahili.train()"
      ],
      "metadata": {
        "colab": {
          "base_uri": "https://localhost:8080/",
          "height": 415
        },
        "id": "a5A724GDzg2O",
        "outputId": "09db2b8b-7bd8-455d-a25c-8f0638a86364"
      },
      "execution_count": null,
      "outputs": [
        {
          "output_type": "display_data",
          "data": {
            "text/plain": [
              "<IPython.core.display.HTML object>"
            ],
            "text/html": [
              "\n",
              "    <div>\n",
              "      \n",
              "      <progress value='3324' max='3324' style='width:300px; height:20px; vertical-align: middle;'></progress>\n",
              "      [3324/3324 21:55, Epoch 3/3]\n",
              "    </div>\n",
              "    <table border=\"1\" class=\"dataframe\">\n",
              "  <thead>\n",
              " <tr style=\"text-align: left;\">\n",
              "      <th>Epoch</th>\n",
              "      <th>Training Loss</th>\n",
              "      <th>Validation Loss</th>\n",
              "      <th>Accuracy</th>\n",
              "      <th>F1</th>\n",
              "      <th>Precision</th>\n",
              "      <th>Recall</th>\n",
              "      <th>Conf Matrix</th>\n",
              "    </tr>\n",
              "  </thead>\n",
              "  <tbody>\n",
              "    <tr>\n",
              "      <td>1</td>\n",
              "      <td>0.483900</td>\n",
              "      <td>0.563862</td>\n",
              "      <td>0.912845</td>\n",
              "      <td>0.909076</td>\n",
              "      <td>0.909021</td>\n",
              "      <td>0.912845</td>\n",
              "      <td>[[3031, 19, 55, 36, 74], [95, 240, 0, 0, 3], [25, 1, 501, 3, 22], [114, 0, 3, 79, 4], [26, 14, 21, 0, 1543]]</td>\n",
              "    </tr>\n",
              "    <tr>\n",
              "      <td>2</td>\n",
              "      <td>0.524100</td>\n",
              "      <td>0.490852</td>\n",
              "      <td>0.920460</td>\n",
              "      <td>0.920211</td>\n",
              "      <td>0.921332</td>\n",
              "      <td>0.920460</td>\n",
              "      <td>[[2998, 15, 49, 88, 65], [85, 248, 0, 1, 4], [14, 0, 514, 4, 20], [71, 0, 7, 122, 0], [26, 9, 12, 0, 1557]]</td>\n",
              "    </tr>\n",
              "    <tr>\n",
              "      <td>3</td>\n",
              "      <td>0.281800</td>\n",
              "      <td>0.488230</td>\n",
              "      <td>0.905568</td>\n",
              "      <td>0.906926</td>\n",
              "      <td>0.910563</td>\n",
              "      <td>0.905568</td>\n",
              "      <td>[[2871, 126, 50, 88, 80], [51, 282, 0, 1, 4], [11, 0, 512, 4, 25], [71, 0, 8, 120, 1], [18, 7, 12, 1, 1566]]</td>\n",
              "    </tr>\n",
              "  </tbody>\n",
              "</table><p>"
            ]
          },
          "metadata": {}
        },
        {
          "output_type": "stream",
          "name": "stderr",
          "text": [
            "Trainer is attempting to log a value of \"[[3031, 19, 55, 36, 74], [95, 240, 0, 0, 3], [25, 1, 501, 3, 22], [114, 0, 3, 79, 4], [26, 14, 21, 0, 1543]]\" of type <class 'list'> for key \"eval/conf_matrix\" as a scalar. This invocation of Tensorboard's writer.add_scalar() is incorrect so we dropped this attribute.\n",
            "Trainer is attempting to log a value of \"[[2998, 15, 49, 88, 65], [85, 248, 0, 1, 4], [14, 0, 514, 4, 20], [71, 0, 7, 122, 0], [26, 9, 12, 0, 1557]]\" of type <class 'list'> for key \"eval/conf_matrix\" as a scalar. This invocation of Tensorboard's writer.add_scalar() is incorrect so we dropped this attribute.\n",
            "Trainer is attempting to log a value of \"[[2871, 126, 50, 88, 80], [51, 282, 0, 1, 4], [11, 0, 512, 4, 25], [71, 0, 8, 120, 1], [18, 7, 12, 1, 1566]]\" of type <class 'list'> for key \"eval/conf_matrix\" as a scalar. This invocation of Tensorboard's writer.add_scalar() is incorrect so we dropped this attribute.\n"
          ]
        },
        {
          "output_type": "execute_result",
          "data": {
            "text/plain": [
              "TrainOutput(global_step=3324, training_loss=0.5303077184192827, metrics={'train_runtime': 1317.6837, 'train_samples_per_second': 40.357, 'train_steps_per_second': 2.523, 'total_flos': 1.3992096579950592e+16, 'train_loss': 0.5303077184192827, 'epoch': 3.0})"
            ]
          },
          "metadata": {},
          "execution_count": 53
        }
      ]
    },
    {
      "cell_type": "code",
      "source": [],
      "metadata": {
        "id": "Jp7kcRwXK4j6"
      },
      "execution_count": null,
      "outputs": []
    },
    {
      "cell_type": "code",
      "source": [
        "mbert_trainer_english.train()"
      ],
      "metadata": {
        "colab": {
          "base_uri": "https://localhost:8080/",
          "height": 239
        },
        "id": "U50tCKfl4E54",
        "outputId": "ace2a1f5-d31f-4f1f-c9a1-3c11ab4012ce"
      },
      "execution_count": null,
      "outputs": [
        {
          "output_type": "display_data",
          "data": {
            "text/plain": [
              "<IPython.core.display.HTML object>"
            ],
            "text/html": [
              "\n",
              "    <div>\n",
              "      \n",
              "      <progress value='3324' max='3324' style='width:300px; height:20px; vertical-align: middle;'></progress>\n",
              "      [3324/3324 43:31, Epoch 3/3]\n",
              "    </div>\n",
              "    <table border=\"1\" class=\"dataframe\">\n",
              "  <thead>\n",
              " <tr style=\"text-align: left;\">\n",
              "      <th>Epoch</th>\n",
              "      <th>Training Loss</th>\n",
              "      <th>Validation Loss</th>\n",
              "      <th>Accuracy</th>\n",
              "      <th>F1</th>\n",
              "      <th>Precision</th>\n",
              "      <th>Recall</th>\n",
              "    </tr>\n",
              "  </thead>\n",
              "  <tbody>\n",
              "    <tr>\n",
              "      <td>1</td>\n",
              "      <td>0.144800</td>\n",
              "      <td>0.149075</td>\n",
              "      <td>0.965307</td>\n",
              "      <td>0.962905</td>\n",
              "      <td>0.963985</td>\n",
              "      <td>0.965307</td>\n",
              "    </tr>\n",
              "    <tr>\n",
              "      <td>2</td>\n",
              "      <td>0.138900</td>\n",
              "      <td>0.122514</td>\n",
              "      <td>0.968184</td>\n",
              "      <td>0.968136</td>\n",
              "      <td>0.968153</td>\n",
              "      <td>0.968184</td>\n",
              "    </tr>\n",
              "    <tr>\n",
              "      <td>3</td>\n",
              "      <td>0.180300</td>\n",
              "      <td>0.146749</td>\n",
              "      <td>0.967507</td>\n",
              "      <td>0.967556</td>\n",
              "      <td>0.967622</td>\n",
              "      <td>0.967507</td>\n",
              "    </tr>\n",
              "  </tbody>\n",
              "</table><p>"
            ]
          },
          "metadata": {}
        },
        {
          "output_type": "execute_result",
          "data": {
            "text/plain": [
              "TrainOutput(global_step=3324, training_loss=0.16962960517094453, metrics={'train_runtime': 2611.643, 'train_samples_per_second': 20.362, 'train_steps_per_second': 1.273, 'total_flos': 1.3992096579950592e+16, 'train_loss': 0.16962960517094453, 'epoch': 3.0})"
            ]
          },
          "metadata": {},
          "execution_count": 45
        }
      ]
    },
    {
      "cell_type": "code",
      "source": [],
      "metadata": {
        "id": "1BYAqsMMNEoh"
      },
      "execution_count": null,
      "outputs": []
    },
    {
      "cell_type": "code",
      "source": [
        "#testing mbert swahili model on testing dataset\n",
        "mbert_test_swahili = mbert_trainer_swahili.evaluate(eval_dataset=swahili_ready_testing)"
      ],
      "metadata": {
        "colab": {
          "base_uri": "https://localhost:8080/",
          "height": 37
        },
        "id": "mwF6HARprPfF",
        "outputId": "a7b531a4-986c-42a8-a4d5-201a9b9798b1"
      },
      "execution_count": null,
      "outputs": [
        {
          "output_type": "display_data",
          "data": {
            "text/plain": [
              "<IPython.core.display.HTML object>"
            ],
            "text/html": [
              "\n",
              "    <div>\n",
              "      \n",
              "      <progress value='370' max='370' style='width:300px; height:20px; vertical-align: middle;'></progress>\n",
              "      [370/370 01:26]\n",
              "    </div>\n",
              "    "
            ]
          },
          "metadata": {}
        }
      ]
    },
    {
      "cell_type": "code",
      "source": [
        "#mbert_trainer_swahili.evaluate(eval_dataset=swahili_ready_testing)"
      ],
      "metadata": {
        "id": "OFOtUduVs_I0"
      },
      "execution_count": null,
      "outputs": []
    },
    {
      "cell_type": "code",
      "source": [
        "mbert_test_english = mbert_trainer_english.evaluate(eval_dataset=english_ready_testing)"
      ],
      "metadata": {
        "colab": {
          "base_uri": "https://localhost:8080/",
          "height": 37
        },
        "id": "9OaeUzMnsq9f",
        "outputId": "ba0bd331-cbeb-47ce-fa5a-43ffa9092bd8"
      },
      "execution_count": null,
      "outputs": [
        {
          "output_type": "display_data",
          "data": {
            "text/plain": [
              "<IPython.core.display.HTML object>"
            ],
            "text/html": [
              "\n",
              "    <div>\n",
              "      \n",
              "      <progress value='370' max='370' style='width:300px; height:20px; vertical-align: middle;'></progress>\n",
              "      [370/370 01:25]\n",
              "    </div>\n",
              "    "
            ]
          },
          "metadata": {}
        }
      ]
    },
    {
      "cell_type": "code",
      "source": [
        "#accessing the logging  history for visualization\n",
        "training_logs_swahili = mbert_trainer_swahili.state.log_history\n",
        "training_logs_english = mbert_trainer_english.state.log_history"
      ],
      "metadata": {
        "id": "Qln3p-9fuVQ2"
      },
      "execution_count": null,
      "outputs": []
    },
    {
      "cell_type": "code",
      "source": [
        "print(training_logs_swahili)"
      ],
      "metadata": {
        "colab": {
          "base_uri": "https://localhost:8080/"
        },
        "id": "4kpTF3nfwiFu",
        "outputId": "deedfd1c-1526-46a8-e375-8016fa244f06"
      },
      "execution_count": null,
      "outputs": [
        {
          "output_type": "stream",
          "name": "stdout",
          "text": [
            "[{'loss': 1.5642, 'grad_norm': 29.795320510864258, 'learning_rate': 5e-06, 'epoch': 0.018050541516245487, 'step': 20}, {'loss': 1.3504, 'grad_norm': 5.276247978210449, 'learning_rate': 1e-05, 'epoch': 0.036101083032490974, 'step': 40}, {'loss': 1.018, 'grad_norm': 9.203198432922363, 'learning_rate': 1.5e-05, 'epoch': 0.05415162454873646, 'step': 60}, {'loss': 0.7667, 'grad_norm': 9.459148406982422, 'learning_rate': 2e-05, 'epoch': 0.07220216606498195, 'step': 80}, {'loss': 0.556, 'grad_norm': 3.1963772773742676, 'learning_rate': 2.5e-05, 'epoch': 0.09025270758122744, 'step': 100}, {'loss': 0.5624, 'grad_norm': 44.14239501953125, 'learning_rate': 3e-05, 'epoch': 0.10830324909747292, 'step': 120}, {'loss': 0.6394, 'grad_norm': 6.092493534088135, 'learning_rate': 3.5e-05, 'epoch': 0.1263537906137184, 'step': 140}, {'loss': 0.6771, 'grad_norm': 18.806947708129883, 'learning_rate': 4e-05, 'epoch': 0.1444043321299639, 'step': 160}, {'loss': 0.4916, 'grad_norm': 8.452995300292969, 'learning_rate': 4.5e-05, 'epoch': 0.1624548736462094, 'step': 180}, {'loss': 0.7072, 'grad_norm': 3.6111128330230713, 'learning_rate': 5e-05, 'epoch': 0.18050541516245489, 'step': 200}, {'loss': 0.5762, 'grad_norm': 10.20512866973877, 'learning_rate': 4.967989756722151e-05, 'epoch': 0.19855595667870035, 'step': 220}, {'loss': 0.7741, 'grad_norm': 5.508800983428955, 'learning_rate': 4.935979513444303e-05, 'epoch': 0.21660649819494585, 'step': 240}, {'loss': 0.7488, 'grad_norm': 5.303863525390625, 'learning_rate': 4.903969270166454e-05, 'epoch': 0.23465703971119134, 'step': 260}, {'loss': 0.6801, 'grad_norm': 10.047722816467285, 'learning_rate': 4.871959026888605e-05, 'epoch': 0.2527075812274368, 'step': 280}, {'loss': 0.6013, 'grad_norm': 5.454833030700684, 'learning_rate': 4.839948783610755e-05, 'epoch': 0.27075812274368233, 'step': 300}, {'loss': 0.6761, 'grad_norm': 3.144679307937622, 'learning_rate': 4.807938540332907e-05, 'epoch': 0.2888086642599278, 'step': 320}, {'loss': 0.7333, 'grad_norm': 5.932959079742432, 'learning_rate': 4.775928297055058e-05, 'epoch': 0.30685920577617326, 'step': 340}, {'loss': 0.4225, 'grad_norm': 5.521000862121582, 'learning_rate': 4.743918053777209e-05, 'epoch': 0.3249097472924188, 'step': 360}, {'loss': 0.6605, 'grad_norm': 2.104799747467041, 'learning_rate': 4.7119078104993604e-05, 'epoch': 0.34296028880866425, 'step': 380}, {'loss': 0.5118, 'grad_norm': 14.778621673583984, 'learning_rate': 4.6798975672215114e-05, 'epoch': 0.36101083032490977, 'step': 400}, {'loss': 0.7266, 'grad_norm': 1.5188498497009277, 'learning_rate': 4.647887323943662e-05, 'epoch': 0.37906137184115524, 'step': 420}, {'loss': 0.4817, 'grad_norm': 3.0031113624572754, 'learning_rate': 4.615877080665813e-05, 'epoch': 0.3971119133574007, 'step': 440}, {'loss': 0.6727, 'grad_norm': 2.643667221069336, 'learning_rate': 4.583866837387964e-05, 'epoch': 0.4151624548736462, 'step': 460}, {'loss': 0.6112, 'grad_norm': 28.308101654052734, 'learning_rate': 4.551856594110115e-05, 'epoch': 0.4332129963898917, 'step': 480}, {'loss': 0.4866, 'grad_norm': 4.376842498779297, 'learning_rate': 4.519846350832266e-05, 'epoch': 0.45126353790613716, 'step': 500}, {'loss': 0.4645, 'grad_norm': 2.0896990299224854, 'learning_rate': 4.487836107554418e-05, 'epoch': 0.4693140794223827, 'step': 520}, {'loss': 0.4433, 'grad_norm': 1.3809102773666382, 'learning_rate': 4.455825864276569e-05, 'epoch': 0.48736462093862815, 'step': 540}, {'loss': 0.5226, 'grad_norm': 3.675872325897217, 'learning_rate': 4.42381562099872e-05, 'epoch': 0.5054151624548736, 'step': 560}, {'loss': 0.5698, 'grad_norm': 12.611427307128906, 'learning_rate': 4.391805377720871e-05, 'epoch': 0.5234657039711191, 'step': 580}, {'loss': 0.5481, 'grad_norm': 10.989816665649414, 'learning_rate': 4.359795134443022e-05, 'epoch': 0.5415162454873647, 'step': 600}, {'loss': 0.5679, 'grad_norm': 33.40547561645508, 'learning_rate': 4.327784891165173e-05, 'epoch': 0.5595667870036101, 'step': 620}, {'loss': 0.4519, 'grad_norm': 17.4937686920166, 'learning_rate': 4.295774647887324e-05, 'epoch': 0.5776173285198556, 'step': 640}, {'loss': 0.5335, 'grad_norm': 5.473636150360107, 'learning_rate': 4.2637644046094754e-05, 'epoch': 0.5956678700361011, 'step': 660}, {'loss': 0.4229, 'grad_norm': 2.2739365100860596, 'learning_rate': 4.2317541613316264e-05, 'epoch': 0.6137184115523465, 'step': 680}, {'loss': 0.4605, 'grad_norm': 2.750760555267334, 'learning_rate': 4.1997439180537773e-05, 'epoch': 0.631768953068592, 'step': 700}, {'loss': 0.4287, 'grad_norm': 2.4709558486938477, 'learning_rate': 4.167733674775928e-05, 'epoch': 0.6498194945848376, 'step': 720}, {'loss': 0.4586, 'grad_norm': 5.92242431640625, 'learning_rate': 4.13572343149808e-05, 'epoch': 0.6678700361010831, 'step': 740}, {'loss': 0.5346, 'grad_norm': 11.310392379760742, 'learning_rate': 4.103713188220231e-05, 'epoch': 0.6859205776173285, 'step': 760}, {'loss': 0.406, 'grad_norm': 5.959586143493652, 'learning_rate': 4.071702944942381e-05, 'epoch': 0.703971119133574, 'step': 780}, {'loss': 0.452, 'grad_norm': 0.8828824162483215, 'learning_rate': 4.039692701664533e-05, 'epoch': 0.7220216606498195, 'step': 800}, {'loss': 0.4494, 'grad_norm': 6.689190864562988, 'learning_rate': 4.007682458386684e-05, 'epoch': 0.740072202166065, 'step': 820}, {'loss': 0.4896, 'grad_norm': 3.660557508468628, 'learning_rate': 3.975672215108835e-05, 'epoch': 0.7581227436823105, 'step': 840}, {'loss': 0.427, 'grad_norm': 15.360453605651855, 'learning_rate': 3.943661971830986e-05, 'epoch': 0.776173285198556, 'step': 860}, {'loss': 0.447, 'grad_norm': 11.147621154785156, 'learning_rate': 3.9116517285531375e-05, 'epoch': 0.7942238267148014, 'step': 880}, {'loss': 0.4236, 'grad_norm': 7.656602382659912, 'learning_rate': 3.8796414852752885e-05, 'epoch': 0.8122743682310469, 'step': 900}, {'loss': 0.424, 'grad_norm': 8.520699501037598, 'learning_rate': 3.8476312419974394e-05, 'epoch': 0.8303249097472925, 'step': 920}, {'loss': 0.4679, 'grad_norm': 21.09568977355957, 'learning_rate': 3.8156209987195904e-05, 'epoch': 0.8483754512635379, 'step': 940}, {'loss': 0.4911, 'grad_norm': 12.416864395141602, 'learning_rate': 3.7836107554417414e-05, 'epoch': 0.8664259927797834, 'step': 960}, {'loss': 0.3724, 'grad_norm': 4.5059895515441895, 'learning_rate': 3.7516005121638924e-05, 'epoch': 0.8844765342960289, 'step': 980}, {'loss': 0.4434, 'grad_norm': 1.7842048406600952, 'learning_rate': 3.719590268886043e-05, 'epoch': 0.9025270758122743, 'step': 1000}, {'loss': 0.4822, 'grad_norm': 4.192551612854004, 'learning_rate': 3.687580025608195e-05, 'epoch': 0.9205776173285198, 'step': 1020}, {'loss': 0.4632, 'grad_norm': 1.6279257535934448, 'learning_rate': 3.655569782330346e-05, 'epoch': 0.9386281588447654, 'step': 1040}, {'loss': 0.5021, 'grad_norm': 5.272381782531738, 'learning_rate': 3.623559539052497e-05, 'epoch': 0.9566787003610109, 'step': 1060}, {'loss': 0.455, 'grad_norm': 66.95205688476562, 'learning_rate': 3.5915492957746486e-05, 'epoch': 0.9747292418772563, 'step': 1080}, {'loss': 0.3994, 'grad_norm': 9.049498558044434, 'learning_rate': 3.559539052496799e-05, 'epoch': 0.9927797833935018, 'step': 1100}, {'eval_loss': 0.39087632298469543, 'eval_accuracy': 0.8833982061262481, 'eval_f1': 0.878364291514232, 'eval_precision': 0.877664145066364, 'eval_recall': 0.8833982061262481, 'eval_runtime': 86.4114, 'eval_samples_per_second': 68.382, 'eval_steps_per_second': 4.282, 'epoch': 1.0, 'step': 1108}, {'loss': 0.3271, 'grad_norm': 4.2839460372924805, 'learning_rate': 3.52752880921895e-05, 'epoch': 1.0108303249097472, 'step': 1120}, {'loss': 0.3147, 'grad_norm': 4.4859209060668945, 'learning_rate': 3.495518565941101e-05, 'epoch': 1.0288808664259927, 'step': 1140}, {'loss': 0.2977, 'grad_norm': 3.287091016769409, 'learning_rate': 3.4635083226632525e-05, 'epoch': 1.0469314079422383, 'step': 1160}, {'loss': 0.3716, 'grad_norm': 1.556151032447815, 'learning_rate': 3.4314980793854035e-05, 'epoch': 1.0649819494584838, 'step': 1180}, {'loss': 0.489, 'grad_norm': 6.351132392883301, 'learning_rate': 3.3994878361075544e-05, 'epoch': 1.0830324909747293, 'step': 1200}, {'loss': 0.3499, 'grad_norm': 8.619747161865234, 'learning_rate': 3.367477592829706e-05, 'epoch': 1.1010830324909748, 'step': 1220}, {'loss': 0.3836, 'grad_norm': 6.179691314697266, 'learning_rate': 3.335467349551857e-05, 'epoch': 1.1191335740072201, 'step': 1240}, {'loss': 0.3453, 'grad_norm': 1.3107736110687256, 'learning_rate': 3.303457106274008e-05, 'epoch': 1.1371841155234657, 'step': 1260}, {'loss': 0.3751, 'grad_norm': 4.942327499389648, 'learning_rate': 3.2714468629961584e-05, 'epoch': 1.1552346570397112, 'step': 1280}, {'loss': 0.4388, 'grad_norm': 0.6492297053337097, 'learning_rate': 3.23943661971831e-05, 'epoch': 1.1732851985559567, 'step': 1300}, {'loss': 0.3783, 'grad_norm': 9.33144474029541, 'learning_rate': 3.207426376440461e-05, 'epoch': 1.1913357400722022, 'step': 1320}, {'loss': 0.3794, 'grad_norm': 0.48525285720825195, 'learning_rate': 3.175416133162612e-05, 'epoch': 1.2093862815884477, 'step': 1340}, {'loss': 0.3471, 'grad_norm': 5.231033802032471, 'learning_rate': 3.1434058898847636e-05, 'epoch': 1.2274368231046933, 'step': 1360}, {'loss': 0.4893, 'grad_norm': 7.088911533355713, 'learning_rate': 3.1113956466069146e-05, 'epoch': 1.2454873646209386, 'step': 1380}, {'loss': 0.3337, 'grad_norm': 6.622250556945801, 'learning_rate': 3.0793854033290656e-05, 'epoch': 1.263537906137184, 'step': 1400}, {'loss': 0.3989, 'grad_norm': 19.204017639160156, 'learning_rate': 3.0473751600512162e-05, 'epoch': 1.2815884476534296, 'step': 1420}, {'loss': 0.3097, 'grad_norm': 4.201731204986572, 'learning_rate': 3.015364916773368e-05, 'epoch': 1.2996389891696751, 'step': 1440}, {'loss': 0.3969, 'grad_norm': 0.7547466158866882, 'learning_rate': 2.9833546734955188e-05, 'epoch': 1.3176895306859207, 'step': 1460}, {'loss': 0.3211, 'grad_norm': 2.523047924041748, 'learning_rate': 2.9513444302176695e-05, 'epoch': 1.335740072202166, 'step': 1480}, {'loss': 0.4847, 'grad_norm': 0.7804986238479614, 'learning_rate': 2.919334186939821e-05, 'epoch': 1.3537906137184115, 'step': 1500}, {'loss': 0.4491, 'grad_norm': 3.6309313774108887, 'learning_rate': 2.887323943661972e-05, 'epoch': 1.371841155234657, 'step': 1520}, {'loss': 0.3669, 'grad_norm': 5.799242973327637, 'learning_rate': 2.855313700384123e-05, 'epoch': 1.3898916967509025, 'step': 1540}, {'loss': 0.2659, 'grad_norm': 6.782565116882324, 'learning_rate': 2.8233034571062744e-05, 'epoch': 1.407942238267148, 'step': 1560}, {'loss': 0.3817, 'grad_norm': 0.8296571373939514, 'learning_rate': 2.7912932138284254e-05, 'epoch': 1.4259927797833936, 'step': 1580}, {'loss': 0.3642, 'grad_norm': 0.8463132977485657, 'learning_rate': 2.7592829705505763e-05, 'epoch': 1.444043321299639, 'step': 1600}, {'loss': 0.3459, 'grad_norm': 0.8105592131614685, 'learning_rate': 2.7272727272727273e-05, 'epoch': 1.4620938628158844, 'step': 1620}, {'loss': 0.3711, 'grad_norm': 2.191617012023926, 'learning_rate': 2.6952624839948786e-05, 'epoch': 1.48014440433213, 'step': 1640}, {'loss': 0.3514, 'grad_norm': 5.190878868103027, 'learning_rate': 2.6632522407170296e-05, 'epoch': 1.4981949458483754, 'step': 1660}, {'loss': 0.3377, 'grad_norm': 9.638604164123535, 'learning_rate': 2.6312419974391806e-05, 'epoch': 1.516245487364621, 'step': 1680}, {'loss': 0.3004, 'grad_norm': 8.334977149963379, 'learning_rate': 2.599231754161332e-05, 'epoch': 1.5342960288808665, 'step': 1700}, {'loss': 0.3132, 'grad_norm': 6.315262317657471, 'learning_rate': 2.567221510883483e-05, 'epoch': 1.5523465703971118, 'step': 1720}, {'loss': 0.3277, 'grad_norm': 49.38709259033203, 'learning_rate': 2.535211267605634e-05, 'epoch': 1.5703971119133575, 'step': 1740}, {'loss': 0.3284, 'grad_norm': 3.5154964923858643, 'learning_rate': 2.5032010243277848e-05, 'epoch': 1.5884476534296028, 'step': 1760}, {'loss': 0.2852, 'grad_norm': 1.4383199214935303, 'learning_rate': 2.471190781049936e-05, 'epoch': 1.6064981949458483, 'step': 1780}, {'loss': 0.3451, 'grad_norm': 4.029848098754883, 'learning_rate': 2.439180537772087e-05, 'epoch': 1.6245487364620939, 'step': 1800}, {'loss': 0.2939, 'grad_norm': 4.251193046569824, 'learning_rate': 2.407170294494238e-05, 'epoch': 1.6425992779783394, 'step': 1820}, {'loss': 0.2391, 'grad_norm': 1.4781306982040405, 'learning_rate': 2.3751600512163894e-05, 'epoch': 1.660649819494585, 'step': 1840}, {'loss': 0.3549, 'grad_norm': 7.433379173278809, 'learning_rate': 2.3431498079385407e-05, 'epoch': 1.6787003610108302, 'step': 1860}, {'loss': 0.3556, 'grad_norm': 3.616051435470581, 'learning_rate': 2.3111395646606914e-05, 'epoch': 1.696750902527076, 'step': 1880}, {'loss': 0.314, 'grad_norm': 3.372056484222412, 'learning_rate': 2.2791293213828427e-05, 'epoch': 1.7148014440433212, 'step': 1900}, {'loss': 0.3551, 'grad_norm': 3.2177929878234863, 'learning_rate': 2.2471190781049936e-05, 'epoch': 1.7328519855595668, 'step': 1920}, {'loss': 0.3071, 'grad_norm': 10.148524284362793, 'learning_rate': 2.215108834827145e-05, 'epoch': 1.7509025270758123, 'step': 1940}, {'loss': 0.2322, 'grad_norm': 7.767719745635986, 'learning_rate': 2.1830985915492956e-05, 'epoch': 1.7689530685920578, 'step': 1960}, {'loss': 0.3785, 'grad_norm': 14.980411529541016, 'learning_rate': 2.151088348271447e-05, 'epoch': 1.7870036101083033, 'step': 1980}, {'loss': 0.3427, 'grad_norm': 1.0582033395767212, 'learning_rate': 2.1190781049935982e-05, 'epoch': 1.8050541516245486, 'step': 2000}, {'loss': 0.2894, 'grad_norm': 17.16426658630371, 'learning_rate': 2.0870678617157492e-05, 'epoch': 1.8231046931407944, 'step': 2020}, {'loss': 0.3793, 'grad_norm': 1.0019588470458984, 'learning_rate': 2.0550576184379002e-05, 'epoch': 1.8411552346570397, 'step': 2040}, {'loss': 0.2885, 'grad_norm': 4.697610855102539, 'learning_rate': 2.023047375160051e-05, 'epoch': 1.8592057761732852, 'step': 2060}, {'loss': 0.3205, 'grad_norm': 12.772857666015625, 'learning_rate': 1.9910371318822025e-05, 'epoch': 1.8772563176895307, 'step': 2080}, {'loss': 0.2886, 'grad_norm': 5.719916343688965, 'learning_rate': 1.9590268886043534e-05, 'epoch': 1.895306859205776, 'step': 2100}, {'loss': 0.2782, 'grad_norm': 1.2041739225387573, 'learning_rate': 1.9270166453265044e-05, 'epoch': 1.9133574007220218, 'step': 2120}, {'loss': 0.2865, 'grad_norm': 8.184081077575684, 'learning_rate': 1.8950064020486557e-05, 'epoch': 1.931407942238267, 'step': 2140}, {'loss': 0.2944, 'grad_norm': 21.696697235107422, 'learning_rate': 1.8629961587708067e-05, 'epoch': 1.9494584837545126, 'step': 2160}, {'loss': 0.2877, 'grad_norm': 6.184157371520996, 'learning_rate': 1.830985915492958e-05, 'epoch': 1.967509025270758, 'step': 2180}, {'loss': 0.3055, 'grad_norm': 7.056558132171631, 'learning_rate': 1.7989756722151087e-05, 'epoch': 1.9855595667870036, 'step': 2200}, {'eval_loss': 0.32348814606666565, 'eval_accuracy': 0.9067524115755627, 'eval_f1': 0.9001119162130351, 'eval_precision': 0.9033876971185146, 'eval_recall': 0.9067524115755627, 'eval_runtime': 86.3925, 'eval_samples_per_second': 68.397, 'eval_steps_per_second': 4.283, 'epoch': 2.0, 'step': 2216}, {'loss': 0.3589, 'grad_norm': 10.493399620056152, 'learning_rate': 1.76696542893726e-05, 'epoch': 2.003610108303249, 'step': 2220}, {'loss': 0.3041, 'grad_norm': 8.055562019348145, 'learning_rate': 1.7349551856594113e-05, 'epoch': 2.0216606498194944, 'step': 2240}, {'loss': 0.1938, 'grad_norm': 2.8864097595214844, 'learning_rate': 1.7029449423815623e-05, 'epoch': 2.03971119133574, 'step': 2260}, {'loss': 0.2467, 'grad_norm': 16.877504348754883, 'learning_rate': 1.6709346991037132e-05, 'epoch': 2.0577617328519855, 'step': 2280}, {'loss': 0.2779, 'grad_norm': 6.994019508361816, 'learning_rate': 1.6389244558258642e-05, 'epoch': 2.0758122743682312, 'step': 2300}, {'loss': 0.2705, 'grad_norm': 9.702751159667969, 'learning_rate': 1.6069142125480155e-05, 'epoch': 2.0938628158844765, 'step': 2320}, {'loss': 0.3176, 'grad_norm': 9.985391616821289, 'learning_rate': 1.5749039692701665e-05, 'epoch': 2.111913357400722, 'step': 2340}, {'loss': 0.2241, 'grad_norm': 11.075133323669434, 'learning_rate': 1.5428937259923175e-05, 'epoch': 2.1299638989169676, 'step': 2360}, {'loss': 0.2209, 'grad_norm': 4.2920355796813965, 'learning_rate': 1.5108834827144688e-05, 'epoch': 2.148014440433213, 'step': 2380}, {'loss': 0.2413, 'grad_norm': 11.65249252319336, 'learning_rate': 1.4788732394366198e-05, 'epoch': 2.1660649819494586, 'step': 2400}, {'loss': 0.1653, 'grad_norm': 0.5704268217086792, 'learning_rate': 1.4468629961587709e-05, 'epoch': 2.184115523465704, 'step': 2420}, {'loss': 0.1727, 'grad_norm': 5.35913610458374, 'learning_rate': 1.4148527528809219e-05, 'epoch': 2.2021660649819497, 'step': 2440}, {'loss': 0.3431, 'grad_norm': 41.585330963134766, 'learning_rate': 1.382842509603073e-05, 'epoch': 2.220216606498195, 'step': 2460}, {'loss': 0.262, 'grad_norm': 2.5815305709838867, 'learning_rate': 1.350832266325224e-05, 'epoch': 2.2382671480144403, 'step': 2480}, {'loss': 0.2272, 'grad_norm': 2.082364082336426, 'learning_rate': 1.3188220230473752e-05, 'epoch': 2.256317689530686, 'step': 2500}, {'loss': 0.2229, 'grad_norm': 7.156487464904785, 'learning_rate': 1.2868117797695265e-05, 'epoch': 2.2743682310469313, 'step': 2520}, {'loss': 0.2154, 'grad_norm': 1.2430781126022339, 'learning_rate': 1.2548015364916774e-05, 'epoch': 2.292418772563177, 'step': 2540}, {'loss': 0.3773, 'grad_norm': 6.5825300216674805, 'learning_rate': 1.2227912932138284e-05, 'epoch': 2.3104693140794224, 'step': 2560}, {'loss': 0.3017, 'grad_norm': 0.6764209866523743, 'learning_rate': 1.1907810499359796e-05, 'epoch': 2.328519855595668, 'step': 2580}, {'loss': 0.3619, 'grad_norm': 10.591850280761719, 'learning_rate': 1.1587708066581307e-05, 'epoch': 2.3465703971119134, 'step': 2600}, {'loss': 0.259, 'grad_norm': 6.270687580108643, 'learning_rate': 1.1267605633802817e-05, 'epoch': 2.3646209386281587, 'step': 2620}, {'loss': 0.2556, 'grad_norm': 3.0849173069000244, 'learning_rate': 1.0947503201024328e-05, 'epoch': 2.3826714801444044, 'step': 2640}, {'loss': 0.2758, 'grad_norm': 2.1296746730804443, 'learning_rate': 1.062740076824584e-05, 'epoch': 2.4007220216606497, 'step': 2660}, {'loss': 0.3041, 'grad_norm': 6.8749470710754395, 'learning_rate': 1.030729833546735e-05, 'epoch': 2.4187725631768955, 'step': 2680}, {'loss': 0.2473, 'grad_norm': 2.631251811981201, 'learning_rate': 9.987195902688861e-06, 'epoch': 2.436823104693141, 'step': 2700}, {'loss': 0.2057, 'grad_norm': 23.812705993652344, 'learning_rate': 9.667093469910372e-06, 'epoch': 2.4548736462093865, 'step': 2720}, {'loss': 0.2686, 'grad_norm': 7.656250953674316, 'learning_rate': 9.346991037131884e-06, 'epoch': 2.472924187725632, 'step': 2740}, {'loss': 0.2275, 'grad_norm': 3.422466993331909, 'learning_rate': 9.026888604353394e-06, 'epoch': 2.490974729241877, 'step': 2760}, {'loss': 0.2444, 'grad_norm': 28.75712776184082, 'learning_rate': 8.706786171574905e-06, 'epoch': 2.509025270758123, 'step': 2780}, {'loss': 0.2384, 'grad_norm': 0.8520049452781677, 'learning_rate': 8.386683738796415e-06, 'epoch': 2.527075812274368, 'step': 2800}, {'loss': 0.288, 'grad_norm': 18.88348388671875, 'learning_rate': 8.066581306017926e-06, 'epoch': 2.5451263537906135, 'step': 2820}, {'loss': 0.1823, 'grad_norm': 3.8927202224731445, 'learning_rate': 7.746478873239436e-06, 'epoch': 2.563176895306859, 'step': 2840}, {'loss': 0.2442, 'grad_norm': 2.1514697074890137, 'learning_rate': 7.426376440460948e-06, 'epoch': 2.581227436823105, 'step': 2860}, {'loss': 0.3595, 'grad_norm': 0.83089679479599, 'learning_rate': 7.106274007682459e-06, 'epoch': 2.5992779783393503, 'step': 2880}, {'loss': 0.3016, 'grad_norm': 7.177476406097412, 'learning_rate': 6.78617157490397e-06, 'epoch': 2.6173285198555956, 'step': 2900}, {'loss': 0.2254, 'grad_norm': 3.4221932888031006, 'learning_rate': 6.46606914212548e-06, 'epoch': 2.6353790613718413, 'step': 2920}, {'loss': 0.2455, 'grad_norm': 3.617105722427368, 'learning_rate': 6.145966709346991e-06, 'epoch': 2.6534296028880866, 'step': 2940}, {'loss': 0.2281, 'grad_norm': 3.6882762908935547, 'learning_rate': 5.825864276568502e-06, 'epoch': 2.671480144404332, 'step': 2960}, {'loss': 0.2657, 'grad_norm': 3.0649683475494385, 'learning_rate': 5.505761843790013e-06, 'epoch': 2.6895306859205776, 'step': 2980}, {'loss': 0.2155, 'grad_norm': 6.129126071929932, 'learning_rate': 5.1856594110115235e-06, 'epoch': 2.707581227436823, 'step': 3000}, {'loss': 0.2623, 'grad_norm': 5.589453220367432, 'learning_rate': 4.865556978233035e-06, 'epoch': 2.7256317689530687, 'step': 3020}, {'loss': 0.2813, 'grad_norm': 7.664316177368164, 'learning_rate': 4.5454545454545455e-06, 'epoch': 2.743682310469314, 'step': 3040}, {'loss': 0.2963, 'grad_norm': 0.4125517010688782, 'learning_rate': 4.225352112676056e-06, 'epoch': 2.7617328519855597, 'step': 3060}, {'loss': 0.2254, 'grad_norm': 5.754639148712158, 'learning_rate': 3.905249679897567e-06, 'epoch': 2.779783393501805, 'step': 3080}, {'loss': 0.1856, 'grad_norm': 7.998795032501221, 'learning_rate': 3.5851472471190786e-06, 'epoch': 2.7978339350180503, 'step': 3100}, {'loss': 0.339, 'grad_norm': 13.093979835510254, 'learning_rate': 3.265044814340589e-06, 'epoch': 2.815884476534296, 'step': 3120}, {'loss': 0.231, 'grad_norm': 0.5039697289466858, 'learning_rate': 2.9449423815621002e-06, 'epoch': 2.8339350180505414, 'step': 3140}, {'loss': 0.2309, 'grad_norm': 10.199414253234863, 'learning_rate': 2.624839948783611e-06, 'epoch': 2.851985559566787, 'step': 3160}, {'loss': 0.2478, 'grad_norm': 0.5782090425491333, 'learning_rate': 2.304737516005122e-06, 'epoch': 2.8700361010830324, 'step': 3180}, {'loss': 0.2852, 'grad_norm': 8.137988090515137, 'learning_rate': 1.9846350832266325e-06, 'epoch': 2.888086642599278, 'step': 3200}, {'loss': 0.3166, 'grad_norm': 7.85275411605835, 'learning_rate': 1.6645326504481435e-06, 'epoch': 2.9061371841155235, 'step': 3220}, {'loss': 0.2713, 'grad_norm': 7.925478458404541, 'learning_rate': 1.3444302176696543e-06, 'epoch': 2.9241877256317688, 'step': 3240}, {'loss': 0.2211, 'grad_norm': 5.101192951202393, 'learning_rate': 1.0243277848911651e-06, 'epoch': 2.9422382671480145, 'step': 3260}, {'loss': 0.2651, 'grad_norm': 4.844425201416016, 'learning_rate': 7.042253521126761e-07, 'epoch': 2.96028880866426, 'step': 3280}, {'loss': 0.1721, 'grad_norm': 2.319690465927124, 'learning_rate': 3.841229193341869e-07, 'epoch': 2.9783393501805056, 'step': 3300}, {'loss': 0.2014, 'grad_norm': 0.28140947222709656, 'learning_rate': 6.402048655569782e-08, 'epoch': 2.996389891696751, 'step': 3320}, {'eval_loss': 0.29298320412635803, 'eval_accuracy': 0.9194449145371467, 'eval_f1': 0.9144587727677511, 'eval_precision': 0.9159414055316356, 'eval_recall': 0.9194449145371467, 'eval_runtime': 86.6298, 'eval_samples_per_second': 68.21, 'eval_steps_per_second': 4.271, 'epoch': 3.0, 'step': 3324}, {'train_runtime': 2597.5775, 'train_samples_per_second': 20.472, 'train_steps_per_second': 1.28, 'total_flos': 1.3992096579950592e+16, 'train_loss': 0.39150431734273294, 'epoch': 3.0, 'step': 3324}, {'eval_loss': 0.27277910709381104, 'eval_accuracy': 0.9223218818751058, 'eval_f1': 0.9175693652544786, 'eval_precision': 0.9184308592208992, 'eval_recall': 0.9223218818751058, 'eval_runtime': 86.7175, 'eval_samples_per_second': 68.141, 'eval_steps_per_second': 4.267, 'epoch': 3.0, 'step': 3324}]\n"
          ]
        }
      ]
    },
    {
      "cell_type": "code",
      "source": [
        "print(training_logs_english)"
      ],
      "metadata": {
        "colab": {
          "base_uri": "https://localhost:8080/"
        },
        "id": "igevXPHK0wWE",
        "outputId": "bbdbb212-0465-455e-80e7-d22ac8fa8422"
      },
      "execution_count": null,
      "outputs": [
        {
          "output_type": "stream",
          "name": "stdout",
          "text": [
            "[{'loss': 1.5021, 'grad_norm': 7.758094787597656, 'learning_rate': 5e-06, 'epoch': 0.018050541516245487, 'step': 20}, {'loss': 1.176, 'grad_norm': 8.735230445861816, 'learning_rate': 1e-05, 'epoch': 0.036101083032490974, 'step': 40}, {'loss': 0.6972, 'grad_norm': 6.7875471115112305, 'learning_rate': 1.5e-05, 'epoch': 0.05415162454873646, 'step': 60}, {'loss': 0.464, 'grad_norm': 2.4097936153411865, 'learning_rate': 2e-05, 'epoch': 0.07220216606498195, 'step': 80}, {'loss': 0.4102, 'grad_norm': 1.8956880569458008, 'learning_rate': 2.5e-05, 'epoch': 0.09025270758122744, 'step': 100}, {'loss': 0.4142, 'grad_norm': 3.624096155166626, 'learning_rate': 3e-05, 'epoch': 0.10830324909747292, 'step': 120}, {'loss': 0.3122, 'grad_norm': 2.628129720687866, 'learning_rate': 3.5e-05, 'epoch': 0.1263537906137184, 'step': 140}, {'loss': 0.2911, 'grad_norm': 7.894004821777344, 'learning_rate': 4e-05, 'epoch': 0.1444043321299639, 'step': 160}, {'loss': 0.3599, 'grad_norm': 25.145278930664062, 'learning_rate': 4.5e-05, 'epoch': 0.1624548736462094, 'step': 180}, {'loss': 0.26, 'grad_norm': 7.903351306915283, 'learning_rate': 5e-05, 'epoch': 0.18050541516245489, 'step': 200}, {'loss': 0.3498, 'grad_norm': 21.27771759033203, 'learning_rate': 4.967989756722151e-05, 'epoch': 0.19855595667870035, 'step': 220}, {'loss': 0.2313, 'grad_norm': 8.417473793029785, 'learning_rate': 4.935979513444303e-05, 'epoch': 0.21660649819494585, 'step': 240}, {'loss': 0.4098, 'grad_norm': 38.435882568359375, 'learning_rate': 4.903969270166454e-05, 'epoch': 0.23465703971119134, 'step': 260}, {'loss': 0.1422, 'grad_norm': 0.20737986266613007, 'learning_rate': 4.871959026888605e-05, 'epoch': 0.2527075812274368, 'step': 280}, {'loss': 0.2456, 'grad_norm': 0.7351160645484924, 'learning_rate': 4.839948783610755e-05, 'epoch': 0.27075812274368233, 'step': 300}, {'loss': 0.3343, 'grad_norm': 3.5452699661254883, 'learning_rate': 4.807938540332907e-05, 'epoch': 0.2888086642599278, 'step': 320}, {'loss': 0.2613, 'grad_norm': 2.7051072120666504, 'learning_rate': 4.775928297055058e-05, 'epoch': 0.30685920577617326, 'step': 340}, {'loss': 0.2499, 'grad_norm': 16.801136016845703, 'learning_rate': 4.743918053777209e-05, 'epoch': 0.3249097472924188, 'step': 360}, {'loss': 0.3688, 'grad_norm': 7.41776704788208, 'learning_rate': 4.7119078104993604e-05, 'epoch': 0.34296028880866425, 'step': 380}, {'loss': 0.323, 'grad_norm': 29.195302963256836, 'learning_rate': 4.6798975672215114e-05, 'epoch': 0.36101083032490977, 'step': 400}, {'loss': 0.2195, 'grad_norm': 0.958540141582489, 'learning_rate': 4.647887323943662e-05, 'epoch': 0.37906137184115524, 'step': 420}, {'loss': 0.2354, 'grad_norm': 1.6026697158813477, 'learning_rate': 4.615877080665813e-05, 'epoch': 0.3971119133574007, 'step': 440}, {'loss': 0.2256, 'grad_norm': 1.9356855154037476, 'learning_rate': 4.583866837387964e-05, 'epoch': 0.4151624548736462, 'step': 460}, {'loss': 0.1936, 'grad_norm': 1.886467695236206, 'learning_rate': 4.551856594110115e-05, 'epoch': 0.4332129963898917, 'step': 480}, {'loss': 0.2303, 'grad_norm': 5.326751232147217, 'learning_rate': 4.519846350832266e-05, 'epoch': 0.45126353790613716, 'step': 500}, {'loss': 0.2344, 'grad_norm': 1.2408000230789185, 'learning_rate': 4.487836107554418e-05, 'epoch': 0.4693140794223827, 'step': 520}, {'loss': 0.2879, 'grad_norm': 2.6756908893585205, 'learning_rate': 4.455825864276569e-05, 'epoch': 0.48736462093862815, 'step': 540}, {'loss': 0.2056, 'grad_norm': 11.602629661560059, 'learning_rate': 4.42381562099872e-05, 'epoch': 0.5054151624548736, 'step': 560}, {'loss': 0.2073, 'grad_norm': 1.82135808467865, 'learning_rate': 4.391805377720871e-05, 'epoch': 0.5234657039711191, 'step': 580}, {'loss': 0.2151, 'grad_norm': 5.896931171417236, 'learning_rate': 4.359795134443022e-05, 'epoch': 0.5415162454873647, 'step': 600}, {'loss': 0.1827, 'grad_norm': 1.9219839572906494, 'learning_rate': 4.327784891165173e-05, 'epoch': 0.5595667870036101, 'step': 620}, {'loss': 0.1746, 'grad_norm': 0.2862151265144348, 'learning_rate': 4.295774647887324e-05, 'epoch': 0.5776173285198556, 'step': 640}, {'loss': 0.2045, 'grad_norm': 5.933279514312744, 'learning_rate': 4.2637644046094754e-05, 'epoch': 0.5956678700361011, 'step': 660}, {'loss': 0.1946, 'grad_norm': 17.15439224243164, 'learning_rate': 4.2317541613316264e-05, 'epoch': 0.6137184115523465, 'step': 680}, {'loss': 0.1687, 'grad_norm': 5.23037052154541, 'learning_rate': 4.1997439180537773e-05, 'epoch': 0.631768953068592, 'step': 700}, {'loss': 0.1606, 'grad_norm': 0.332072377204895, 'learning_rate': 4.167733674775928e-05, 'epoch': 0.6498194945848376, 'step': 720}, {'loss': 0.2533, 'grad_norm': 6.374242305755615, 'learning_rate': 4.13572343149808e-05, 'epoch': 0.6678700361010831, 'step': 740}, {'loss': 0.1564, 'grad_norm': 7.881933212280273, 'learning_rate': 4.103713188220231e-05, 'epoch': 0.6859205776173285, 'step': 760}, {'loss': 0.2127, 'grad_norm': 1.2397583723068237, 'learning_rate': 4.071702944942381e-05, 'epoch': 0.703971119133574, 'step': 780}, {'loss': 0.2484, 'grad_norm': 17.12633514404297, 'learning_rate': 4.039692701664533e-05, 'epoch': 0.7220216606498195, 'step': 800}, {'loss': 0.19, 'grad_norm': 12.451777458190918, 'learning_rate': 4.007682458386684e-05, 'epoch': 0.740072202166065, 'step': 820}, {'loss': 0.1693, 'grad_norm': 0.27905580401420593, 'learning_rate': 3.975672215108835e-05, 'epoch': 0.7581227436823105, 'step': 840}, {'loss': 0.218, 'grad_norm': 6.239205360412598, 'learning_rate': 3.943661971830986e-05, 'epoch': 0.776173285198556, 'step': 860}, {'loss': 0.2076, 'grad_norm': 3.092179298400879, 'learning_rate': 3.9116517285531375e-05, 'epoch': 0.7942238267148014, 'step': 880}, {'loss': 0.1308, 'grad_norm': 32.27701187133789, 'learning_rate': 3.8796414852752885e-05, 'epoch': 0.8122743682310469, 'step': 900}, {'loss': 0.1579, 'grad_norm': 11.501015663146973, 'learning_rate': 3.8476312419974394e-05, 'epoch': 0.8303249097472925, 'step': 920}, {'loss': 0.2199, 'grad_norm': 6.247661113739014, 'learning_rate': 3.8156209987195904e-05, 'epoch': 0.8483754512635379, 'step': 940}, {'loss': 0.183, 'grad_norm': 5.537519931793213, 'learning_rate': 3.7836107554417414e-05, 'epoch': 0.8664259927797834, 'step': 960}, {'loss': 0.1912, 'grad_norm': 2.516296863555908, 'learning_rate': 3.7516005121638924e-05, 'epoch': 0.8844765342960289, 'step': 980}, {'loss': 0.2184, 'grad_norm': 2.0939176082611084, 'learning_rate': 3.719590268886043e-05, 'epoch': 0.9025270758122743, 'step': 1000}, {'loss': 0.1609, 'grad_norm': 6.88041877746582, 'learning_rate': 3.687580025608195e-05, 'epoch': 0.9205776173285198, 'step': 1020}, {'loss': 0.3236, 'grad_norm': 10.258143424987793, 'learning_rate': 3.655569782330346e-05, 'epoch': 0.9386281588447654, 'step': 1040}, {'loss': 0.101, 'grad_norm': 4.103964805603027, 'learning_rate': 3.623559539052497e-05, 'epoch': 0.9566787003610109, 'step': 1060}, {'loss': 0.2321, 'grad_norm': 5.994409084320068, 'learning_rate': 3.5915492957746486e-05, 'epoch': 0.9747292418772563, 'step': 1080}, {'loss': 0.1448, 'grad_norm': 6.053539276123047, 'learning_rate': 3.559539052496799e-05, 'epoch': 0.9927797833935018, 'step': 1100}, {'eval_loss': 0.14907479286193848, 'eval_accuracy': 0.9653071585716704, 'eval_f1': 0.9629045004841363, 'eval_precision': 0.9639854402041621, 'eval_recall': 0.9653071585716704, 'eval_runtime': 86.1057, 'eval_samples_per_second': 68.625, 'eval_steps_per_second': 4.297, 'epoch': 1.0, 'step': 1108}, {'loss': 0.1034, 'grad_norm': 0.14939528703689575, 'learning_rate': 3.52752880921895e-05, 'epoch': 1.0108303249097472, 'step': 1120}, {'loss': 0.1353, 'grad_norm': 0.08287334442138672, 'learning_rate': 3.495518565941101e-05, 'epoch': 1.0288808664259927, 'step': 1140}, {'loss': 0.169, 'grad_norm': 4.9492340087890625, 'learning_rate': 3.4635083226632525e-05, 'epoch': 1.0469314079422383, 'step': 1160}, {'loss': 0.1522, 'grad_norm': 3.2831244468688965, 'learning_rate': 3.4314980793854035e-05, 'epoch': 1.0649819494584838, 'step': 1180}, {'loss': 0.0899, 'grad_norm': 0.08657290041446686, 'learning_rate': 3.3994878361075544e-05, 'epoch': 1.0830324909747293, 'step': 1200}, {'loss': 0.1058, 'grad_norm': 23.88898277282715, 'learning_rate': 3.367477592829706e-05, 'epoch': 1.1010830324909748, 'step': 1220}, {'loss': 0.2037, 'grad_norm': 12.91702938079834, 'learning_rate': 3.335467349551857e-05, 'epoch': 1.1191335740072201, 'step': 1240}, {'loss': 0.1781, 'grad_norm': 5.645034313201904, 'learning_rate': 3.303457106274008e-05, 'epoch': 1.1371841155234657, 'step': 1260}, {'loss': 0.1638, 'grad_norm': 0.1739930957555771, 'learning_rate': 3.2714468629961584e-05, 'epoch': 1.1552346570397112, 'step': 1280}, {'loss': 0.1497, 'grad_norm': 6.304878234863281, 'learning_rate': 3.23943661971831e-05, 'epoch': 1.1732851985559567, 'step': 1300}, {'loss': 0.1127, 'grad_norm': 0.21343186497688293, 'learning_rate': 3.207426376440461e-05, 'epoch': 1.1913357400722022, 'step': 1320}, {'loss': 0.1208, 'grad_norm': 0.09217142313718796, 'learning_rate': 3.175416133162612e-05, 'epoch': 1.2093862815884477, 'step': 1340}, {'loss': 0.1339, 'grad_norm': 0.8609694838523865, 'learning_rate': 3.1434058898847636e-05, 'epoch': 1.2274368231046933, 'step': 1360}, {'loss': 0.1825, 'grad_norm': 0.07488344609737396, 'learning_rate': 3.1113956466069146e-05, 'epoch': 1.2454873646209386, 'step': 1380}, {'loss': 0.1934, 'grad_norm': 9.640676498413086, 'learning_rate': 3.0793854033290656e-05, 'epoch': 1.263537906137184, 'step': 1400}, {'loss': 0.1699, 'grad_norm': 0.08239966630935669, 'learning_rate': 3.0473751600512162e-05, 'epoch': 1.2815884476534296, 'step': 1420}, {'loss': 0.1199, 'grad_norm': 0.13072843849658966, 'learning_rate': 3.015364916773368e-05, 'epoch': 1.2996389891696751, 'step': 1440}, {'loss': 0.1364, 'grad_norm': 3.5412497520446777, 'learning_rate': 2.9833546734955188e-05, 'epoch': 1.3176895306859207, 'step': 1460}, {'loss': 0.1899, 'grad_norm': 2.978245258331299, 'learning_rate': 2.9513444302176695e-05, 'epoch': 1.335740072202166, 'step': 1480}, {'loss': 0.1287, 'grad_norm': 0.10626189410686493, 'learning_rate': 2.919334186939821e-05, 'epoch': 1.3537906137184115, 'step': 1500}, {'loss': 0.1738, 'grad_norm': 0.5438364744186401, 'learning_rate': 2.887323943661972e-05, 'epoch': 1.371841155234657, 'step': 1520}, {'loss': 0.0706, 'grad_norm': 0.1833833009004593, 'learning_rate': 2.855313700384123e-05, 'epoch': 1.3898916967509025, 'step': 1540}, {'loss': 0.1398, 'grad_norm': 12.479635238647461, 'learning_rate': 2.8233034571062744e-05, 'epoch': 1.407942238267148, 'step': 1560}, {'loss': 0.1734, 'grad_norm': 7.7007317543029785, 'learning_rate': 2.7912932138284254e-05, 'epoch': 1.4259927797833936, 'step': 1580}, {'loss': 0.1749, 'grad_norm': 3.5735268592834473, 'learning_rate': 2.7592829705505763e-05, 'epoch': 1.444043321299639, 'step': 1600}, {'loss': 0.0802, 'grad_norm': 6.0457353591918945, 'learning_rate': 2.7272727272727273e-05, 'epoch': 1.4620938628158844, 'step': 1620}, {'loss': 0.0659, 'grad_norm': 0.08628971129655838, 'learning_rate': 2.6952624839948786e-05, 'epoch': 1.48014440433213, 'step': 1640}, {'loss': 0.1089, 'grad_norm': 0.050650641322135925, 'learning_rate': 2.6632522407170296e-05, 'epoch': 1.4981949458483754, 'step': 1660}, {'loss': 0.2224, 'grad_norm': 5.205571174621582, 'learning_rate': 2.6312419974391806e-05, 'epoch': 1.516245487364621, 'step': 1680}, {'loss': 0.16, 'grad_norm': 0.1767968237400055, 'learning_rate': 2.599231754161332e-05, 'epoch': 1.5342960288808665, 'step': 1700}, {'loss': 0.0732, 'grad_norm': 7.546282768249512, 'learning_rate': 2.567221510883483e-05, 'epoch': 1.5523465703971118, 'step': 1720}, {'loss': 0.0645, 'grad_norm': 0.058332014828920364, 'learning_rate': 2.535211267605634e-05, 'epoch': 1.5703971119133575, 'step': 1740}, {'loss': 0.1512, 'grad_norm': 6.202271461486816, 'learning_rate': 2.5032010243277848e-05, 'epoch': 1.5884476534296028, 'step': 1760}, {'loss': 0.1343, 'grad_norm': 0.11645063757896423, 'learning_rate': 2.471190781049936e-05, 'epoch': 1.6064981949458483, 'step': 1780}, {'loss': 0.2153, 'grad_norm': 1.5163909196853638, 'learning_rate': 2.439180537772087e-05, 'epoch': 1.6245487364620939, 'step': 1800}, {'loss': 0.1625, 'grad_norm': 5.752138614654541, 'learning_rate': 2.407170294494238e-05, 'epoch': 1.6425992779783394, 'step': 1820}, {'loss': 0.1068, 'grad_norm': 3.272770881652832, 'learning_rate': 2.3751600512163894e-05, 'epoch': 1.660649819494585, 'step': 1840}, {'loss': 0.1826, 'grad_norm': 16.556406021118164, 'learning_rate': 2.3431498079385407e-05, 'epoch': 1.6787003610108302, 'step': 1860}, {'loss': 0.2043, 'grad_norm': 0.18055832386016846, 'learning_rate': 2.3111395646606914e-05, 'epoch': 1.696750902527076, 'step': 1880}, {'loss': 0.112, 'grad_norm': 0.049340520054101944, 'learning_rate': 2.2791293213828427e-05, 'epoch': 1.7148014440433212, 'step': 1900}, {'loss': 0.0887, 'grad_norm': 0.07230324298143387, 'learning_rate': 2.2471190781049936e-05, 'epoch': 1.7328519855595668, 'step': 1920}, {'loss': 0.0904, 'grad_norm': 0.9119542837142944, 'learning_rate': 2.215108834827145e-05, 'epoch': 1.7509025270758123, 'step': 1940}, {'loss': 0.2169, 'grad_norm': 0.23818141222000122, 'learning_rate': 2.1830985915492956e-05, 'epoch': 1.7689530685920578, 'step': 1960}, {'loss': 0.1886, 'grad_norm': 8.842490196228027, 'learning_rate': 2.151088348271447e-05, 'epoch': 1.7870036101083033, 'step': 1980}, {'loss': 0.0826, 'grad_norm': 0.9798786044120789, 'learning_rate': 2.1190781049935982e-05, 'epoch': 1.8050541516245486, 'step': 2000}, {'loss': 0.1351, 'grad_norm': 12.873272895812988, 'learning_rate': 2.0870678617157492e-05, 'epoch': 1.8231046931407944, 'step': 2020}, {'loss': 0.1139, 'grad_norm': 6.211639404296875, 'learning_rate': 2.0550576184379002e-05, 'epoch': 1.8411552346570397, 'step': 2040}, {'loss': 0.1489, 'grad_norm': 8.908977508544922, 'learning_rate': 2.023047375160051e-05, 'epoch': 1.8592057761732852, 'step': 2060}, {'loss': 0.0992, 'grad_norm': 0.17612534761428833, 'learning_rate': 1.9910371318822025e-05, 'epoch': 1.8772563176895307, 'step': 2080}, {'loss': 0.1675, 'grad_norm': 15.025483131408691, 'learning_rate': 1.9590268886043534e-05, 'epoch': 1.895306859205776, 'step': 2100}, {'loss': 0.0783, 'grad_norm': 0.0656919851899147, 'learning_rate': 1.9270166453265044e-05, 'epoch': 1.9133574007220218, 'step': 2120}, {'loss': 0.1166, 'grad_norm': 0.6700708270072937, 'learning_rate': 1.8950064020486557e-05, 'epoch': 1.931407942238267, 'step': 2140}, {'loss': 0.1501, 'grad_norm': 5.589862823486328, 'learning_rate': 1.8629961587708067e-05, 'epoch': 1.9494584837545126, 'step': 2160}, {'loss': 0.1171, 'grad_norm': 0.45750319957733154, 'learning_rate': 1.830985915492958e-05, 'epoch': 1.967509025270758, 'step': 2180}, {'loss': 0.1389, 'grad_norm': 3.450509786605835, 'learning_rate': 1.7989756722151087e-05, 'epoch': 1.9855595667870036, 'step': 2200}, {'eval_loss': 0.12251367419958115, 'eval_accuracy': 0.9681841259096294, 'eval_f1': 0.9681363744047923, 'eval_precision': 0.9681528113537323, 'eval_recall': 0.9681841259096294, 'eval_runtime': 86.0857, 'eval_samples_per_second': 68.641, 'eval_steps_per_second': 4.298, 'epoch': 2.0, 'step': 2216}, {'loss': 0.1315, 'grad_norm': 0.4796450436115265, 'learning_rate': 1.76696542893726e-05, 'epoch': 2.003610108303249, 'step': 2220}, {'loss': 0.055, 'grad_norm': 0.07376442104578018, 'learning_rate': 1.7349551856594113e-05, 'epoch': 2.0216606498194944, 'step': 2240}, {'loss': 0.09, 'grad_norm': 0.18053671717643738, 'learning_rate': 1.7029449423815623e-05, 'epoch': 2.03971119133574, 'step': 2260}, {'loss': 0.1124, 'grad_norm': 0.09539426863193512, 'learning_rate': 1.6709346991037132e-05, 'epoch': 2.0577617328519855, 'step': 2280}, {'loss': 0.1598, 'grad_norm': 11.966343879699707, 'learning_rate': 1.6389244558258642e-05, 'epoch': 2.0758122743682312, 'step': 2300}, {'loss': 0.0824, 'grad_norm': 0.14043983817100525, 'learning_rate': 1.6069142125480155e-05, 'epoch': 2.0938628158844765, 'step': 2320}, {'loss': 0.0664, 'grad_norm': 13.87503433227539, 'learning_rate': 1.5749039692701665e-05, 'epoch': 2.111913357400722, 'step': 2340}, {'loss': 0.1039, 'grad_norm': 0.07067655771970749, 'learning_rate': 1.5428937259923175e-05, 'epoch': 2.1299638989169676, 'step': 2360}, {'loss': 0.079, 'grad_norm': 0.05152313783764839, 'learning_rate': 1.5108834827144688e-05, 'epoch': 2.148014440433213, 'step': 2380}, {'loss': 0.0758, 'grad_norm': 11.965031623840332, 'learning_rate': 1.4788732394366198e-05, 'epoch': 2.1660649819494586, 'step': 2400}, {'loss': 0.0411, 'grad_norm': 0.19251587986946106, 'learning_rate': 1.4468629961587709e-05, 'epoch': 2.184115523465704, 'step': 2420}, {'loss': 0.0647, 'grad_norm': 0.10470054298639297, 'learning_rate': 1.4148527528809219e-05, 'epoch': 2.2021660649819497, 'step': 2440}, {'loss': 0.0905, 'grad_norm': 17.440153121948242, 'learning_rate': 1.382842509603073e-05, 'epoch': 2.220216606498195, 'step': 2460}, {'loss': 0.0752, 'grad_norm': 0.035855457186698914, 'learning_rate': 1.350832266325224e-05, 'epoch': 2.2382671480144403, 'step': 2480}, {'loss': 0.1049, 'grad_norm': 7.985572338104248, 'learning_rate': 1.3188220230473752e-05, 'epoch': 2.256317689530686, 'step': 2500}, {'loss': 0.0581, 'grad_norm': 0.2555469274520874, 'learning_rate': 1.2868117797695265e-05, 'epoch': 2.2743682310469313, 'step': 2520}, {'loss': 0.0892, 'grad_norm': 10.134736061096191, 'learning_rate': 1.2548015364916774e-05, 'epoch': 2.292418772563177, 'step': 2540}, {'loss': 0.1129, 'grad_norm': 0.1454346925020218, 'learning_rate': 1.2227912932138284e-05, 'epoch': 2.3104693140794224, 'step': 2560}, {'loss': 0.0539, 'grad_norm': 0.3505267798900604, 'learning_rate': 1.1907810499359796e-05, 'epoch': 2.328519855595668, 'step': 2580}, {'loss': 0.062, 'grad_norm': 0.028785226866602898, 'learning_rate': 1.1587708066581307e-05, 'epoch': 2.3465703971119134, 'step': 2600}, {'loss': 0.0769, 'grad_norm': 0.023791532963514328, 'learning_rate': 1.1267605633802817e-05, 'epoch': 2.3646209386281587, 'step': 2620}, {'loss': 0.0517, 'grad_norm': 0.04327448084950447, 'learning_rate': 1.0947503201024328e-05, 'epoch': 2.3826714801444044, 'step': 2640}, {'loss': 0.1238, 'grad_norm': 15.871356010437012, 'learning_rate': 1.062740076824584e-05, 'epoch': 2.4007220216606497, 'step': 2660}, {'loss': 0.0654, 'grad_norm': 31.000722885131836, 'learning_rate': 1.030729833546735e-05, 'epoch': 2.4187725631768955, 'step': 2680}, {'loss': 0.1368, 'grad_norm': 0.3079420328140259, 'learning_rate': 9.987195902688861e-06, 'epoch': 2.436823104693141, 'step': 2700}, {'loss': 0.1775, 'grad_norm': 7.178960800170898, 'learning_rate': 9.667093469910372e-06, 'epoch': 2.4548736462093865, 'step': 2720}, {'loss': 0.1165, 'grad_norm': 0.3092435300350189, 'learning_rate': 9.346991037131884e-06, 'epoch': 2.472924187725632, 'step': 2740}, {'loss': 0.0396, 'grad_norm': 3.157320261001587, 'learning_rate': 9.026888604353394e-06, 'epoch': 2.490974729241877, 'step': 2760}, {'loss': 0.0825, 'grad_norm': 4.0757575035095215, 'learning_rate': 8.706786171574905e-06, 'epoch': 2.509025270758123, 'step': 2780}, {'loss': 0.0234, 'grad_norm': 0.05217348784208298, 'learning_rate': 8.386683738796415e-06, 'epoch': 2.527075812274368, 'step': 2800}, {'loss': 0.0825, 'grad_norm': 0.04123077914118767, 'learning_rate': 8.066581306017926e-06, 'epoch': 2.5451263537906135, 'step': 2820}, {'loss': 0.1124, 'grad_norm': 0.07383902370929718, 'learning_rate': 7.746478873239436e-06, 'epoch': 2.563176895306859, 'step': 2840}, {'loss': 0.0342, 'grad_norm': 0.026798730716109276, 'learning_rate': 7.426376440460948e-06, 'epoch': 2.581227436823105, 'step': 2860}, {'loss': 0.028, 'grad_norm': 0.0655241310596466, 'learning_rate': 7.106274007682459e-06, 'epoch': 2.5992779783393503, 'step': 2880}, {'loss': 0.026, 'grad_norm': 0.0457695834338665, 'learning_rate': 6.78617157490397e-06, 'epoch': 2.6173285198555956, 'step': 2900}, {'loss': 0.0846, 'grad_norm': 4.968517303466797, 'learning_rate': 6.46606914212548e-06, 'epoch': 2.6353790613718413, 'step': 2920}, {'loss': 0.0589, 'grad_norm': 0.12269340455532074, 'learning_rate': 6.145966709346991e-06, 'epoch': 2.6534296028880866, 'step': 2940}, {'loss': 0.1866, 'grad_norm': 0.021636702120304108, 'learning_rate': 5.825864276568502e-06, 'epoch': 2.671480144404332, 'step': 2960}, {'loss': 0.0667, 'grad_norm': 0.029288165271282196, 'learning_rate': 5.505761843790013e-06, 'epoch': 2.6895306859205776, 'step': 2980}, {'loss': 0.0884, 'grad_norm': 0.025169435888528824, 'learning_rate': 5.1856594110115235e-06, 'epoch': 2.707581227436823, 'step': 3000}, {'loss': 0.0629, 'grad_norm': 3.833893060684204, 'learning_rate': 4.865556978233035e-06, 'epoch': 2.7256317689530687, 'step': 3020}, {'loss': 0.1171, 'grad_norm': 0.09107431024312973, 'learning_rate': 4.5454545454545455e-06, 'epoch': 2.743682310469314, 'step': 3040}, {'loss': 0.0836, 'grad_norm': 0.5401217937469482, 'learning_rate': 4.225352112676056e-06, 'epoch': 2.7617328519855597, 'step': 3060}, {'loss': 0.0688, 'grad_norm': 0.4915551543235779, 'learning_rate': 3.905249679897567e-06, 'epoch': 2.779783393501805, 'step': 3080}, {'loss': 0.0847, 'grad_norm': 1.4133169651031494, 'learning_rate': 3.5851472471190786e-06, 'epoch': 2.7978339350180503, 'step': 3100}, {'loss': 0.0622, 'grad_norm': 0.6101287007331848, 'learning_rate': 3.265044814340589e-06, 'epoch': 2.815884476534296, 'step': 3120}, {'loss': 0.0228, 'grad_norm': 0.33769163489341736, 'learning_rate': 2.9449423815621002e-06, 'epoch': 2.8339350180505414, 'step': 3140}, {'loss': 0.1767, 'grad_norm': 4.349262714385986, 'learning_rate': 2.624839948783611e-06, 'epoch': 2.851985559566787, 'step': 3160}, {'loss': 0.0517, 'grad_norm': 41.12754821777344, 'learning_rate': 2.304737516005122e-06, 'epoch': 2.8700361010830324, 'step': 3180}, {'loss': 0.0731, 'grad_norm': 0.03993980213999748, 'learning_rate': 1.9846350832266325e-06, 'epoch': 2.888086642599278, 'step': 3200}, {'loss': 0.1072, 'grad_norm': 0.06349887698888779, 'learning_rate': 1.6645326504481435e-06, 'epoch': 2.9061371841155235, 'step': 3220}, {'loss': 0.0647, 'grad_norm': 0.11581969261169434, 'learning_rate': 1.3444302176696543e-06, 'epoch': 2.9241877256317688, 'step': 3240}, {'loss': 0.0332, 'grad_norm': 24.02742576599121, 'learning_rate': 1.0243277848911651e-06, 'epoch': 2.9422382671480145, 'step': 3260}, {'loss': 0.0466, 'grad_norm': 0.030247487127780914, 'learning_rate': 7.042253521126761e-07, 'epoch': 2.96028880866426, 'step': 3280}, {'loss': 0.0634, 'grad_norm': 0.1816008985042572, 'learning_rate': 3.841229193341869e-07, 'epoch': 2.9783393501805056, 'step': 3300}, {'loss': 0.1803, 'grad_norm': 0.13678832352161407, 'learning_rate': 6.402048655569782e-08, 'epoch': 2.996389891696751, 'step': 3320}, {'eval_loss': 0.14674870669841766, 'eval_accuracy': 0.9675071924183449, 'eval_f1': 0.9675559057568073, 'eval_precision': 0.9676224253276553, 'eval_recall': 0.9675071924183449, 'eval_runtime': 86.1015, 'eval_samples_per_second': 68.628, 'eval_steps_per_second': 4.297, 'epoch': 3.0, 'step': 3324}, {'train_runtime': 2611.643, 'train_samples_per_second': 20.362, 'train_steps_per_second': 1.273, 'total_flos': 1.3992096579950592e+16, 'train_loss': 0.16962960517094453, 'epoch': 3.0, 'step': 3324}, {'eval_loss': 0.1568106710910797, 'eval_accuracy': 0.9578608901675411, 'eval_f1': 0.9573259937097222, 'eval_precision': 0.9571740318357895, 'eval_recall': 0.9578608901675411, 'eval_runtime': 85.8932, 'eval_samples_per_second': 68.795, 'eval_steps_per_second': 4.308, 'epoch': 3.0, 'step': 3324}]\n"
          ]
        }
      ]
    },
    {
      "cell_type": "code",
      "source": [
        "#converting into pandas dataframe\n",
        "df_logs_swahili = pd.DataFrame(training_logs_swahili)\n",
        "df_logs_english = pd.DataFrame(training_logs_english)"
      ],
      "metadata": {
        "id": "QTh4fF11xIec"
      },
      "execution_count": null,
      "outputs": []
    },
    {
      "cell_type": "code",
      "source": [
        "print(df_logs_swahili.columns)\n",
        "print(df_logs_english.columns)"
      ],
      "metadata": {
        "colab": {
          "base_uri": "https://localhost:8080/"
        },
        "id": "zyotxYCkTanO",
        "outputId": "78f5a9a3-e939-460b-e98b-a8b5396b9d44"
      },
      "execution_count": null,
      "outputs": [
        {
          "output_type": "stream",
          "name": "stdout",
          "text": [
            "Index(['loss', 'grad_norm', 'learning_rate', 'epoch', 'step', 'eval_loss',\n",
            "       'eval_accuracy', 'eval_f1', 'eval_precision', 'eval_recall',\n",
            "       'eval_runtime', 'eval_samples_per_second', 'eval_steps_per_second',\n",
            "       'train_runtime', 'train_samples_per_second', 'train_steps_per_second',\n",
            "       'total_flos', 'train_loss'],\n",
            "      dtype='object')\n",
            "Index(['loss', 'grad_norm', 'learning_rate', 'epoch', 'step', 'eval_loss',\n",
            "       'eval_accuracy', 'eval_f1', 'eval_precision', 'eval_recall',\n",
            "       'eval_runtime', 'eval_samples_per_second', 'eval_steps_per_second',\n",
            "       'train_runtime', 'train_samples_per_second', 'train_steps_per_second',\n",
            "       'total_flos', 'train_loss'],\n",
            "      dtype='object')\n"
          ]
        }
      ]
    },
    {
      "cell_type": "code",
      "source": [
        "df_logs_swahili = df_logs_swahili[['epoch', 'eval_accuracy', 'eval_f1', 'eval_precision', 'eval_recall', 'eval_loss']]#.dropna()\n",
        "df_logs_english = df_logs_english[['epoch', 'eval_accuracy', 'eval_f1', 'eval_precision', 'eval_recall', 'eval_loss']]#.dropna()"
      ],
      "metadata": {
        "id": "J1BV6gEQm4zc"
      },
      "execution_count": null,
      "outputs": []
    },
    {
      "cell_type": "code",
      "source": [
        "df_logs_swahili.head()"
      ],
      "metadata": {
        "colab": {
          "base_uri": "https://localhost:8080/",
          "height": 175
        },
        "id": "qAMYEb9EniHU",
        "outputId": "ab21bc56-3903-4230-af60-ba7b5b4b6cc6"
      },
      "execution_count": null,
      "outputs": [
        {
          "output_type": "execute_result",
          "data": {
            "text/plain": [
              "     epoch  eval_accuracy   eval_f1  eval_precision  eval_recall  eval_loss\n",
              "55     1.0       0.883398  0.878364        0.877664     0.883398   0.390876\n",
              "111    2.0       0.906752  0.900112        0.903388     0.906752   0.323488\n",
              "168    3.0       0.919445  0.914459        0.915941     0.919445   0.292983\n",
              "170    3.0       0.922322  0.917569        0.918431     0.922322   0.272779"
            ],
            "text/html": [
              "\n",
              "  <div id=\"df-b52957a6-5994-41a7-bb5b-e1cb30e85539\" class=\"colab-df-container\">\n",
              "    <div>\n",
              "<style scoped>\n",
              "    .dataframe tbody tr th:only-of-type {\n",
              "        vertical-align: middle;\n",
              "    }\n",
              "\n",
              "    .dataframe tbody tr th {\n",
              "        vertical-align: top;\n",
              "    }\n",
              "\n",
              "    .dataframe thead th {\n",
              "        text-align: right;\n",
              "    }\n",
              "</style>\n",
              "<table border=\"1\" class=\"dataframe\">\n",
              "  <thead>\n",
              "    <tr style=\"text-align: right;\">\n",
              "      <th></th>\n",
              "      <th>epoch</th>\n",
              "      <th>eval_accuracy</th>\n",
              "      <th>eval_f1</th>\n",
              "      <th>eval_precision</th>\n",
              "      <th>eval_recall</th>\n",
              "      <th>eval_loss</th>\n",
              "    </tr>\n",
              "  </thead>\n",
              "  <tbody>\n",
              "    <tr>\n",
              "      <th>55</th>\n",
              "      <td>1.0</td>\n",
              "      <td>0.883398</td>\n",
              "      <td>0.878364</td>\n",
              "      <td>0.877664</td>\n",
              "      <td>0.883398</td>\n",
              "      <td>0.390876</td>\n",
              "    </tr>\n",
              "    <tr>\n",
              "      <th>111</th>\n",
              "      <td>2.0</td>\n",
              "      <td>0.906752</td>\n",
              "      <td>0.900112</td>\n",
              "      <td>0.903388</td>\n",
              "      <td>0.906752</td>\n",
              "      <td>0.323488</td>\n",
              "    </tr>\n",
              "    <tr>\n",
              "      <th>168</th>\n",
              "      <td>3.0</td>\n",
              "      <td>0.919445</td>\n",
              "      <td>0.914459</td>\n",
              "      <td>0.915941</td>\n",
              "      <td>0.919445</td>\n",
              "      <td>0.292983</td>\n",
              "    </tr>\n",
              "    <tr>\n",
              "      <th>170</th>\n",
              "      <td>3.0</td>\n",
              "      <td>0.922322</td>\n",
              "      <td>0.917569</td>\n",
              "      <td>0.918431</td>\n",
              "      <td>0.922322</td>\n",
              "      <td>0.272779</td>\n",
              "    </tr>\n",
              "  </tbody>\n",
              "</table>\n",
              "</div>\n",
              "    <div class=\"colab-df-buttons\">\n",
              "\n",
              "  <div class=\"colab-df-container\">\n",
              "    <button class=\"colab-df-convert\" onclick=\"convertToInteractive('df-b52957a6-5994-41a7-bb5b-e1cb30e85539')\"\n",
              "            title=\"Convert this dataframe to an interactive table.\"\n",
              "            style=\"display:none;\">\n",
              "\n",
              "  <svg xmlns=\"http://www.w3.org/2000/svg\" height=\"24px\" viewBox=\"0 -960 960 960\">\n",
              "    <path d=\"M120-120v-720h720v720H120Zm60-500h600v-160H180v160Zm220 220h160v-160H400v160Zm0 220h160v-160H400v160ZM180-400h160v-160H180v160Zm440 0h160v-160H620v160ZM180-180h160v-160H180v160Zm440 0h160v-160H620v160Z\"/>\n",
              "  </svg>\n",
              "    </button>\n",
              "\n",
              "  <style>\n",
              "    .colab-df-container {\n",
              "      display:flex;\n",
              "      gap: 12px;\n",
              "    }\n",
              "\n",
              "    .colab-df-convert {\n",
              "      background-color: #E8F0FE;\n",
              "      border: none;\n",
              "      border-radius: 50%;\n",
              "      cursor: pointer;\n",
              "      display: none;\n",
              "      fill: #1967D2;\n",
              "      height: 32px;\n",
              "      padding: 0 0 0 0;\n",
              "      width: 32px;\n",
              "    }\n",
              "\n",
              "    .colab-df-convert:hover {\n",
              "      background-color: #E2EBFA;\n",
              "      box-shadow: 0px 1px 2px rgba(60, 64, 67, 0.3), 0px 1px 3px 1px rgba(60, 64, 67, 0.15);\n",
              "      fill: #174EA6;\n",
              "    }\n",
              "\n",
              "    .colab-df-buttons div {\n",
              "      margin-bottom: 4px;\n",
              "    }\n",
              "\n",
              "    [theme=dark] .colab-df-convert {\n",
              "      background-color: #3B4455;\n",
              "      fill: #D2E3FC;\n",
              "    }\n",
              "\n",
              "    [theme=dark] .colab-df-convert:hover {\n",
              "      background-color: #434B5C;\n",
              "      box-shadow: 0px 1px 3px 1px rgba(0, 0, 0, 0.15);\n",
              "      filter: drop-shadow(0px 1px 2px rgba(0, 0, 0, 0.3));\n",
              "      fill: #FFFFFF;\n",
              "    }\n",
              "  </style>\n",
              "\n",
              "    <script>\n",
              "      const buttonEl =\n",
              "        document.querySelector('#df-b52957a6-5994-41a7-bb5b-e1cb30e85539 button.colab-df-convert');\n",
              "      buttonEl.style.display =\n",
              "        google.colab.kernel.accessAllowed ? 'block' : 'none';\n",
              "\n",
              "      async function convertToInteractive(key) {\n",
              "        const element = document.querySelector('#df-b52957a6-5994-41a7-bb5b-e1cb30e85539');\n",
              "        const dataTable =\n",
              "          await google.colab.kernel.invokeFunction('convertToInteractive',\n",
              "                                                    [key], {});\n",
              "        if (!dataTable) return;\n",
              "\n",
              "        const docLinkHtml = 'Like what you see? Visit the ' +\n",
              "          '<a target=\"_blank\" href=https://colab.research.google.com/notebooks/data_table.ipynb>data table notebook</a>'\n",
              "          + ' to learn more about interactive tables.';\n",
              "        element.innerHTML = '';\n",
              "        dataTable['output_type'] = 'display_data';\n",
              "        await google.colab.output.renderOutput(dataTable, element);\n",
              "        const docLink = document.createElement('div');\n",
              "        docLink.innerHTML = docLinkHtml;\n",
              "        element.appendChild(docLink);\n",
              "      }\n",
              "    </script>\n",
              "  </div>\n",
              "\n",
              "\n",
              "<div id=\"df-e6392367-d400-4b46-96a5-4228f07c67f1\">\n",
              "  <button class=\"colab-df-quickchart\" onclick=\"quickchart('df-e6392367-d400-4b46-96a5-4228f07c67f1')\"\n",
              "            title=\"Suggest charts\"\n",
              "            style=\"display:none;\">\n",
              "\n",
              "<svg xmlns=\"http://www.w3.org/2000/svg\" height=\"24px\"viewBox=\"0 0 24 24\"\n",
              "     width=\"24px\">\n",
              "    <g>\n",
              "        <path d=\"M19 3H5c-1.1 0-2 .9-2 2v14c0 1.1.9 2 2 2h14c1.1 0 2-.9 2-2V5c0-1.1-.9-2-2-2zM9 17H7v-7h2v7zm4 0h-2V7h2v10zm4 0h-2v-4h2v4z\"/>\n",
              "    </g>\n",
              "</svg>\n",
              "  </button>\n",
              "\n",
              "<style>\n",
              "  .colab-df-quickchart {\n",
              "      --bg-color: #E8F0FE;\n",
              "      --fill-color: #1967D2;\n",
              "      --hover-bg-color: #E2EBFA;\n",
              "      --hover-fill-color: #174EA6;\n",
              "      --disabled-fill-color: #AAA;\n",
              "      --disabled-bg-color: #DDD;\n",
              "  }\n",
              "\n",
              "  [theme=dark] .colab-df-quickchart {\n",
              "      --bg-color: #3B4455;\n",
              "      --fill-color: #D2E3FC;\n",
              "      --hover-bg-color: #434B5C;\n",
              "      --hover-fill-color: #FFFFFF;\n",
              "      --disabled-bg-color: #3B4455;\n",
              "      --disabled-fill-color: #666;\n",
              "  }\n",
              "\n",
              "  .colab-df-quickchart {\n",
              "    background-color: var(--bg-color);\n",
              "    border: none;\n",
              "    border-radius: 50%;\n",
              "    cursor: pointer;\n",
              "    display: none;\n",
              "    fill: var(--fill-color);\n",
              "    height: 32px;\n",
              "    padding: 0;\n",
              "    width: 32px;\n",
              "  }\n",
              "\n",
              "  .colab-df-quickchart:hover {\n",
              "    background-color: var(--hover-bg-color);\n",
              "    box-shadow: 0 1px 2px rgba(60, 64, 67, 0.3), 0 1px 3px 1px rgba(60, 64, 67, 0.15);\n",
              "    fill: var(--button-hover-fill-color);\n",
              "  }\n",
              "\n",
              "  .colab-df-quickchart-complete:disabled,\n",
              "  .colab-df-quickchart-complete:disabled:hover {\n",
              "    background-color: var(--disabled-bg-color);\n",
              "    fill: var(--disabled-fill-color);\n",
              "    box-shadow: none;\n",
              "  }\n",
              "\n",
              "  .colab-df-spinner {\n",
              "    border: 2px solid var(--fill-color);\n",
              "    border-color: transparent;\n",
              "    border-bottom-color: var(--fill-color);\n",
              "    animation:\n",
              "      spin 1s steps(1) infinite;\n",
              "  }\n",
              "\n",
              "  @keyframes spin {\n",
              "    0% {\n",
              "      border-color: transparent;\n",
              "      border-bottom-color: var(--fill-color);\n",
              "      border-left-color: var(--fill-color);\n",
              "    }\n",
              "    20% {\n",
              "      border-color: transparent;\n",
              "      border-left-color: var(--fill-color);\n",
              "      border-top-color: var(--fill-color);\n",
              "    }\n",
              "    30% {\n",
              "      border-color: transparent;\n",
              "      border-left-color: var(--fill-color);\n",
              "      border-top-color: var(--fill-color);\n",
              "      border-right-color: var(--fill-color);\n",
              "    }\n",
              "    40% {\n",
              "      border-color: transparent;\n",
              "      border-right-color: var(--fill-color);\n",
              "      border-top-color: var(--fill-color);\n",
              "    }\n",
              "    60% {\n",
              "      border-color: transparent;\n",
              "      border-right-color: var(--fill-color);\n",
              "    }\n",
              "    80% {\n",
              "      border-color: transparent;\n",
              "      border-right-color: var(--fill-color);\n",
              "      border-bottom-color: var(--fill-color);\n",
              "    }\n",
              "    90% {\n",
              "      border-color: transparent;\n",
              "      border-bottom-color: var(--fill-color);\n",
              "    }\n",
              "  }\n",
              "</style>\n",
              "\n",
              "  <script>\n",
              "    async function quickchart(key) {\n",
              "      const quickchartButtonEl =\n",
              "        document.querySelector('#' + key + ' button');\n",
              "      quickchartButtonEl.disabled = true;  // To prevent multiple clicks.\n",
              "      quickchartButtonEl.classList.add('colab-df-spinner');\n",
              "      try {\n",
              "        const charts = await google.colab.kernel.invokeFunction(\n",
              "            'suggestCharts', [key], {});\n",
              "      } catch (error) {\n",
              "        console.error('Error during call to suggestCharts:', error);\n",
              "      }\n",
              "      quickchartButtonEl.classList.remove('colab-df-spinner');\n",
              "      quickchartButtonEl.classList.add('colab-df-quickchart-complete');\n",
              "    }\n",
              "    (() => {\n",
              "      let quickchartButtonEl =\n",
              "        document.querySelector('#df-e6392367-d400-4b46-96a5-4228f07c67f1 button');\n",
              "      quickchartButtonEl.style.display =\n",
              "        google.colab.kernel.accessAllowed ? 'block' : 'none';\n",
              "    })();\n",
              "  </script>\n",
              "</div>\n",
              "\n",
              "    </div>\n",
              "  </div>\n"
            ],
            "application/vnd.google.colaboratory.intrinsic+json": {
              "type": "dataframe",
              "variable_name": "df_logs_swahili",
              "summary": "{\n  \"name\": \"df_logs_swahili\",\n  \"rows\": 4,\n  \"fields\": [\n    {\n      \"column\": \"epoch\",\n      \"properties\": {\n        \"dtype\": \"number\",\n        \"std\": 0.9574271077563381,\n        \"min\": 1.0,\n        \"max\": 3.0,\n        \"num_unique_values\": 3,\n        \"samples\": [\n          1.0,\n          2.0,\n          3.0\n        ],\n        \"semantic_type\": \"\",\n        \"description\": \"\"\n      }\n    },\n    {\n      \"column\": \"eval_accuracy\",\n      \"properties\": {\n        \"dtype\": \"number\",\n        \"std\": 0.017728558907248154,\n        \"min\": 0.8833982061262481,\n        \"max\": 0.9223218818751058,\n        \"num_unique_values\": 4,\n        \"samples\": [\n          0.9067524115755627,\n          0.9223218818751058,\n          0.8833982061262481\n        ],\n        \"semantic_type\": \"\",\n        \"description\": \"\"\n      }\n    },\n    {\n      \"column\": \"eval_f1\",\n      \"properties\": {\n        \"dtype\": \"number\",\n        \"std\": 0.01787241629260364,\n        \"min\": 0.878364291514232,\n        \"max\": 0.9175693652544786,\n        \"num_unique_values\": 4,\n        \"samples\": [\n          0.9001119162130351,\n          0.9175693652544786,\n          0.878364291514232\n        ],\n        \"semantic_type\": \"\",\n        \"description\": \"\"\n      }\n    },\n    {\n      \"column\": \"eval_precision\",\n      \"properties\": {\n        \"dtype\": \"number\",\n        \"std\": 0.0186611550252005,\n        \"min\": 0.877664145066364,\n        \"max\": 0.9184308592208992,\n        \"num_unique_values\": 4,\n        \"samples\": [\n          0.9033876971185146,\n          0.9184308592208992,\n          0.877664145066364\n        ],\n        \"semantic_type\": \"\",\n        \"description\": \"\"\n      }\n    },\n    {\n      \"column\": \"eval_recall\",\n      \"properties\": {\n        \"dtype\": \"number\",\n        \"std\": 0.017728558907248154,\n        \"min\": 0.8833982061262481,\n        \"max\": 0.9223218818751058,\n        \"num_unique_values\": 4,\n        \"samples\": [\n          0.9067524115755627,\n          0.9223218818751058,\n          0.8833982061262481\n        ],\n        \"semantic_type\": \"\",\n        \"description\": \"\"\n      }\n    },\n    {\n      \"column\": \"eval_loss\",\n      \"properties\": {\n        \"dtype\": \"number\",\n        \"std\": 0.05162472369785545,\n        \"min\": 0.27277910709381104,\n        \"max\": 0.39087632298469543,\n        \"num_unique_values\": 4,\n        \"samples\": [\n          0.32348814606666565,\n          0.27277910709381104,\n          0.39087632298469543\n        ],\n        \"semantic_type\": \"\",\n        \"description\": \"\"\n      }\n    }\n  ]\n}"
            }
          },
          "metadata": {},
          "execution_count": 62
        }
      ]
    },
    {
      "cell_type": "code",
      "source": [
        "print(mbert_test_swahili)"
      ],
      "metadata": {
        "colab": {
          "base_uri": "https://localhost:8080/"
        },
        "id": "1TzgQ1_RnyOe",
        "outputId": "5a773e2c-a6c6-493e-ff8d-5f7c2a85e0a0"
      },
      "execution_count": null,
      "outputs": [
        {
          "output_type": "stream",
          "name": "stdout",
          "text": [
            "{'eval_loss': 0.27277910709381104, 'eval_accuracy': 0.9223218818751058, 'eval_f1': 0.9175693652544786, 'eval_precision': 0.9184308592208992, 'eval_recall': 0.9223218818751058, 'eval_runtime': 86.7175, 'eval_samples_per_second': 68.141, 'eval_steps_per_second': 4.267, 'epoch': 3.0}\n"
          ]
        }
      ]
    },
    {
      "cell_type": "code",
      "source": [],
      "metadata": {
        "colab": {
          "base_uri": "https://localhost:8080/",
          "height": 287
        },
        "id": "jxLakJYzmWhn",
        "outputId": "5f1853ca-e057-4ccf-c09b-6e43b9228b90"
      },
      "execution_count": null,
      "outputs": [
        {
          "output_type": "error",
          "ename": "ValueError",
          "evalue": "If using all scalar values, you must pass an index",
          "traceback": [
            "\u001b[0;31m---------------------------------------------------------------------------\u001b[0m",
            "\u001b[0;31mValueError\u001b[0m                                Traceback (most recent call last)",
            "\u001b[0;32m<ipython-input-68-e68bac738a1b>\u001b[0m in \u001b[0;36m<cell line: 1>\u001b[0;34m()\u001b[0m\n\u001b[0;32m----> 1\u001b[0;31m \u001b[0ma\u001b[0m \u001b[0;34m=\u001b[0m \u001b[0mpd\u001b[0m\u001b[0;34m.\u001b[0m\u001b[0mDataFrame\u001b[0m\u001b[0;34m(\u001b[0m\u001b[0mmbert_test_swahili\u001b[0m\u001b[0;34m)\u001b[0m\u001b[0;34m\u001b[0m\u001b[0;34m\u001b[0m\u001b[0m\n\u001b[0m",
            "\u001b[0;32m/usr/local/lib/python3.10/dist-packages/pandas/core/frame.py\u001b[0m in \u001b[0;36m__init__\u001b[0;34m(self, data, index, columns, dtype, copy)\u001b[0m\n\u001b[1;32m    731\u001b[0m         \u001b[0;32melif\u001b[0m \u001b[0misinstance\u001b[0m\u001b[0;34m(\u001b[0m\u001b[0mdata\u001b[0m\u001b[0;34m,\u001b[0m \u001b[0mdict\u001b[0m\u001b[0;34m)\u001b[0m\u001b[0;34m:\u001b[0m\u001b[0;34m\u001b[0m\u001b[0;34m\u001b[0m\u001b[0m\n\u001b[1;32m    732\u001b[0m             \u001b[0;31m# GH#38939 de facto copy defaults to False only in non-dict cases\u001b[0m\u001b[0;34m\u001b[0m\u001b[0;34m\u001b[0m\u001b[0m\n\u001b[0;32m--> 733\u001b[0;31m             \u001b[0mmgr\u001b[0m \u001b[0;34m=\u001b[0m \u001b[0mdict_to_mgr\u001b[0m\u001b[0;34m(\u001b[0m\u001b[0mdata\u001b[0m\u001b[0;34m,\u001b[0m \u001b[0mindex\u001b[0m\u001b[0;34m,\u001b[0m \u001b[0mcolumns\u001b[0m\u001b[0;34m,\u001b[0m \u001b[0mdtype\u001b[0m\u001b[0;34m=\u001b[0m\u001b[0mdtype\u001b[0m\u001b[0;34m,\u001b[0m \u001b[0mcopy\u001b[0m\u001b[0;34m=\u001b[0m\u001b[0mcopy\u001b[0m\u001b[0;34m,\u001b[0m \u001b[0mtyp\u001b[0m\u001b[0;34m=\u001b[0m\u001b[0mmanager\u001b[0m\u001b[0;34m)\u001b[0m\u001b[0;34m\u001b[0m\u001b[0;34m\u001b[0m\u001b[0m\n\u001b[0m\u001b[1;32m    734\u001b[0m         \u001b[0;32melif\u001b[0m \u001b[0misinstance\u001b[0m\u001b[0;34m(\u001b[0m\u001b[0mdata\u001b[0m\u001b[0;34m,\u001b[0m \u001b[0mma\u001b[0m\u001b[0;34m.\u001b[0m\u001b[0mMaskedArray\u001b[0m\u001b[0;34m)\u001b[0m\u001b[0;34m:\u001b[0m\u001b[0;34m\u001b[0m\u001b[0;34m\u001b[0m\u001b[0m\n\u001b[1;32m    735\u001b[0m             \u001b[0;32mfrom\u001b[0m \u001b[0mnumpy\u001b[0m\u001b[0;34m.\u001b[0m\u001b[0mma\u001b[0m \u001b[0;32mimport\u001b[0m \u001b[0mmrecords\u001b[0m\u001b[0;34m\u001b[0m\u001b[0;34m\u001b[0m\u001b[0m\n",
            "\u001b[0;32m/usr/local/lib/python3.10/dist-packages/pandas/core/internals/construction.py\u001b[0m in \u001b[0;36mdict_to_mgr\u001b[0;34m(data, index, columns, dtype, typ, copy)\u001b[0m\n\u001b[1;32m    501\u001b[0m             \u001b[0marrays\u001b[0m \u001b[0;34m=\u001b[0m \u001b[0;34m[\u001b[0m\u001b[0mx\u001b[0m\u001b[0;34m.\u001b[0m\u001b[0mcopy\u001b[0m\u001b[0;34m(\u001b[0m\u001b[0;34m)\u001b[0m \u001b[0;32mif\u001b[0m \u001b[0mhasattr\u001b[0m\u001b[0;34m(\u001b[0m\u001b[0mx\u001b[0m\u001b[0;34m,\u001b[0m \u001b[0;34m\"dtype\"\u001b[0m\u001b[0;34m)\u001b[0m \u001b[0;32melse\u001b[0m \u001b[0mx\u001b[0m \u001b[0;32mfor\u001b[0m \u001b[0mx\u001b[0m \u001b[0;32min\u001b[0m \u001b[0marrays\u001b[0m\u001b[0;34m]\u001b[0m\u001b[0;34m\u001b[0m\u001b[0;34m\u001b[0m\u001b[0m\n\u001b[1;32m    502\u001b[0m \u001b[0;34m\u001b[0m\u001b[0m\n\u001b[0;32m--> 503\u001b[0;31m     \u001b[0;32mreturn\u001b[0m \u001b[0marrays_to_mgr\u001b[0m\u001b[0;34m(\u001b[0m\u001b[0marrays\u001b[0m\u001b[0;34m,\u001b[0m \u001b[0mcolumns\u001b[0m\u001b[0;34m,\u001b[0m \u001b[0mindex\u001b[0m\u001b[0;34m,\u001b[0m \u001b[0mdtype\u001b[0m\u001b[0;34m=\u001b[0m\u001b[0mdtype\u001b[0m\u001b[0;34m,\u001b[0m \u001b[0mtyp\u001b[0m\u001b[0;34m=\u001b[0m\u001b[0mtyp\u001b[0m\u001b[0;34m,\u001b[0m \u001b[0mconsolidate\u001b[0m\u001b[0;34m=\u001b[0m\u001b[0mcopy\u001b[0m\u001b[0;34m)\u001b[0m\u001b[0;34m\u001b[0m\u001b[0;34m\u001b[0m\u001b[0m\n\u001b[0m\u001b[1;32m    504\u001b[0m \u001b[0;34m\u001b[0m\u001b[0m\n\u001b[1;32m    505\u001b[0m \u001b[0;34m\u001b[0m\u001b[0m\n",
            "\u001b[0;32m/usr/local/lib/python3.10/dist-packages/pandas/core/internals/construction.py\u001b[0m in \u001b[0;36marrays_to_mgr\u001b[0;34m(arrays, columns, index, dtype, verify_integrity, typ, consolidate)\u001b[0m\n\u001b[1;32m    112\u001b[0m         \u001b[0;31m# figure out the index, if necessary\u001b[0m\u001b[0;34m\u001b[0m\u001b[0;34m\u001b[0m\u001b[0m\n\u001b[1;32m    113\u001b[0m         \u001b[0;32mif\u001b[0m \u001b[0mindex\u001b[0m \u001b[0;32mis\u001b[0m \u001b[0;32mNone\u001b[0m\u001b[0;34m:\u001b[0m\u001b[0;34m\u001b[0m\u001b[0;34m\u001b[0m\u001b[0m\n\u001b[0;32m--> 114\u001b[0;31m             \u001b[0mindex\u001b[0m \u001b[0;34m=\u001b[0m \u001b[0m_extract_index\u001b[0m\u001b[0;34m(\u001b[0m\u001b[0marrays\u001b[0m\u001b[0;34m)\u001b[0m\u001b[0;34m\u001b[0m\u001b[0;34m\u001b[0m\u001b[0m\n\u001b[0m\u001b[1;32m    115\u001b[0m         \u001b[0;32melse\u001b[0m\u001b[0;34m:\u001b[0m\u001b[0;34m\u001b[0m\u001b[0;34m\u001b[0m\u001b[0m\n\u001b[1;32m    116\u001b[0m             \u001b[0mindex\u001b[0m \u001b[0;34m=\u001b[0m \u001b[0mensure_index\u001b[0m\u001b[0;34m(\u001b[0m\u001b[0mindex\u001b[0m\u001b[0;34m)\u001b[0m\u001b[0;34m\u001b[0m\u001b[0;34m\u001b[0m\u001b[0m\n",
            "\u001b[0;32m/usr/local/lib/python3.10/dist-packages/pandas/core/internals/construction.py\u001b[0m in \u001b[0;36m_extract_index\u001b[0;34m(data)\u001b[0m\n\u001b[1;32m    665\u001b[0m \u001b[0;34m\u001b[0m\u001b[0m\n\u001b[1;32m    666\u001b[0m     \u001b[0;32mif\u001b[0m \u001b[0;32mnot\u001b[0m \u001b[0mindexes\u001b[0m \u001b[0;32mand\u001b[0m \u001b[0;32mnot\u001b[0m \u001b[0mraw_lengths\u001b[0m\u001b[0;34m:\u001b[0m\u001b[0;34m\u001b[0m\u001b[0;34m\u001b[0m\u001b[0m\n\u001b[0;32m--> 667\u001b[0;31m         \u001b[0;32mraise\u001b[0m \u001b[0mValueError\u001b[0m\u001b[0;34m(\u001b[0m\u001b[0;34m\"If using all scalar values, you must pass an index\"\u001b[0m\u001b[0;34m)\u001b[0m\u001b[0;34m\u001b[0m\u001b[0;34m\u001b[0m\u001b[0m\n\u001b[0m\u001b[1;32m    668\u001b[0m \u001b[0;34m\u001b[0m\u001b[0m\n\u001b[1;32m    669\u001b[0m     \u001b[0;32mif\u001b[0m \u001b[0mhave_series\u001b[0m\u001b[0;34m:\u001b[0m\u001b[0;34m\u001b[0m\u001b[0;34m\u001b[0m\u001b[0m\n",
            "\u001b[0;31mValueError\u001b[0m: If using all scalar values, you must pass an index"
          ]
        }
      ]
    },
    {
      "cell_type": "code",
      "source": [],
      "metadata": {
        "id": "1474RXGjTm_w"
      },
      "execution_count": null,
      "outputs": []
    },
    {
      "cell_type": "code",
      "source": [
        "epochs = []\n",
        "train_losses = []\n",
        "eval_losses = []\n",
        "\n",
        "for log in logs:\n",
        "    if 'epoch' in log:\n",
        "        epochs.append(log['epoch'])\n",
        "        if 'loss' in log:\n",
        "            train_losses.append(log['loss'])\n",
        "        if 'eval_loss' in log:\n",
        "            eval_losses.append(log['eval_loss'])\n",
        "\n",
        "# Plot the training loss and validation loss against epochs\n",
        "plt.figure(figsize=(10, 6))\n",
        "plt.plot(epochs[:len(train_losses)], train_losses, marker='o', linestyle='-', color='r', label='Training Loss')\n",
        "plt.plot(epochs[:len(eval_losses)], eval_losses, marker='o', linestyle='-', color='b', label='Validation Loss')\n",
        "plt.xlabel('Epoch')\n",
        "plt.ylabel('Loss')\n",
        "plt.title('Training and Validation Loss vs. Epoch')\n",
        "plt.legend()\n",
        "plt.grid(True)\n",
        "plt.show()"
      ],
      "metadata": {
        "id": "6l-q2NBk_mlo",
        "colab": {
          "base_uri": "https://localhost:8080/",
          "height": 211
        },
        "outputId": "8b525e53-be8f-4071-dccf-f886fa9b2e73"
      },
      "execution_count": null,
      "outputs": [
        {
          "output_type": "error",
          "ename": "NameError",
          "evalue": "name 'logs' is not defined",
          "traceback": [
            "\u001b[0;31m---------------------------------------------------------------------------\u001b[0m",
            "\u001b[0;31mNameError\u001b[0m                                 Traceback (most recent call last)",
            "\u001b[0;32m<ipython-input-53-424a54f29ea2>\u001b[0m in \u001b[0;36m<cell line: 5>\u001b[0;34m()\u001b[0m\n\u001b[1;32m      3\u001b[0m \u001b[0meval_losses\u001b[0m \u001b[0;34m=\u001b[0m \u001b[0;34m[\u001b[0m\u001b[0;34m]\u001b[0m\u001b[0;34m\u001b[0m\u001b[0;34m\u001b[0m\u001b[0m\n\u001b[1;32m      4\u001b[0m \u001b[0;34m\u001b[0m\u001b[0m\n\u001b[0;32m----> 5\u001b[0;31m \u001b[0;32mfor\u001b[0m \u001b[0mlog\u001b[0m \u001b[0;32min\u001b[0m \u001b[0mlogs\u001b[0m\u001b[0;34m:\u001b[0m\u001b[0;34m\u001b[0m\u001b[0;34m\u001b[0m\u001b[0m\n\u001b[0m\u001b[1;32m      6\u001b[0m     \u001b[0;32mif\u001b[0m \u001b[0;34m'epoch'\u001b[0m \u001b[0;32min\u001b[0m \u001b[0mlog\u001b[0m\u001b[0;34m:\u001b[0m\u001b[0;34m\u001b[0m\u001b[0;34m\u001b[0m\u001b[0m\n\u001b[1;32m      7\u001b[0m         \u001b[0mepochs\u001b[0m\u001b[0;34m.\u001b[0m\u001b[0mappend\u001b[0m\u001b[0;34m(\u001b[0m\u001b[0mlog\u001b[0m\u001b[0;34m[\u001b[0m\u001b[0;34m'epoch'\u001b[0m\u001b[0;34m]\u001b[0m\u001b[0;34m)\u001b[0m\u001b[0;34m\u001b[0m\u001b[0;34m\u001b[0m\u001b[0m\n",
            "\u001b[0;31mNameError\u001b[0m: name 'logs' is not defined"
          ]
        }
      ]
    }
  ]
}