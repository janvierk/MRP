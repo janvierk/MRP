{
  "nbformat": 4,
  "nbformat_minor": 0,
  "metadata": {
    "colab": {
      "provenance": [],
      "machine_shape": "hm",
      "gpuType": "A100",
      "authorship_tag": "ABX9TyNda/2kSVulv7UdRZoN3Q/Q",
      "include_colab_link": true
    },
    "kernelspec": {
      "name": "python3",
      "display_name": "Python 3"
    },
    "language_info": {
      "name": "python"
    },
    "accelerator": "GPU",
    "widgets": {
      "application/vnd.jupyter.widget-state+json": {
        "e3f485d62d064e8abc93bd3b43d3630a": {
          "model_module": "@jupyter-widgets/controls",
          "model_name": "HBoxModel",
          "model_module_version": "1.5.0",
          "state": {
            "_dom_classes": [],
            "_model_module": "@jupyter-widgets/controls",
            "_model_module_version": "1.5.0",
            "_model_name": "HBoxModel",
            "_view_count": null,
            "_view_module": "@jupyter-widgets/controls",
            "_view_module_version": "1.5.0",
            "_view_name": "HBoxView",
            "box_style": "",
            "children": [
              "IPY_MODEL_25a40a80cadb443a9c1e69e9a2aa11a9",
              "IPY_MODEL_b67b77a71dd84dd89da82fad1e063871",
              "IPY_MODEL_4954ddb02ff7494899b2faac68c5993f"
            ],
            "layout": "IPY_MODEL_75c3074e98144b3ca6257f0396f0cba8"
          }
        },
        "25a40a80cadb443a9c1e69e9a2aa11a9": {
          "model_module": "@jupyter-widgets/controls",
          "model_name": "HTMLModel",
          "model_module_version": "1.5.0",
          "state": {
            "_dom_classes": [],
            "_model_module": "@jupyter-widgets/controls",
            "_model_module_version": "1.5.0",
            "_model_name": "HTMLModel",
            "_view_count": null,
            "_view_module": "@jupyter-widgets/controls",
            "_view_module_version": "1.5.0",
            "_view_name": "HTMLView",
            "description": "",
            "description_tooltip": null,
            "layout": "IPY_MODEL_3c9f84eef273452e91a17919a66f1768",
            "placeholder": "​",
            "style": "IPY_MODEL_18980d65f8a04e109a535867c7a85f16",
            "value": "vocab.txt: 100%"
          }
        },
        "b67b77a71dd84dd89da82fad1e063871": {
          "model_module": "@jupyter-widgets/controls",
          "model_name": "FloatProgressModel",
          "model_module_version": "1.5.0",
          "state": {
            "_dom_classes": [],
            "_model_module": "@jupyter-widgets/controls",
            "_model_module_version": "1.5.0",
            "_model_name": "FloatProgressModel",
            "_view_count": null,
            "_view_module": "@jupyter-widgets/controls",
            "_view_module_version": "1.5.0",
            "_view_name": "ProgressView",
            "bar_style": "success",
            "description": "",
            "description_tooltip": null,
            "layout": "IPY_MODEL_35181f69d0c845a5b2027c801859154b",
            "max": 250803,
            "min": 0,
            "orientation": "horizontal",
            "style": "IPY_MODEL_b30f7334b0d243a68afca04e494cb7cc",
            "value": 250803
          }
        },
        "4954ddb02ff7494899b2faac68c5993f": {
          "model_module": "@jupyter-widgets/controls",
          "model_name": "HTMLModel",
          "model_module_version": "1.5.0",
          "state": {
            "_dom_classes": [],
            "_model_module": "@jupyter-widgets/controls",
            "_model_module_version": "1.5.0",
            "_model_name": "HTMLModel",
            "_view_count": null,
            "_view_module": "@jupyter-widgets/controls",
            "_view_module_version": "1.5.0",
            "_view_name": "HTMLView",
            "description": "",
            "description_tooltip": null,
            "layout": "IPY_MODEL_fd7d6ed2f5994a1eb612fec82cfaa911",
            "placeholder": "​",
            "style": "IPY_MODEL_e60e1c781a474b788bf22b0ad901b5db",
            "value": " 251k/251k [00:00&lt;00:00, 1.02MB/s]"
          }
        },
        "75c3074e98144b3ca6257f0396f0cba8": {
          "model_module": "@jupyter-widgets/base",
          "model_name": "LayoutModel",
          "model_module_version": "1.2.0",
          "state": {
            "_model_module": "@jupyter-widgets/base",
            "_model_module_version": "1.2.0",
            "_model_name": "LayoutModel",
            "_view_count": null,
            "_view_module": "@jupyter-widgets/base",
            "_view_module_version": "1.2.0",
            "_view_name": "LayoutView",
            "align_content": null,
            "align_items": null,
            "align_self": null,
            "border": null,
            "bottom": null,
            "display": null,
            "flex": null,
            "flex_flow": null,
            "grid_area": null,
            "grid_auto_columns": null,
            "grid_auto_flow": null,
            "grid_auto_rows": null,
            "grid_column": null,
            "grid_gap": null,
            "grid_row": null,
            "grid_template_areas": null,
            "grid_template_columns": null,
            "grid_template_rows": null,
            "height": null,
            "justify_content": null,
            "justify_items": null,
            "left": null,
            "margin": null,
            "max_height": null,
            "max_width": null,
            "min_height": null,
            "min_width": null,
            "object_fit": null,
            "object_position": null,
            "order": null,
            "overflow": null,
            "overflow_x": null,
            "overflow_y": null,
            "padding": null,
            "right": null,
            "top": null,
            "visibility": null,
            "width": null
          }
        },
        "3c9f84eef273452e91a17919a66f1768": {
          "model_module": "@jupyter-widgets/base",
          "model_name": "LayoutModel",
          "model_module_version": "1.2.0",
          "state": {
            "_model_module": "@jupyter-widgets/base",
            "_model_module_version": "1.2.0",
            "_model_name": "LayoutModel",
            "_view_count": null,
            "_view_module": "@jupyter-widgets/base",
            "_view_module_version": "1.2.0",
            "_view_name": "LayoutView",
            "align_content": null,
            "align_items": null,
            "align_self": null,
            "border": null,
            "bottom": null,
            "display": null,
            "flex": null,
            "flex_flow": null,
            "grid_area": null,
            "grid_auto_columns": null,
            "grid_auto_flow": null,
            "grid_auto_rows": null,
            "grid_column": null,
            "grid_gap": null,
            "grid_row": null,
            "grid_template_areas": null,
            "grid_template_columns": null,
            "grid_template_rows": null,
            "height": null,
            "justify_content": null,
            "justify_items": null,
            "left": null,
            "margin": null,
            "max_height": null,
            "max_width": null,
            "min_height": null,
            "min_width": null,
            "object_fit": null,
            "object_position": null,
            "order": null,
            "overflow": null,
            "overflow_x": null,
            "overflow_y": null,
            "padding": null,
            "right": null,
            "top": null,
            "visibility": null,
            "width": null
          }
        },
        "18980d65f8a04e109a535867c7a85f16": {
          "model_module": "@jupyter-widgets/controls",
          "model_name": "DescriptionStyleModel",
          "model_module_version": "1.5.0",
          "state": {
            "_model_module": "@jupyter-widgets/controls",
            "_model_module_version": "1.5.0",
            "_model_name": "DescriptionStyleModel",
            "_view_count": null,
            "_view_module": "@jupyter-widgets/base",
            "_view_module_version": "1.2.0",
            "_view_name": "StyleView",
            "description_width": ""
          }
        },
        "35181f69d0c845a5b2027c801859154b": {
          "model_module": "@jupyter-widgets/base",
          "model_name": "LayoutModel",
          "model_module_version": "1.2.0",
          "state": {
            "_model_module": "@jupyter-widgets/base",
            "_model_module_version": "1.2.0",
            "_model_name": "LayoutModel",
            "_view_count": null,
            "_view_module": "@jupyter-widgets/base",
            "_view_module_version": "1.2.0",
            "_view_name": "LayoutView",
            "align_content": null,
            "align_items": null,
            "align_self": null,
            "border": null,
            "bottom": null,
            "display": null,
            "flex": null,
            "flex_flow": null,
            "grid_area": null,
            "grid_auto_columns": null,
            "grid_auto_flow": null,
            "grid_auto_rows": null,
            "grid_column": null,
            "grid_gap": null,
            "grid_row": null,
            "grid_template_areas": null,
            "grid_template_columns": null,
            "grid_template_rows": null,
            "height": null,
            "justify_content": null,
            "justify_items": null,
            "left": null,
            "margin": null,
            "max_height": null,
            "max_width": null,
            "min_height": null,
            "min_width": null,
            "object_fit": null,
            "object_position": null,
            "order": null,
            "overflow": null,
            "overflow_x": null,
            "overflow_y": null,
            "padding": null,
            "right": null,
            "top": null,
            "visibility": null,
            "width": null
          }
        },
        "b30f7334b0d243a68afca04e494cb7cc": {
          "model_module": "@jupyter-widgets/controls",
          "model_name": "ProgressStyleModel",
          "model_module_version": "1.5.0",
          "state": {
            "_model_module": "@jupyter-widgets/controls",
            "_model_module_version": "1.5.0",
            "_model_name": "ProgressStyleModel",
            "_view_count": null,
            "_view_module": "@jupyter-widgets/base",
            "_view_module_version": "1.2.0",
            "_view_name": "StyleView",
            "bar_color": null,
            "description_width": ""
          }
        },
        "fd7d6ed2f5994a1eb612fec82cfaa911": {
          "model_module": "@jupyter-widgets/base",
          "model_name": "LayoutModel",
          "model_module_version": "1.2.0",
          "state": {
            "_model_module": "@jupyter-widgets/base",
            "_model_module_version": "1.2.0",
            "_model_name": "LayoutModel",
            "_view_count": null,
            "_view_module": "@jupyter-widgets/base",
            "_view_module_version": "1.2.0",
            "_view_name": "LayoutView",
            "align_content": null,
            "align_items": null,
            "align_self": null,
            "border": null,
            "bottom": null,
            "display": null,
            "flex": null,
            "flex_flow": null,
            "grid_area": null,
            "grid_auto_columns": null,
            "grid_auto_flow": null,
            "grid_auto_rows": null,
            "grid_column": null,
            "grid_gap": null,
            "grid_row": null,
            "grid_template_areas": null,
            "grid_template_columns": null,
            "grid_template_rows": null,
            "height": null,
            "justify_content": null,
            "justify_items": null,
            "left": null,
            "margin": null,
            "max_height": null,
            "max_width": null,
            "min_height": null,
            "min_width": null,
            "object_fit": null,
            "object_position": null,
            "order": null,
            "overflow": null,
            "overflow_x": null,
            "overflow_y": null,
            "padding": null,
            "right": null,
            "top": null,
            "visibility": null,
            "width": null
          }
        },
        "e60e1c781a474b788bf22b0ad901b5db": {
          "model_module": "@jupyter-widgets/controls",
          "model_name": "DescriptionStyleModel",
          "model_module_version": "1.5.0",
          "state": {
            "_model_module": "@jupyter-widgets/controls",
            "_model_module_version": "1.5.0",
            "_model_name": "DescriptionStyleModel",
            "_view_count": null,
            "_view_module": "@jupyter-widgets/base",
            "_view_module_version": "1.2.0",
            "_view_name": "StyleView",
            "description_width": ""
          }
        },
        "68563b16add84684a70ddda411af46d0": {
          "model_module": "@jupyter-widgets/controls",
          "model_name": "HBoxModel",
          "model_module_version": "1.5.0",
          "state": {
            "_dom_classes": [],
            "_model_module": "@jupyter-widgets/controls",
            "_model_module_version": "1.5.0",
            "_model_name": "HBoxModel",
            "_view_count": null,
            "_view_module": "@jupyter-widgets/controls",
            "_view_module_version": "1.5.0",
            "_view_name": "HBoxView",
            "box_style": "",
            "children": [
              "IPY_MODEL_bff9662db55245c19b0a2a450d6183aa",
              "IPY_MODEL_c944a4ed42fd45f682f6de7d8cefde55",
              "IPY_MODEL_61709af1dda84274b0e95028c9a035f3"
            ],
            "layout": "IPY_MODEL_7f310125fdb24e38a90a8082fa798852"
          }
        },
        "bff9662db55245c19b0a2a450d6183aa": {
          "model_module": "@jupyter-widgets/controls",
          "model_name": "HTMLModel",
          "model_module_version": "1.5.0",
          "state": {
            "_dom_classes": [],
            "_model_module": "@jupyter-widgets/controls",
            "_model_module_version": "1.5.0",
            "_model_name": "HTMLModel",
            "_view_count": null,
            "_view_module": "@jupyter-widgets/controls",
            "_view_module_version": "1.5.0",
            "_view_name": "HTMLView",
            "description": "",
            "description_tooltip": null,
            "layout": "IPY_MODEL_118a4e102536403dbe20e566e0e29075",
            "placeholder": "​",
            "style": "IPY_MODEL_8099e04fbf41427db05da735e59d2f67",
            "value": "config.json: 100%"
          }
        },
        "c944a4ed42fd45f682f6de7d8cefde55": {
          "model_module": "@jupyter-widgets/controls",
          "model_name": "FloatProgressModel",
          "model_module_version": "1.5.0",
          "state": {
            "_dom_classes": [],
            "_model_module": "@jupyter-widgets/controls",
            "_model_module_version": "1.5.0",
            "_model_name": "FloatProgressModel",
            "_view_count": null,
            "_view_module": "@jupyter-widgets/controls",
            "_view_module_version": "1.5.0",
            "_view_name": "ProgressView",
            "bar_style": "success",
            "description": "",
            "description_tooltip": null,
            "layout": "IPY_MODEL_3d9fb291ae8b4ae1b56d2419eb8f3581",
            "max": 337,
            "min": 0,
            "orientation": "horizontal",
            "style": "IPY_MODEL_a7bdcaad693a44209a7d2ea85d2ef320",
            "value": 337
          }
        },
        "61709af1dda84274b0e95028c9a035f3": {
          "model_module": "@jupyter-widgets/controls",
          "model_name": "HTMLModel",
          "model_module_version": "1.5.0",
          "state": {
            "_dom_classes": [],
            "_model_module": "@jupyter-widgets/controls",
            "_model_module_version": "1.5.0",
            "_model_name": "HTMLModel",
            "_view_count": null,
            "_view_module": "@jupyter-widgets/controls",
            "_view_module_version": "1.5.0",
            "_view_name": "HTMLView",
            "description": "",
            "description_tooltip": null,
            "layout": "IPY_MODEL_b1851b6ce44f4224b3788291fa67ab27",
            "placeholder": "​",
            "style": "IPY_MODEL_384182e196904ed49f494be34645d29a",
            "value": " 337/337 [00:00&lt;00:00, 29.8kB/s]"
          }
        },
        "7f310125fdb24e38a90a8082fa798852": {
          "model_module": "@jupyter-widgets/base",
          "model_name": "LayoutModel",
          "model_module_version": "1.2.0",
          "state": {
            "_model_module": "@jupyter-widgets/base",
            "_model_module_version": "1.2.0",
            "_model_name": "LayoutModel",
            "_view_count": null,
            "_view_module": "@jupyter-widgets/base",
            "_view_module_version": "1.2.0",
            "_view_name": "LayoutView",
            "align_content": null,
            "align_items": null,
            "align_self": null,
            "border": null,
            "bottom": null,
            "display": null,
            "flex": null,
            "flex_flow": null,
            "grid_area": null,
            "grid_auto_columns": null,
            "grid_auto_flow": null,
            "grid_auto_rows": null,
            "grid_column": null,
            "grid_gap": null,
            "grid_row": null,
            "grid_template_areas": null,
            "grid_template_columns": null,
            "grid_template_rows": null,
            "height": null,
            "justify_content": null,
            "justify_items": null,
            "left": null,
            "margin": null,
            "max_height": null,
            "max_width": null,
            "min_height": null,
            "min_width": null,
            "object_fit": null,
            "object_position": null,
            "order": null,
            "overflow": null,
            "overflow_x": null,
            "overflow_y": null,
            "padding": null,
            "right": null,
            "top": null,
            "visibility": null,
            "width": null
          }
        },
        "118a4e102536403dbe20e566e0e29075": {
          "model_module": "@jupyter-widgets/base",
          "model_name": "LayoutModel",
          "model_module_version": "1.2.0",
          "state": {
            "_model_module": "@jupyter-widgets/base",
            "_model_module_version": "1.2.0",
            "_model_name": "LayoutModel",
            "_view_count": null,
            "_view_module": "@jupyter-widgets/base",
            "_view_module_version": "1.2.0",
            "_view_name": "LayoutView",
            "align_content": null,
            "align_items": null,
            "align_self": null,
            "border": null,
            "bottom": null,
            "display": null,
            "flex": null,
            "flex_flow": null,
            "grid_area": null,
            "grid_auto_columns": null,
            "grid_auto_flow": null,
            "grid_auto_rows": null,
            "grid_column": null,
            "grid_gap": null,
            "grid_row": null,
            "grid_template_areas": null,
            "grid_template_columns": null,
            "grid_template_rows": null,
            "height": null,
            "justify_content": null,
            "justify_items": null,
            "left": null,
            "margin": null,
            "max_height": null,
            "max_width": null,
            "min_height": null,
            "min_width": null,
            "object_fit": null,
            "object_position": null,
            "order": null,
            "overflow": null,
            "overflow_x": null,
            "overflow_y": null,
            "padding": null,
            "right": null,
            "top": null,
            "visibility": null,
            "width": null
          }
        },
        "8099e04fbf41427db05da735e59d2f67": {
          "model_module": "@jupyter-widgets/controls",
          "model_name": "DescriptionStyleModel",
          "model_module_version": "1.5.0",
          "state": {
            "_model_module": "@jupyter-widgets/controls",
            "_model_module_version": "1.5.0",
            "_model_name": "DescriptionStyleModel",
            "_view_count": null,
            "_view_module": "@jupyter-widgets/base",
            "_view_module_version": "1.2.0",
            "_view_name": "StyleView",
            "description_width": ""
          }
        },
        "3d9fb291ae8b4ae1b56d2419eb8f3581": {
          "model_module": "@jupyter-widgets/base",
          "model_name": "LayoutModel",
          "model_module_version": "1.2.0",
          "state": {
            "_model_module": "@jupyter-widgets/base",
            "_model_module_version": "1.2.0",
            "_model_name": "LayoutModel",
            "_view_count": null,
            "_view_module": "@jupyter-widgets/base",
            "_view_module_version": "1.2.0",
            "_view_name": "LayoutView",
            "align_content": null,
            "align_items": null,
            "align_self": null,
            "border": null,
            "bottom": null,
            "display": null,
            "flex": null,
            "flex_flow": null,
            "grid_area": null,
            "grid_auto_columns": null,
            "grid_auto_flow": null,
            "grid_auto_rows": null,
            "grid_column": null,
            "grid_gap": null,
            "grid_row": null,
            "grid_template_areas": null,
            "grid_template_columns": null,
            "grid_template_rows": null,
            "height": null,
            "justify_content": null,
            "justify_items": null,
            "left": null,
            "margin": null,
            "max_height": null,
            "max_width": null,
            "min_height": null,
            "min_width": null,
            "object_fit": null,
            "object_position": null,
            "order": null,
            "overflow": null,
            "overflow_x": null,
            "overflow_y": null,
            "padding": null,
            "right": null,
            "top": null,
            "visibility": null,
            "width": null
          }
        },
        "a7bdcaad693a44209a7d2ea85d2ef320": {
          "model_module": "@jupyter-widgets/controls",
          "model_name": "ProgressStyleModel",
          "model_module_version": "1.5.0",
          "state": {
            "_model_module": "@jupyter-widgets/controls",
            "_model_module_version": "1.5.0",
            "_model_name": "ProgressStyleModel",
            "_view_count": null,
            "_view_module": "@jupyter-widgets/base",
            "_view_module_version": "1.2.0",
            "_view_name": "StyleView",
            "bar_color": null,
            "description_width": ""
          }
        },
        "b1851b6ce44f4224b3788291fa67ab27": {
          "model_module": "@jupyter-widgets/base",
          "model_name": "LayoutModel",
          "model_module_version": "1.2.0",
          "state": {
            "_model_module": "@jupyter-widgets/base",
            "_model_module_version": "1.2.0",
            "_model_name": "LayoutModel",
            "_view_count": null,
            "_view_module": "@jupyter-widgets/base",
            "_view_module_version": "1.2.0",
            "_view_name": "LayoutView",
            "align_content": null,
            "align_items": null,
            "align_self": null,
            "border": null,
            "bottom": null,
            "display": null,
            "flex": null,
            "flex_flow": null,
            "grid_area": null,
            "grid_auto_columns": null,
            "grid_auto_flow": null,
            "grid_auto_rows": null,
            "grid_column": null,
            "grid_gap": null,
            "grid_row": null,
            "grid_template_areas": null,
            "grid_template_columns": null,
            "grid_template_rows": null,
            "height": null,
            "justify_content": null,
            "justify_items": null,
            "left": null,
            "margin": null,
            "max_height": null,
            "max_width": null,
            "min_height": null,
            "min_width": null,
            "object_fit": null,
            "object_position": null,
            "order": null,
            "overflow": null,
            "overflow_x": null,
            "overflow_y": null,
            "padding": null,
            "right": null,
            "top": null,
            "visibility": null,
            "width": null
          }
        },
        "384182e196904ed49f494be34645d29a": {
          "model_module": "@jupyter-widgets/controls",
          "model_name": "DescriptionStyleModel",
          "model_module_version": "1.5.0",
          "state": {
            "_model_module": "@jupyter-widgets/controls",
            "_model_module_version": "1.5.0",
            "_model_name": "DescriptionStyleModel",
            "_view_count": null,
            "_view_module": "@jupyter-widgets/base",
            "_view_module_version": "1.2.0",
            "_view_name": "StyleView",
            "description_width": ""
          }
        },
        "eda80f9d6fa94695a2b6f4f15a4d6764": {
          "model_module": "@jupyter-widgets/controls",
          "model_name": "HBoxModel",
          "model_module_version": "1.5.0",
          "state": {
            "_dom_classes": [],
            "_model_module": "@jupyter-widgets/controls",
            "_model_module_version": "1.5.0",
            "_model_name": "HBoxModel",
            "_view_count": null,
            "_view_module": "@jupyter-widgets/controls",
            "_view_module_version": "1.5.0",
            "_view_name": "HBoxView",
            "box_style": "",
            "children": [
              "IPY_MODEL_4cf35dc702ec42f3a8d5bc21b7b70b9a",
              "IPY_MODEL_d21a2cd95a854136a2f697596506f922",
              "IPY_MODEL_e6d6a5c784f24b7197dbd4500d50baff"
            ],
            "layout": "IPY_MODEL_2dcb630c027f4740b4304e04db546b44"
          }
        },
        "4cf35dc702ec42f3a8d5bc21b7b70b9a": {
          "model_module": "@jupyter-widgets/controls",
          "model_name": "HTMLModel",
          "model_module_version": "1.5.0",
          "state": {
            "_dom_classes": [],
            "_model_module": "@jupyter-widgets/controls",
            "_model_module_version": "1.5.0",
            "_model_name": "HTMLModel",
            "_view_count": null,
            "_view_module": "@jupyter-widgets/controls",
            "_view_module_version": "1.5.0",
            "_view_name": "HTMLView",
            "description": "",
            "description_tooltip": null,
            "layout": "IPY_MODEL_5b615608ff1f4c14a6bee2832858ae2f",
            "placeholder": "​",
            "style": "IPY_MODEL_71a9a84abeeb4eeda39a5d6182ba1d5d",
            "value": "pytorch_model.bin: 100%"
          }
        },
        "d21a2cd95a854136a2f697596506f922": {
          "model_module": "@jupyter-widgets/controls",
          "model_name": "FloatProgressModel",
          "model_module_version": "1.5.0",
          "state": {
            "_dom_classes": [],
            "_model_module": "@jupyter-widgets/controls",
            "_model_module_version": "1.5.0",
            "_model_name": "FloatProgressModel",
            "_view_count": null,
            "_view_module": "@jupyter-widgets/controls",
            "_view_module_version": "1.5.0",
            "_view_name": "ProgressView",
            "bar_style": "success",
            "description": "",
            "description_tooltip": null,
            "layout": "IPY_MODEL_b30da04871e2471aa991b35d329516d8",
            "max": 445055903,
            "min": 0,
            "orientation": "horizontal",
            "style": "IPY_MODEL_d77c180654294a579a407d980b91b432",
            "value": 445055903
          }
        },
        "e6d6a5c784f24b7197dbd4500d50baff": {
          "model_module": "@jupyter-widgets/controls",
          "model_name": "HTMLModel",
          "model_module_version": "1.5.0",
          "state": {
            "_dom_classes": [],
            "_model_module": "@jupyter-widgets/controls",
            "_model_module_version": "1.5.0",
            "_model_name": "HTMLModel",
            "_view_count": null,
            "_view_module": "@jupyter-widgets/controls",
            "_view_module_version": "1.5.0",
            "_view_name": "HTMLView",
            "description": "",
            "description_tooltip": null,
            "layout": "IPY_MODEL_346ae984491e4ee382260c8401160e8b",
            "placeholder": "​",
            "style": "IPY_MODEL_a6ade8b162c0402cad55a2b7d4c765ba",
            "value": " 445M/445M [00:02&lt;00:00, 225MB/s]"
          }
        },
        "2dcb630c027f4740b4304e04db546b44": {
          "model_module": "@jupyter-widgets/base",
          "model_name": "LayoutModel",
          "model_module_version": "1.2.0",
          "state": {
            "_model_module": "@jupyter-widgets/base",
            "_model_module_version": "1.2.0",
            "_model_name": "LayoutModel",
            "_view_count": null,
            "_view_module": "@jupyter-widgets/base",
            "_view_module_version": "1.2.0",
            "_view_name": "LayoutView",
            "align_content": null,
            "align_items": null,
            "align_self": null,
            "border": null,
            "bottom": null,
            "display": null,
            "flex": null,
            "flex_flow": null,
            "grid_area": null,
            "grid_auto_columns": null,
            "grid_auto_flow": null,
            "grid_auto_rows": null,
            "grid_column": null,
            "grid_gap": null,
            "grid_row": null,
            "grid_template_areas": null,
            "grid_template_columns": null,
            "grid_template_rows": null,
            "height": null,
            "justify_content": null,
            "justify_items": null,
            "left": null,
            "margin": null,
            "max_height": null,
            "max_width": null,
            "min_height": null,
            "min_width": null,
            "object_fit": null,
            "object_position": null,
            "order": null,
            "overflow": null,
            "overflow_x": null,
            "overflow_y": null,
            "padding": null,
            "right": null,
            "top": null,
            "visibility": null,
            "width": null
          }
        },
        "5b615608ff1f4c14a6bee2832858ae2f": {
          "model_module": "@jupyter-widgets/base",
          "model_name": "LayoutModel",
          "model_module_version": "1.2.0",
          "state": {
            "_model_module": "@jupyter-widgets/base",
            "_model_module_version": "1.2.0",
            "_model_name": "LayoutModel",
            "_view_count": null,
            "_view_module": "@jupyter-widgets/base",
            "_view_module_version": "1.2.0",
            "_view_name": "LayoutView",
            "align_content": null,
            "align_items": null,
            "align_self": null,
            "border": null,
            "bottom": null,
            "display": null,
            "flex": null,
            "flex_flow": null,
            "grid_area": null,
            "grid_auto_columns": null,
            "grid_auto_flow": null,
            "grid_auto_rows": null,
            "grid_column": null,
            "grid_gap": null,
            "grid_row": null,
            "grid_template_areas": null,
            "grid_template_columns": null,
            "grid_template_rows": null,
            "height": null,
            "justify_content": null,
            "justify_items": null,
            "left": null,
            "margin": null,
            "max_height": null,
            "max_width": null,
            "min_height": null,
            "min_width": null,
            "object_fit": null,
            "object_position": null,
            "order": null,
            "overflow": null,
            "overflow_x": null,
            "overflow_y": null,
            "padding": null,
            "right": null,
            "top": null,
            "visibility": null,
            "width": null
          }
        },
        "71a9a84abeeb4eeda39a5d6182ba1d5d": {
          "model_module": "@jupyter-widgets/controls",
          "model_name": "DescriptionStyleModel",
          "model_module_version": "1.5.0",
          "state": {
            "_model_module": "@jupyter-widgets/controls",
            "_model_module_version": "1.5.0",
            "_model_name": "DescriptionStyleModel",
            "_view_count": null,
            "_view_module": "@jupyter-widgets/base",
            "_view_module_version": "1.2.0",
            "_view_name": "StyleView",
            "description_width": ""
          }
        },
        "b30da04871e2471aa991b35d329516d8": {
          "model_module": "@jupyter-widgets/base",
          "model_name": "LayoutModel",
          "model_module_version": "1.2.0",
          "state": {
            "_model_module": "@jupyter-widgets/base",
            "_model_module_version": "1.2.0",
            "_model_name": "LayoutModel",
            "_view_count": null,
            "_view_module": "@jupyter-widgets/base",
            "_view_module_version": "1.2.0",
            "_view_name": "LayoutView",
            "align_content": null,
            "align_items": null,
            "align_self": null,
            "border": null,
            "bottom": null,
            "display": null,
            "flex": null,
            "flex_flow": null,
            "grid_area": null,
            "grid_auto_columns": null,
            "grid_auto_flow": null,
            "grid_auto_rows": null,
            "grid_column": null,
            "grid_gap": null,
            "grid_row": null,
            "grid_template_areas": null,
            "grid_template_columns": null,
            "grid_template_rows": null,
            "height": null,
            "justify_content": null,
            "justify_items": null,
            "left": null,
            "margin": null,
            "max_height": null,
            "max_width": null,
            "min_height": null,
            "min_width": null,
            "object_fit": null,
            "object_position": null,
            "order": null,
            "overflow": null,
            "overflow_x": null,
            "overflow_y": null,
            "padding": null,
            "right": null,
            "top": null,
            "visibility": null,
            "width": null
          }
        },
        "d77c180654294a579a407d980b91b432": {
          "model_module": "@jupyter-widgets/controls",
          "model_name": "ProgressStyleModel",
          "model_module_version": "1.5.0",
          "state": {
            "_model_module": "@jupyter-widgets/controls",
            "_model_module_version": "1.5.0",
            "_model_name": "ProgressStyleModel",
            "_view_count": null,
            "_view_module": "@jupyter-widgets/base",
            "_view_module_version": "1.2.0",
            "_view_name": "StyleView",
            "bar_color": null,
            "description_width": ""
          }
        },
        "346ae984491e4ee382260c8401160e8b": {
          "model_module": "@jupyter-widgets/base",
          "model_name": "LayoutModel",
          "model_module_version": "1.2.0",
          "state": {
            "_model_module": "@jupyter-widgets/base",
            "_model_module_version": "1.2.0",
            "_model_name": "LayoutModel",
            "_view_count": null,
            "_view_module": "@jupyter-widgets/base",
            "_view_module_version": "1.2.0",
            "_view_name": "LayoutView",
            "align_content": null,
            "align_items": null,
            "align_self": null,
            "border": null,
            "bottom": null,
            "display": null,
            "flex": null,
            "flex_flow": null,
            "grid_area": null,
            "grid_auto_columns": null,
            "grid_auto_flow": null,
            "grid_auto_rows": null,
            "grid_column": null,
            "grid_gap": null,
            "grid_row": null,
            "grid_template_areas": null,
            "grid_template_columns": null,
            "grid_template_rows": null,
            "height": null,
            "justify_content": null,
            "justify_items": null,
            "left": null,
            "margin": null,
            "max_height": null,
            "max_width": null,
            "min_height": null,
            "min_width": null,
            "object_fit": null,
            "object_position": null,
            "order": null,
            "overflow": null,
            "overflow_x": null,
            "overflow_y": null,
            "padding": null,
            "right": null,
            "top": null,
            "visibility": null,
            "width": null
          }
        },
        "a6ade8b162c0402cad55a2b7d4c765ba": {
          "model_module": "@jupyter-widgets/controls",
          "model_name": "DescriptionStyleModel",
          "model_module_version": "1.5.0",
          "state": {
            "_model_module": "@jupyter-widgets/controls",
            "_model_module_version": "1.5.0",
            "_model_name": "DescriptionStyleModel",
            "_view_count": null,
            "_view_module": "@jupyter-widgets/base",
            "_view_module_version": "1.2.0",
            "_view_name": "StyleView",
            "description_width": ""
          }
        },
        "962297d3853c4921882d1f6876000e2f": {
          "model_module": "@jupyter-widgets/controls",
          "model_name": "HBoxModel",
          "model_module_version": "1.5.0",
          "state": {
            "_dom_classes": [],
            "_model_module": "@jupyter-widgets/controls",
            "_model_module_version": "1.5.0",
            "_model_name": "HBoxModel",
            "_view_count": null,
            "_view_module": "@jupyter-widgets/controls",
            "_view_module_version": "1.5.0",
            "_view_name": "HBoxView",
            "box_style": "",
            "children": [
              "IPY_MODEL_d8beba0650ac419e95753f59ab3618fe",
              "IPY_MODEL_77d206dc40a64035b84b2714c9a19b68",
              "IPY_MODEL_5b08c04ce4d04d54b2d66015bf8faf64"
            ],
            "layout": "IPY_MODEL_1692ecb35ee640daa3c1a857780ed4fc"
          }
        },
        "d8beba0650ac419e95753f59ab3618fe": {
          "model_module": "@jupyter-widgets/controls",
          "model_name": "HTMLModel",
          "model_module_version": "1.5.0",
          "state": {
            "_dom_classes": [],
            "_model_module": "@jupyter-widgets/controls",
            "_model_module_version": "1.5.0",
            "_model_name": "HTMLModel",
            "_view_count": null,
            "_view_module": "@jupyter-widgets/controls",
            "_view_module_version": "1.5.0",
            "_view_name": "HTMLView",
            "description": "",
            "description_tooltip": null,
            "layout": "IPY_MODEL_adc24412e9424a068ca2dab5a556f35a",
            "placeholder": "​",
            "style": "IPY_MODEL_4a6676780ec94b2c9f13445228b71b1e",
            "value": "Downloading builder script: 100%"
          }
        },
        "77d206dc40a64035b84b2714c9a19b68": {
          "model_module": "@jupyter-widgets/controls",
          "model_name": "FloatProgressModel",
          "model_module_version": "1.5.0",
          "state": {
            "_dom_classes": [],
            "_model_module": "@jupyter-widgets/controls",
            "_model_module_version": "1.5.0",
            "_model_name": "FloatProgressModel",
            "_view_count": null,
            "_view_module": "@jupyter-widgets/controls",
            "_view_module_version": "1.5.0",
            "_view_name": "ProgressView",
            "bar_style": "success",
            "description": "",
            "description_tooltip": null,
            "layout": "IPY_MODEL_8d10cee9d7484ab5983bff013b1096cb",
            "max": 4203,
            "min": 0,
            "orientation": "horizontal",
            "style": "IPY_MODEL_ce9eb559a1bb4a00b52d433dcf422092",
            "value": 4203
          }
        },
        "5b08c04ce4d04d54b2d66015bf8faf64": {
          "model_module": "@jupyter-widgets/controls",
          "model_name": "HTMLModel",
          "model_module_version": "1.5.0",
          "state": {
            "_dom_classes": [],
            "_model_module": "@jupyter-widgets/controls",
            "_model_module_version": "1.5.0",
            "_model_name": "HTMLModel",
            "_view_count": null,
            "_view_module": "@jupyter-widgets/controls",
            "_view_module_version": "1.5.0",
            "_view_name": "HTMLView",
            "description": "",
            "description_tooltip": null,
            "layout": "IPY_MODEL_413a4039011d4804b0ae891b63cce552",
            "placeholder": "​",
            "style": "IPY_MODEL_195aeaed86bb4b4d8088f83969a35eac",
            "value": " 4.20k/4.20k [00:00&lt;00:00, 299kB/s]"
          }
        },
        "1692ecb35ee640daa3c1a857780ed4fc": {
          "model_module": "@jupyter-widgets/base",
          "model_name": "LayoutModel",
          "model_module_version": "1.2.0",
          "state": {
            "_model_module": "@jupyter-widgets/base",
            "_model_module_version": "1.2.0",
            "_model_name": "LayoutModel",
            "_view_count": null,
            "_view_module": "@jupyter-widgets/base",
            "_view_module_version": "1.2.0",
            "_view_name": "LayoutView",
            "align_content": null,
            "align_items": null,
            "align_self": null,
            "border": null,
            "bottom": null,
            "display": null,
            "flex": null,
            "flex_flow": null,
            "grid_area": null,
            "grid_auto_columns": null,
            "grid_auto_flow": null,
            "grid_auto_rows": null,
            "grid_column": null,
            "grid_gap": null,
            "grid_row": null,
            "grid_template_areas": null,
            "grid_template_columns": null,
            "grid_template_rows": null,
            "height": null,
            "justify_content": null,
            "justify_items": null,
            "left": null,
            "margin": null,
            "max_height": null,
            "max_width": null,
            "min_height": null,
            "min_width": null,
            "object_fit": null,
            "object_position": null,
            "order": null,
            "overflow": null,
            "overflow_x": null,
            "overflow_y": null,
            "padding": null,
            "right": null,
            "top": null,
            "visibility": null,
            "width": null
          }
        },
        "adc24412e9424a068ca2dab5a556f35a": {
          "model_module": "@jupyter-widgets/base",
          "model_name": "LayoutModel",
          "model_module_version": "1.2.0",
          "state": {
            "_model_module": "@jupyter-widgets/base",
            "_model_module_version": "1.2.0",
            "_model_name": "LayoutModel",
            "_view_count": null,
            "_view_module": "@jupyter-widgets/base",
            "_view_module_version": "1.2.0",
            "_view_name": "LayoutView",
            "align_content": null,
            "align_items": null,
            "align_self": null,
            "border": null,
            "bottom": null,
            "display": null,
            "flex": null,
            "flex_flow": null,
            "grid_area": null,
            "grid_auto_columns": null,
            "grid_auto_flow": null,
            "grid_auto_rows": null,
            "grid_column": null,
            "grid_gap": null,
            "grid_row": null,
            "grid_template_areas": null,
            "grid_template_columns": null,
            "grid_template_rows": null,
            "height": null,
            "justify_content": null,
            "justify_items": null,
            "left": null,
            "margin": null,
            "max_height": null,
            "max_width": null,
            "min_height": null,
            "min_width": null,
            "object_fit": null,
            "object_position": null,
            "order": null,
            "overflow": null,
            "overflow_x": null,
            "overflow_y": null,
            "padding": null,
            "right": null,
            "top": null,
            "visibility": null,
            "width": null
          }
        },
        "4a6676780ec94b2c9f13445228b71b1e": {
          "model_module": "@jupyter-widgets/controls",
          "model_name": "DescriptionStyleModel",
          "model_module_version": "1.5.0",
          "state": {
            "_model_module": "@jupyter-widgets/controls",
            "_model_module_version": "1.5.0",
            "_model_name": "DescriptionStyleModel",
            "_view_count": null,
            "_view_module": "@jupyter-widgets/base",
            "_view_module_version": "1.2.0",
            "_view_name": "StyleView",
            "description_width": ""
          }
        },
        "8d10cee9d7484ab5983bff013b1096cb": {
          "model_module": "@jupyter-widgets/base",
          "model_name": "LayoutModel",
          "model_module_version": "1.2.0",
          "state": {
            "_model_module": "@jupyter-widgets/base",
            "_model_module_version": "1.2.0",
            "_model_name": "LayoutModel",
            "_view_count": null,
            "_view_module": "@jupyter-widgets/base",
            "_view_module_version": "1.2.0",
            "_view_name": "LayoutView",
            "align_content": null,
            "align_items": null,
            "align_self": null,
            "border": null,
            "bottom": null,
            "display": null,
            "flex": null,
            "flex_flow": null,
            "grid_area": null,
            "grid_auto_columns": null,
            "grid_auto_flow": null,
            "grid_auto_rows": null,
            "grid_column": null,
            "grid_gap": null,
            "grid_row": null,
            "grid_template_areas": null,
            "grid_template_columns": null,
            "grid_template_rows": null,
            "height": null,
            "justify_content": null,
            "justify_items": null,
            "left": null,
            "margin": null,
            "max_height": null,
            "max_width": null,
            "min_height": null,
            "min_width": null,
            "object_fit": null,
            "object_position": null,
            "order": null,
            "overflow": null,
            "overflow_x": null,
            "overflow_y": null,
            "padding": null,
            "right": null,
            "top": null,
            "visibility": null,
            "width": null
          }
        },
        "ce9eb559a1bb4a00b52d433dcf422092": {
          "model_module": "@jupyter-widgets/controls",
          "model_name": "ProgressStyleModel",
          "model_module_version": "1.5.0",
          "state": {
            "_model_module": "@jupyter-widgets/controls",
            "_model_module_version": "1.5.0",
            "_model_name": "ProgressStyleModel",
            "_view_count": null,
            "_view_module": "@jupyter-widgets/base",
            "_view_module_version": "1.2.0",
            "_view_name": "StyleView",
            "bar_color": null,
            "description_width": ""
          }
        },
        "413a4039011d4804b0ae891b63cce552": {
          "model_module": "@jupyter-widgets/base",
          "model_name": "LayoutModel",
          "model_module_version": "1.2.0",
          "state": {
            "_model_module": "@jupyter-widgets/base",
            "_model_module_version": "1.2.0",
            "_model_name": "LayoutModel",
            "_view_count": null,
            "_view_module": "@jupyter-widgets/base",
            "_view_module_version": "1.2.0",
            "_view_name": "LayoutView",
            "align_content": null,
            "align_items": null,
            "align_self": null,
            "border": null,
            "bottom": null,
            "display": null,
            "flex": null,
            "flex_flow": null,
            "grid_area": null,
            "grid_auto_columns": null,
            "grid_auto_flow": null,
            "grid_auto_rows": null,
            "grid_column": null,
            "grid_gap": null,
            "grid_row": null,
            "grid_template_areas": null,
            "grid_template_columns": null,
            "grid_template_rows": null,
            "height": null,
            "justify_content": null,
            "justify_items": null,
            "left": null,
            "margin": null,
            "max_height": null,
            "max_width": null,
            "min_height": null,
            "min_width": null,
            "object_fit": null,
            "object_position": null,
            "order": null,
            "overflow": null,
            "overflow_x": null,
            "overflow_y": null,
            "padding": null,
            "right": null,
            "top": null,
            "visibility": null,
            "width": null
          }
        },
        "195aeaed86bb4b4d8088f83969a35eac": {
          "model_module": "@jupyter-widgets/controls",
          "model_name": "DescriptionStyleModel",
          "model_module_version": "1.5.0",
          "state": {
            "_model_module": "@jupyter-widgets/controls",
            "_model_module_version": "1.5.0",
            "_model_name": "DescriptionStyleModel",
            "_view_count": null,
            "_view_module": "@jupyter-widgets/base",
            "_view_module_version": "1.2.0",
            "_view_name": "StyleView",
            "description_width": ""
          }
        },
        "06d1f668258a4d3ea035e827ef70bfc8": {
          "model_module": "@jupyter-widgets/controls",
          "model_name": "HBoxModel",
          "model_module_version": "1.5.0",
          "state": {
            "_dom_classes": [],
            "_model_module": "@jupyter-widgets/controls",
            "_model_module_version": "1.5.0",
            "_model_name": "HBoxModel",
            "_view_count": null,
            "_view_module": "@jupyter-widgets/controls",
            "_view_module_version": "1.5.0",
            "_view_name": "HBoxView",
            "box_style": "",
            "children": [
              "IPY_MODEL_b278cf20c2294faa8bf5cfc521197f3f",
              "IPY_MODEL_a0428e80b68a4d00963ceacbe4787767",
              "IPY_MODEL_1d6bf60413af46698e81393b34e3d4aa"
            ],
            "layout": "IPY_MODEL_1d763125ee534b78ba1a26f5364677a6"
          }
        },
        "b278cf20c2294faa8bf5cfc521197f3f": {
          "model_module": "@jupyter-widgets/controls",
          "model_name": "HTMLModel",
          "model_module_version": "1.5.0",
          "state": {
            "_dom_classes": [],
            "_model_module": "@jupyter-widgets/controls",
            "_model_module_version": "1.5.0",
            "_model_name": "HTMLModel",
            "_view_count": null,
            "_view_module": "@jupyter-widgets/controls",
            "_view_module_version": "1.5.0",
            "_view_name": "HTMLView",
            "description": "",
            "description_tooltip": null,
            "layout": "IPY_MODEL_38a788ace31b48f7bf87b1a375d9f95e",
            "placeholder": "​",
            "style": "IPY_MODEL_91b25ad68884491f82cd8a30476d98e2",
            "value": "Downloading builder script: 100%"
          }
        },
        "a0428e80b68a4d00963ceacbe4787767": {
          "model_module": "@jupyter-widgets/controls",
          "model_name": "FloatProgressModel",
          "model_module_version": "1.5.0",
          "state": {
            "_dom_classes": [],
            "_model_module": "@jupyter-widgets/controls",
            "_model_module_version": "1.5.0",
            "_model_name": "FloatProgressModel",
            "_view_count": null,
            "_view_module": "@jupyter-widgets/controls",
            "_view_module_version": "1.5.0",
            "_view_name": "ProgressView",
            "bar_style": "success",
            "description": "",
            "description_tooltip": null,
            "layout": "IPY_MODEL_502855822f8d410787db17bd5528c701",
            "max": 6771,
            "min": 0,
            "orientation": "horizontal",
            "style": "IPY_MODEL_ba11923b914b46838007df239b31862c",
            "value": 6771
          }
        },
        "1d6bf60413af46698e81393b34e3d4aa": {
          "model_module": "@jupyter-widgets/controls",
          "model_name": "HTMLModel",
          "model_module_version": "1.5.0",
          "state": {
            "_dom_classes": [],
            "_model_module": "@jupyter-widgets/controls",
            "_model_module_version": "1.5.0",
            "_model_name": "HTMLModel",
            "_view_count": null,
            "_view_module": "@jupyter-widgets/controls",
            "_view_module_version": "1.5.0",
            "_view_name": "HTMLView",
            "description": "",
            "description_tooltip": null,
            "layout": "IPY_MODEL_e3be25e81cc7420dab1ece1839617bfb",
            "placeholder": "​",
            "style": "IPY_MODEL_1a65eb7045e7405cb4d6f85b43dca21c",
            "value": " 6.77k/6.77k [00:00&lt;00:00, 516kB/s]"
          }
        },
        "1d763125ee534b78ba1a26f5364677a6": {
          "model_module": "@jupyter-widgets/base",
          "model_name": "LayoutModel",
          "model_module_version": "1.2.0",
          "state": {
            "_model_module": "@jupyter-widgets/base",
            "_model_module_version": "1.2.0",
            "_model_name": "LayoutModel",
            "_view_count": null,
            "_view_module": "@jupyter-widgets/base",
            "_view_module_version": "1.2.0",
            "_view_name": "LayoutView",
            "align_content": null,
            "align_items": null,
            "align_self": null,
            "border": null,
            "bottom": null,
            "display": null,
            "flex": null,
            "flex_flow": null,
            "grid_area": null,
            "grid_auto_columns": null,
            "grid_auto_flow": null,
            "grid_auto_rows": null,
            "grid_column": null,
            "grid_gap": null,
            "grid_row": null,
            "grid_template_areas": null,
            "grid_template_columns": null,
            "grid_template_rows": null,
            "height": null,
            "justify_content": null,
            "justify_items": null,
            "left": null,
            "margin": null,
            "max_height": null,
            "max_width": null,
            "min_height": null,
            "min_width": null,
            "object_fit": null,
            "object_position": null,
            "order": null,
            "overflow": null,
            "overflow_x": null,
            "overflow_y": null,
            "padding": null,
            "right": null,
            "top": null,
            "visibility": null,
            "width": null
          }
        },
        "38a788ace31b48f7bf87b1a375d9f95e": {
          "model_module": "@jupyter-widgets/base",
          "model_name": "LayoutModel",
          "model_module_version": "1.2.0",
          "state": {
            "_model_module": "@jupyter-widgets/base",
            "_model_module_version": "1.2.0",
            "_model_name": "LayoutModel",
            "_view_count": null,
            "_view_module": "@jupyter-widgets/base",
            "_view_module_version": "1.2.0",
            "_view_name": "LayoutView",
            "align_content": null,
            "align_items": null,
            "align_self": null,
            "border": null,
            "bottom": null,
            "display": null,
            "flex": null,
            "flex_flow": null,
            "grid_area": null,
            "grid_auto_columns": null,
            "grid_auto_flow": null,
            "grid_auto_rows": null,
            "grid_column": null,
            "grid_gap": null,
            "grid_row": null,
            "grid_template_areas": null,
            "grid_template_columns": null,
            "grid_template_rows": null,
            "height": null,
            "justify_content": null,
            "justify_items": null,
            "left": null,
            "margin": null,
            "max_height": null,
            "max_width": null,
            "min_height": null,
            "min_width": null,
            "object_fit": null,
            "object_position": null,
            "order": null,
            "overflow": null,
            "overflow_x": null,
            "overflow_y": null,
            "padding": null,
            "right": null,
            "top": null,
            "visibility": null,
            "width": null
          }
        },
        "91b25ad68884491f82cd8a30476d98e2": {
          "model_module": "@jupyter-widgets/controls",
          "model_name": "DescriptionStyleModel",
          "model_module_version": "1.5.0",
          "state": {
            "_model_module": "@jupyter-widgets/controls",
            "_model_module_version": "1.5.0",
            "_model_name": "DescriptionStyleModel",
            "_view_count": null,
            "_view_module": "@jupyter-widgets/base",
            "_view_module_version": "1.2.0",
            "_view_name": "StyleView",
            "description_width": ""
          }
        },
        "502855822f8d410787db17bd5528c701": {
          "model_module": "@jupyter-widgets/base",
          "model_name": "LayoutModel",
          "model_module_version": "1.2.0",
          "state": {
            "_model_module": "@jupyter-widgets/base",
            "_model_module_version": "1.2.0",
            "_model_name": "LayoutModel",
            "_view_count": null,
            "_view_module": "@jupyter-widgets/base",
            "_view_module_version": "1.2.0",
            "_view_name": "LayoutView",
            "align_content": null,
            "align_items": null,
            "align_self": null,
            "border": null,
            "bottom": null,
            "display": null,
            "flex": null,
            "flex_flow": null,
            "grid_area": null,
            "grid_auto_columns": null,
            "grid_auto_flow": null,
            "grid_auto_rows": null,
            "grid_column": null,
            "grid_gap": null,
            "grid_row": null,
            "grid_template_areas": null,
            "grid_template_columns": null,
            "grid_template_rows": null,
            "height": null,
            "justify_content": null,
            "justify_items": null,
            "left": null,
            "margin": null,
            "max_height": null,
            "max_width": null,
            "min_height": null,
            "min_width": null,
            "object_fit": null,
            "object_position": null,
            "order": null,
            "overflow": null,
            "overflow_x": null,
            "overflow_y": null,
            "padding": null,
            "right": null,
            "top": null,
            "visibility": null,
            "width": null
          }
        },
        "ba11923b914b46838007df239b31862c": {
          "model_module": "@jupyter-widgets/controls",
          "model_name": "ProgressStyleModel",
          "model_module_version": "1.5.0",
          "state": {
            "_model_module": "@jupyter-widgets/controls",
            "_model_module_version": "1.5.0",
            "_model_name": "ProgressStyleModel",
            "_view_count": null,
            "_view_module": "@jupyter-widgets/base",
            "_view_module_version": "1.2.0",
            "_view_name": "StyleView",
            "bar_color": null,
            "description_width": ""
          }
        },
        "e3be25e81cc7420dab1ece1839617bfb": {
          "model_module": "@jupyter-widgets/base",
          "model_name": "LayoutModel",
          "model_module_version": "1.2.0",
          "state": {
            "_model_module": "@jupyter-widgets/base",
            "_model_module_version": "1.2.0",
            "_model_name": "LayoutModel",
            "_view_count": null,
            "_view_module": "@jupyter-widgets/base",
            "_view_module_version": "1.2.0",
            "_view_name": "LayoutView",
            "align_content": null,
            "align_items": null,
            "align_self": null,
            "border": null,
            "bottom": null,
            "display": null,
            "flex": null,
            "flex_flow": null,
            "grid_area": null,
            "grid_auto_columns": null,
            "grid_auto_flow": null,
            "grid_auto_rows": null,
            "grid_column": null,
            "grid_gap": null,
            "grid_row": null,
            "grid_template_areas": null,
            "grid_template_columns": null,
            "grid_template_rows": null,
            "height": null,
            "justify_content": null,
            "justify_items": null,
            "left": null,
            "margin": null,
            "max_height": null,
            "max_width": null,
            "min_height": null,
            "min_width": null,
            "object_fit": null,
            "object_position": null,
            "order": null,
            "overflow": null,
            "overflow_x": null,
            "overflow_y": null,
            "padding": null,
            "right": null,
            "top": null,
            "visibility": null,
            "width": null
          }
        },
        "1a65eb7045e7405cb4d6f85b43dca21c": {
          "model_module": "@jupyter-widgets/controls",
          "model_name": "DescriptionStyleModel",
          "model_module_version": "1.5.0",
          "state": {
            "_model_module": "@jupyter-widgets/controls",
            "_model_module_version": "1.5.0",
            "_model_name": "DescriptionStyleModel",
            "_view_count": null,
            "_view_module": "@jupyter-widgets/base",
            "_view_module_version": "1.2.0",
            "_view_name": "StyleView",
            "description_width": ""
          }
        },
        "3c520587b3f348f99848f9ac4c83c7f4": {
          "model_module": "@jupyter-widgets/controls",
          "model_name": "HBoxModel",
          "model_module_version": "1.5.0",
          "state": {
            "_dom_classes": [],
            "_model_module": "@jupyter-widgets/controls",
            "_model_module_version": "1.5.0",
            "_model_name": "HBoxModel",
            "_view_count": null,
            "_view_module": "@jupyter-widgets/controls",
            "_view_module_version": "1.5.0",
            "_view_name": "HBoxView",
            "box_style": "",
            "children": [
              "IPY_MODEL_5416b6e313cb40bd9ae3bfa86f1c4735",
              "IPY_MODEL_707dfd786722494cb0c02eb8fa3b25b2",
              "IPY_MODEL_912ec0769832420bb52011049c93763d"
            ],
            "layout": "IPY_MODEL_0ea06cdd8d574d808cc1bad23c5f5569"
          }
        },
        "5416b6e313cb40bd9ae3bfa86f1c4735": {
          "model_module": "@jupyter-widgets/controls",
          "model_name": "HTMLModel",
          "model_module_version": "1.5.0",
          "state": {
            "_dom_classes": [],
            "_model_module": "@jupyter-widgets/controls",
            "_model_module_version": "1.5.0",
            "_model_name": "HTMLModel",
            "_view_count": null,
            "_view_module": "@jupyter-widgets/controls",
            "_view_module_version": "1.5.0",
            "_view_name": "HTMLView",
            "description": "",
            "description_tooltip": null,
            "layout": "IPY_MODEL_b90b6afbe4d34db09bce406386e4755d",
            "placeholder": "​",
            "style": "IPY_MODEL_e834db5b86cb4ffe8a6aa328d5aac0e4",
            "value": "Downloading builder script: 100%"
          }
        },
        "707dfd786722494cb0c02eb8fa3b25b2": {
          "model_module": "@jupyter-widgets/controls",
          "model_name": "FloatProgressModel",
          "model_module_version": "1.5.0",
          "state": {
            "_dom_classes": [],
            "_model_module": "@jupyter-widgets/controls",
            "_model_module_version": "1.5.0",
            "_model_name": "FloatProgressModel",
            "_view_count": null,
            "_view_module": "@jupyter-widgets/controls",
            "_view_module_version": "1.5.0",
            "_view_name": "ProgressView",
            "bar_style": "success",
            "description": "",
            "description_tooltip": null,
            "layout": "IPY_MODEL_e7efa6eba2224736b0afb27ad4b5da3b",
            "max": 7546,
            "min": 0,
            "orientation": "horizontal",
            "style": "IPY_MODEL_9fff845bfba44b8eb5ba9529747f06c5",
            "value": 7546
          }
        },
        "912ec0769832420bb52011049c93763d": {
          "model_module": "@jupyter-widgets/controls",
          "model_name": "HTMLModel",
          "model_module_version": "1.5.0",
          "state": {
            "_dom_classes": [],
            "_model_module": "@jupyter-widgets/controls",
            "_model_module_version": "1.5.0",
            "_model_name": "HTMLModel",
            "_view_count": null,
            "_view_module": "@jupyter-widgets/controls",
            "_view_module_version": "1.5.0",
            "_view_name": "HTMLView",
            "description": "",
            "description_tooltip": null,
            "layout": "IPY_MODEL_c5032e32ec934b998c7ab2179cb7a6be",
            "placeholder": "​",
            "style": "IPY_MODEL_8fa0b191248044039bd12e46f1f60f21",
            "value": " 7.55k/7.55k [00:00&lt;00:00, 561kB/s]"
          }
        },
        "0ea06cdd8d574d808cc1bad23c5f5569": {
          "model_module": "@jupyter-widgets/base",
          "model_name": "LayoutModel",
          "model_module_version": "1.2.0",
          "state": {
            "_model_module": "@jupyter-widgets/base",
            "_model_module_version": "1.2.0",
            "_model_name": "LayoutModel",
            "_view_count": null,
            "_view_module": "@jupyter-widgets/base",
            "_view_module_version": "1.2.0",
            "_view_name": "LayoutView",
            "align_content": null,
            "align_items": null,
            "align_self": null,
            "border": null,
            "bottom": null,
            "display": null,
            "flex": null,
            "flex_flow": null,
            "grid_area": null,
            "grid_auto_columns": null,
            "grid_auto_flow": null,
            "grid_auto_rows": null,
            "grid_column": null,
            "grid_gap": null,
            "grid_row": null,
            "grid_template_areas": null,
            "grid_template_columns": null,
            "grid_template_rows": null,
            "height": null,
            "justify_content": null,
            "justify_items": null,
            "left": null,
            "margin": null,
            "max_height": null,
            "max_width": null,
            "min_height": null,
            "min_width": null,
            "object_fit": null,
            "object_position": null,
            "order": null,
            "overflow": null,
            "overflow_x": null,
            "overflow_y": null,
            "padding": null,
            "right": null,
            "top": null,
            "visibility": null,
            "width": null
          }
        },
        "b90b6afbe4d34db09bce406386e4755d": {
          "model_module": "@jupyter-widgets/base",
          "model_name": "LayoutModel",
          "model_module_version": "1.2.0",
          "state": {
            "_model_module": "@jupyter-widgets/base",
            "_model_module_version": "1.2.0",
            "_model_name": "LayoutModel",
            "_view_count": null,
            "_view_module": "@jupyter-widgets/base",
            "_view_module_version": "1.2.0",
            "_view_name": "LayoutView",
            "align_content": null,
            "align_items": null,
            "align_self": null,
            "border": null,
            "bottom": null,
            "display": null,
            "flex": null,
            "flex_flow": null,
            "grid_area": null,
            "grid_auto_columns": null,
            "grid_auto_flow": null,
            "grid_auto_rows": null,
            "grid_column": null,
            "grid_gap": null,
            "grid_row": null,
            "grid_template_areas": null,
            "grid_template_columns": null,
            "grid_template_rows": null,
            "height": null,
            "justify_content": null,
            "justify_items": null,
            "left": null,
            "margin": null,
            "max_height": null,
            "max_width": null,
            "min_height": null,
            "min_width": null,
            "object_fit": null,
            "object_position": null,
            "order": null,
            "overflow": null,
            "overflow_x": null,
            "overflow_y": null,
            "padding": null,
            "right": null,
            "top": null,
            "visibility": null,
            "width": null
          }
        },
        "e834db5b86cb4ffe8a6aa328d5aac0e4": {
          "model_module": "@jupyter-widgets/controls",
          "model_name": "DescriptionStyleModel",
          "model_module_version": "1.5.0",
          "state": {
            "_model_module": "@jupyter-widgets/controls",
            "_model_module_version": "1.5.0",
            "_model_name": "DescriptionStyleModel",
            "_view_count": null,
            "_view_module": "@jupyter-widgets/base",
            "_view_module_version": "1.2.0",
            "_view_name": "StyleView",
            "description_width": ""
          }
        },
        "e7efa6eba2224736b0afb27ad4b5da3b": {
          "model_module": "@jupyter-widgets/base",
          "model_name": "LayoutModel",
          "model_module_version": "1.2.0",
          "state": {
            "_model_module": "@jupyter-widgets/base",
            "_model_module_version": "1.2.0",
            "_model_name": "LayoutModel",
            "_view_count": null,
            "_view_module": "@jupyter-widgets/base",
            "_view_module_version": "1.2.0",
            "_view_name": "LayoutView",
            "align_content": null,
            "align_items": null,
            "align_self": null,
            "border": null,
            "bottom": null,
            "display": null,
            "flex": null,
            "flex_flow": null,
            "grid_area": null,
            "grid_auto_columns": null,
            "grid_auto_flow": null,
            "grid_auto_rows": null,
            "grid_column": null,
            "grid_gap": null,
            "grid_row": null,
            "grid_template_areas": null,
            "grid_template_columns": null,
            "grid_template_rows": null,
            "height": null,
            "justify_content": null,
            "justify_items": null,
            "left": null,
            "margin": null,
            "max_height": null,
            "max_width": null,
            "min_height": null,
            "min_width": null,
            "object_fit": null,
            "object_position": null,
            "order": null,
            "overflow": null,
            "overflow_x": null,
            "overflow_y": null,
            "padding": null,
            "right": null,
            "top": null,
            "visibility": null,
            "width": null
          }
        },
        "9fff845bfba44b8eb5ba9529747f06c5": {
          "model_module": "@jupyter-widgets/controls",
          "model_name": "ProgressStyleModel",
          "model_module_version": "1.5.0",
          "state": {
            "_model_module": "@jupyter-widgets/controls",
            "_model_module_version": "1.5.0",
            "_model_name": "ProgressStyleModel",
            "_view_count": null,
            "_view_module": "@jupyter-widgets/base",
            "_view_module_version": "1.2.0",
            "_view_name": "StyleView",
            "bar_color": null,
            "description_width": ""
          }
        },
        "c5032e32ec934b998c7ab2179cb7a6be": {
          "model_module": "@jupyter-widgets/base",
          "model_name": "LayoutModel",
          "model_module_version": "1.2.0",
          "state": {
            "_model_module": "@jupyter-widgets/base",
            "_model_module_version": "1.2.0",
            "_model_name": "LayoutModel",
            "_view_count": null,
            "_view_module": "@jupyter-widgets/base",
            "_view_module_version": "1.2.0",
            "_view_name": "LayoutView",
            "align_content": null,
            "align_items": null,
            "align_self": null,
            "border": null,
            "bottom": null,
            "display": null,
            "flex": null,
            "flex_flow": null,
            "grid_area": null,
            "grid_auto_columns": null,
            "grid_auto_flow": null,
            "grid_auto_rows": null,
            "grid_column": null,
            "grid_gap": null,
            "grid_row": null,
            "grid_template_areas": null,
            "grid_template_columns": null,
            "grid_template_rows": null,
            "height": null,
            "justify_content": null,
            "justify_items": null,
            "left": null,
            "margin": null,
            "max_height": null,
            "max_width": null,
            "min_height": null,
            "min_width": null,
            "object_fit": null,
            "object_position": null,
            "order": null,
            "overflow": null,
            "overflow_x": null,
            "overflow_y": null,
            "padding": null,
            "right": null,
            "top": null,
            "visibility": null,
            "width": null
          }
        },
        "8fa0b191248044039bd12e46f1f60f21": {
          "model_module": "@jupyter-widgets/controls",
          "model_name": "DescriptionStyleModel",
          "model_module_version": "1.5.0",
          "state": {
            "_model_module": "@jupyter-widgets/controls",
            "_model_module_version": "1.5.0",
            "_model_name": "DescriptionStyleModel",
            "_view_count": null,
            "_view_module": "@jupyter-widgets/base",
            "_view_module_version": "1.2.0",
            "_view_name": "StyleView",
            "description_width": ""
          }
        },
        "7b284fa142ac493493e29ac271a6ecda": {
          "model_module": "@jupyter-widgets/controls",
          "model_name": "HBoxModel",
          "model_module_version": "1.5.0",
          "state": {
            "_dom_classes": [],
            "_model_module": "@jupyter-widgets/controls",
            "_model_module_version": "1.5.0",
            "_model_name": "HBoxModel",
            "_view_count": null,
            "_view_module": "@jupyter-widgets/controls",
            "_view_module_version": "1.5.0",
            "_view_name": "HBoxView",
            "box_style": "",
            "children": [
              "IPY_MODEL_634d9e6d69804a36b7ca59bf4f23bd0d",
              "IPY_MODEL_5837e585c3454e9f8eb6809aea32bf99",
              "IPY_MODEL_0b9f2d7673094fb39eb1ab3aac83cd5b"
            ],
            "layout": "IPY_MODEL_8c539fd80cd1494ab6573433a95c8b7d"
          }
        },
        "634d9e6d69804a36b7ca59bf4f23bd0d": {
          "model_module": "@jupyter-widgets/controls",
          "model_name": "HTMLModel",
          "model_module_version": "1.5.0",
          "state": {
            "_dom_classes": [],
            "_model_module": "@jupyter-widgets/controls",
            "_model_module_version": "1.5.0",
            "_model_name": "HTMLModel",
            "_view_count": null,
            "_view_module": "@jupyter-widgets/controls",
            "_view_module_version": "1.5.0",
            "_view_name": "HTMLView",
            "description": "",
            "description_tooltip": null,
            "layout": "IPY_MODEL_2367e830316642a6a8c56e7aa997660e",
            "placeholder": "​",
            "style": "IPY_MODEL_8020d934f5e84649928280d0de4007bb",
            "value": "Downloading builder script: 100%"
          }
        },
        "5837e585c3454e9f8eb6809aea32bf99": {
          "model_module": "@jupyter-widgets/controls",
          "model_name": "FloatProgressModel",
          "model_module_version": "1.5.0",
          "state": {
            "_dom_classes": [],
            "_model_module": "@jupyter-widgets/controls",
            "_model_module_version": "1.5.0",
            "_model_name": "FloatProgressModel",
            "_view_count": null,
            "_view_module": "@jupyter-widgets/controls",
            "_view_module_version": "1.5.0",
            "_view_name": "ProgressView",
            "bar_style": "success",
            "description": "",
            "description_tooltip": null,
            "layout": "IPY_MODEL_4393e68ee8ab406cb02830f1d6e2ee0d",
            "max": 7363,
            "min": 0,
            "orientation": "horizontal",
            "style": "IPY_MODEL_8091f71c16324f0287d4b94fe4f4e392",
            "value": 7363
          }
        },
        "0b9f2d7673094fb39eb1ab3aac83cd5b": {
          "model_module": "@jupyter-widgets/controls",
          "model_name": "HTMLModel",
          "model_module_version": "1.5.0",
          "state": {
            "_dom_classes": [],
            "_model_module": "@jupyter-widgets/controls",
            "_model_module_version": "1.5.0",
            "_model_name": "HTMLModel",
            "_view_count": null,
            "_view_module": "@jupyter-widgets/controls",
            "_view_module_version": "1.5.0",
            "_view_name": "HTMLView",
            "description": "",
            "description_tooltip": null,
            "layout": "IPY_MODEL_468ee4f0f7d5424ea0baaa19648de648",
            "placeholder": "​",
            "style": "IPY_MODEL_c64d85a18f3744db88f57cbadd318893",
            "value": " 7.36k/7.36k [00:00&lt;00:00, 521kB/s]"
          }
        },
        "8c539fd80cd1494ab6573433a95c8b7d": {
          "model_module": "@jupyter-widgets/base",
          "model_name": "LayoutModel",
          "model_module_version": "1.2.0",
          "state": {
            "_model_module": "@jupyter-widgets/base",
            "_model_module_version": "1.2.0",
            "_model_name": "LayoutModel",
            "_view_count": null,
            "_view_module": "@jupyter-widgets/base",
            "_view_module_version": "1.2.0",
            "_view_name": "LayoutView",
            "align_content": null,
            "align_items": null,
            "align_self": null,
            "border": null,
            "bottom": null,
            "display": null,
            "flex": null,
            "flex_flow": null,
            "grid_area": null,
            "grid_auto_columns": null,
            "grid_auto_flow": null,
            "grid_auto_rows": null,
            "grid_column": null,
            "grid_gap": null,
            "grid_row": null,
            "grid_template_areas": null,
            "grid_template_columns": null,
            "grid_template_rows": null,
            "height": null,
            "justify_content": null,
            "justify_items": null,
            "left": null,
            "margin": null,
            "max_height": null,
            "max_width": null,
            "min_height": null,
            "min_width": null,
            "object_fit": null,
            "object_position": null,
            "order": null,
            "overflow": null,
            "overflow_x": null,
            "overflow_y": null,
            "padding": null,
            "right": null,
            "top": null,
            "visibility": null,
            "width": null
          }
        },
        "2367e830316642a6a8c56e7aa997660e": {
          "model_module": "@jupyter-widgets/base",
          "model_name": "LayoutModel",
          "model_module_version": "1.2.0",
          "state": {
            "_model_module": "@jupyter-widgets/base",
            "_model_module_version": "1.2.0",
            "_model_name": "LayoutModel",
            "_view_count": null,
            "_view_module": "@jupyter-widgets/base",
            "_view_module_version": "1.2.0",
            "_view_name": "LayoutView",
            "align_content": null,
            "align_items": null,
            "align_self": null,
            "border": null,
            "bottom": null,
            "display": null,
            "flex": null,
            "flex_flow": null,
            "grid_area": null,
            "grid_auto_columns": null,
            "grid_auto_flow": null,
            "grid_auto_rows": null,
            "grid_column": null,
            "grid_gap": null,
            "grid_row": null,
            "grid_template_areas": null,
            "grid_template_columns": null,
            "grid_template_rows": null,
            "height": null,
            "justify_content": null,
            "justify_items": null,
            "left": null,
            "margin": null,
            "max_height": null,
            "max_width": null,
            "min_height": null,
            "min_width": null,
            "object_fit": null,
            "object_position": null,
            "order": null,
            "overflow": null,
            "overflow_x": null,
            "overflow_y": null,
            "padding": null,
            "right": null,
            "top": null,
            "visibility": null,
            "width": null
          }
        },
        "8020d934f5e84649928280d0de4007bb": {
          "model_module": "@jupyter-widgets/controls",
          "model_name": "DescriptionStyleModel",
          "model_module_version": "1.5.0",
          "state": {
            "_model_module": "@jupyter-widgets/controls",
            "_model_module_version": "1.5.0",
            "_model_name": "DescriptionStyleModel",
            "_view_count": null,
            "_view_module": "@jupyter-widgets/base",
            "_view_module_version": "1.2.0",
            "_view_name": "StyleView",
            "description_width": ""
          }
        },
        "4393e68ee8ab406cb02830f1d6e2ee0d": {
          "model_module": "@jupyter-widgets/base",
          "model_name": "LayoutModel",
          "model_module_version": "1.2.0",
          "state": {
            "_model_module": "@jupyter-widgets/base",
            "_model_module_version": "1.2.0",
            "_model_name": "LayoutModel",
            "_view_count": null,
            "_view_module": "@jupyter-widgets/base",
            "_view_module_version": "1.2.0",
            "_view_name": "LayoutView",
            "align_content": null,
            "align_items": null,
            "align_self": null,
            "border": null,
            "bottom": null,
            "display": null,
            "flex": null,
            "flex_flow": null,
            "grid_area": null,
            "grid_auto_columns": null,
            "grid_auto_flow": null,
            "grid_auto_rows": null,
            "grid_column": null,
            "grid_gap": null,
            "grid_row": null,
            "grid_template_areas": null,
            "grid_template_columns": null,
            "grid_template_rows": null,
            "height": null,
            "justify_content": null,
            "justify_items": null,
            "left": null,
            "margin": null,
            "max_height": null,
            "max_width": null,
            "min_height": null,
            "min_width": null,
            "object_fit": null,
            "object_position": null,
            "order": null,
            "overflow": null,
            "overflow_x": null,
            "overflow_y": null,
            "padding": null,
            "right": null,
            "top": null,
            "visibility": null,
            "width": null
          }
        },
        "8091f71c16324f0287d4b94fe4f4e392": {
          "model_module": "@jupyter-widgets/controls",
          "model_name": "ProgressStyleModel",
          "model_module_version": "1.5.0",
          "state": {
            "_model_module": "@jupyter-widgets/controls",
            "_model_module_version": "1.5.0",
            "_model_name": "ProgressStyleModel",
            "_view_count": null,
            "_view_module": "@jupyter-widgets/base",
            "_view_module_version": "1.2.0",
            "_view_name": "StyleView",
            "bar_color": null,
            "description_width": ""
          }
        },
        "468ee4f0f7d5424ea0baaa19648de648": {
          "model_module": "@jupyter-widgets/base",
          "model_name": "LayoutModel",
          "model_module_version": "1.2.0",
          "state": {
            "_model_module": "@jupyter-widgets/base",
            "_model_module_version": "1.2.0",
            "_model_name": "LayoutModel",
            "_view_count": null,
            "_view_module": "@jupyter-widgets/base",
            "_view_module_version": "1.2.0",
            "_view_name": "LayoutView",
            "align_content": null,
            "align_items": null,
            "align_self": null,
            "border": null,
            "bottom": null,
            "display": null,
            "flex": null,
            "flex_flow": null,
            "grid_area": null,
            "grid_auto_columns": null,
            "grid_auto_flow": null,
            "grid_auto_rows": null,
            "grid_column": null,
            "grid_gap": null,
            "grid_row": null,
            "grid_template_areas": null,
            "grid_template_columns": null,
            "grid_template_rows": null,
            "height": null,
            "justify_content": null,
            "justify_items": null,
            "left": null,
            "margin": null,
            "max_height": null,
            "max_width": null,
            "min_height": null,
            "min_width": null,
            "object_fit": null,
            "object_position": null,
            "order": null,
            "overflow": null,
            "overflow_x": null,
            "overflow_y": null,
            "padding": null,
            "right": null,
            "top": null,
            "visibility": null,
            "width": null
          }
        },
        "c64d85a18f3744db88f57cbadd318893": {
          "model_module": "@jupyter-widgets/controls",
          "model_name": "DescriptionStyleModel",
          "model_module_version": "1.5.0",
          "state": {
            "_model_module": "@jupyter-widgets/controls",
            "_model_module_version": "1.5.0",
            "_model_name": "DescriptionStyleModel",
            "_view_count": null,
            "_view_module": "@jupyter-widgets/base",
            "_view_module_version": "1.2.0",
            "_view_name": "StyleView",
            "description_width": ""
          }
        }
      }
    }
  },
  "cells": [
    {
      "cell_type": "markdown",
      "metadata": {
        "id": "view-in-github",
        "colab_type": "text"
      },
      "source": [
        "<a href=\"https://colab.research.google.com/github/janvierk/MRP/blob/main/MRP_SwahBert.ipynb\" target=\"_parent\"><img src=\"https://colab.research.google.com/assets/colab-badge.svg\" alt=\"Open In Colab\"/></a>"
      ]
    },
    {
      "cell_type": "code",
      "source": [
        "from  google.colab import drive\n",
        "drive.mount('/content/drive/')"
      ],
      "metadata": {
        "colab": {
          "base_uri": "https://localhost:8080/"
        },
        "id": "NMZork9htzXC",
        "outputId": "a0cca700-b45f-4a30-ff30-41c918ab6a06"
      },
      "execution_count": null,
      "outputs": [
        {
          "output_type": "stream",
          "name": "stdout",
          "text": [
            "Mounted at /content/drive/\n"
          ]
        }
      ]
    },
    {
      "cell_type": "code",
      "source": [
        "import os\n",
        "os.chdir('/content/drive/MyDrive/MRP')"
      ],
      "metadata": {
        "id": "EtR4VMeOuHec"
      },
      "execution_count": null,
      "outputs": []
    },
    {
      "cell_type": "code",
      "execution_count": null,
      "metadata": {
        "id": "JbuUa_15QbDf"
      },
      "outputs": [],
      "source": [
        "#installing requitred libries and supressing  the print-out\n",
        "#!pip install requests==2.31.0 --upgrade -q > NUL\n",
        "!pip install accelerate -U -q > NUL\n",
        "!pip install transformers -q > NUL\n",
        "!pip install torch -q > NUL\n",
        "#!pip install -U transformers -q >NULip install datasets -q > NUL\n",
        "!pip install tensorflow -q > NUL\n",
        "!pip install datasets -q > NUL\n",
        "!pip install evaluate -q > NUL"
      ]
    },
    {
      "cell_type": "code",
      "source": [],
      "metadata": {
        "id": "AXqz8zUCtwyq"
      },
      "execution_count": null,
      "outputs": []
    },
    {
      "cell_type": "code",
      "source": [
        "#Required packages and libries\n",
        "import pandas as pd\n",
        "import numpy as np\n",
        "import matplotlib.pyplot as plt\n",
        "from transformers import BertTokenizer\n",
        "from transformers import BertForSequenceClassification\n",
        "from transformers  import Trainer\n",
        "from transformers import TrainingArguments\n",
        "from transformers import XLMRobertaTokenizer\n",
        "from transformers import XLMRobertaForSequenceClassification\n",
        "from transformers import MT5ForConditionalGeneration\n",
        "from transformers import T5Tokenizer\n",
        "import seaborn as sn\n",
        "import matplotlib\n",
        "from transformers import AutoTokenizer, AutoModelForTokenClassification\n",
        "import transformers as tf\n",
        "import torch\n",
        "from datasets import load_dataset\n",
        "import datasets\n",
        "import  evaluate\n",
        "from transformers import EarlyStoppingCallback\n",
        "from sklearn.metrics import confusion_matrix"
      ],
      "metadata": {
        "id": "0k-6YS8mBGg5"
      },
      "execution_count": null,
      "outputs": []
    },
    {
      "cell_type": "code",
      "source": [
        "#swahili_datasets\n",
        "swahili_testing = pd.read_csv(\"swahili_testing.csv\")\n",
        "swahili_train = pd.read_csv(\"swahili_train.csv\")\n",
        "swahili_validation = pd.read_csv(\"swahili_validation.csv\")"
      ],
      "metadata": {
        "id": "ay5oWl-L2h6t"
      },
      "execution_count": null,
      "outputs": []
    },
    {
      "cell_type": "code",
      "source": [],
      "metadata": {
        "id": "BiULbR-Xv3s-"
      },
      "execution_count": null,
      "outputs": []
    },
    {
      "cell_type": "code",
      "source": [
        "english = pd.read_csv(\"swahili_clean.csv\")"
      ],
      "metadata": {
        "id": "DQJV_svTQ9rf"
      },
      "execution_count": null,
      "outputs": []
    },
    {
      "cell_type": "code",
      "source": [
        "#swahbert tokenizer\n",
        "tokenizer_swah = BertTokenizer.from_pretrained(\"pranaydeeps/SwahBERT-base-cased\")"
      ],
      "metadata": {
        "colab": {
          "base_uri": "https://localhost:8080/",
          "height": 205,
          "referenced_widgets": [
            "e3f485d62d064e8abc93bd3b43d3630a",
            "25a40a80cadb443a9c1e69e9a2aa11a9",
            "b67b77a71dd84dd89da82fad1e063871",
            "4954ddb02ff7494899b2faac68c5993f",
            "75c3074e98144b3ca6257f0396f0cba8",
            "3c9f84eef273452e91a17919a66f1768",
            "18980d65f8a04e109a535867c7a85f16",
            "35181f69d0c845a5b2027c801859154b",
            "b30f7334b0d243a68afca04e494cb7cc",
            "fd7d6ed2f5994a1eb612fec82cfaa911",
            "e60e1c781a474b788bf22b0ad901b5db",
            "68563b16add84684a70ddda411af46d0",
            "bff9662db55245c19b0a2a450d6183aa",
            "c944a4ed42fd45f682f6de7d8cefde55",
            "61709af1dda84274b0e95028c9a035f3",
            "7f310125fdb24e38a90a8082fa798852",
            "118a4e102536403dbe20e566e0e29075",
            "8099e04fbf41427db05da735e59d2f67",
            "3d9fb291ae8b4ae1b56d2419eb8f3581",
            "a7bdcaad693a44209a7d2ea85d2ef320",
            "b1851b6ce44f4224b3788291fa67ab27",
            "384182e196904ed49f494be34645d29a"
          ]
        },
        "id": "Th1m_TEpFZrw",
        "outputId": "f4ee62f5-3dd2-42d3-9b2c-84a8a2a29e15"
      },
      "execution_count": null,
      "outputs": [
        {
          "output_type": "stream",
          "name": "stderr",
          "text": [
            "/usr/local/lib/python3.10/dist-packages/huggingface_hub/utils/_token.py:89: UserWarning: \n",
            "The secret `HF_TOKEN` does not exist in your Colab secrets.\n",
            "To authenticate with the Hugging Face Hub, create a token in your settings tab (https://huggingface.co/settings/tokens), set it as secret in your Google Colab and restart your session.\n",
            "You will be able to reuse this secret in all of your notebooks.\n",
            "Please note that authentication is recommended but still optional to access public models or datasets.\n",
            "  warnings.warn(\n"
          ]
        },
        {
          "output_type": "display_data",
          "data": {
            "text/plain": [
              "vocab.txt:   0%|          | 0.00/251k [00:00<?, ?B/s]"
            ],
            "application/vnd.jupyter.widget-view+json": {
              "version_major": 2,
              "version_minor": 0,
              "model_id": "e3f485d62d064e8abc93bd3b43d3630a"
            }
          },
          "metadata": {}
        },
        {
          "output_type": "display_data",
          "data": {
            "text/plain": [
              "config.json:   0%|          | 0.00/337 [00:00<?, ?B/s]"
            ],
            "application/vnd.jupyter.widget-view+json": {
              "version_major": 2,
              "version_minor": 0,
              "model_id": "68563b16add84684a70ddda411af46d0"
            }
          },
          "metadata": {}
        }
      ]
    },
    {
      "cell_type": "code",
      "source": [
        "#tokenize the data with maximum padding\n",
        "def tokenize_swah(text, max_length = 512):\n",
        "  return tokenizer_swah(text,\n",
        "                   padding = \"max_length\",\n",
        "                   truncation = True,\n",
        "                        max_length = max_length\n",
        "                    )"
      ],
      "metadata": {
        "id": "2YU-5kqwEhjf"
      },
      "execution_count": null,
      "outputs": []
    },
    {
      "cell_type": "code",
      "source": [
        "#tokenizing swahili data\n",
        "tokenized_swahili_train_swahbert =  swahili_train[\"text\"].apply(tokenize_swah)\n",
        "tokenized_swahili_validation_swahbert = swahili_validation[\"text\"].apply(tokenize_swah)\n",
        "tokenized_swahili_testing_swahbert = swahili_testing[\"text\"].apply(tokenize_swah)"
      ],
      "metadata": {
        "id": "I2sOgn5IHQ6H"
      },
      "execution_count": null,
      "outputs": []
    },
    {
      "cell_type": "code",
      "source": [
        "#extracting input ids and attention mask for swahbert swahili training\n",
        "input_ids_swahbert_train= [item[\"input_ids\"] for item in tokenized_swahili_train_swahbert]\n",
        "attention_swahbert_train = [item[\"attention_mask\"] for item in tokenized_swahili_train_swahbert]\n",
        "encodings_swahbert_train = {\"input_ids\": input_ids_swahbert_train,\n",
        "             \"attention_mask\": attention_swahbert_train}"
      ],
      "metadata": {
        "id": "9ci7m47lHqIS"
      },
      "execution_count": null,
      "outputs": []
    },
    {
      "cell_type": "code",
      "source": [
        "#extracting input ids and attention mask for swahbert swahili validation\n",
        "input_ids_swahbert_validation= [item[\"input_ids\"] for item in tokenized_swahili_validation_swahbert]\n",
        "attention_swahbert_validation = [item[\"attention_mask\"] for item in tokenized_swahili_validation_swahbert]\n",
        "encodings_swahbert_validation = {\"input_ids\": input_ids_swahbert_validation,\n",
        "             \"attention_mask\": attention_swahbert_validation}"
      ],
      "metadata": {
        "id": "hdWuHIMeHzJE"
      },
      "execution_count": null,
      "outputs": []
    },
    {
      "cell_type": "code",
      "source": [
        "#extracting input ids and attention mask for swahbert swahili testing\n",
        "input_ids_swahbert_testing= [item[\"input_ids\"] for item in tokenized_swahili_testing_swahbert]\n",
        "attention_swahbert_testing = [item[\"attention_mask\"] for item in tokenized_swahili_testing_swahbert]\n",
        "encodings_swahbert_testing = {\"input_ids\": input_ids_swahbert_testing,\n",
        "             \"attention_mask\": attention_swahbert_testing}"
      ],
      "metadata": {
        "id": "VNHqvDIlH3DP"
      },
      "execution_count": null,
      "outputs": []
    },
    {
      "cell_type": "code",
      "source": [
        "#getting the labels or categories\n",
        "#getting labels for swahili datasets\n",
        "swahili_train_labels = swahili_train[\"label\"]\n",
        "swahili_validation_labels = swahili_validation[\"label\"]\n",
        "swahili_testing_labels = swahili_testing[\"label\"]"
      ],
      "metadata": {
        "id": "lVgz-1SIN5pf"
      },
      "execution_count": null,
      "outputs": []
    },
    {
      "cell_type": "code",
      "source": [
        "#creating tensor data to feed into the model\n",
        "import torch\n",
        "from torch.utils.data import Dataset, DataLoader\n",
        "\n",
        "class TextDataset (Dataset):\n",
        "  def __init__(self, encodings, labels):\n",
        "    self.encodings = encodings\n",
        "    self.labels = labels\n",
        "\n",
        "  def __getitem__(self, idx):\n",
        "    item = {key: torch.tensor(val[idx]) for key, val in self.encodings.items()}\n",
        "    item[\"labels\"] = torch.tensor(self.labels[idx])\n",
        "    return item\n",
        "  def __len__(self):\n",
        "    return len(self.labels)"
      ],
      "metadata": {
        "id": "K_MJVmpRNl1O"
      },
      "execution_count": null,
      "outputs": []
    },
    {
      "cell_type": "code",
      "source": [
        "#swahili ready data\n",
        "#english ready data\n",
        "swahbert_ready_train = TextDataset(encodings_swahbert_train, swahili_train_labels)\n",
        "swahbert_ready_validation = TextDataset(encodings_swahbert_validation, swahili_validation_labels)\n",
        "swahbert_ready_testing = TextDataset(encodings_swahbert_testing, swahili_testing_labels)"
      ],
      "metadata": {
        "id": "aodvvYDoNtj4"
      },
      "execution_count": null,
      "outputs": []
    },
    {
      "cell_type": "code",
      "source": [
        "#swahbert model\n",
        "swah_bert_model = BertForSequenceClassification.from_pretrained(\"pranaydeeps/SwahBERT-base-cased\",\n",
        "                                                                  num_labels = swahili_train[\"label\"].nunique())"
      ],
      "metadata": {
        "colab": {
          "base_uri": "https://localhost:8080/",
          "height": 104,
          "referenced_widgets": [
            "eda80f9d6fa94695a2b6f4f15a4d6764",
            "4cf35dc702ec42f3a8d5bc21b7b70b9a",
            "d21a2cd95a854136a2f697596506f922",
            "e6d6a5c784f24b7197dbd4500d50baff",
            "2dcb630c027f4740b4304e04db546b44",
            "5b615608ff1f4c14a6bee2832858ae2f",
            "71a9a84abeeb4eeda39a5d6182ba1d5d",
            "b30da04871e2471aa991b35d329516d8",
            "d77c180654294a579a407d980b91b432",
            "346ae984491e4ee382260c8401160e8b",
            "a6ade8b162c0402cad55a2b7d4c765ba"
          ]
        },
        "id": "w3NxFExEFc21",
        "outputId": "aa072bb2-b653-4b5a-b4a6-b44832d01358"
      },
      "execution_count": null,
      "outputs": [
        {
          "output_type": "display_data",
          "data": {
            "text/plain": [
              "pytorch_model.bin:   0%|          | 0.00/445M [00:00<?, ?B/s]"
            ],
            "application/vnd.jupyter.widget-view+json": {
              "version_major": 2,
              "version_minor": 0,
              "model_id": "eda80f9d6fa94695a2b6f4f15a4d6764"
            }
          },
          "metadata": {}
        },
        {
          "output_type": "stream",
          "name": "stderr",
          "text": [
            "Some weights of BertForSequenceClassification were not initialized from the model checkpoint at pranaydeeps/SwahBERT-base-cased and are newly initialized: ['classifier.bias', 'classifier.weight']\n",
            "You should probably TRAIN this model on a down-stream task to be able to use it for predictions and inference.\n"
          ]
        }
      ]
    },
    {
      "cell_type": "code",
      "source": [
        "#importing the metrics\n",
        "import evaluate\n",
        "accuracy_metric = evaluate.load(\"accuracy\")\n",
        "f1_metric = evaluate.load(\"f1\")\n",
        "precision_metric = evaluate.load(\"precision\")\n",
        "recall_metric = evaluate.load(\"recall\")"
      ],
      "metadata": {
        "colab": {
          "base_uri": "https://localhost:8080/",
          "height": 145,
          "referenced_widgets": [
            "962297d3853c4921882d1f6876000e2f",
            "d8beba0650ac419e95753f59ab3618fe",
            "77d206dc40a64035b84b2714c9a19b68",
            "5b08c04ce4d04d54b2d66015bf8faf64",
            "1692ecb35ee640daa3c1a857780ed4fc",
            "adc24412e9424a068ca2dab5a556f35a",
            "4a6676780ec94b2c9f13445228b71b1e",
            "8d10cee9d7484ab5983bff013b1096cb",
            "ce9eb559a1bb4a00b52d433dcf422092",
            "413a4039011d4804b0ae891b63cce552",
            "195aeaed86bb4b4d8088f83969a35eac",
            "06d1f668258a4d3ea035e827ef70bfc8",
            "b278cf20c2294faa8bf5cfc521197f3f",
            "a0428e80b68a4d00963ceacbe4787767",
            "1d6bf60413af46698e81393b34e3d4aa",
            "1d763125ee534b78ba1a26f5364677a6",
            "38a788ace31b48f7bf87b1a375d9f95e",
            "91b25ad68884491f82cd8a30476d98e2",
            "502855822f8d410787db17bd5528c701",
            "ba11923b914b46838007df239b31862c",
            "e3be25e81cc7420dab1ece1839617bfb",
            "1a65eb7045e7405cb4d6f85b43dca21c",
            "3c520587b3f348f99848f9ac4c83c7f4",
            "5416b6e313cb40bd9ae3bfa86f1c4735",
            "707dfd786722494cb0c02eb8fa3b25b2",
            "912ec0769832420bb52011049c93763d",
            "0ea06cdd8d574d808cc1bad23c5f5569",
            "b90b6afbe4d34db09bce406386e4755d",
            "e834db5b86cb4ffe8a6aa328d5aac0e4",
            "e7efa6eba2224736b0afb27ad4b5da3b",
            "9fff845bfba44b8eb5ba9529747f06c5",
            "c5032e32ec934b998c7ab2179cb7a6be",
            "8fa0b191248044039bd12e46f1f60f21",
            "7b284fa142ac493493e29ac271a6ecda",
            "634d9e6d69804a36b7ca59bf4f23bd0d",
            "5837e585c3454e9f8eb6809aea32bf99",
            "0b9f2d7673094fb39eb1ab3aac83cd5b",
            "8c539fd80cd1494ab6573433a95c8b7d",
            "2367e830316642a6a8c56e7aa997660e",
            "8020d934f5e84649928280d0de4007bb",
            "4393e68ee8ab406cb02830f1d6e2ee0d",
            "8091f71c16324f0287d4b94fe4f4e392",
            "468ee4f0f7d5424ea0baaa19648de648",
            "c64d85a18f3744db88f57cbadd318893"
          ]
        },
        "id": "PR8ve4E9PLhz",
        "outputId": "ab85a17c-4146-4ddd-c4df-b3eda96d0f8d"
      },
      "execution_count": null,
      "outputs": [
        {
          "output_type": "display_data",
          "data": {
            "text/plain": [
              "Downloading builder script:   0%|          | 0.00/4.20k [00:00<?, ?B/s]"
            ],
            "application/vnd.jupyter.widget-view+json": {
              "version_major": 2,
              "version_minor": 0,
              "model_id": "962297d3853c4921882d1f6876000e2f"
            }
          },
          "metadata": {}
        },
        {
          "output_type": "display_data",
          "data": {
            "text/plain": [
              "Downloading builder script:   0%|          | 0.00/6.77k [00:00<?, ?B/s]"
            ],
            "application/vnd.jupyter.widget-view+json": {
              "version_major": 2,
              "version_minor": 0,
              "model_id": "06d1f668258a4d3ea035e827ef70bfc8"
            }
          },
          "metadata": {}
        },
        {
          "output_type": "display_data",
          "data": {
            "text/plain": [
              "Downloading builder script:   0%|          | 0.00/7.55k [00:00<?, ?B/s]"
            ],
            "application/vnd.jupyter.widget-view+json": {
              "version_major": 2,
              "version_minor": 0,
              "model_id": "3c520587b3f348f99848f9ac4c83c7f4"
            }
          },
          "metadata": {}
        },
        {
          "output_type": "display_data",
          "data": {
            "text/plain": [
              "Downloading builder script:   0%|          | 0.00/7.36k [00:00<?, ?B/s]"
            ],
            "application/vnd.jupyter.widget-view+json": {
              "version_major": 2,
              "version_minor": 0,
              "model_id": "7b284fa142ac493493e29ac271a6ecda"
            }
          },
          "metadata": {}
        }
      ]
    },
    {
      "cell_type": "code",
      "source": [
        "import torch\n",
        "from sklearn.utils.class_weight import compute_class_weight\n",
        "import numpy as np\n",
        "import torch.nn as nn\n",
        "# Calculate class weights using sklearn's compute_class_weight\n",
        "class_weights = compute_class_weight('balanced', classes=np.unique(swahili_train_labels), y=swahili_train_labels)\n",
        "\n",
        "# Convert class weights to a tensor for PyTorch\n",
        "class_weights = torch.tensor(class_weights, dtype=torch.float)"
      ],
      "metadata": {
        "id": "C_jqMJ40fGqt"
      },
      "execution_count": null,
      "outputs": []
    },
    {
      "cell_type": "code",
      "source": [
        "#Define your custom Trainer class with class weights\n",
        "class CustomTrainer(Trainer):\n",
        "    def __init__(self, class_weights, *args, **kwargs):\n",
        "        super().__init__(*args, **kwargs)\n",
        "        self.class_weights = class_weights.to(self.args.device)  # Move weights to the appropriate device\n",
        "\n",
        "    def compute_loss(self, model, inputs, return_outputs=False):\n",
        "        labels = inputs.get(\"labels\")\n",
        "        # Forward pass\n",
        "        outputs = model(**inputs)\n",
        "        logits = outputs.get(\"logits\")\n",
        "\n",
        "        # Define the loss function with class weights\n",
        "        loss_fct = nn.CrossEntropyLoss(weight=self.class_weights)\n",
        "        loss = loss_fct(logits, labels)\n",
        "\n",
        "        return (loss, outputs) if return_outputs else loss"
      ],
      "metadata": {
        "id": "cHF_iL2uMhBn"
      },
      "execution_count": null,
      "outputs": []
    },
    {
      "cell_type": "code",
      "source": [
        "\n",
        "#computing the evaluation metrics\n",
        "accuracy_metric = evaluate.load(\"accuracy\")\n",
        "f1_metric = evaluate.load(\"f1\")\n",
        "precision_metric = evaluate.load(\"precision\")\n",
        "recall_metric = evaluate.load(\"recall\")\n",
        "\n",
        "def compute_metrics(pred):\n",
        "    labels = pred.label_ids\n",
        "    preds = pred.predictions.argmax(-1)\n",
        "\n",
        "    accuracy = accuracy_metric.compute(predictions=preds, references=labels)\n",
        "    f1 = f1_metric.compute(predictions=preds, references=labels, average='weighted')\n",
        "    precision = precision_metric.compute(predictions=preds, references=labels, average='weighted')\n",
        "    recall = recall_metric.compute(predictions=preds, references=labels, average='weighted')\n",
        "    conf_matrix = confusion_matrix(labels, preds)\n",
        "    conf_matrix_list = conf_matrix.tolist()\n",
        "\n",
        "    return {\n",
        "        'accuracy': accuracy['accuracy'],\n",
        "        'f1': f1['f1'],\n",
        "        'precision': precision['precision'],\n",
        "        'recall': recall['recall'],\n",
        "        'conf_matrix': conf_matrix_list\n",
        "    }"
      ],
      "metadata": {
        "id": "p_nc9PaDHKfJ"
      },
      "execution_count": null,
      "outputs": []
    },
    {
      "cell_type": "code",
      "source": [
        "#training arguments for swahbert\n",
        "swahbert_arguments = TrainingArguments(\n",
        "    output_dir=\"./swahbert_results\",\n",
        "    num_train_epochs=10,\n",
        "    per_device_train_batch_size=16,\n",
        "    per_device_eval_batch_size=16,\n",
        "    warmup_steps=200,\n",
        "    weight_decay=0.01,\n",
        "    logging_dir=\"./swahbert_logging\",\n",
        "    logging_steps=20,\n",
        "    load_best_model_at_end=True,\n",
        "    eval_strategy=\"epoch\",\n",
        "    save_strategy=\"epoch\"\n",
        ")"
      ],
      "metadata": {
        "id": "5dRvX_G_2ik0"
      },
      "execution_count": null,
      "outputs": []
    },
    {
      "cell_type": "code",
      "source": [
        "#defining the trainer for swahbert\n",
        "swahbert_trainer= Trainer(\n",
        "    model=swah_bert_model,\n",
        "    args=swahbert_arguments,\n",
        "    train_dataset=swahbert_ready_train,\n",
        "    eval_dataset=swahbert_ready_validation,\n",
        "    compute_metrics=compute_metrics,\n",
        "    callbacks=[EarlyStoppingCallback(early_stopping_patience=2)]\n",
        ")"
      ],
      "metadata": {
        "id": "4EDbaQOeP3e6"
      },
      "execution_count": null,
      "outputs": []
    },
    {
      "cell_type": "code",
      "source": [
        "\"\"\"swahbert_trainer = CustomTrainer(\n",
        "    model=swah_bert_model,\n",
        "    args=swahbert_arguments,\n",
        "    train_dataset=swahbert_ready_train,\n",
        "    eval_dataset=swahbert_ready_validation,\n",
        "    compute_metrics=compute_metrics,\n",
        "    callbacks=[EarlyStoppingCallback(early_stopping_patience=1)],\n",
        "    class_weights=class_weights  # Pass class weights to the custom trainer\n",
        ")\"\"\""
      ],
      "metadata": {
        "id": "h7p025mHOF31"
      },
      "execution_count": null,
      "outputs": []
    },
    {
      "cell_type": "code",
      "source": [],
      "metadata": {
        "id": "fOG0JEWlxsSC"
      },
      "execution_count": null,
      "outputs": []
    },
    {
      "cell_type": "code",
      "source": [
        "#training the swahbert model\n",
        "swahbert_trainer.train()"
      ],
      "metadata": {
        "id": "jkxNERVX2in6",
        "colab": {
          "base_uri": "https://localhost:8080/",
          "height": 415
        },
        "outputId": "5e1afc78-7850-45b8-9e8b-c6613bdbb9c9"
      },
      "execution_count": null,
      "outputs": [
        {
          "output_type": "display_data",
          "data": {
            "text/plain": [
              "<IPython.core.display.HTML object>"
            ],
            "text/html": [
              "\n",
              "    <div>\n",
              "      \n",
              "      <progress value='3324' max='11080' style='width:300px; height:20px; vertical-align: middle;'></progress>\n",
              "      [ 3324/11080 19:27 < 45:24, 2.85 it/s, Epoch 3/10]\n",
              "    </div>\n",
              "    <table border=\"1\" class=\"dataframe\">\n",
              "  <thead>\n",
              " <tr style=\"text-align: left;\">\n",
              "      <th>Epoch</th>\n",
              "      <th>Training Loss</th>\n",
              "      <th>Validation Loss</th>\n",
              "      <th>Accuracy</th>\n",
              "      <th>F1</th>\n",
              "      <th>Precision</th>\n",
              "      <th>Recall</th>\n",
              "      <th>Conf Matrix</th>\n",
              "    </tr>\n",
              "  </thead>\n",
              "  <tbody>\n",
              "    <tr>\n",
              "      <td>1</td>\n",
              "      <td>0.079500</td>\n",
              "      <td>0.430196</td>\n",
              "      <td>0.924860</td>\n",
              "      <td>0.924046</td>\n",
              "      <td>0.923714</td>\n",
              "      <td>0.924860</td>\n",
              "      <td>[[3031, 32, 36, 58, 58], [82, 256, 0, 0, 0], [24, 0, 505, 2, 21], [73, 0, 2, 125, 0], [34, 9, 11, 2, 1548]]</td>\n",
              "    </tr>\n",
              "    <tr>\n",
              "      <td>2</td>\n",
              "      <td>0.147700</td>\n",
              "      <td>0.443122</td>\n",
              "      <td>0.921306</td>\n",
              "      <td>0.915133</td>\n",
              "      <td>0.918859</td>\n",
              "      <td>0.921306</td>\n",
              "      <td>[[3089, 10, 29, 16, 71], [83, 242, 0, 0, 13], [30, 0, 485, 2, 35], [136, 0, 3, 61, 0], [34, 1, 2, 0, 1567]]</td>\n",
              "    </tr>\n",
              "    <tr>\n",
              "      <td>3</td>\n",
              "      <td>0.025800</td>\n",
              "      <td>0.522654</td>\n",
              "      <td>0.922999</td>\n",
              "      <td>0.920646</td>\n",
              "      <td>0.920506</td>\n",
              "      <td>0.922999</td>\n",
              "      <td>[[3013, 76, 38, 34, 54], [56, 280, 0, 0, 2], [12, 0, 522, 3, 15], [107, 0, 7, 86, 0], [35, 4, 10, 2, 1553]]</td>\n",
              "    </tr>\n",
              "  </tbody>\n",
              "</table><p>"
            ]
          },
          "metadata": {}
        },
        {
          "output_type": "stream",
          "name": "stderr",
          "text": [
            "Trainer is attempting to log a value of \"[[3031, 32, 36, 58, 58], [82, 256, 0, 0, 0], [24, 0, 505, 2, 21], [73, 0, 2, 125, 0], [34, 9, 11, 2, 1548]]\" of type <class 'list'> for key \"eval/conf_matrix\" as a scalar. This invocation of Tensorboard's writer.add_scalar() is incorrect so we dropped this attribute.\n",
            "Trainer is attempting to log a value of \"[[3089, 10, 29, 16, 71], [83, 242, 0, 0, 13], [30, 0, 485, 2, 35], [136, 0, 3, 61, 0], [34, 1, 2, 0, 1567]]\" of type <class 'list'> for key \"eval/conf_matrix\" as a scalar. This invocation of Tensorboard's writer.add_scalar() is incorrect so we dropped this attribute.\n",
            "Trainer is attempting to log a value of \"[[3013, 76, 38, 34, 54], [56, 280, 0, 0, 2], [12, 0, 522, 3, 15], [107, 0, 7, 86, 0], [35, 4, 10, 2, 1553]]\" of type <class 'list'> for key \"eval/conf_matrix\" as a scalar. This invocation of Tensorboard's writer.add_scalar() is incorrect so we dropped this attribute.\n"
          ]
        },
        {
          "output_type": "execute_result",
          "data": {
            "text/plain": [
              "TrainOutput(global_step=3324, training_loss=0.0963120101183366, metrics={'train_runtime': 1167.3781, 'train_samples_per_second': 151.845, 'train_steps_per_second': 9.491, 'total_flos': 1.3992096579950592e+16, 'train_loss': 0.0963120101183366, 'epoch': 3.0})"
            ]
          },
          "metadata": {},
          "execution_count": 36
        }
      ]
    },
    {
      "cell_type": "code",
      "source": [
        "swahbert_evaluation = swahbert_trainer.evaluate(eval_dataset=swahbert_ready_testing)"
      ],
      "metadata": {
        "id": "F7aJZfSg2iqB",
        "colab": {
          "base_uri": "https://localhost:8080/",
          "height": 74
        },
        "outputId": "41a90e5e-b914-4730-a0f4-0fb9b1a4cfd2"
      },
      "execution_count": null,
      "outputs": [
        {
          "output_type": "display_data",
          "data": {
            "text/plain": [
              "<IPython.core.display.HTML object>"
            ],
            "text/html": [
              "\n",
              "    <div>\n",
              "      \n",
              "      <progress value='370' max='370' style='width:300px; height:20px; vertical-align: middle;'></progress>\n",
              "      [370/370 00:37]\n",
              "    </div>\n",
              "    "
            ]
          },
          "metadata": {}
        },
        {
          "output_type": "stream",
          "name": "stderr",
          "text": [
            "Trainer is attempting to log a value of \"[[3008, 47, 21, 49, 45], [82, 295, 1, 0, 1], [57, 3, 511, 4, 17], [81, 0, 0, 114, 0], [27, 9, 28, 0, 1509]]\" of type <class 'list'> for key \"eval/conf_matrix\" as a scalar. This invocation of Tensorboard's writer.add_scalar() is incorrect so we dropped this attribute.\n"
          ]
        }
      ]
    },
    {
      "cell_type": "markdown",
      "source": [],
      "metadata": {
        "id": "rSLjEHtQdqzI"
      }
    },
    {
      "cell_type": "code",
      "source": [
        "print(swahbert_evaluation)"
      ],
      "metadata": {
        "id": "0haSYp1p2isy",
        "colab": {
          "base_uri": "https://localhost:8080/"
        },
        "outputId": "ee8864ec-93c1-4cec-bf7a-60e1278b07fc"
      },
      "execution_count": null,
      "outputs": [
        {
          "output_type": "stream",
          "name": "stdout",
          "text": [
            "{'eval_loss': 0.44564390182495117, 'eval_accuracy': 0.9201218480284312, 'eval_f1': 0.918988537769867, 'eval_precision': 0.9185300698775263, 'eval_recall': 0.9201218480284312, 'eval_conf_matrix': [[3008, 47, 21, 49, 45], [82, 295, 1, 0, 1], [57, 3, 511, 4, 17], [81, 0, 0, 114, 0], [27, 9, 28, 0, 1509]], 'eval_runtime': 37.9506, 'eval_samples_per_second': 155.703, 'eval_steps_per_second': 9.75, 'epoch': 2.0}\n"
          ]
        }
      ]
    },
    {
      "cell_type": "code",
      "source": [
        "swahbert_info = swahbert_trainer.state.log_history"
      ],
      "metadata": {
        "id": "7g8gsJdJX1xr"
      },
      "execution_count": null,
      "outputs": []
    },
    {
      "cell_type": "code",
      "source": [
        "print(swahbert_info)"
      ],
      "metadata": {
        "colab": {
          "base_uri": "https://localhost:8080/"
        },
        "id": "fNk42LlVWOWb",
        "outputId": "bfeccecb-fabc-42b8-9df0-93e4eed5bd09"
      },
      "execution_count": null,
      "outputs": [
        {
          "output_type": "stream",
          "name": "stdout",
          "text": [
            "[{'loss': 1.6535, 'grad_norm': 10.309228897094727, 'learning_rate': 5e-06, 'epoch': 0.018050541516245487, 'step': 20}, {'loss': 1.6048, 'grad_norm': 9.347685813903809, 'learning_rate': 1e-05, 'epoch': 0.036101083032490974, 'step': 40}, {'loss': 1.4898, 'grad_norm': 9.172208786010742, 'learning_rate': 1.5e-05, 'epoch': 0.05415162454873646, 'step': 60}, {'loss': 1.1988, 'grad_norm': 6.419121265411377, 'learning_rate': 2e-05, 'epoch': 0.07220216606498195, 'step': 80}, {'loss': 0.8555, 'grad_norm': 6.999045372009277, 'learning_rate': 2.5e-05, 'epoch': 0.09025270758122744, 'step': 100}, {'loss': 0.7135, 'grad_norm': 11.957143783569336, 'learning_rate': 3e-05, 'epoch': 0.10830324909747292, 'step': 120}, {'loss': 0.5378, 'grad_norm': 5.859355926513672, 'learning_rate': 3.5e-05, 'epoch': 0.1263537906137184, 'step': 140}, {'loss': 0.6323, 'grad_norm': 20.419540405273438, 'learning_rate': 4e-05, 'epoch': 0.1444043321299639, 'step': 160}, {'loss': 0.6288, 'grad_norm': 9.434922218322754, 'learning_rate': 4.5e-05, 'epoch': 0.1624548736462094, 'step': 180}, {'loss': 0.7448, 'grad_norm': 19.3616943359375, 'learning_rate': 5e-05, 'epoch': 0.18050541516245489, 'step': 200}, {'loss': 0.5795, 'grad_norm': 25.827421188354492, 'learning_rate': 4.967989756722151e-05, 'epoch': 0.19855595667870035, 'step': 220}, {'loss': 0.5095, 'grad_norm': 3.318767547607422, 'learning_rate': 4.935979513444303e-05, 'epoch': 0.21660649819494585, 'step': 240}, {'loss': 0.5328, 'grad_norm': 2.2028634548187256, 'learning_rate': 4.903969270166454e-05, 'epoch': 0.23465703971119134, 'step': 260}, {'loss': 0.5694, 'grad_norm': 2.44045090675354, 'learning_rate': 4.871959026888605e-05, 'epoch': 0.2527075812274368, 'step': 280}, {'loss': 0.5325, 'grad_norm': 8.524858474731445, 'learning_rate': 4.839948783610755e-05, 'epoch': 0.27075812274368233, 'step': 300}, {'loss': 0.4967, 'grad_norm': 6.1696457862854, 'learning_rate': 4.807938540332907e-05, 'epoch': 0.2888086642599278, 'step': 320}, {'loss': 0.3338, 'grad_norm': 15.204224586486816, 'learning_rate': 4.775928297055058e-05, 'epoch': 0.30685920577617326, 'step': 340}, {'loss': 0.6059, 'grad_norm': 23.407270431518555, 'learning_rate': 4.743918053777209e-05, 'epoch': 0.3249097472924188, 'step': 360}, {'loss': 0.7588, 'grad_norm': 7.4008307456970215, 'learning_rate': 4.7119078104993604e-05, 'epoch': 0.34296028880866425, 'step': 380}, {'loss': 0.4586, 'grad_norm': 4.432099342346191, 'learning_rate': 4.6798975672215114e-05, 'epoch': 0.36101083032490977, 'step': 400}, {'loss': 0.4938, 'grad_norm': 26.795576095581055, 'learning_rate': 4.647887323943662e-05, 'epoch': 0.37906137184115524, 'step': 420}, {'loss': 0.4814, 'grad_norm': 19.82263946533203, 'learning_rate': 4.615877080665813e-05, 'epoch': 0.3971119133574007, 'step': 440}, {'loss': 0.4517, 'grad_norm': 33.43144226074219, 'learning_rate': 4.583866837387964e-05, 'epoch': 0.4151624548736462, 'step': 460}, {'loss': 0.4174, 'grad_norm': 5.266237735748291, 'learning_rate': 4.551856594110115e-05, 'epoch': 0.4332129963898917, 'step': 480}, {'loss': 0.3443, 'grad_norm': 4.667026996612549, 'learning_rate': 4.519846350832266e-05, 'epoch': 0.45126353790613716, 'step': 500}, {'loss': 0.4105, 'grad_norm': 2.543951988220215, 'learning_rate': 4.487836107554418e-05, 'epoch': 0.4693140794223827, 'step': 520}, {'loss': 0.3253, 'grad_norm': 23.001169204711914, 'learning_rate': 4.455825864276569e-05, 'epoch': 0.48736462093862815, 'step': 540}, {'loss': 0.5453, 'grad_norm': 6.089499473571777, 'learning_rate': 4.42381562099872e-05, 'epoch': 0.5054151624548736, 'step': 560}, {'loss': 0.3923, 'grad_norm': 5.673365116119385, 'learning_rate': 4.391805377720871e-05, 'epoch': 0.5234657039711191, 'step': 580}, {'loss': 0.5101, 'grad_norm': 3.6619269847869873, 'learning_rate': 4.359795134443022e-05, 'epoch': 0.5415162454873647, 'step': 600}, {'loss': 0.5068, 'grad_norm': 34.93830871582031, 'learning_rate': 4.327784891165173e-05, 'epoch': 0.5595667870036101, 'step': 620}, {'loss': 0.4126, 'grad_norm': 5.003068447113037, 'learning_rate': 4.295774647887324e-05, 'epoch': 0.5776173285198556, 'step': 640}, {'loss': 0.5271, 'grad_norm': 3.077072858810425, 'learning_rate': 4.2637644046094754e-05, 'epoch': 0.5956678700361011, 'step': 660}, {'loss': 0.4932, 'grad_norm': 4.458201885223389, 'learning_rate': 4.2317541613316264e-05, 'epoch': 0.6137184115523465, 'step': 680}, {'loss': 0.3122, 'grad_norm': 14.331318855285645, 'learning_rate': 4.1997439180537773e-05, 'epoch': 0.631768953068592, 'step': 700}, {'loss': 0.3779, 'grad_norm': 0.7637621760368347, 'learning_rate': 4.167733674775928e-05, 'epoch': 0.6498194945848376, 'step': 720}, {'loss': 0.5474, 'grad_norm': 20.729751586914062, 'learning_rate': 4.13572343149808e-05, 'epoch': 0.6678700361010831, 'step': 740}, {'loss': 0.4682, 'grad_norm': 7.195710182189941, 'learning_rate': 4.103713188220231e-05, 'epoch': 0.6859205776173285, 'step': 760}, {'loss': 0.4826, 'grad_norm': 20.383581161499023, 'learning_rate': 4.071702944942381e-05, 'epoch': 0.703971119133574, 'step': 780}, {'loss': 0.3339, 'grad_norm': 0.6174215078353882, 'learning_rate': 4.039692701664533e-05, 'epoch': 0.7220216606498195, 'step': 800}, {'loss': 0.4188, 'grad_norm': 6.3485517501831055, 'learning_rate': 4.007682458386684e-05, 'epoch': 0.740072202166065, 'step': 820}, {'loss': 0.4819, 'grad_norm': 11.723577499389648, 'learning_rate': 3.975672215108835e-05, 'epoch': 0.7581227436823105, 'step': 840}, {'loss': 0.4409, 'grad_norm': 15.819414138793945, 'learning_rate': 3.943661971830986e-05, 'epoch': 0.776173285198556, 'step': 860}, {'loss': 0.5031, 'grad_norm': 11.521564483642578, 'learning_rate': 3.9116517285531375e-05, 'epoch': 0.7942238267148014, 'step': 880}, {'loss': 0.3103, 'grad_norm': 17.68498420715332, 'learning_rate': 3.8796414852752885e-05, 'epoch': 0.8122743682310469, 'step': 900}, {'loss': 0.2374, 'grad_norm': 5.053046226501465, 'learning_rate': 3.8476312419974394e-05, 'epoch': 0.8303249097472925, 'step': 920}, {'loss': 0.3879, 'grad_norm': 4.063469886779785, 'learning_rate': 3.8156209987195904e-05, 'epoch': 0.8483754512635379, 'step': 940}, {'loss': 0.4667, 'grad_norm': 0.8321011066436768, 'learning_rate': 3.7836107554417414e-05, 'epoch': 0.8664259927797834, 'step': 960}, {'loss': 0.2659, 'grad_norm': 15.682751655578613, 'learning_rate': 3.7516005121638924e-05, 'epoch': 0.8844765342960289, 'step': 980}, {'loss': 0.7186, 'grad_norm': 32.54518508911133, 'learning_rate': 3.719590268886043e-05, 'epoch': 0.9025270758122743, 'step': 1000}, {'loss': 0.3877, 'grad_norm': 13.892845153808594, 'learning_rate': 3.687580025608195e-05, 'epoch': 0.9205776173285198, 'step': 1020}, {'loss': 0.2842, 'grad_norm': 0.6162981390953064, 'learning_rate': 3.655569782330346e-05, 'epoch': 0.9386281588447654, 'step': 1040}, {'loss': 0.3347, 'grad_norm': 7.922440528869629, 'learning_rate': 3.623559539052497e-05, 'epoch': 0.9566787003610109, 'step': 1060}, {'loss': 0.4034, 'grad_norm': 20.133955001831055, 'learning_rate': 3.5915492957746486e-05, 'epoch': 0.9747292418772563, 'step': 1080}, {'loss': 0.3484, 'grad_norm': 0.7247219085693359, 'learning_rate': 3.559539052496799e-05, 'epoch': 0.9927797833935018, 'step': 1100}, {'eval_loss': 0.4337327480316162, 'eval_accuracy': 0.91842951430022, 'eval_f1': 0.9179908985183945, 'eval_precision': 0.9179416784777938, 'eval_recall': 0.91842951430022, 'eval_conf_matrix': [[2978, 84, 34, 58, 61], [67, 269, 0, 0, 2], [25, 2, 495, 6, 24], [84, 1, 1, 114, 0], [21, 2, 7, 3, 1571]], 'eval_runtime': 37.6389, 'eval_samples_per_second': 156.992, 'eval_steps_per_second': 9.83, 'epoch': 1.0, 'step': 1108}, {'loss': 0.2722, 'grad_norm': 4.565701484680176, 'learning_rate': 3.52752880921895e-05, 'epoch': 1.0108303249097472, 'step': 1120}, {'loss': 0.2278, 'grad_norm': 0.8368575572967529, 'learning_rate': 3.495518565941101e-05, 'epoch': 1.0288808664259927, 'step': 1140}, {'loss': 0.26, 'grad_norm': 9.890506744384766, 'learning_rate': 3.4635083226632525e-05, 'epoch': 1.0469314079422383, 'step': 1160}, {'loss': 0.4023, 'grad_norm': 0.9588623642921448, 'learning_rate': 3.4314980793854035e-05, 'epoch': 1.0649819494584838, 'step': 1180}, {'loss': 0.366, 'grad_norm': 4.396580219268799, 'learning_rate': 3.3994878361075544e-05, 'epoch': 1.0830324909747293, 'step': 1200}, {'loss': 0.3015, 'grad_norm': 1.3222699165344238, 'learning_rate': 3.367477592829706e-05, 'epoch': 1.1010830324909748, 'step': 1220}, {'loss': 0.2075, 'grad_norm': 1.613890528678894, 'learning_rate': 3.335467349551857e-05, 'epoch': 1.1191335740072201, 'step': 1240}, {'loss': 0.308, 'grad_norm': 0.5496578812599182, 'learning_rate': 3.303457106274008e-05, 'epoch': 1.1371841155234657, 'step': 1260}, {'loss': 0.4573, 'grad_norm': 3.9190242290496826, 'learning_rate': 3.2714468629961584e-05, 'epoch': 1.1552346570397112, 'step': 1280}, {'loss': 0.2113, 'grad_norm': 0.3316437900066376, 'learning_rate': 3.23943661971831e-05, 'epoch': 1.1732851985559567, 'step': 1300}, {'loss': 0.296, 'grad_norm': 2.985663890838623, 'learning_rate': 3.207426376440461e-05, 'epoch': 1.1913357400722022, 'step': 1320}, {'loss': 0.3659, 'grad_norm': 1.4190188646316528, 'learning_rate': 3.175416133162612e-05, 'epoch': 1.2093862815884477, 'step': 1340}, {'loss': 0.1355, 'grad_norm': 0.21550039947032928, 'learning_rate': 3.1434058898847636e-05, 'epoch': 1.2274368231046933, 'step': 1360}, {'loss': 0.4611, 'grad_norm': 0.6190571188926697, 'learning_rate': 3.1113956466069146e-05, 'epoch': 1.2454873646209386, 'step': 1380}, {'loss': 0.4038, 'grad_norm': 49.56382751464844, 'learning_rate': 3.0793854033290656e-05, 'epoch': 1.263537906137184, 'step': 1400}, {'loss': 0.3011, 'grad_norm': 21.62921905517578, 'learning_rate': 3.0473751600512162e-05, 'epoch': 1.2815884476534296, 'step': 1420}, {'loss': 0.2994, 'grad_norm': 5.5368452072143555, 'learning_rate': 3.015364916773368e-05, 'epoch': 1.2996389891696751, 'step': 1440}, {'loss': 0.3718, 'grad_norm': 1.0306235551834106, 'learning_rate': 2.9833546734955188e-05, 'epoch': 1.3176895306859207, 'step': 1460}, {'loss': 0.3234, 'grad_norm': 10.518331527709961, 'learning_rate': 2.9513444302176695e-05, 'epoch': 1.335740072202166, 'step': 1480}, {'loss': 0.3787, 'grad_norm': 7.635705471038818, 'learning_rate': 2.919334186939821e-05, 'epoch': 1.3537906137184115, 'step': 1500}, {'loss': 0.2213, 'grad_norm': 8.232967376708984, 'learning_rate': 2.887323943661972e-05, 'epoch': 1.371841155234657, 'step': 1520}, {'loss': 0.2275, 'grad_norm': 16.83011245727539, 'learning_rate': 2.855313700384123e-05, 'epoch': 1.3898916967509025, 'step': 1540}, {'loss': 0.2575, 'grad_norm': 49.13188171386719, 'learning_rate': 2.8233034571062744e-05, 'epoch': 1.407942238267148, 'step': 1560}, {'loss': 0.2366, 'grad_norm': 0.5428128242492676, 'learning_rate': 2.7912932138284254e-05, 'epoch': 1.4259927797833936, 'step': 1580}, {'loss': 0.3474, 'grad_norm': 1.9385552406311035, 'learning_rate': 2.7592829705505763e-05, 'epoch': 1.444043321299639, 'step': 1600}, {'loss': 0.2356, 'grad_norm': 0.31115782260894775, 'learning_rate': 2.7272727272727273e-05, 'epoch': 1.4620938628158844, 'step': 1620}, {'loss': 0.3387, 'grad_norm': 0.3625241219997406, 'learning_rate': 2.6952624839948786e-05, 'epoch': 1.48014440433213, 'step': 1640}, {'loss': 0.3114, 'grad_norm': 2.5151615142822266, 'learning_rate': 2.6632522407170296e-05, 'epoch': 1.4981949458483754, 'step': 1660}, {'loss': 0.2266, 'grad_norm': 12.503368377685547, 'learning_rate': 2.6312419974391806e-05, 'epoch': 1.516245487364621, 'step': 1680}, {'loss': 0.2268, 'grad_norm': 18.653600692749023, 'learning_rate': 2.599231754161332e-05, 'epoch': 1.5342960288808665, 'step': 1700}, {'loss': 0.265, 'grad_norm': 4.7260661125183105, 'learning_rate': 2.567221510883483e-05, 'epoch': 1.5523465703971118, 'step': 1720}, {'loss': 0.2384, 'grad_norm': 0.08653026074171066, 'learning_rate': 2.535211267605634e-05, 'epoch': 1.5703971119133575, 'step': 1740}, {'loss': 0.3202, 'grad_norm': 11.573538780212402, 'learning_rate': 2.5032010243277848e-05, 'epoch': 1.5884476534296028, 'step': 1760}, {'loss': 0.2434, 'grad_norm': 1.4587993621826172, 'learning_rate': 2.471190781049936e-05, 'epoch': 1.6064981949458483, 'step': 1780}, {'loss': 0.3625, 'grad_norm': 26.824556350708008, 'learning_rate': 2.439180537772087e-05, 'epoch': 1.6245487364620939, 'step': 1800}, {'loss': 0.217, 'grad_norm': 2.8056910037994385, 'learning_rate': 2.407170294494238e-05, 'epoch': 1.6425992779783394, 'step': 1820}, {'loss': 0.2633, 'grad_norm': 13.229167938232422, 'learning_rate': 2.3751600512163894e-05, 'epoch': 1.660649819494585, 'step': 1840}, {'loss': 0.3084, 'grad_norm': 18.3212833404541, 'learning_rate': 2.3431498079385407e-05, 'epoch': 1.6787003610108302, 'step': 1860}, {'loss': 0.2033, 'grad_norm': 1.3927440643310547, 'learning_rate': 2.3111395646606914e-05, 'epoch': 1.696750902527076, 'step': 1880}, {'loss': 0.4953, 'grad_norm': 3.8448917865753174, 'learning_rate': 2.2791293213828427e-05, 'epoch': 1.7148014440433212, 'step': 1900}, {'loss': 0.2304, 'grad_norm': 0.5710257887840271, 'learning_rate': 2.2471190781049936e-05, 'epoch': 1.7328519855595668, 'step': 1920}, {'loss': 0.3978, 'grad_norm': 33.937923431396484, 'learning_rate': 2.215108834827145e-05, 'epoch': 1.7509025270758123, 'step': 1940}, {'loss': 0.1376, 'grad_norm': 5.760718822479248, 'learning_rate': 2.1830985915492956e-05, 'epoch': 1.7689530685920578, 'step': 1960}, {'loss': 0.3561, 'grad_norm': 50.107154846191406, 'learning_rate': 2.151088348271447e-05, 'epoch': 1.7870036101083033, 'step': 1980}, {'loss': 0.1975, 'grad_norm': 14.568297386169434, 'learning_rate': 2.1190781049935982e-05, 'epoch': 1.8050541516245486, 'step': 2000}, {'loss': 0.165, 'grad_norm': 0.11908496171236038, 'learning_rate': 2.0870678617157492e-05, 'epoch': 1.8231046931407944, 'step': 2020}, {'loss': 0.407, 'grad_norm': 3.3184831142425537, 'learning_rate': 2.0550576184379002e-05, 'epoch': 1.8411552346570397, 'step': 2040}, {'loss': 0.3844, 'grad_norm': 24.47177505493164, 'learning_rate': 2.023047375160051e-05, 'epoch': 1.8592057761732852, 'step': 2060}, {'loss': 0.3818, 'grad_norm': 1.920491099357605, 'learning_rate': 1.9910371318822025e-05, 'epoch': 1.8772563176895307, 'step': 2080}, {'loss': 0.1665, 'grad_norm': 3.773264169692993, 'learning_rate': 1.9590268886043534e-05, 'epoch': 1.895306859205776, 'step': 2100}, {'loss': 0.292, 'grad_norm': 0.23526893556118011, 'learning_rate': 1.9270166453265044e-05, 'epoch': 1.9133574007220218, 'step': 2120}, {'loss': 0.2398, 'grad_norm': 29.92844009399414, 'learning_rate': 1.8950064020486557e-05, 'epoch': 1.931407942238267, 'step': 2140}, {'loss': 0.2373, 'grad_norm': 6.310609340667725, 'learning_rate': 1.8629961587708067e-05, 'epoch': 1.9494584837545126, 'step': 2160}, {'loss': 0.1948, 'grad_norm': 7.634215831756592, 'learning_rate': 1.830985915492958e-05, 'epoch': 1.967509025270758, 'step': 2180}, {'loss': 0.2624, 'grad_norm': 5.493129730224609, 'learning_rate': 1.7989756722151087e-05, 'epoch': 1.9855595667870036, 'step': 2200}, {'eval_loss': 0.48589983582496643, 'eval_accuracy': 0.9206295481468946, 'eval_f1': 0.9207576824454781, 'eval_precision': 0.9217209492730091, 'eval_recall': 0.9206295481468946, 'eval_conf_matrix': [[2955, 55, 46, 89, 70], [75, 258, 0, 0, 5], [9, 0, 516, 1, 26], [67, 0, 3, 130, 0], [13, 0, 8, 2, 1581]], 'eval_runtime': 37.6403, 'eval_samples_per_second': 156.986, 'eval_steps_per_second': 9.83, 'epoch': 2.0, 'step': 2216}, {'loss': 0.3546, 'grad_norm': 0.3955788016319275, 'learning_rate': 1.76696542893726e-05, 'epoch': 2.003610108303249, 'step': 2220}, {'loss': 0.0951, 'grad_norm': 3.401954412460327, 'learning_rate': 1.7349551856594113e-05, 'epoch': 2.0216606498194944, 'step': 2240}, {'loss': 0.0884, 'grad_norm': 0.5739945769309998, 'learning_rate': 1.7029449423815623e-05, 'epoch': 2.03971119133574, 'step': 2260}, {'loss': 0.1425, 'grad_norm': 0.17752985656261444, 'learning_rate': 1.6709346991037132e-05, 'epoch': 2.0577617328519855, 'step': 2280}, {'loss': 0.0681, 'grad_norm': 1.4406349658966064, 'learning_rate': 1.6389244558258642e-05, 'epoch': 2.0758122743682312, 'step': 2300}, {'loss': 0.1218, 'grad_norm': 4.170373439788818, 'learning_rate': 1.6069142125480155e-05, 'epoch': 2.0938628158844765, 'step': 2320}, {'loss': 0.0516, 'grad_norm': 0.5872169733047485, 'learning_rate': 1.5749039692701665e-05, 'epoch': 2.111913357400722, 'step': 2340}, {'loss': 0.126, 'grad_norm': 30.269439697265625, 'learning_rate': 1.5428937259923175e-05, 'epoch': 2.1299638989169676, 'step': 2360}, {'loss': 0.1203, 'grad_norm': 18.257858276367188, 'learning_rate': 1.5108834827144688e-05, 'epoch': 2.148014440433213, 'step': 2380}, {'loss': 0.0992, 'grad_norm': 15.589802742004395, 'learning_rate': 1.4788732394366198e-05, 'epoch': 2.1660649819494586, 'step': 2400}, {'loss': 0.1402, 'grad_norm': 1.9649944305419922, 'learning_rate': 1.4468629961587709e-05, 'epoch': 2.184115523465704, 'step': 2420}, {'loss': 0.2632, 'grad_norm': 0.08402828127145767, 'learning_rate': 1.4148527528809219e-05, 'epoch': 2.2021660649819497, 'step': 2440}, {'loss': 0.0926, 'grad_norm': 8.404719352722168, 'learning_rate': 1.382842509603073e-05, 'epoch': 2.220216606498195, 'step': 2460}, {'loss': 0.0556, 'grad_norm': 0.12224622070789337, 'learning_rate': 1.350832266325224e-05, 'epoch': 2.2382671480144403, 'step': 2480}, {'loss': 0.188, 'grad_norm': 10.572948455810547, 'learning_rate': 1.3188220230473752e-05, 'epoch': 2.256317689530686, 'step': 2500}, {'loss': 0.1125, 'grad_norm': 7.109760284423828, 'learning_rate': 1.2868117797695265e-05, 'epoch': 2.2743682310469313, 'step': 2520}, {'loss': 0.1827, 'grad_norm': 0.19197282195091248, 'learning_rate': 1.2548015364916774e-05, 'epoch': 2.292418772563177, 'step': 2540}, {'loss': 0.3286, 'grad_norm': 3.0912842750549316, 'learning_rate': 1.2227912932138284e-05, 'epoch': 2.3104693140794224, 'step': 2560}, {'loss': 0.1451, 'grad_norm': 0.3738635778427124, 'learning_rate': 1.1907810499359796e-05, 'epoch': 2.328519855595668, 'step': 2580}, {'loss': 0.1704, 'grad_norm': 0.25852856040000916, 'learning_rate': 1.1587708066581307e-05, 'epoch': 2.3465703971119134, 'step': 2600}, {'loss': 0.1396, 'grad_norm': 0.5293359160423279, 'learning_rate': 1.1267605633802817e-05, 'epoch': 2.3646209386281587, 'step': 2620}, {'loss': 0.1927, 'grad_norm': 35.000244140625, 'learning_rate': 1.0947503201024328e-05, 'epoch': 2.3826714801444044, 'step': 2640}, {'loss': 0.17, 'grad_norm': 0.44822901487350464, 'learning_rate': 1.062740076824584e-05, 'epoch': 2.4007220216606497, 'step': 2660}, {'loss': 0.1035, 'grad_norm': 1.1283198595046997, 'learning_rate': 1.030729833546735e-05, 'epoch': 2.4187725631768955, 'step': 2680}, {'loss': 0.1407, 'grad_norm': 0.10609431564807892, 'learning_rate': 9.987195902688861e-06, 'epoch': 2.436823104693141, 'step': 2700}, {'loss': 0.0718, 'grad_norm': 5.743400573730469, 'learning_rate': 9.667093469910372e-06, 'epoch': 2.4548736462093865, 'step': 2720}, {'loss': 0.2518, 'grad_norm': 0.8523586392402649, 'learning_rate': 9.346991037131884e-06, 'epoch': 2.472924187725632, 'step': 2740}, {'loss': 0.119, 'grad_norm': 1.4789682626724243, 'learning_rate': 9.026888604353394e-06, 'epoch': 2.490974729241877, 'step': 2760}, {'loss': 0.2814, 'grad_norm': 5.471460819244385, 'learning_rate': 8.706786171574905e-06, 'epoch': 2.509025270758123, 'step': 2780}, {'loss': 0.1135, 'grad_norm': 0.10836194455623627, 'learning_rate': 8.386683738796415e-06, 'epoch': 2.527075812274368, 'step': 2800}, {'loss': 0.1596, 'grad_norm': 33.13874435424805, 'learning_rate': 8.066581306017926e-06, 'epoch': 2.5451263537906135, 'step': 2820}, {'loss': 0.0471, 'grad_norm': 2.7874886989593506, 'learning_rate': 7.746478873239436e-06, 'epoch': 2.563176895306859, 'step': 2840}, {'loss': 0.1512, 'grad_norm': 5.052309036254883, 'learning_rate': 7.426376440460948e-06, 'epoch': 2.581227436823105, 'step': 2860}, {'loss': 0.3112, 'grad_norm': 0.093269482254982, 'learning_rate': 7.106274007682459e-06, 'epoch': 2.5992779783393503, 'step': 2880}, {'loss': 0.1772, 'grad_norm': 2.3538570404052734, 'learning_rate': 6.78617157490397e-06, 'epoch': 2.6173285198555956, 'step': 2900}, {'loss': 0.2316, 'grad_norm': 0.451933354139328, 'learning_rate': 6.46606914212548e-06, 'epoch': 2.6353790613718413, 'step': 2920}, {'loss': 0.1392, 'grad_norm': 4.862657070159912, 'learning_rate': 6.145966709346991e-06, 'epoch': 2.6534296028880866, 'step': 2940}, {'loss': 0.0817, 'grad_norm': 0.7710747122764587, 'learning_rate': 5.825864276568502e-06, 'epoch': 2.671480144404332, 'step': 2960}, {'loss': 0.1048, 'grad_norm': 5.776457786560059, 'learning_rate': 5.505761843790013e-06, 'epoch': 2.6895306859205776, 'step': 2980}, {'loss': 0.1424, 'grad_norm': 3.514115571975708, 'learning_rate': 5.1856594110115235e-06, 'epoch': 2.707581227436823, 'step': 3000}, {'loss': 0.1289, 'grad_norm': 9.338358879089355, 'learning_rate': 4.865556978233035e-06, 'epoch': 2.7256317689530687, 'step': 3020}, {'loss': 0.0438, 'grad_norm': 1.4433772563934326, 'learning_rate': 4.5454545454545455e-06, 'epoch': 2.743682310469314, 'step': 3040}, {'loss': 0.1879, 'grad_norm': 0.1759009063243866, 'learning_rate': 4.225352112676056e-06, 'epoch': 2.7617328519855597, 'step': 3060}, {'loss': 0.0445, 'grad_norm': 0.04941767826676369, 'learning_rate': 3.905249679897567e-06, 'epoch': 2.779783393501805, 'step': 3080}, {'loss': 0.123, 'grad_norm': 1.8492019176483154, 'learning_rate': 3.5851472471190786e-06, 'epoch': 2.7978339350180503, 'step': 3100}, {'loss': 0.1641, 'grad_norm': 1.9821120500564575, 'learning_rate': 3.265044814340589e-06, 'epoch': 2.815884476534296, 'step': 3120}, {'loss': 0.081, 'grad_norm': 1.8496809005737305, 'learning_rate': 2.9449423815621002e-06, 'epoch': 2.8339350180505414, 'step': 3140}, {'loss': 0.159, 'grad_norm': 12.058881759643555, 'learning_rate': 2.624839948783611e-06, 'epoch': 2.851985559566787, 'step': 3160}, {'loss': 0.1545, 'grad_norm': 0.18379151821136475, 'learning_rate': 2.304737516005122e-06, 'epoch': 2.8700361010830324, 'step': 3180}, {'loss': 0.1342, 'grad_norm': 4.100467681884766, 'learning_rate': 1.9846350832266325e-06, 'epoch': 2.888086642599278, 'step': 3200}, {'loss': 0.097, 'grad_norm': 0.16652452945709229, 'learning_rate': 1.6645326504481435e-06, 'epoch': 2.9061371841155235, 'step': 3220}, {'loss': 0.1256, 'grad_norm': 3.6002120971679688, 'learning_rate': 1.3444302176696543e-06, 'epoch': 2.9241877256317688, 'step': 3240}, {'loss': 0.1916, 'grad_norm': 0.10656511783599854, 'learning_rate': 1.0243277848911651e-06, 'epoch': 2.9422382671480145, 'step': 3260}, {'loss': 0.1947, 'grad_norm': 1.0137203931808472, 'learning_rate': 7.042253521126761e-07, 'epoch': 2.96028880866426, 'step': 3280}, {'loss': 0.1111, 'grad_norm': 0.21981389820575714, 'learning_rate': 3.841229193341869e-07, 'epoch': 2.9783393501805056, 'step': 3300}, {'loss': 0.0953, 'grad_norm': 0.2972899377346039, 'learning_rate': 6.402048655569782e-08, 'epoch': 2.996389891696751, 'step': 3320}, {'eval_loss': 0.6725868582725525, 'eval_accuracy': 0.9241834489761381, 'eval_f1': 0.9238734179278634, 'eval_precision': 0.9238310182486603, 'eval_recall': 0.9241834489761381, 'eval_conf_matrix': [[2983, 63, 42, 68, 59], [69, 266, 0, 0, 3], [14, 0, 519, 2, 17], [73, 0, 4, 123, 0], [21, 1, 10, 2, 1570]], 'eval_runtime': 37.8636, 'eval_samples_per_second': 156.06, 'eval_steps_per_second': 9.772, 'epoch': 3.0, 'step': 3324}, {'train_runtime': 1212.7721, 'train_samples_per_second': 43.848, 'train_steps_per_second': 2.741, 'total_flos': 1.3992096579950592e+16, 'train_loss': 0.3269050534316994, 'epoch': 3.0, 'step': 3324}, {'eval_loss': 0.4069049656391144, 'eval_accuracy': 0.9201218480284312, 'eval_f1': 0.919676713921386, 'eval_precision': 0.9193523327778629, 'eval_recall': 0.9201218480284312, 'eval_conf_matrix': [[2965, 78, 26, 52, 49], [77, 300, 1, 0, 1], [30, 1, 538, 10, 13], [81, 0, 0, 114, 0], [17, 7, 29, 0, 1520]], 'eval_runtime': 37.6516, 'eval_samples_per_second': 156.939, 'eval_steps_per_second': 9.827, 'epoch': 3.0, 'step': 3324}]\n"
          ]
        }
      ]
    },
    {
      "cell_type": "code",
      "source": [
        "epochs = []\n",
        "eval_losses = []\n",
        "\n",
        "for info in swahbert_info:\n",
        "    if 'epoch' in info and 'eval_loss' in info:\n",
        "        epochs.append(info['epoch'])\n",
        "        eval_losses.append(info['eval_loss'])"
      ],
      "metadata": {
        "id": "p2GXuHxT2ivU"
      },
      "execution_count": null,
      "outputs": []
    },
    {
      "cell_type": "code",
      "source": [
        "print(eval_losses)"
      ],
      "metadata": {
        "id": "p7EMsQ5v2iyN",
        "colab": {
          "base_uri": "https://localhost:8080/"
        },
        "outputId": "84abe039-16a5-4241-df46-08c596145095"
      },
      "execution_count": null,
      "outputs": [
        {
          "output_type": "stream",
          "name": "stdout",
          "text": [
            "[0.4337327480316162, 0.48589983582496643, 0.6725868582725525, 0.4069049656391144]\n"
          ]
        }
      ]
    },
    {
      "cell_type": "code",
      "source": [
        "\n",
        "# Plot the validation loss against epochs\n",
        "plt.figure(figsize=(10, 6))\n",
        "plt.plot(epochs, eval_losses, marker='o', linestyle='-', color='b')\n",
        "plt.xlabel('Epoch')\n",
        "plt.ylabel('Validation Loss')\n",
        "plt.title('Validation Loss vs. Epoch')\n",
        "plt.grid(True)\n",
        "plt.show()"
      ],
      "metadata": {
        "id": "5rGREWEM2i1j",
        "colab": {
          "base_uri": "https://localhost:8080/",
          "height": 551
        },
        "outputId": "84f47768-2827-4c95-d54b-6a09ac45f7fe"
      },
      "execution_count": null,
      "outputs": [
        {
          "output_type": "display_data",
          "data": {
            "text/plain": [
              "<Figure size 1000x600 with 1 Axes>"
            ],
            "image/png": "[encoded data removed]"
          },
          "metadata": {}
        }
      ]
    },
    {
      "cell_type": "code",
      "source": [
        "epochs = []\n",
        "train_losses = []\n",
        "eval_losses = []\n",
        "\n",
        "for log in swahbert_info:\n",
        "    if 'epoch' in log:\n",
        "        epochs.append(log['epoch'])\n",
        "        if 'eval_accuracy' in log:\n",
        "            train_losses.append(log['eval_accuracy'])\n",
        "        if 'eval_loss' in log:\n",
        "            eval_losses.append(log['eval_loss'])"
      ],
      "metadata": {
        "id": "XEf6n8k0jmQx"
      },
      "execution_count": null,
      "outputs": []
    },
    {
      "cell_type": "code",
      "source": [
        "print(train_losses)"
      ],
      "metadata": {
        "colab": {
          "base_uri": "https://localhost:8080/"
        },
        "id": "zR-52Emin78i",
        "outputId": "b46c7af0-c9bc-4b89-ae67-75ffa8d5f430"
      },
      "execution_count": null,
      "outputs": [
        {
          "output_type": "stream",
          "name": "stdout",
          "text": [
            "[0.91842951430022, 0.9206295481468946, 0.9241834489761381, 0.9201218480284312]\n"
          ]
        }
      ]
    },
    {
      "cell_type": "code",
      "source": [
        "print(eval_losses)"
      ],
      "metadata": {
        "colab": {
          "base_uri": "https://localhost:8080/"
        },
        "id": "plWLGwitoWcs",
        "outputId": "973deb14-d596-4b0c-eecc-e8d172ea4df4"
      },
      "execution_count": null,
      "outputs": [
        {
          "output_type": "stream",
          "name": "stdout",
          "text": [
            "[0.4337327480316162, 0.48589983582496643, 0.6725868582725525, 0.4069049656391144]\n"
          ]
        }
      ]
    },
    {
      "cell_type": "code",
      "source": [
        "# Plot the training loss and validation loss against epochs\n",
        "plt.figure(figsize=(10, 6))\n",
        "plt.plot(epochs[:len(train_losses)], train_losses, marker='o', linestyle='-', color='r', label='Training Loss')\n",
        "plt.plot(epochs[:len(eval_losses)], eval_losses, marker='o', linestyle='-', color='b', label='Validation Loss')\n",
        "plt.xlabel('Epoch')\n",
        "plt.ylabel('Loss')\n",
        "plt.title('Training and Validation Loss vs. Epoch')\n",
        "plt.legend()\n",
        "plt.grid(True)\n",
        "plt.show()"
      ],
      "metadata": {
        "colab": {
          "base_uri": "https://localhost:8080/",
          "height": 556
        },
        "id": "AntSBpbHjx8o",
        "outputId": "3111140d-adcd-4033-a9ff-32f2baa76425"
      },
      "execution_count": null,
      "outputs": [
        {
          "output_type": "display_data",
          "data": {
            "text/plain": [
              "<Figure size 1000x600 with 1 Axes>"
            ],
            "image/png": "[encoded data removed]"
          },
          "metadata": {}
        }
      ]
    },
    {
      "cell_type": "code",
      "source": [
        "#confusion matrix\n",
        "def moving_average(data, window_size=3):\n",
        "    return np.convolve(data, np.ones(window_size)/window_size, mode='valid')\n",
        "\n",
        "# Calculate moving averages for smoothing\n",
        "smoothed_train_losses = moving_average(train_losses)\n",
        "smoothed_eval_losses = moving_average(eval_losses)\n",
        "smoothed_epochs = epochs[:len(smoothed_train_losses)]  # Adjust epochs for valid convolution\n",
        "\n",
        "# Plot the training loss and validation loss against epochs\n",
        "plt.figure(figsize=(10, 6))\n",
        "plt.plot(smoothed_epochs, smoothed_train_losses, linestyle='-', color='r', label='Training Loss')\n",
        "plt.plot(smoothed_epochs, smoothed_eval_losses, linestyle='-', color='b', label='Validation Loss')\n",
        "plt.xlabel('Epoch')\n",
        "plt.ylabel('Loss')\n",
        "plt.title('Training and Validation Loss vs. Epoch (Smoothed)')\n",
        "plt.legend()\n",
        "plt.grid(True)\n",
        "plt.show()"
      ],
      "metadata": {
        "colab": {
          "base_uri": "https://localhost:8080/",
          "height": 878
        },
        "id": "yejnJMYCkeqy",
        "outputId": "a802edaa-7b34-4b15-db68-1ef0e129818b"
      },
      "execution_count": null,
      "outputs": [
        {
          "output_type": "error",
          "ename": "ValueError",
          "evalue": "x and y must have same first dimension, but have shapes (164,) and (2,)",
          "traceback": [
            "\u001b[0;31m---------------------------------------------------------------------------\u001b[0m",
            "\u001b[0;31mValueError\u001b[0m                                Traceback (most recent call last)",
            "\u001b[0;32m<ipython-input-36-12c6216dd8e8>\u001b[0m in \u001b[0;36m<cell line: 13>\u001b[0;34m()\u001b[0m\n\u001b[1;32m     11\u001b[0m \u001b[0mplt\u001b[0m\u001b[0;34m.\u001b[0m\u001b[0mfigure\u001b[0m\u001b[0;34m(\u001b[0m\u001b[0mfigsize\u001b[0m\u001b[0;34m=\u001b[0m\u001b[0;34m(\u001b[0m\u001b[0;36m10\u001b[0m\u001b[0;34m,\u001b[0m \u001b[0;36m6\u001b[0m\u001b[0;34m)\u001b[0m\u001b[0;34m)\u001b[0m\u001b[0;34m\u001b[0m\u001b[0;34m\u001b[0m\u001b[0m\n\u001b[1;32m     12\u001b[0m \u001b[0mplt\u001b[0m\u001b[0;34m.\u001b[0m\u001b[0mplot\u001b[0m\u001b[0;34m(\u001b[0m\u001b[0msmoothed_epochs\u001b[0m\u001b[0;34m,\u001b[0m \u001b[0msmoothed_train_losses\u001b[0m\u001b[0;34m,\u001b[0m \u001b[0mlinestyle\u001b[0m\u001b[0;34m=\u001b[0m\u001b[0;34m'-'\u001b[0m\u001b[0;34m,\u001b[0m \u001b[0mcolor\u001b[0m\u001b[0;34m=\u001b[0m\u001b[0;34m'r'\u001b[0m\u001b[0;34m,\u001b[0m \u001b[0mlabel\u001b[0m\u001b[0;34m=\u001b[0m\u001b[0;34m'Training Loss'\u001b[0m\u001b[0;34m)\u001b[0m\u001b[0;34m\u001b[0m\u001b[0;34m\u001b[0m\u001b[0m\n\u001b[0;32m---> 13\u001b[0;31m \u001b[0mplt\u001b[0m\u001b[0;34m.\u001b[0m\u001b[0mplot\u001b[0m\u001b[0;34m(\u001b[0m\u001b[0msmoothed_epochs\u001b[0m\u001b[0;34m,\u001b[0m \u001b[0msmoothed_eval_losses\u001b[0m\u001b[0;34m,\u001b[0m \u001b[0mlinestyle\u001b[0m\u001b[0;34m=\u001b[0m\u001b[0;34m'-'\u001b[0m\u001b[0;34m,\u001b[0m \u001b[0mcolor\u001b[0m\u001b[0;34m=\u001b[0m\u001b[0;34m'b'\u001b[0m\u001b[0;34m,\u001b[0m \u001b[0mlabel\u001b[0m\u001b[0;34m=\u001b[0m\u001b[0;34m'Validation Loss'\u001b[0m\u001b[0;34m)\u001b[0m\u001b[0;34m\u001b[0m\u001b[0;34m\u001b[0m\u001b[0m\n\u001b[0m\u001b[1;32m     14\u001b[0m \u001b[0mplt\u001b[0m\u001b[0;34m.\u001b[0m\u001b[0mxlabel\u001b[0m\u001b[0;34m(\u001b[0m\u001b[0;34m'Epoch'\u001b[0m\u001b[0;34m)\u001b[0m\u001b[0;34m\u001b[0m\u001b[0;34m\u001b[0m\u001b[0m\n\u001b[1;32m     15\u001b[0m \u001b[0mplt\u001b[0m\u001b[0;34m.\u001b[0m\u001b[0mylabel\u001b[0m\u001b[0;34m(\u001b[0m\u001b[0;34m'Loss'\u001b[0m\u001b[0;34m)\u001b[0m\u001b[0;34m\u001b[0m\u001b[0;34m\u001b[0m\u001b[0m\n",
            "\u001b[0;32m/usr/local/lib/python3.10/dist-packages/matplotlib/pyplot.py\u001b[0m in \u001b[0;36mplot\u001b[0;34m(scalex, scaley, data, *args, **kwargs)\u001b[0m\n\u001b[1;32m   2810\u001b[0m \u001b[0;34m@\u001b[0m\u001b[0m_copy_docstring_and_deprecators\u001b[0m\u001b[0;34m(\u001b[0m\u001b[0mAxes\u001b[0m\u001b[0;34m.\u001b[0m\u001b[0mplot\u001b[0m\u001b[0;34m)\u001b[0m\u001b[0;34m\u001b[0m\u001b[0;34m\u001b[0m\u001b[0m\n\u001b[1;32m   2811\u001b[0m \u001b[0;32mdef\u001b[0m \u001b[0mplot\u001b[0m\u001b[0;34m(\u001b[0m\u001b[0;34m*\u001b[0m\u001b[0margs\u001b[0m\u001b[0;34m,\u001b[0m \u001b[0mscalex\u001b[0m\u001b[0;34m=\u001b[0m\u001b[0;32mTrue\u001b[0m\u001b[0;34m,\u001b[0m \u001b[0mscaley\u001b[0m\u001b[0;34m=\u001b[0m\u001b[0;32mTrue\u001b[0m\u001b[0;34m,\u001b[0m \u001b[0mdata\u001b[0m\u001b[0;34m=\u001b[0m\u001b[0;32mNone\u001b[0m\u001b[0;34m,\u001b[0m \u001b[0;34m**\u001b[0m\u001b[0mkwargs\u001b[0m\u001b[0;34m)\u001b[0m\u001b[0;34m:\u001b[0m\u001b[0;34m\u001b[0m\u001b[0;34m\u001b[0m\u001b[0m\n\u001b[0;32m-> 2812\u001b[0;31m     return gca().plot(\n\u001b[0m\u001b[1;32m   2813\u001b[0m         \u001b[0;34m*\u001b[0m\u001b[0margs\u001b[0m\u001b[0;34m,\u001b[0m \u001b[0mscalex\u001b[0m\u001b[0;34m=\u001b[0m\u001b[0mscalex\u001b[0m\u001b[0;34m,\u001b[0m \u001b[0mscaley\u001b[0m\u001b[0;34m=\u001b[0m\u001b[0mscaley\u001b[0m\u001b[0;34m,\u001b[0m\u001b[0;34m\u001b[0m\u001b[0;34m\u001b[0m\u001b[0m\n\u001b[1;32m   2814\u001b[0m         **({\"data\": data} if data is not None else {}), **kwargs)\n",
            "\u001b[0;32m/usr/local/lib/python3.10/dist-packages/matplotlib/axes/_axes.py\u001b[0m in \u001b[0;36mplot\u001b[0;34m(self, scalex, scaley, data, *args, **kwargs)\u001b[0m\n\u001b[1;32m   1686\u001b[0m         \"\"\"\n\u001b[1;32m   1687\u001b[0m         \u001b[0mkwargs\u001b[0m \u001b[0;34m=\u001b[0m \u001b[0mcbook\u001b[0m\u001b[0;34m.\u001b[0m\u001b[0mnormalize_kwargs\u001b[0m\u001b[0;34m(\u001b[0m\u001b[0mkwargs\u001b[0m\u001b[0;34m,\u001b[0m \u001b[0mmlines\u001b[0m\u001b[0;34m.\u001b[0m\u001b[0mLine2D\u001b[0m\u001b[0;34m)\u001b[0m\u001b[0;34m\u001b[0m\u001b[0;34m\u001b[0m\u001b[0m\n\u001b[0;32m-> 1688\u001b[0;31m         \u001b[0mlines\u001b[0m \u001b[0;34m=\u001b[0m \u001b[0;34m[\u001b[0m\u001b[0;34m*\u001b[0m\u001b[0mself\u001b[0m\u001b[0;34m.\u001b[0m\u001b[0m_get_lines\u001b[0m\u001b[0;34m(\u001b[0m\u001b[0;34m*\u001b[0m\u001b[0margs\u001b[0m\u001b[0;34m,\u001b[0m \u001b[0mdata\u001b[0m\u001b[0;34m=\u001b[0m\u001b[0mdata\u001b[0m\u001b[0;34m,\u001b[0m \u001b[0;34m**\u001b[0m\u001b[0mkwargs\u001b[0m\u001b[0;34m)\u001b[0m\u001b[0;34m]\u001b[0m\u001b[0;34m\u001b[0m\u001b[0;34m\u001b[0m\u001b[0m\n\u001b[0m\u001b[1;32m   1689\u001b[0m         \u001b[0;32mfor\u001b[0m \u001b[0mline\u001b[0m \u001b[0;32min\u001b[0m \u001b[0mlines\u001b[0m\u001b[0;34m:\u001b[0m\u001b[0;34m\u001b[0m\u001b[0;34m\u001b[0m\u001b[0m\n\u001b[1;32m   1690\u001b[0m             \u001b[0mself\u001b[0m\u001b[0;34m.\u001b[0m\u001b[0madd_line\u001b[0m\u001b[0;34m(\u001b[0m\u001b[0mline\u001b[0m\u001b[0;34m)\u001b[0m\u001b[0;34m\u001b[0m\u001b[0;34m\u001b[0m\u001b[0m\n",
            "\u001b[0;32m/usr/local/lib/python3.10/dist-packages/matplotlib/axes/_base.py\u001b[0m in \u001b[0;36m__call__\u001b[0;34m(self, data, *args, **kwargs)\u001b[0m\n\u001b[1;32m    309\u001b[0m                 \u001b[0mthis\u001b[0m \u001b[0;34m+=\u001b[0m \u001b[0margs\u001b[0m\u001b[0;34m[\u001b[0m\u001b[0;36m0\u001b[0m\u001b[0;34m]\u001b[0m\u001b[0;34m,\u001b[0m\u001b[0;34m\u001b[0m\u001b[0;34m\u001b[0m\u001b[0m\n\u001b[1;32m    310\u001b[0m                 \u001b[0margs\u001b[0m \u001b[0;34m=\u001b[0m \u001b[0margs\u001b[0m\u001b[0;34m[\u001b[0m\u001b[0;36m1\u001b[0m\u001b[0;34m:\u001b[0m\u001b[0;34m]\u001b[0m\u001b[0;34m\u001b[0m\u001b[0;34m\u001b[0m\u001b[0m\n\u001b[0;32m--> 311\u001b[0;31m             yield from self._plot_args(\n\u001b[0m\u001b[1;32m    312\u001b[0m                 this, kwargs, ambiguous_fmt_datakey=ambiguous_fmt_datakey)\n\u001b[1;32m    313\u001b[0m \u001b[0;34m\u001b[0m\u001b[0m\n",
            "\u001b[0;32m/usr/local/lib/python3.10/dist-packages/matplotlib/axes/_base.py\u001b[0m in \u001b[0;36m_plot_args\u001b[0;34m(self, tup, kwargs, return_kwargs, ambiguous_fmt_datakey)\u001b[0m\n\u001b[1;32m    502\u001b[0m \u001b[0;34m\u001b[0m\u001b[0m\n\u001b[1;32m    503\u001b[0m         \u001b[0;32mif\u001b[0m \u001b[0mx\u001b[0m\u001b[0;34m.\u001b[0m\u001b[0mshape\u001b[0m\u001b[0;34m[\u001b[0m\u001b[0;36m0\u001b[0m\u001b[0;34m]\u001b[0m \u001b[0;34m!=\u001b[0m \u001b[0my\u001b[0m\u001b[0;34m.\u001b[0m\u001b[0mshape\u001b[0m\u001b[0;34m[\u001b[0m\u001b[0;36m0\u001b[0m\u001b[0;34m]\u001b[0m\u001b[0;34m:\u001b[0m\u001b[0;34m\u001b[0m\u001b[0;34m\u001b[0m\u001b[0m\n\u001b[0;32m--> 504\u001b[0;31m             raise ValueError(f\"x and y must have same first dimension, but \"\n\u001b[0m\u001b[1;32m    505\u001b[0m                              f\"have shapes {x.shape} and {y.shape}\")\n\u001b[1;32m    506\u001b[0m         \u001b[0;32mif\u001b[0m \u001b[0mx\u001b[0m\u001b[0;34m.\u001b[0m\u001b[0mndim\u001b[0m \u001b[0;34m>\u001b[0m \u001b[0;36m2\u001b[0m \u001b[0;32mor\u001b[0m \u001b[0my\u001b[0m\u001b[0;34m.\u001b[0m\u001b[0mndim\u001b[0m \u001b[0;34m>\u001b[0m \u001b[0;36m2\u001b[0m\u001b[0;34m:\u001b[0m\u001b[0;34m\u001b[0m\u001b[0;34m\u001b[0m\u001b[0m\n",
            "\u001b[0;31mValueError\u001b[0m: x and y must have same first dimension, but have shapes (164,) and (2,)"
          ]
        },
        {
          "output_type": "display_data",
          "data": {
            "text/plain": [
              "<Figure size 1000x600 with 1 Axes>"
            ],
            "image/png": "[encoded data removed]"
          },
          "metadata": {}
        }
      ]
    }
  ]
}